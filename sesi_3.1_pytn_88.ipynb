{
 "cells": [
  {
   "cell_type": "code",
   "execution_count": 1,
   "id": "f9426b2e-3cea-420e-90aa-2623438644ad",
   "metadata": {
    "execution": {
     "iopub.execute_input": "2022-12-01T14:28:13.084413Z",
     "iopub.status.busy": "2022-12-01T14:28:13.083947Z",
     "iopub.status.idle": "2022-12-01T14:28:13.107990Z",
     "shell.execute_reply": "2022-12-01T14:28:13.107132Z",
     "shell.execute_reply.started": "2022-12-01T14:28:13.084343Z"
    },
    "tags": []
   },
   "outputs": [],
   "source": [
    "import naming as nm\n",
    "from naming import show_names as sn, combine_names as cn, TEXT"
   ]
  },
  {
   "cell_type": "code",
   "execution_count": 2,
   "id": "988beabb-137c-4103-82dc-060361d1ca5c",
   "metadata": {
    "execution": {
     "iopub.execute_input": "2022-12-01T14:28:15.430376Z",
     "iopub.status.busy": "2022-12-01T14:28:15.429907Z",
     "iopub.status.idle": "2022-12-01T14:28:15.435221Z",
     "shell.execute_reply": "2022-12-01T14:28:15.433764Z",
     "shell.execute_reply.started": "2022-12-01T14:28:15.430315Z"
    },
    "tags": []
   },
   "outputs": [],
   "source": [
    "def show_names(names):\n",
    "    for name in names:\n",
    "        print(name)"
   ]
  },
  {
   "cell_type": "code",
   "execution_count": 3,
   "id": "b8592d5a-26eb-4be3-ae05-8596df7d3736",
   "metadata": {
    "execution": {
     "iopub.execute_input": "2022-12-01T14:28:17.714451Z",
     "iopub.status.busy": "2022-12-01T14:28:17.713957Z",
     "iopub.status.idle": "2022-12-01T14:28:17.718752Z",
     "shell.execute_reply": "2022-12-01T14:28:17.717960Z",
     "shell.execute_reply.started": "2022-12-01T14:28:17.714410Z"
    },
    "tags": []
   },
   "outputs": [],
   "source": [
    "names = [\"a\", \"b\"]"
   ]
  },
  {
   "cell_type": "code",
   "execution_count": 4,
   "id": "29578b0d-6b7f-44ba-b7c1-8bf4a6a89e55",
   "metadata": {
    "execution": {
     "iopub.execute_input": "2022-12-01T14:28:20.595637Z",
     "iopub.status.busy": "2022-12-01T14:28:20.595128Z",
     "iopub.status.idle": "2022-12-01T14:28:20.600760Z",
     "shell.execute_reply": "2022-12-01T14:28:20.600134Z",
     "shell.execute_reply.started": "2022-12-01T14:28:20.595543Z"
    },
    "tags": []
   },
   "outputs": [
    {
     "name": "stdout",
     "output_type": "stream",
     "text": [
      "function from naming.py\n",
      "a\n",
      "b\n"
     ]
    }
   ],
   "source": [
    "nm.show_names(names)"
   ]
  },
  {
   "cell_type": "code",
   "execution_count": 5,
   "id": "cc2f3577-39e7-4161-8c25-ebfb9de5805e",
   "metadata": {
    "execution": {
     "iopub.execute_input": "2022-12-01T14:28:23.448249Z",
     "iopub.status.busy": "2022-12-01T14:28:23.447870Z",
     "iopub.status.idle": "2022-12-01T14:28:23.454019Z",
     "shell.execute_reply": "2022-12-01T14:28:23.452287Z",
     "shell.execute_reply.started": "2022-12-01T14:28:23.448201Z"
    },
    "tags": []
   },
   "outputs": [
    {
     "name": "stdout",
     "output_type": "stream",
     "text": [
      "function from naming.py\n",
      "a\n",
      "b\n"
     ]
    }
   ],
   "source": [
    "sn(names)"
   ]
  },
  {
   "cell_type": "code",
   "execution_count": 6,
   "id": "39933cdd-21d2-4e32-8304-5d925240300c",
   "metadata": {
    "execution": {
     "iopub.execute_input": "2022-12-01T14:28:29.796599Z",
     "iopub.status.busy": "2022-12-01T14:28:29.796266Z",
     "iopub.status.idle": "2022-12-01T14:28:29.801148Z",
     "shell.execute_reply": "2022-12-01T14:28:29.800365Z",
     "shell.execute_reply.started": "2022-12-01T14:28:29.796537Z"
    },
    "tags": []
   },
   "outputs": [
    {
     "name": "stdout",
     "output_type": "stream",
     "text": [
      "a\n",
      "b\n"
     ]
    }
   ],
   "source": [
    "show_names(names)"
   ]
  },
  {
   "cell_type": "code",
   "execution_count": 7,
   "id": "b96ffb07-5937-404a-94b8-92142feda269",
   "metadata": {
    "execution": {
     "iopub.execute_input": "2022-12-01T14:28:36.071473Z",
     "iopub.status.busy": "2022-12-01T14:28:36.071147Z",
     "iopub.status.idle": "2022-12-01T14:28:36.641688Z",
     "shell.execute_reply": "2022-12-01T14:28:36.639860Z",
     "shell.execute_reply.started": "2022-12-01T14:28:36.071440Z"
    },
    "tags": []
   },
   "outputs": [
    {
     "ename": "NameError",
     "evalue": "name 'naming' is not defined",
     "output_type": "error",
     "traceback": [
      "\u001b[0;31m---------------------------------------------------------------------------\u001b[0m",
      "\u001b[0;31mNameError\u001b[0m                                 Traceback (most recent call last)",
      "Cell \u001b[0;32mIn [7], line 1\u001b[0m\n\u001b[0;32m----> 1\u001b[0m \u001b[43mnaming\u001b[49m\u001b[38;5;241m.\u001b[39mcombine_names(names)\n",
      "\u001b[0;31mNameError\u001b[0m: name 'naming' is not defined"
     ]
    }
   ],
   "source": [
    "naming.combine_names(names)"
   ]
  },
  {
   "cell_type": "code",
   "execution_count": 8,
   "id": "dbc3464c-461c-450f-afe8-dfaa33f12c41",
   "metadata": {
    "execution": {
     "iopub.execute_input": "2022-12-01T14:28:43.401458Z",
     "iopub.status.busy": "2022-12-01T14:28:43.400962Z",
     "iopub.status.idle": "2022-12-01T14:28:43.421444Z",
     "shell.execute_reply": "2022-12-01T14:28:43.416523Z",
     "shell.execute_reply.started": "2022-12-01T14:28:43.401399Z"
    },
    "tags": []
   },
   "outputs": [
    {
     "name": "stdout",
     "output_type": "stream",
     "text": [
      "function from naming.py\n"
     ]
    },
    {
     "data": {
      "text/plain": [
       "'a, b'"
      ]
     },
     "execution_count": 8,
     "metadata": {},
     "output_type": "execute_result"
    }
   ],
   "source": [
    "nm.combine_names(names)"
   ]
  },
  {
   "cell_type": "code",
   "execution_count": 9,
   "id": "bc7deac8-0486-44e9-a8de-6a93d33cad92",
   "metadata": {
    "execution": {
     "iopub.execute_input": "2022-12-01T14:28:52.370256Z",
     "iopub.status.busy": "2022-12-01T14:28:52.369947Z",
     "iopub.status.idle": "2022-12-01T14:28:52.400485Z",
     "shell.execute_reply": "2022-12-01T14:28:52.399203Z",
     "shell.execute_reply.started": "2022-12-01T14:28:52.370228Z"
    },
    "tags": []
   },
   "outputs": [
    {
     "ename": "NameError",
     "evalue": "name 'combine_names' is not defined",
     "output_type": "error",
     "traceback": [
      "\u001b[0;31m---------------------------------------------------------------------------\u001b[0m",
      "\u001b[0;31mNameError\u001b[0m                                 Traceback (most recent call last)",
      "Cell \u001b[0;32mIn [9], line 1\u001b[0m\n\u001b[0;32m----> 1\u001b[0m \u001b[43mcombine_names\u001b[49m(names)\n",
      "\u001b[0;31mNameError\u001b[0m: name 'combine_names' is not defined"
     ]
    }
   ],
   "source": [
    "combine_names(names)"
   ]
  },
  {
   "cell_type": "code",
   "execution_count": 10,
   "id": "129cf67b-c0b4-4952-b987-9985a9c72c07",
   "metadata": {
    "execution": {
     "iopub.execute_input": "2022-12-01T14:29:09.291981Z",
     "iopub.status.busy": "2022-12-01T14:29:09.291615Z",
     "iopub.status.idle": "2022-12-01T14:29:09.301008Z",
     "shell.execute_reply": "2022-12-01T14:29:09.298146Z",
     "shell.execute_reply.started": "2022-12-01T14:29:09.291940Z"
    },
    "tags": []
   },
   "outputs": [
    {
     "name": "stdout",
     "output_type": "stream",
     "text": [
      "function from naming.py\n"
     ]
    },
    {
     "data": {
      "text/plain": [
       "'a, b'"
      ]
     },
     "execution_count": 10,
     "metadata": {},
     "output_type": "execute_result"
    }
   ],
   "source": [
    "cn(names)"
   ]
  },
  {
   "cell_type": "code",
   "execution_count": 9,
   "id": "1c4cd0f9-3316-4d63-974c-05cc774e1c91",
   "metadata": {
    "execution": {
     "iopub.execute_input": "2022-12-01T14:20:33.309362Z",
     "iopub.status.busy": "2022-12-01T14:20:33.309077Z",
     "iopub.status.idle": "2022-12-01T14:20:33.329264Z",
     "shell.execute_reply": "2022-12-01T14:20:33.327879Z",
     "shell.execute_reply.started": "2022-12-01T14:20:33.309333Z"
    },
    "tags": []
   },
   "outputs": [
    {
     "ename": "NameError",
     "evalue": "name 'naming' is not defined",
     "output_type": "error",
     "traceback": [
      "\u001b[0;31m---------------------------------------------------------------------------\u001b[0m",
      "\u001b[0;31mNameError\u001b[0m                                 Traceback (most recent call last)",
      "Cell \u001b[0;32mIn [9], line 1\u001b[0m\n\u001b[0;32m----> 1\u001b[0m \u001b[43mnaming\u001b[49m\u001b[38;5;241m.\u001b[39mTEXT\n",
      "\u001b[0;31mNameError\u001b[0m: name 'naming' is not defined"
     ]
    }
   ],
   "source": [
    "naming.TEXT"
   ]
  },
  {
   "cell_type": "code",
   "execution_count": 2,
   "id": "d46582bc-cc31-4232-a9af-d0b5e86836fb",
   "metadata": {
    "execution": {
     "iopub.execute_input": "2022-12-01T14:21:26.600202Z",
     "iopub.status.busy": "2022-12-01T14:21:26.599764Z",
     "iopub.status.idle": "2022-12-01T14:21:26.615719Z",
     "shell.execute_reply": "2022-12-01T14:21:26.614453Z",
     "shell.execute_reply.started": "2022-12-01T14:21:26.600139Z"
    },
    "tags": []
   },
   "outputs": [
    {
     "data": {
      "text/plain": [
       "'Hacktiv8 - Intro Python for Data Science'"
      ]
     },
     "execution_count": 2,
     "metadata": {},
     "output_type": "execute_result"
    }
   ],
   "source": [
    "TEXT"
   ]
  },
  {
   "cell_type": "code",
   "execution_count": 6,
   "id": "18c1e5e9-3e8d-40bc-a710-23a25d4e5d08",
   "metadata": {
    "execution": {
     "iopub.execute_input": "2022-12-01T14:11:33.616308Z",
     "iopub.status.busy": "2022-12-01T14:11:33.615877Z",
     "iopub.status.idle": "2022-12-01T14:11:33.636517Z",
     "shell.execute_reply": "2022-12-01T14:11:33.623503Z",
     "shell.execute_reply.started": "2022-12-01T14:11:33.616264Z"
    },
    "tags": []
   },
   "outputs": [
    {
     "name": "stdout",
     "output_type": "stream",
     "text": [
      "0 a\n",
      "1 b\n"
     ]
    }
   ],
   "source": [
    "for idx, names in enumerate(names):\n",
    "    print(idx, names)"
   ]
  }
 ],
 "metadata": {
  "kernelspec": {
   "display_name": "Python 3 (ipykernel)",
   "language": "python",
   "name": "python3"
  },
  "language_info": {
   "codemirror_mode": {
    "name": "ipython",
    "version": 3
   },
   "file_extension": ".py",
   "mimetype": "text/x-python",
   "name": "python",
   "nbconvert_exporter": "python",
   "pygments_lexer": "ipython3",
   "version": "3.10.8"
  }
 },
 "nbformat": 4,
 "nbformat_minor": 5
}
