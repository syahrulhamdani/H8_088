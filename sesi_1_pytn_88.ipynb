{
  "nbformat": 4,
  "nbformat_minor": 0,
  "metadata": {
    "colab": {
      "provenance": []
    },
    "kernelspec": {
      "name": "python3",
      "display_name": "Python 3"
    },
    "language_info": {
      "name": "python"
    }
  },
  "cells": [
    {
      "cell_type": "code",
      "execution_count": 1,
      "metadata": {
        "id": "zhznI3JITy9e"
      },
      "outputs": [],
      "source": [
        "# cell"
      ]
    },
    {
      "cell_type": "markdown",
      "source": [
        "# Heading 1\n",
        "\n",
        "## Heading 2\n",
        "\n",
        "### Heading 3\n",
        "\n",
        "Contoh markdown. Teks **bold**, *italic*.\n",
        "* list 1\n",
        "    * list 1.1\n",
        "    * list 1.2\n",
        "* list 2\n",
        "* list 3\n",
        "\n",
        "Numbered bullet points:\n",
        "1. number 1\n",
        "\n",
        "    1.1 number 1.1\n",
        "\n",
        "    1.2 number 1.2\n",
        "\n",
        "2. number 2\n",
        "\n",
        "\n",
        "$$\n",
        "y = 2x + x^2\n",
        "$$"
      ],
      "metadata": {
        "id": "IfDzdGmYUwqf"
      }
    },
    {
      "cell_type": "code",
      "source": [
        "1 + 2"
      ],
      "metadata": {
        "colab": {
          "base_uri": "https://localhost:8080/"
        },
        "id": "pkFrgNR2VzZo",
        "outputId": "a755fc08-b4f9-4123-e4c8-aa085d4a104a"
      },
      "execution_count": 2,
      "outputs": [
        {
          "output_type": "execute_result",
          "data": {
            "text/plain": [
              "3"
            ]
          },
          "metadata": {},
          "execution_count": 2
        }
      ]
    },
    {
      "cell_type": "markdown",
      "source": [
        "## Integers"
      ],
      "metadata": {
        "id": "jZ1CIDEpYrWH"
      }
    },
    {
      "cell_type": "code",
      "source": [
        "10"
      ],
      "metadata": {
        "colab": {
          "base_uri": "https://localhost:8080/"
        },
        "id": "uTNPJ-VRWYbE",
        "outputId": "95a64bce-c795-4595-e412-23bf7e471092"
      },
      "execution_count": 3,
      "outputs": [
        {
          "output_type": "execute_result",
          "data": {
            "text/plain": [
              "10"
            ]
          },
          "metadata": {},
          "execution_count": 3
        }
      ]
    },
    {
      "cell_type": "code",
      "source": [
        "-11"
      ],
      "metadata": {
        "colab": {
          "base_uri": "https://localhost:8080/"
        },
        "id": "1SnbcgSBZgkj",
        "outputId": "09731465-e714-4b3c-f90d-926302b37f01"
      },
      "execution_count": 4,
      "outputs": [
        {
          "output_type": "execute_result",
          "data": {
            "text/plain": [
              "-11"
            ]
          },
          "metadata": {},
          "execution_count": 4
        }
      ]
    },
    {
      "cell_type": "code",
      "source": [
        "type(10)"
      ],
      "metadata": {
        "colab": {
          "base_uri": "https://localhost:8080/"
        },
        "id": "qsc5ZuvFZjUN",
        "outputId": "121d3b8e-8b83-49e0-9d4f-ae782bf008e8"
      },
      "execution_count": 5,
      "outputs": [
        {
          "output_type": "execute_result",
          "data": {
            "text/plain": [
              "int"
            ]
          },
          "metadata": {},
          "execution_count": 5
        }
      ]
    },
    {
      "cell_type": "code",
      "source": [
        "print(type(10))"
      ],
      "metadata": {
        "colab": {
          "base_uri": "https://localhost:8080/"
        },
        "id": "zK6FoIMAZnS2",
        "outputId": "b7b86ce4-f6aa-428b-d4e7-6fc253ecd0ef"
      },
      "execution_count": 6,
      "outputs": [
        {
          "output_type": "stream",
          "name": "stdout",
          "text": [
            "<class 'int'>\n"
          ]
        }
      ]
    },
    {
      "cell_type": "code",
      "source": [
        "print(10)"
      ],
      "metadata": {
        "colab": {
          "base_uri": "https://localhost:8080/"
        },
        "id": "XsukNrSOZrEu",
        "outputId": "ddb4a883-762b-4969-f570-bff55bbe2159"
      },
      "execution_count": 7,
      "outputs": [
        {
          "output_type": "stream",
          "name": "stdout",
          "text": [
            "10\n"
          ]
        }
      ]
    },
    {
      "cell_type": "code",
      "source": [
        "print(-1)\n",
        "print(2000)"
      ],
      "metadata": {
        "colab": {
          "base_uri": "https://localhost:8080/"
        },
        "id": "m4iISjNxZ5DD",
        "outputId": "3528f1f1-8b93-470b-f27d-406d425b3dfe"
      },
      "execution_count": 8,
      "outputs": [
        {
          "output_type": "stream",
          "name": "stdout",
          "text": [
            "-1\n",
            "2000\n"
          ]
        }
      ]
    },
    {
      "cell_type": "code",
      "source": [
        "-1\n",
        "200"
      ],
      "metadata": {
        "colab": {
          "base_uri": "https://localhost:8080/"
        },
        "id": "VxpHrz_QaHrP",
        "outputId": "0c8482d6-1c5b-40de-bdcc-ac6f7bc5a2e0"
      },
      "execution_count": 9,
      "outputs": [
        {
          "output_type": "execute_result",
          "data": {
            "text/plain": [
              "200"
            ]
          },
          "metadata": {},
          "execution_count": 9
        }
      ]
    },
    {
      "cell_type": "code",
      "source": [
        "print(\"tipe data 1:\", type(1))\n",
        "print(\"tipe data -100:\", type(-100))"
      ],
      "metadata": {
        "colab": {
          "base_uri": "https://localhost:8080/"
        },
        "id": "biKOmZHBaJVQ",
        "outputId": "82d5d385-6f3d-47e7-b838-a72b8c181e00"
      },
      "execution_count": 10,
      "outputs": [
        {
          "output_type": "stream",
          "name": "stdout",
          "text": [
            "tipe data 1: <class 'int'>\n",
            "tipe data -100: <class 'int'>\n"
          ]
        }
      ]
    },
    {
      "cell_type": "markdown",
      "source": [
        "## Float"
      ],
      "metadata": {
        "id": "K5fK4OUNa49a"
      }
    },
    {
      "cell_type": "code",
      "source": [
        "print(1.1, 3.14, -2.77)"
      ],
      "metadata": {
        "colab": {
          "base_uri": "https://localhost:8080/"
        },
        "id": "oFaPbOpXaUOV",
        "outputId": "081c5a60-a161-4960-b652-9779c2f663dd"
      },
      "execution_count": 11,
      "outputs": [
        {
          "output_type": "stream",
          "name": "stdout",
          "text": [
            "1.1 3.14 -2.77\n"
          ]
        }
      ]
    },
    {
      "cell_type": "code",
      "source": [
        "print(type(1.1), type(3.14), type(-2.77))"
      ],
      "metadata": {
        "colab": {
          "base_uri": "https://localhost:8080/"
        },
        "id": "Ld8EBwJHa-C4",
        "outputId": "dc25120f-a67f-4629-b4c8-5a0ebb2a39ea"
      },
      "execution_count": 12,
      "outputs": [
        {
          "output_type": "stream",
          "name": "stdout",
          "text": [
            "<class 'float'> <class 'float'> <class 'float'>\n"
          ]
        }
      ]
    },
    {
      "cell_type": "code",
      "source": [
        "print(1.0, 1.)"
      ],
      "metadata": {
        "colab": {
          "base_uri": "https://localhost:8080/"
        },
        "id": "cifNOaC_bCS8",
        "outputId": "7ef9dc00-e3f8-43a1-d46b-5dfb89f0ea88"
      },
      "execution_count": 13,
      "outputs": [
        {
          "output_type": "stream",
          "name": "stdout",
          "text": [
            "1.0 1.0\n"
          ]
        }
      ]
    },
    {
      "cell_type": "code",
      "source": [
        "print(.12, 0.12)"
      ],
      "metadata": {
        "colab": {
          "base_uri": "https://localhost:8080/"
        },
        "id": "Ow6ry-zLbGvG",
        "outputId": "4469c430-da77-4401-f39a-33c1195651ec"
      },
      "execution_count": 14,
      "outputs": [
        {
          "output_type": "stream",
          "name": "stdout",
          "text": [
            "0.12 0.12\n"
          ]
        }
      ]
    },
    {
      "cell_type": "code",
      "source": [
        "print(1e1, 2e2)"
      ],
      "metadata": {
        "colab": {
          "base_uri": "https://localhost:8080/"
        },
        "id": "Q7VlcKmhbJcu",
        "outputId": "76bb4053-903e-486c-f80c-0fdb5181f960"
      },
      "execution_count": 15,
      "outputs": [
        {
          "output_type": "stream",
          "name": "stdout",
          "text": [
            "10.0 200.0\n"
          ]
        }
      ]
    },
    {
      "cell_type": "code",
      "source": [
        "print(314e-2, -277e-2)"
      ],
      "metadata": {
        "colab": {
          "base_uri": "https://localhost:8080/"
        },
        "id": "r-W-rF6BbMy9",
        "outputId": "09e9bfab-92d3-4454-b5ed-6de40d9da40d"
      },
      "execution_count": 16,
      "outputs": [
        {
          "output_type": "stream",
          "name": "stdout",
          "text": [
            "3.14 -2.77\n"
          ]
        }
      ]
    },
    {
      "cell_type": "code",
      "source": [
        "print(.0001, 1e-4)"
      ],
      "metadata": {
        "colab": {
          "base_uri": "https://localhost:8080/"
        },
        "id": "NzWWmANDbYs5",
        "outputId": "14048dc2-bf20-40aa-be63-f66a3468e39f"
      },
      "execution_count": 17,
      "outputs": [
        {
          "output_type": "stream",
          "name": "stdout",
          "text": [
            "0.0001 0.0001\n"
          ]
        }
      ]
    },
    {
      "cell_type": "code",
      "source": [
        "print(type(10), type(10.))"
      ],
      "metadata": {
        "colab": {
          "base_uri": "https://localhost:8080/"
        },
        "id": "y9np4eimbfAg",
        "outputId": "f5be18e7-8364-47ba-e20c-fcd5dd28716a"
      },
      "execution_count": 18,
      "outputs": [
        {
          "output_type": "stream",
          "name": "stdout",
          "text": [
            "<class 'int'> <class 'float'>\n"
          ]
        }
      ]
    },
    {
      "cell_type": "markdown",
      "source": [
        "## Strings"
      ],
      "metadata": {
        "id": "C2cfbJ2Ob1MN"
      }
    },
    {
      "cell_type": "code",
      "source": [
        "print(\"Hacktiv8\")\n",
        "print('Hacktiv8')"
      ],
      "metadata": {
        "colab": {
          "base_uri": "https://localhost:8080/"
        },
        "id": "cPS_WdcTbvSJ",
        "outputId": "60225d95-9030-4684-c41e-b853a025c1fd"
      },
      "execution_count": 19,
      "outputs": [
        {
          "output_type": "stream",
          "name": "stdout",
          "text": [
            "Hacktiv8\n",
            "Hacktiv8\n"
          ]
        }
      ]
    },
    {
      "cell_type": "code",
      "source": [
        "print(\"Ha\"tiv8\")"
      ],
      "metadata": {
        "colab": {
          "base_uri": "https://localhost:8080/",
          "height": 133
        },
        "id": "VG9N18bCci4H",
        "outputId": "fe5c8a19-d224-4207-ed17-426be4c9ab2d"
      },
      "execution_count": 20,
      "outputs": [
        {
          "output_type": "error",
          "ename": "SyntaxError",
          "evalue": "ignored",
          "traceback": [
            "\u001b[0;36m  File \u001b[0;32m\"<ipython-input-20-a28c7f754424>\"\u001b[0;36m, line \u001b[0;32m1\u001b[0m\n\u001b[0;31m    print(\"Ha\"tiv8\")\u001b[0m\n\u001b[0m                 ^\u001b[0m\n\u001b[0;31mSyntaxError\u001b[0m\u001b[0;31m:\u001b[0m invalid syntax\n"
          ]
        }
      ]
    },
    {
      "cell_type": "code",
      "source": [
        "print('Ha'tiv8')"
      ],
      "metadata": {
        "colab": {
          "base_uri": "https://localhost:8080/",
          "height": 133
        },
        "id": "recDB_o1co1o",
        "outputId": "dde7a028-443d-4388-bbfa-3a605d96f6b8"
      },
      "execution_count": 21,
      "outputs": [
        {
          "output_type": "error",
          "ename": "SyntaxError",
          "evalue": "ignored",
          "traceback": [
            "\u001b[0;36m  File \u001b[0;32m\"<ipython-input-21-f4cd96217331>\"\u001b[0;36m, line \u001b[0;32m1\u001b[0m\n\u001b[0;31m    print('Ha'tiv8')\u001b[0m\n\u001b[0m                 ^\u001b[0m\n\u001b[0;31mSyntaxError\u001b[0m\u001b[0;31m:\u001b[0m invalid syntax\n"
          ]
        }
      ]
    },
    {
      "cell_type": "code",
      "source": [
        "print(\"Ha'tiv8\")\n",
        "print('Hac\"tiv8')"
      ],
      "metadata": {
        "colab": {
          "base_uri": "https://localhost:8080/"
        },
        "id": "R1vbg77RczBS",
        "outputId": "88b24930-0595-4dfc-e3b2-8a31f1c77539"
      },
      "execution_count": 22,
      "outputs": [
        {
          "output_type": "stream",
          "name": "stdout",
          "text": [
            "Ha'tiv8\n",
            "Hac\"tiv8\n"
          ]
        }
      ]
    },
    {
      "cell_type": "code",
      "source": [
        "print(\"\"\"Ini teks.\"\"\")\n",
        "print('''Ini juga teks.''')"
      ],
      "metadata": {
        "colab": {
          "base_uri": "https://localhost:8080/"
        },
        "id": "Hcri77jSc5r-",
        "outputId": "ec34b667-7beb-4f8c-a145-a587c2abde3a"
      },
      "execution_count": 23,
      "outputs": [
        {
          "output_type": "stream",
          "name": "stdout",
          "text": [
            "Ini teks.\n",
            "Ini juga teks.\n"
          ]
        }
      ]
    },
    {
      "cell_type": "code",
      "source": [
        "print('''Ha'tiv8''', type('''Ha'tiv8'''))\n",
        "print(\"\"\"Hac\"tiv8\"\"\", type(\"\"\"Hac\"tiv8\"\"\"))"
      ],
      "metadata": {
        "colab": {
          "base_uri": "https://localhost:8080/"
        },
        "id": "n_x2jsLQdFpZ",
        "outputId": "c7ce9f1d-a0ff-4758-e8af-1e78919ab04e"
      },
      "execution_count": 24,
      "outputs": [
        {
          "output_type": "stream",
          "name": "stdout",
          "text": [
            "Ha'tiv8 <class 'str'>\n",
            "Hac\"tiv8 <class 'str'>\n"
          ]
        }
      ]
    },
    {
      "cell_type": "code",
      "source": [
        "print(\"Baris 1.\n",
        "Baris 2....\")"
      ],
      "metadata": {
        "colab": {
          "base_uri": "https://localhost:8080/",
          "height": 133
        },
        "id": "tmT14qk0dNXH",
        "outputId": "e4f2a404-1df4-4bbd-e1f0-d411d43bb273"
      },
      "execution_count": 25,
      "outputs": [
        {
          "output_type": "error",
          "ename": "SyntaxError",
          "evalue": "ignored",
          "traceback": [
            "\u001b[0;36m  File \u001b[0;32m\"<ipython-input-25-397e7086d545>\"\u001b[0;36m, line \u001b[0;32m1\u001b[0m\n\u001b[0;31m    print(\"Baris 1.\u001b[0m\n\u001b[0m                   ^\u001b[0m\n\u001b[0;31mSyntaxError\u001b[0m\u001b[0;31m:\u001b[0m EOL while scanning string literal\n"
          ]
        }
      ]
    },
    {
      "cell_type": "code",
      "source": [
        "print(\"\"\"Baris 1.\n",
        "Baris 2.\n",
        "Baris 3.\"\"\")\n",
        "print(type(\"\"\"Baris 1.\n",
        "Baris 2.\n",
        "Baris 3.\"\"\"))"
      ],
      "metadata": {
        "colab": {
          "base_uri": "https://localhost:8080/"
        },
        "id": "W6oeVuLwdcKl",
        "outputId": "5da9a310-de75-401e-fd5b-fff74791eb07"
      },
      "execution_count": 26,
      "outputs": [
        {
          "output_type": "stream",
          "name": "stdout",
          "text": [
            "Baris 1.\n",
            "Baris 2.\n",
            "Baris 3.\n",
            "<class 'str'>\n"
          ]
        }
      ]
    },
    {
      "cell_type": "code",
      "source": [
        "print('''Baris 1.\n",
        "Baris 2.\n",
        "Baris 3.''')\n",
        "print(type('''Baris 1.\n",
        "Baris 2.\n",
        "Baris 3.'''))"
      ],
      "metadata": {
        "colab": {
          "base_uri": "https://localhost:8080/"
        },
        "id": "1KQn5LxkdiPz",
        "outputId": "aa01a8ef-7267-4f41-ba2c-0a00d440975a"
      },
      "execution_count": 27,
      "outputs": [
        {
          "output_type": "stream",
          "name": "stdout",
          "text": [
            "Baris 1.\n",
            "Baris 2.\n",
            "Baris 3.\n",
            "<class 'str'>\n"
          ]
        }
      ]
    },
    {
      "cell_type": "markdown",
      "source": [
        "## Boolean"
      ],
      "metadata": {
        "id": "ag6BVMsyeZ6x"
      }
    },
    {
      "cell_type": "code",
      "source": [
        "print(True)\n",
        "print(False)"
      ],
      "metadata": {
        "colab": {
          "base_uri": "https://localhost:8080/"
        },
        "id": "Y8l1WgoEdww2",
        "outputId": "8b017d86-31b6-46f1-b1b7-aee9f2af61f8"
      },
      "execution_count": 28,
      "outputs": [
        {
          "output_type": "stream",
          "name": "stdout",
          "text": [
            "True\n",
            "False\n"
          ]
        }
      ]
    },
    {
      "cell_type": "code",
      "source": [
        "print(type(True), type(False))"
      ],
      "metadata": {
        "colab": {
          "base_uri": "https://localhost:8080/"
        },
        "id": "U-w0GpEaecqK",
        "outputId": "5550a9b7-e78d-4a6a-c134-241f613ba3dd"
      },
      "execution_count": 29,
      "outputs": [
        {
          "output_type": "stream",
          "name": "stdout",
          "text": [
            "<class 'bool'> <class 'bool'>\n"
          ]
        }
      ]
    },
    {
      "cell_type": "markdown",
      "source": [
        "## Variables"
      ],
      "metadata": {
        "id": "xIKInDqvf_OT"
      }
    },
    {
      "cell_type": "code",
      "source": [
        "course_name = \"Hacktiv8\"\n",
        "batch = 88\n",
        "num_students = 4\n",
        "current_times = 20.22\n",
        "\n",
        "print(course_name, type(course_name))\n",
        "print(batch, type(batch))\n",
        "print(num_students, type(batch))\n",
        "print(current_times, type(current_times))"
      ],
      "metadata": {
        "colab": {
          "base_uri": "https://localhost:8080/"
        },
        "id": "Y7hRKhS5egoT",
        "outputId": "f71a3a13-def4-4a03-fafa-ad5cac736cee"
      },
      "execution_count": 30,
      "outputs": [
        {
          "output_type": "stream",
          "name": "stdout",
          "text": [
            "Hacktiv8 <class 'str'>\n",
            "88 <class 'int'>\n",
            "4 <class 'int'>\n",
            "20.22 <class 'float'>\n"
          ]
        }
      ]
    },
    {
      "cell_type": "code",
      "source": [
        "# not recommended\n",
        "cn = \"Hacktiv8\"\n",
        "ns = 4\n",
        "b = 88\n",
        "\n",
        "print(cn, ns, b)"
      ],
      "metadata": {
        "colab": {
          "base_uri": "https://localhost:8080/"
        },
        "id": "XU17xpzkgUWP",
        "outputId": "44a41daa-f6fd-4e20-f616-60226ac8c7db"
      },
      "execution_count": 31,
      "outputs": [
        {
          "output_type": "stream",
          "name": "stdout",
          "text": [
            "Hacktiv8 4 88\n"
          ]
        }
      ]
    },
    {
      "cell_type": "code",
      "source": [
        "day_1 = True\n",
        "\n",
        "print(day_1, type(day_1))"
      ],
      "metadata": {
        "colab": {
          "base_uri": "https://localhost:8080/"
        },
        "id": "Y4pAc_fVgnxV",
        "outputId": "0da0b9b1-4586-48aa-b536-6cc153c4990e"
      },
      "execution_count": 32,
      "outputs": [
        {
          "output_type": "stream",
          "name": "stdout",
          "text": [
            "True <class 'bool'>\n"
          ]
        }
      ]
    },
    {
      "cell_type": "code",
      "source": [
        "22_nov = False"
      ],
      "metadata": {
        "colab": {
          "base_uri": "https://localhost:8080/",
          "height": 133
        },
        "id": "-UBSbwUYgnt2",
        "outputId": "46c0eb87-3b6c-489e-fc32-bf1bb7619683"
      },
      "execution_count": 33,
      "outputs": [
        {
          "output_type": "error",
          "ename": "SyntaxError",
          "evalue": "ignored",
          "traceback": [
            "\u001b[0;36m  File \u001b[0;32m\"<ipython-input-33-4f02cee1c10b>\"\u001b[0;36m, line \u001b[0;32m1\u001b[0m\n\u001b[0;31m    22_nov = False\u001b[0m\n\u001b[0m      ^\u001b[0m\n\u001b[0;31mSyntaxError\u001b[0m\u001b[0;31m:\u001b[0m invalid token\n"
          ]
        }
      ]
    },
    {
      "cell_type": "code",
      "source": [
        "_course = 'hacktiv8'\n",
        "\n",
        "print(_course)"
      ],
      "metadata": {
        "colab": {
          "base_uri": "https://localhost:8080/"
        },
        "id": "iBxw_gX8gnrg",
        "outputId": "08d00408-e718-4964-cac3-6994cf439415"
      },
      "execution_count": 34,
      "outputs": [
        {
          "output_type": "stream",
          "name": "stdout",
          "text": [
            "hacktiv8\n"
          ]
        }
      ]
    },
    {
      "cell_type": "code",
      "source": [
        "# not recommended\n",
        "_ = 'underscore'    # this's comment"
      ],
      "metadata": {
        "id": "9tJuPJcEgnoP"
      },
      "execution_count": 35,
      "outputs": []
    },
    {
      "cell_type": "code",
      "source": [
        "print(_, type(_))"
      ],
      "metadata": {
        "colab": {
          "base_uri": "https://localhost:8080/"
        },
        "id": "lEh7vwAzgnlH",
        "outputId": "e4524c93-6d15-473d-bc66-c5897ae7958a"
      },
      "execution_count": 36,
      "outputs": [
        {
          "output_type": "stream",
          "name": "stdout",
          "text": [
            "underscore <class 'str'>\n"
          ]
        }
      ]
    },
    {
      "cell_type": "code",
      "source": [
        "( = 1"
      ],
      "metadata": {
        "colab": {
          "base_uri": "https://localhost:8080/",
          "height": 133
        },
        "id": "KxUcDy8cgni6",
        "outputId": "ac5cbe8c-ed84-4e44-f3ba-170019be8a42"
      },
      "execution_count": 37,
      "outputs": [
        {
          "output_type": "error",
          "ename": "SyntaxError",
          "evalue": "ignored",
          "traceback": [
            "\u001b[0;36m  File \u001b[0;32m\"<ipython-input-37-7f87773da9f4>\"\u001b[0;36m, line \u001b[0;32m1\u001b[0m\n\u001b[0;31m    ( = 1\u001b[0m\n\u001b[0m      ^\u001b[0m\n\u001b[0;31mSyntaxError\u001b[0m\u001b[0;31m:\u001b[0m invalid syntax\n"
          ]
        }
      ]
    },
    {
      "cell_type": "code",
      "source": [
        "course-name = 'hacktiv'"
      ],
      "metadata": {
        "colab": {
          "base_uri": "https://localhost:8080/",
          "height": 133
        },
        "id": "9xvtEsydhfSp",
        "outputId": "03e6761b-a895-40a5-f7ff-7748477877dc"
      },
      "execution_count": 39,
      "outputs": [
        {
          "output_type": "error",
          "ename": "SyntaxError",
          "evalue": "ignored",
          "traceback": [
            "\u001b[0;36m  File \u001b[0;32m\"<ipython-input-39-bd43a2f21b8d>\"\u001b[0;36m, line \u001b[0;32m1\u001b[0m\n\u001b[0;31m    course-name = 'hacktiv'\u001b[0m\n\u001b[0m                           ^\u001b[0m\n\u001b[0;31mSyntaxError\u001b[0m\u001b[0;31m:\u001b[0m can't assign to operator\n"
          ]
        }
      ]
    },
    {
      "cell_type": "markdown",
      "source": [
        "## Operators"
      ],
      "metadata": {
        "id": "OiqCIZbXlh6o"
      }
    },
    {
      "cell_type": "markdown",
      "source": [
        "### Assignment Operators"
      ],
      "metadata": {
        "id": "rn68vXXnnaN_"
      }
    },
    {
      "cell_type": "code",
      "source": [
        "# use = for assignment\n",
        "x = 10\n",
        "y = 2\n",
        "z = 3\n",
        "xf = 3.14\n",
        "yf = .22\n",
        "zf = -1."
      ],
      "metadata": {
        "id": "sn2jVRc2gli8"
      },
      "execution_count": 41,
      "outputs": []
    },
    {
      "cell_type": "markdown",
      "source": [
        "### Arithmetic Operators"
      ],
      "metadata": {
        "id": "LmyxRlYxnX1z"
      }
    },
    {
      "cell_type": "code",
      "source": [
        "print(x + y, x - y)\n",
        "print(x - z, x * z)\n",
        "print(xf + yf)\n",
        "print(x / y, xf / y)\n",
        "print(x * zf, z * zf)\n",
        "print(y % z)\n",
        "print(x ** y)\n",
        "print(z ** y)"
      ],
      "metadata": {
        "colab": {
          "base_uri": "https://localhost:8080/"
        },
        "id": "r4emxEzXl3XQ",
        "outputId": "53101ce2-521d-4410-dab8-b5a6f91ba8aa"
      },
      "execution_count": 42,
      "outputs": [
        {
          "output_type": "stream",
          "name": "stdout",
          "text": [
            "12 8\n",
            "7 30\n",
            "3.3600000000000003\n",
            "5.0 1.57\n",
            "-10.0 -3.0\n",
            "2\n",
            "100\n",
            "9\n"
          ]
        }
      ]
    },
    {
      "cell_type": "code",
      "source": [
        "print(type(x), type(y))\n",
        "print(type(x / y))"
      ],
      "metadata": {
        "colab": {
          "base_uri": "https://localhost:8080/"
        },
        "id": "savJcG66mQRg",
        "outputId": "8d114706-8b1a-48a6-ce0d-fe068a7e56b3"
      },
      "execution_count": 43,
      "outputs": [
        {
          "output_type": "stream",
          "name": "stdout",
          "text": [
            "<class 'int'> <class 'int'>\n",
            "<class 'float'>\n"
          ]
        }
      ]
    },
    {
      "cell_type": "code",
      "source": [
        "print(type(2 / 2))"
      ],
      "metadata": {
        "colab": {
          "base_uri": "https://localhost:8080/"
        },
        "id": "uwIl_TiVm3nE",
        "outputId": "88fe5d7a-2b60-43a3-d52d-eaef99ad9360"
      },
      "execution_count": 44,
      "outputs": [
        {
          "output_type": "stream",
          "name": "stdout",
          "text": [
            "<class 'float'>\n"
          ]
        }
      ]
    },
    {
      "cell_type": "code",
      "source": [
        "print(type(zf))\n",
        "print(type(x*zf))"
      ],
      "metadata": {
        "colab": {
          "base_uri": "https://localhost:8080/"
        },
        "id": "nHl7v_QBm5pi",
        "outputId": "391402e0-0516-406f-e07e-8285af19735f"
      },
      "execution_count": 45,
      "outputs": [
        {
          "output_type": "stream",
          "name": "stdout",
          "text": [
            "<class 'float'>\n",
            "<class 'float'>\n"
          ]
        }
      ]
    },
    {
      "cell_type": "code",
      "source": [
        "print(xf * zf)\n",
        "print(type(xf * zf))"
      ],
      "metadata": {
        "colab": {
          "base_uri": "https://localhost:8080/"
        },
        "id": "XrMmC-uhnG0w",
        "outputId": "93bead44-e9ac-44fd-9501-74db9b332bf4"
      },
      "execution_count": 46,
      "outputs": [
        {
          "output_type": "stream",
          "name": "stdout",
          "text": [
            "-3.14\n",
            "<class 'float'>\n"
          ]
        }
      ]
    },
    {
      "cell_type": "markdown",
      "source": [
        "### Comparison Operators"
      ],
      "metadata": {
        "id": "VFJTwnlAndP2"
      }
    },
    {
      "cell_type": "code",
      "source": [
        "print(x, y, z)\n",
        "print(xf, yf, zf)"
      ],
      "metadata": {
        "colab": {
          "base_uri": "https://localhost:8080/"
        },
        "id": "LePN_vxenRPG",
        "outputId": "c47e998f-ea78-4a7e-c93e-3063858e0095"
      },
      "execution_count": 47,
      "outputs": [
        {
          "output_type": "stream",
          "name": "stdout",
          "text": [
            "10 2 3\n",
            "3.14 0.22 -1.0\n"
          ]
        }
      ]
    },
    {
      "cell_type": "code",
      "source": [
        "print(x == y, x <= y, x >= y)"
      ],
      "metadata": {
        "colab": {
          "base_uri": "https://localhost:8080/"
        },
        "id": "GXE74Ey7nhga",
        "outputId": "2d9a172a-d47e-4540-c72e-24f6c39adf66"
      },
      "execution_count": 48,
      "outputs": [
        {
          "output_type": "stream",
          "name": "stdout",
          "text": [
            "False False True\n"
          ]
        }
      ]
    },
    {
      "cell_type": "code",
      "source": [
        "print(zf == 1, zf == 1.0, zf == -1e-1, -1e-1, -10e-1)"
      ],
      "metadata": {
        "colab": {
          "base_uri": "https://localhost:8080/"
        },
        "id": "Y9kgR9U5nwpt",
        "outputId": "99605723-581b-4a7a-962a-f1616c5c06e0"
      },
      "execution_count": 49,
      "outputs": [
        {
          "output_type": "stream",
          "name": "stdout",
          "text": [
            "False False False -0.1 -1.0\n"
          ]
        }
      ]
    },
    {
      "cell_type": "code",
      "source": [
        "-zf"
      ],
      "metadata": {
        "colab": {
          "base_uri": "https://localhost:8080/"
        },
        "id": "5wrJpm3cobgX",
        "outputId": "d3214b64-0f94-428e-ba65-24e6e994d538"
      },
      "execution_count": 50,
      "outputs": [
        {
          "output_type": "execute_result",
          "data": {
            "text/plain": [
              "1.0"
            ]
          },
          "metadata": {},
          "execution_count": 50
        }
      ]
    },
    {
      "cell_type": "code",
      "source": [
        "print(type(x) == type(-10.))"
      ],
      "metadata": {
        "colab": {
          "base_uri": "https://localhost:8080/"
        },
        "id": "W-8j1AfCoXNw",
        "outputId": "fec31dc9-59bc-4f6e-963f-b14c34e1490d"
      },
      "execution_count": 51,
      "outputs": [
        {
          "output_type": "stream",
          "name": "stdout",
          "text": [
            "False\n"
          ]
        }
      ]
    },
    {
      "cell_type": "code",
      "source": [
        "print(type(x) == int)"
      ],
      "metadata": {
        "colab": {
          "base_uri": "https://localhost:8080/"
        },
        "id": "qlS6gwm-o3Cf",
        "outputId": "fc05490f-51a1-45b7-ae9f-a397fd8a0479"
      },
      "execution_count": 52,
      "outputs": [
        {
          "output_type": "stream",
          "name": "stdout",
          "text": [
            "True\n"
          ]
        }
      ]
    },
    {
      "cell_type": "code",
      "source": [
        "int"
      ],
      "metadata": {
        "colab": {
          "base_uri": "https://localhost:8080/"
        },
        "id": "yZzlT8xrpD4L",
        "outputId": "10c5760f-d6a7-4bab-c5ff-a3aec90737c4"
      },
      "execution_count": 53,
      "outputs": [
        {
          "output_type": "execute_result",
          "data": {
            "text/plain": [
              "int"
            ]
          },
          "metadata": {},
          "execution_count": 53
        }
      ]
    },
    {
      "cell_type": "code",
      "source": [
        "print(type(zf) == float)\n",
        "print(type(x == x) == bool)"
      ],
      "metadata": {
        "colab": {
          "base_uri": "https://localhost:8080/"
        },
        "id": "6Qr76zF5pIsr",
        "outputId": "c07871f9-dd29-4e65-f12f-e0629f7f5b05"
      },
      "execution_count": 54,
      "outputs": [
        {
          "output_type": "stream",
          "name": "stdout",
          "text": [
            "True\n",
            "True\n"
          ]
        }
      ]
    },
    {
      "cell_type": "code",
      "source": [
        "print(int == int)\n",
        "print(bool == bool)"
      ],
      "metadata": {
        "colab": {
          "base_uri": "https://localhost:8080/"
        },
        "id": "_21u_ZQNpRnQ",
        "outputId": "176f864f-d1e2-43b5-b5a7-dec6a371a4ff"
      },
      "execution_count": 55,
      "outputs": [
        {
          "output_type": "stream",
          "name": "stdout",
          "text": [
            "True\n",
            "True\n"
          ]
        }
      ]
    },
    {
      "cell_type": "markdown",
      "source": [
        "### String Manipulation"
      ],
      "metadata": {
        "id": "fvBz24FGpucY"
      }
    },
    {
      "cell_type": "code",
      "source": [
        "print(course_name)"
      ],
      "metadata": {
        "colab": {
          "base_uri": "https://localhost:8080/"
        },
        "id": "x2zShY4lpbS4",
        "outputId": "138e41ae-5784-46d7-ed1f-213e52e53b95"
      },
      "execution_count": 56,
      "outputs": [
        {
          "output_type": "stream",
          "name": "stdout",
          "text": [
            "Hacktiv8\n"
          ]
        }
      ]
    },
    {
      "cell_type": "code",
      "source": [
        "print(course_name + course_name)"
      ],
      "metadata": {
        "colab": {
          "base_uri": "https://localhost:8080/"
        },
        "id": "Au6sUxHCptpj",
        "outputId": "f31dd87f-a058-40a4-bf1f-cdbf9f0861bf"
      },
      "execution_count": 57,
      "outputs": [
        {
          "output_type": "stream",
          "name": "stdout",
          "text": [
            "Hacktiv8Hacktiv8\n"
          ]
        }
      ]
    },
    {
      "cell_type": "code",
      "source": [
        "print(course_name * 5)"
      ],
      "metadata": {
        "colab": {
          "base_uri": "https://localhost:8080/"
        },
        "id": "3_8jAz6hpyGI",
        "outputId": "a29c7c7a-9aa0-45bd-e58a-e03189413a61"
      },
      "execution_count": 58,
      "outputs": [
        {
          "output_type": "stream",
          "name": "stdout",
          "text": [
            "Hacktiv8Hacktiv8Hacktiv8Hacktiv8Hacktiv8\n"
          ]
        }
      ]
    },
    {
      "cell_type": "code",
      "source": [
        "print(course_name + 11)"
      ],
      "metadata": {
        "colab": {
          "base_uri": "https://localhost:8080/",
          "height": 169
        },
        "id": "EqCmtZF7p33_",
        "outputId": "8cce4c27-7959-488d-dfb2-69af8e6fabfb"
      },
      "execution_count": 59,
      "outputs": [
        {
          "output_type": "error",
          "ename": "TypeError",
          "evalue": "ignored",
          "traceback": [
            "\u001b[0;31m---------------------------------------------------------------------------\u001b[0m",
            "\u001b[0;31mTypeError\u001b[0m                                 Traceback (most recent call last)",
            "\u001b[0;32m<ipython-input-59-7c962e2e26a9>\u001b[0m in \u001b[0;36m<module>\u001b[0;34m\u001b[0m\n\u001b[0;32m----> 1\u001b[0;31m \u001b[0mprint\u001b[0m\u001b[0;34m(\u001b[0m\u001b[0mcourse_name\u001b[0m \u001b[0;34m+\u001b[0m \u001b[0;36m11\u001b[0m\u001b[0;34m)\u001b[0m\u001b[0;34m\u001b[0m\u001b[0;34m\u001b[0m\u001b[0m\n\u001b[0m",
            "\u001b[0;31mTypeError\u001b[0m: can only concatenate str (not \"int\") to str"
          ]
        }
      ]
    },
    {
      "cell_type": "code",
      "source": [
        "print(course_name + \" \" + course_name)"
      ],
      "metadata": {
        "colab": {
          "base_uri": "https://localhost:8080/"
        },
        "id": "edmQNSKlp_gJ",
        "outputId": "c7dba499-ea30-438d-916b-0fee9fcc31db"
      },
      "execution_count": 60,
      "outputs": [
        {
          "output_type": "stream",
          "name": "stdout",
          "text": [
            "Hacktiv8 Hacktiv8\n"
          ]
        }
      ]
    },
    {
      "cell_type": "code",
      "source": [
        "concat = course_name + \" \"\n",
        "multiple_courses = concat * 2\n",
        "print(multiple_courses)"
      ],
      "metadata": {
        "colab": {
          "base_uri": "https://localhost:8080/"
        },
        "id": "oQhvhFVDqIU-",
        "outputId": "f2af5fea-cf3d-492f-ea6c-f4dce960c6f1"
      },
      "execution_count": 61,
      "outputs": [
        {
          "output_type": "stream",
          "name": "stdout",
          "text": [
            "Hacktiv8 Hacktiv8 \n"
          ]
        }
      ]
    },
    {
      "cell_type": "code",
      "source": [
        "print(multiple_courses == \"Hacktiv8 Hacktiv8\")"
      ],
      "metadata": {
        "colab": {
          "base_uri": "https://localhost:8080/"
        },
        "id": "_rAzuGXJqQiv",
        "outputId": "3f01e45c-77af-4e95-b0f2-d3ca3d6eff1a"
      },
      "execution_count": 62,
      "outputs": [
        {
          "output_type": "stream",
          "name": "stdout",
          "text": [
            "False\n"
          ]
        }
      ]
    },
    {
      "cell_type": "code",
      "source": [
        "print(multiple_courses == \"Hacktiv8 Hacktiv8 \")"
      ],
      "metadata": {
        "colab": {
          "base_uri": "https://localhost:8080/"
        },
        "id": "THJTLl-uqg_w",
        "outputId": "f24d6324-e541-4379-c761-4c8a46ad2140"
      },
      "execution_count": 63,
      "outputs": [
        {
          "output_type": "stream",
          "name": "stdout",
          "text": [
            "True\n"
          ]
        }
      ]
    },
    {
      "cell_type": "code",
      "source": [
        "multiple_courses"
      ],
      "metadata": {
        "colab": {
          "base_uri": "https://localhost:8080/",
          "height": 35
        },
        "id": "nWIIh6OCqqPH",
        "outputId": "5863c112-bb57-4cc9-a80c-d607a6c80b7e"
      },
      "execution_count": 64,
      "outputs": [
        {
          "output_type": "execute_result",
          "data": {
            "text/plain": [
              "'Hacktiv8 Hacktiv8 '"
            ],
            "application/vnd.google.colaboratory.intrinsic+json": {
              "type": "string"
            }
          },
          "metadata": {},
          "execution_count": 64
        }
      ]
    },
    {
      "cell_type": "code",
      "source": [
        "print(course_name.lower())"
      ],
      "metadata": {
        "colab": {
          "base_uri": "https://localhost:8080/"
        },
        "id": "7PTQWRlyq0o_",
        "outputId": "8ef5e521-0ceb-430a-8101-3325c5bb5670"
      },
      "execution_count": 65,
      "outputs": [
        {
          "output_type": "stream",
          "name": "stdout",
          "text": [
            "hacktiv8\n"
          ]
        }
      ]
    },
    {
      "cell_type": "code",
      "source": [
        "print(course_name.capitalize())"
      ],
      "metadata": {
        "colab": {
          "base_uri": "https://localhost:8080/"
        },
        "id": "l3cf5Imxr8Np",
        "outputId": "1f579304-7e6f-4480-e1dc-64e630a79323"
      },
      "execution_count": 66,
      "outputs": [
        {
          "output_type": "stream",
          "name": "stdout",
          "text": [
            "Hacktiv8\n"
          ]
        }
      ]
    },
    {
      "cell_type": "code",
      "source": [
        "print(course_name.upper())"
      ],
      "metadata": {
        "colab": {
          "base_uri": "https://localhost:8080/"
        },
        "id": "5phD6LU7r--R",
        "outputId": "504aa732-16b9-4cf5-95c4-c77f907b7862"
      },
      "execution_count": 67,
      "outputs": [
        {
          "output_type": "stream",
          "name": "stdout",
          "text": [
            "HACKTIV8\n"
          ]
        }
      ]
    },
    {
      "cell_type": "code",
      "source": [
        "print(course_name.swapcase())"
      ],
      "metadata": {
        "colab": {
          "base_uri": "https://localhost:8080/"
        },
        "id": "G2Aj-4z2sDJD",
        "outputId": "cada067b-1bfa-465b-a904-b9b2a47680e1"
      },
      "execution_count": 68,
      "outputs": [
        {
          "output_type": "stream",
          "name": "stdout",
          "text": [
            "hACKTIV8\n"
          ]
        }
      ]
    },
    {
      "cell_type": "code",
      "source": [
        "movie_title = \"a movie title\"\n",
        "print(movie_title)\n",
        "print(movie_title.title())\n",
        "print(movie_title.upper())\n",
        "print(movie_title.swapcase())"
      ],
      "metadata": {
        "colab": {
          "base_uri": "https://localhost:8080/"
        },
        "id": "dLp_fiWMsJBU",
        "outputId": "313bc34a-bd7d-4c3e-bdd5-5cc1251567a2"
      },
      "execution_count": 69,
      "outputs": [
        {
          "output_type": "stream",
          "name": "stdout",
          "text": [
            "a movie title\n",
            "A Movie Title\n",
            "A MOVIE TITLE\n",
            "A MOVIE TITLE\n"
          ]
        }
      ]
    },
    {
      "cell_type": "code",
      "source": [
        "company = 'Hacktiv'\n",
        "print(company in course_name)"
      ],
      "metadata": {
        "colab": {
          "base_uri": "https://localhost:8080/"
        },
        "id": "4Gtq-sGjsWOq",
        "outputId": "c2f21fb3-ebc8-4219-d884-0137a02fc604"
      },
      "execution_count": 70,
      "outputs": [
        {
          "output_type": "stream",
          "name": "stdout",
          "text": [
            "True\n"
          ]
        }
      ]
    },
    {
      "cell_type": "code",
      "source": [
        "lower_company = company.lower()\n",
        "print(lower_company in course_name)"
      ],
      "metadata": {
        "colab": {
          "base_uri": "https://localhost:8080/"
        },
        "id": "jt3uy7dDsrsq",
        "outputId": "d4f05713-b103-4912-8aa2-f43548cf7f7a"
      },
      "execution_count": 71,
      "outputs": [
        {
          "output_type": "stream",
          "name": "stdout",
          "text": [
            "False\n"
          ]
        }
      ]
    },
    {
      "cell_type": "code",
      "source": [
        "\"hacktiv\" in course_name"
      ],
      "metadata": {
        "colab": {
          "base_uri": "https://localhost:8080/"
        },
        "id": "u0vEmeJJszsj",
        "outputId": "96ef2e29-615a-4b65-c5e3-81399c28d435"
      },
      "execution_count": 72,
      "outputs": [
        {
          "output_type": "execute_result",
          "data": {
            "text/plain": [
              "False"
            ]
          },
          "metadata": {},
          "execution_count": 72
        }
      ]
    },
    {
      "cell_type": "code",
      "source": [
        "course_name"
      ],
      "metadata": {
        "colab": {
          "base_uri": "https://localhost:8080/",
          "height": 35
        },
        "id": "n7KOsDu3s2VT",
        "outputId": "93dc8ccc-6fad-4c2c-abb9-f8afc6ae04ed"
      },
      "execution_count": 73,
      "outputs": [
        {
          "output_type": "execute_result",
          "data": {
            "text/plain": [
              "'Hacktiv8'"
            ],
            "application/vnd.google.colaboratory.intrinsic+json": {
              "type": "string"
            }
          },
          "metadata": {},
          "execution_count": 73
        }
      ]
    },
    {
      "cell_type": "code",
      "source": [
        "print(\"hacktiv\" in course_name.lower())"
      ],
      "metadata": {
        "colab": {
          "base_uri": "https://localhost:8080/"
        },
        "id": "JZlK_nfUs33H",
        "outputId": "d7962394-f7fa-4dd2-bb47-2b3518d41b7e"
      },
      "execution_count": 74,
      "outputs": [
        {
          "output_type": "stream",
          "name": "stdout",
          "text": [
            "True\n"
          ]
        }
      ]
    },
    {
      "cell_type": "code",
      "source": [
        "print(8 == \"8\")"
      ],
      "metadata": {
        "colab": {
          "base_uri": "https://localhost:8080/"
        },
        "id": "PSC1IFR9s7Td",
        "outputId": "bdc1c2a6-a548-415f-b378-1f6268ead02c"
      },
      "execution_count": 75,
      "outputs": [
        {
          "output_type": "stream",
          "name": "stdout",
          "text": [
            "False\n"
          ]
        }
      ]
    },
    {
      "cell_type": "code",
      "source": [
        "print(8 in course_name)"
      ],
      "metadata": {
        "colab": {
          "base_uri": "https://localhost:8080/",
          "height": 169
        },
        "id": "UZDETH1ltAUt",
        "outputId": "05064ad9-875e-468e-8ecd-4c1feaf37b85"
      },
      "execution_count": 76,
      "outputs": [
        {
          "output_type": "error",
          "ename": "TypeError",
          "evalue": "ignored",
          "traceback": [
            "\u001b[0;31m---------------------------------------------------------------------------\u001b[0m",
            "\u001b[0;31mTypeError\u001b[0m                                 Traceback (most recent call last)",
            "\u001b[0;32m<ipython-input-76-31150dd9a17a>\u001b[0m in \u001b[0;36m<module>\u001b[0;34m\u001b[0m\n\u001b[0;32m----> 1\u001b[0;31m \u001b[0mprint\u001b[0m\u001b[0;34m(\u001b[0m\u001b[0;36m8\u001b[0m \u001b[0;32min\u001b[0m \u001b[0mcourse_name\u001b[0m\u001b[0;34m)\u001b[0m\u001b[0;34m\u001b[0m\u001b[0;34m\u001b[0m\u001b[0m\n\u001b[0m",
            "\u001b[0;31mTypeError\u001b[0m: 'in <string>' requires string as left operand, not int"
          ]
        }
      ]
    },
    {
      "cell_type": "code",
      "source": [
        "print(\"8\" in course_name)"
      ],
      "metadata": {
        "colab": {
          "base_uri": "https://localhost:8080/"
        },
        "id": "FgA06MEHtFxB",
        "outputId": "67c4d491-c167-4fac-ea5d-6c23a812e1c3"
      },
      "execution_count": 77,
      "outputs": [
        {
          "output_type": "stream",
          "name": "stdout",
          "text": [
            "True\n"
          ]
        }
      ]
    },
    {
      "cell_type": "code",
      "source": [
        "print(concat)\n",
        "print(\" \" in concat)"
      ],
      "metadata": {
        "colab": {
          "base_uri": "https://localhost:8080/"
        },
        "id": "1xnhxnm6tL0p",
        "outputId": "2b3ca992-edd7-4f65-fdc0-24939076e7bb"
      },
      "execution_count": 78,
      "outputs": [
        {
          "output_type": "stream",
          "name": "stdout",
          "text": [
            "Hacktiv8 \n",
            "True\n"
          ]
        }
      ]
    },
    {
      "cell_type": "code",
      "source": [
        "dots = \"A text.\"\n",
        "print(\".\" in dots)\n",
        "print(\"..\" in dots)"
      ],
      "metadata": {
        "colab": {
          "base_uri": "https://localhost:8080/"
        },
        "id": "IDftY1ZTtR0V",
        "outputId": "9b7b8a29-e6bd-4e45-bdf2-e7a1e6bdd65c"
      },
      "execution_count": 79,
      "outputs": [
        {
          "output_type": "stream",
          "name": "stdout",
          "text": [
            "True\n",
            "False\n"
          ]
        }
      ]
    },
    {
      "cell_type": "markdown",
      "source": [
        "## List"
      ],
      "metadata": {
        "id": "jgzih2pRupAh"
      }
    },
    {
      "cell_type": "code",
      "source": [
        "names = [\"azkha\", \"indra\", \"ayu\", \"subandi\"]\n",
        "print(names)\n",
        "print(type(names))"
      ],
      "metadata": {
        "colab": {
          "base_uri": "https://localhost:8080/"
        },
        "id": "RslaCZKytXWm",
        "outputId": "ea711b00-d8b3-4336-c606-ff5a3074cb33"
      },
      "execution_count": 80,
      "outputs": [
        {
          "output_type": "stream",
          "name": "stdout",
          "text": [
            "['azkha', 'indra', 'ayu', 'subandi']\n",
            "<class 'list'>\n"
          ]
        }
      ]
    },
    {
      "cell_type": "code",
      "source": [
        "new_names = [\"indra\", \"subandi\", \"azkha\", \"ayu\"]\n",
        "print(names == new_names)"
      ],
      "metadata": {
        "colab": {
          "base_uri": "https://localhost:8080/"
        },
        "id": "hShmNBWdux32",
        "outputId": "6e39ac99-b3c8-4a79-8663-b6d9bf80709c"
      },
      "execution_count": 81,
      "outputs": [
        {
          "output_type": "stream",
          "name": "stdout",
          "text": [
            "False\n"
          ]
        }
      ]
    },
    {
      "cell_type": "code",
      "source": [
        "arbitrary_list = [1, 2, 3, \"string\", True, 3.14, -10]\n",
        "print(type(arbitrary_list))"
      ],
      "metadata": {
        "colab": {
          "base_uri": "https://localhost:8080/"
        },
        "id": "B1O1pnnvu6To",
        "outputId": "53154569-a6de-480a-cc2c-8e68b5cb5f27"
      },
      "execution_count": 82,
      "outputs": [
        {
          "output_type": "stream",
          "name": "stdout",
          "text": [
            "<class 'list'>\n"
          ]
        }
      ]
    },
    {
      "cell_type": "code",
      "source": [
        "print(names[0])\n",
        "print(names[1])\n",
        "print(names[2])\n",
        "print(names[3])"
      ],
      "metadata": {
        "colab": {
          "base_uri": "https://localhost:8080/"
        },
        "id": "TqOUKyuvvC33",
        "outputId": "bfc06549-64a0-4915-8075-4036897b4830"
      },
      "execution_count": 83,
      "outputs": [
        {
          "output_type": "stream",
          "name": "stdout",
          "text": [
            "azkha\n",
            "indra\n",
            "ayu\n",
            "subandi\n"
          ]
        }
      ]
    },
    {
      "cell_type": "code",
      "source": [
        "print(names[-4])\n",
        "print(names[-3])\n",
        "print(names[-2])\n",
        "print(names[-1])"
      ],
      "metadata": {
        "colab": {
          "base_uri": "https://localhost:8080/"
        },
        "id": "crQIMbexvehD",
        "outputId": "1bdb1c05-e85d-4be8-866b-ab9825f2d048"
      },
      "execution_count": 84,
      "outputs": [
        {
          "output_type": "stream",
          "name": "stdout",
          "text": [
            "azkha\n",
            "indra\n",
            "ayu\n",
            "subandi\n"
          ]
        }
      ]
    },
    {
      "cell_type": "code",
      "source": [
        "n_names = len(names)\n",
        "print(n_names)"
      ],
      "metadata": {
        "colab": {
          "base_uri": "https://localhost:8080/"
        },
        "id": "TVWpzKNuv03I",
        "outputId": "6b0f93c2-bd47-4e09-afff-d49c9fe86e7d"
      },
      "execution_count": 85,
      "outputs": [
        {
          "output_type": "stream",
          "name": "stdout",
          "text": [
            "4\n"
          ]
        }
      ]
    },
    {
      "cell_type": "code",
      "source": [
        "print(names[n_names-1], names[-1])\n",
        "print(names[0], names[-n_names])"
      ],
      "metadata": {
        "colab": {
          "base_uri": "https://localhost:8080/"
        },
        "id": "NAb9uTZTwE_X",
        "outputId": "ef471b45-ef5a-4dc0-c22c-f4dd6bf9939b"
      },
      "execution_count": 86,
      "outputs": [
        {
          "output_type": "stream",
          "name": "stdout",
          "text": [
            "subandi subandi\n",
            "azkha azkha\n"
          ]
        }
      ]
    },
    {
      "cell_type": "code",
      "source": [
        "names[1:3]"
      ],
      "metadata": {
        "colab": {
          "base_uri": "https://localhost:8080/"
        },
        "id": "ecbYMOwNwOto",
        "outputId": "5fbe696d-10f9-4240-cfce-fc8a0f23bb02"
      },
      "execution_count": 87,
      "outputs": [
        {
          "output_type": "execute_result",
          "data": {
            "text/plain": [
              "['indra', 'ayu']"
            ]
          },
          "metadata": {},
          "execution_count": 87
        }
      ]
    },
    {
      "cell_type": "code",
      "source": [
        "print(names[0:2])\n",
        "print(names[:2])"
      ],
      "metadata": {
        "colab": {
          "base_uri": "https://localhost:8080/"
        },
        "id": "-9lw6H3swyf7",
        "outputId": "64d23066-9fbc-4bfa-8384-87cbf42bfe57"
      },
      "execution_count": 88,
      "outputs": [
        {
          "output_type": "stream",
          "name": "stdout",
          "text": [
            "['azkha', 'indra']\n",
            "['azkha', 'indra']\n"
          ]
        }
      ]
    },
    {
      "cell_type": "code",
      "source": [
        "print(names[n_names-2:n_names])\n",
        "print(names[n_names-2:])"
      ],
      "metadata": {
        "colab": {
          "base_uri": "https://localhost:8080/"
        },
        "id": "Nl_LT40lw141",
        "outputId": "9eadce47-cab6-45b8-ad20-6cbb8c38faaf"
      },
      "execution_count": 89,
      "outputs": [
        {
          "output_type": "stream",
          "name": "stdout",
          "text": [
            "['ayu', 'subandi']\n",
            "['ayu', 'subandi']\n"
          ]
        }
      ]
    },
    {
      "cell_type": "code",
      "source": [
        "print(names + names + names)\n",
        "print(names * 3)"
      ],
      "metadata": {
        "colab": {
          "base_uri": "https://localhost:8080/"
        },
        "id": "RzFqkN7BxDXS",
        "outputId": "35c2c55f-8fe4-4580-c86c-d276afdca792"
      },
      "execution_count": 90,
      "outputs": [
        {
          "output_type": "stream",
          "name": "stdout",
          "text": [
            "['azkha', 'indra', 'ayu', 'subandi', 'azkha', 'indra', 'ayu', 'subandi', 'azkha', 'indra', 'ayu', 'subandi']\n",
            "['azkha', 'indra', 'ayu', 'subandi', 'azkha', 'indra', 'ayu', 'subandi', 'azkha', 'indra', 'ayu', 'subandi']\n"
          ]
        }
      ]
    },
    {
      "cell_type": "code",
      "source": [
        "print(names - 1)"
      ],
      "metadata": {
        "colab": {
          "base_uri": "https://localhost:8080/",
          "height": 169
        },
        "id": "zQhsWM4AxbOE",
        "outputId": "81b7c044-51c7-4841-af1e-c88533812692"
      },
      "execution_count": 91,
      "outputs": [
        {
          "output_type": "error",
          "ename": "TypeError",
          "evalue": "ignored",
          "traceback": [
            "\u001b[0;31m---------------------------------------------------------------------------\u001b[0m",
            "\u001b[0;31mTypeError\u001b[0m                                 Traceback (most recent call last)",
            "\u001b[0;32m<ipython-input-91-fb7bcb864630>\u001b[0m in \u001b[0;36m<module>\u001b[0;34m\u001b[0m\n\u001b[0;32m----> 1\u001b[0;31m \u001b[0mprint\u001b[0m\u001b[0;34m(\u001b[0m\u001b[0mnames\u001b[0m \u001b[0;34m-\u001b[0m \u001b[0;36m1\u001b[0m\u001b[0;34m)\u001b[0m\u001b[0;34m\u001b[0m\u001b[0;34m\u001b[0m\u001b[0m\n\u001b[0m",
            "\u001b[0;31mTypeError\u001b[0m: unsupported operand type(s) for -: 'list' and 'int'"
          ]
        }
      ]
    },
    {
      "cell_type": "code",
      "source": [
        "print(names / 2)"
      ],
      "metadata": {
        "colab": {
          "base_uri": "https://localhost:8080/",
          "height": 169
        },
        "id": "EI11e5ZgxdnJ",
        "outputId": "2ec93919-fc80-4a1e-c3a3-edc676b5ef83"
      },
      "execution_count": 92,
      "outputs": [
        {
          "output_type": "error",
          "ename": "TypeError",
          "evalue": "ignored",
          "traceback": [
            "\u001b[0;31m---------------------------------------------------------------------------\u001b[0m",
            "\u001b[0;31mTypeError\u001b[0m                                 Traceback (most recent call last)",
            "\u001b[0;32m<ipython-input-92-dedfd0d03fc5>\u001b[0m in \u001b[0;36m<module>\u001b[0;34m\u001b[0m\n\u001b[0;32m----> 1\u001b[0;31m \u001b[0mprint\u001b[0m\u001b[0;34m(\u001b[0m\u001b[0mnames\u001b[0m \u001b[0;34m/\u001b[0m \u001b[0;36m2\u001b[0m\u001b[0;34m)\u001b[0m\u001b[0;34m\u001b[0m\u001b[0;34m\u001b[0m\u001b[0m\n\u001b[0m",
            "\u001b[0;31mTypeError\u001b[0m: unsupported operand type(s) for /: 'list' and 'int'"
          ]
        }
      ]
    },
    {
      "cell_type": "code",
      "source": [
        "print(names)"
      ],
      "metadata": {
        "colab": {
          "base_uri": "https://localhost:8080/"
        },
        "id": "uZVDfDcixe-A",
        "outputId": "fd106b06-4950-4b25-dd25-c7cf0525480d"
      },
      "execution_count": 93,
      "outputs": [
        {
          "output_type": "stream",
          "name": "stdout",
          "text": [
            "['azkha', 'indra', 'ayu', 'subandi']\n"
          ]
        }
      ]
    },
    {
      "cell_type": "code",
      "source": [
        "names[0] = \"aska\""
      ],
      "metadata": {
        "id": "AP4UZzC9x-RM"
      },
      "execution_count": 94,
      "outputs": []
    },
    {
      "cell_type": "code",
      "source": [
        "print(names)"
      ],
      "metadata": {
        "colab": {
          "base_uri": "https://localhost:8080/"
        },
        "id": "R431PHV4yCdI",
        "outputId": "90964ecd-e8c2-401b-f856-efd59564a8dc"
      },
      "execution_count": 95,
      "outputs": [
        {
          "output_type": "stream",
          "name": "stdout",
          "text": [
            "['aska', 'indra', 'ayu', 'subandi']\n"
          ]
        }
      ]
    },
    {
      "cell_type": "code",
      "source": [
        "names[-1] = names[-1].upper()"
      ],
      "metadata": {
        "id": "1s7dG3yZyDO6"
      },
      "execution_count": 96,
      "outputs": []
    },
    {
      "cell_type": "code",
      "source": [
        "print(names)"
      ],
      "metadata": {
        "colab": {
          "base_uri": "https://localhost:8080/"
        },
        "id": "t84V5B5eyKit",
        "outputId": "f4b79e75-69f1-4ba8-e04f-2ecff985ee3c"
      },
      "execution_count": 97,
      "outputs": [
        {
          "output_type": "stream",
          "name": "stdout",
          "text": [
            "['aska', 'indra', 'ayu', 'SUBANDI']\n"
          ]
        }
      ]
    },
    {
      "cell_type": "code",
      "source": [
        "names[:2] = [\"azka\", \"indro\"]"
      ],
      "metadata": {
        "id": "KgamVURLyLLk"
      },
      "execution_count": 98,
      "outputs": []
    },
    {
      "cell_type": "code",
      "source": [
        "print(names)"
      ],
      "metadata": {
        "colab": {
          "base_uri": "https://localhost:8080/"
        },
        "id": "dTsaOeFayX1w",
        "outputId": "0e0064ef-6529-4ea7-8820-7c4c07926e01"
      },
      "execution_count": 99,
      "outputs": [
        {
          "output_type": "stream",
          "name": "stdout",
          "text": [
            "['azka', 'indro', 'ayu', 'SUBANDI']\n"
          ]
        }
      ]
    },
    {
      "cell_type": "markdown",
      "source": [
        "## Tuple"
      ],
      "metadata": {
        "id": "n6B6NQNcyv_S"
      }
    },
    {
      "cell_type": "code",
      "source": [
        "position = (302.11, 30.93)\n",
        "print(position)\n",
        "print(type(position))"
      ],
      "metadata": {
        "colab": {
          "base_uri": "https://localhost:8080/"
        },
        "id": "cEWffKQoyY14",
        "outputId": "b0c6bd7d-23c4-4d25-c359-746887bb8658"
      },
      "execution_count": 100,
      "outputs": [
        {
          "output_type": "stream",
          "name": "stdout",
          "text": [
            "(302.11, 30.93)\n",
            "<class 'tuple'>\n"
          ]
        }
      ]
    },
    {
      "cell_type": "code",
      "source": [
        "print(position[0], position[1])\n",
        "print(position[-2], position[-1])"
      ],
      "metadata": {
        "colab": {
          "base_uri": "https://localhost:8080/"
        },
        "id": "0EUoDchHy53p",
        "outputId": "40cee1df-2ca3-4027-d66c-2f34ca977c13"
      },
      "execution_count": 101,
      "outputs": [
        {
          "output_type": "stream",
          "name": "stdout",
          "text": [
            "302.11 30.93\n",
            "302.11 30.93\n"
          ]
        }
      ]
    },
    {
      "cell_type": "code",
      "source": [
        "position[0] = 311.21"
      ],
      "metadata": {
        "colab": {
          "base_uri": "https://localhost:8080/",
          "height": 169
        },
        "id": "TRmPEx9My9R0",
        "outputId": "5577811c-400e-4910-c59c-103d6e7d1295"
      },
      "execution_count": 102,
      "outputs": [
        {
          "output_type": "error",
          "ename": "TypeError",
          "evalue": "ignored",
          "traceback": [
            "\u001b[0;31m---------------------------------------------------------------------------\u001b[0m",
            "\u001b[0;31mTypeError\u001b[0m                                 Traceback (most recent call last)",
            "\u001b[0;32m<ipython-input-102-02bec00a48f6>\u001b[0m in \u001b[0;36m<module>\u001b[0;34m\u001b[0m\n\u001b[0;32m----> 1\u001b[0;31m \u001b[0mposition\u001b[0m\u001b[0;34m[\u001b[0m\u001b[0;36m0\u001b[0m\u001b[0;34m]\u001b[0m \u001b[0;34m=\u001b[0m \u001b[0;36m311.21\u001b[0m\u001b[0;34m\u001b[0m\u001b[0;34m\u001b[0m\u001b[0m\n\u001b[0m",
            "\u001b[0;31mTypeError\u001b[0m: 'tuple' object does not support item assignment"
          ]
        }
      ]
    },
    {
      "cell_type": "code",
      "source": [
        "# unpacking\n",
        "latitude, longitude = position\n",
        "\n",
        "print(\"latitude:\", latitude, position[0])\n",
        "print(\"longitude:\", longitude, position[1])"
      ],
      "metadata": {
        "colab": {
          "base_uri": "https://localhost:8080/"
        },
        "id": "bBAXmdvKzES8",
        "outputId": "4fd3a678-4f5a-43d2-8fcd-581e8b3d3f89"
      },
      "execution_count": 103,
      "outputs": [
        {
          "output_type": "stream",
          "name": "stdout",
          "text": [
            "latitude: 302.11 302.11\n",
            "longitude: 30.93 30.93\n"
          ]
        }
      ]
    },
    {
      "cell_type": "code",
      "source": [
        "alphabet = (\"a\", \"b\", \"c\")\n",
        "print(len(alphabet))\n",
        "\n",
        "# unpack\n",
        "a, b, c = alphabet\n",
        "print(a, b, c)"
      ],
      "metadata": {
        "colab": {
          "base_uri": "https://localhost:8080/"
        },
        "id": "K9L7AOOTzZOE",
        "outputId": "75c51937-0110-449f-ea4b-cae753da3aa0"
      },
      "execution_count": 104,
      "outputs": [
        {
          "output_type": "stream",
          "name": "stdout",
          "text": [
            "3\n",
            "a b c\n"
          ]
        }
      ]
    },
    {
      "cell_type": "markdown",
      "source": [
        "## Dictionary"
      ],
      "metadata": {
        "id": "FYTpGgdk1Bt5"
      }
    },
    {
      "cell_type": "code",
      "source": [
        "# ages = [20, 25, 23, 28]\n",
        "ages = {\n",
        "    \"indra\": 25,\n",
        "    \"azkha\": 20,\n",
        "    \"subandi\": 23,\n",
        "    \"ayu\": 28\n",
        "}\n",
        "print(ages)\n",
        "print(type(ages))"
      ],
      "metadata": {
        "colab": {
          "base_uri": "https://localhost:8080/"
        },
        "id": "FfP4_WL8znNF",
        "outputId": "277a77f0-903a-4a09-92c7-8ae0ef7274a6"
      },
      "execution_count": 105,
      "outputs": [
        {
          "output_type": "stream",
          "name": "stdout",
          "text": [
            "{'indra': 25, 'azkha': 20, 'subandi': 23, 'ayu': 28}\n",
            "<class 'dict'>\n"
          ]
        }
      ]
    },
    {
      "cell_type": "code",
      "source": [
        "ages[\"indra\"]"
      ],
      "metadata": {
        "colab": {
          "base_uri": "https://localhost:8080/"
        },
        "id": "4YCsJxG81XAl",
        "outputId": "0a7c885a-6abd-4a41-d787-9920d8d60297"
      },
      "execution_count": 106,
      "outputs": [
        {
          "output_type": "execute_result",
          "data": {
            "text/plain": [
              "25"
            ]
          },
          "metadata": {},
          "execution_count": 106
        }
      ]
    },
    {
      "cell_type": "code",
      "source": [
        "ages[\"azkha\"]"
      ],
      "metadata": {
        "colab": {
          "base_uri": "https://localhost:8080/"
        },
        "id": "G99ZKidd1Zgu",
        "outputId": "4f466df5-f6f7-4125-c1b6-3f4bd6a7e49d"
      },
      "execution_count": 107,
      "outputs": [
        {
          "output_type": "execute_result",
          "data": {
            "text/plain": [
              "20"
            ]
          },
          "metadata": {},
          "execution_count": 107
        }
      ]
    },
    {
      "cell_type": "code",
      "source": [
        "ages[\"john\"]"
      ],
      "metadata": {
        "colab": {
          "base_uri": "https://localhost:8080/",
          "height": 169
        },
        "id": "12CBwt1S1aZU",
        "outputId": "535cea50-5e2e-47c5-8dd7-ba2c79e7028e"
      },
      "execution_count": 108,
      "outputs": [
        {
          "output_type": "error",
          "ename": "KeyError",
          "evalue": "ignored",
          "traceback": [
            "\u001b[0;31m---------------------------------------------------------------------------\u001b[0m",
            "\u001b[0;31mKeyError\u001b[0m                                  Traceback (most recent call last)",
            "\u001b[0;32m<ipython-input-108-c60b021ef817>\u001b[0m in \u001b[0;36m<module>\u001b[0;34m\u001b[0m\n\u001b[0;32m----> 1\u001b[0;31m \u001b[0mages\u001b[0m\u001b[0;34m[\u001b[0m\u001b[0;34m\"john\"\u001b[0m\u001b[0;34m]\u001b[0m\u001b[0;34m\u001b[0m\u001b[0;34m\u001b[0m\u001b[0m\n\u001b[0m",
            "\u001b[0;31mKeyError\u001b[0m: 'john'"
          ]
        }
      ]
    },
    {
      "cell_type": "code",
      "source": [
        "# add element -> key: value\n",
        "ages[\"john\"] = 32"
      ],
      "metadata": {
        "id": "SynIbdKw1dmM"
      },
      "execution_count": 109,
      "outputs": []
    },
    {
      "cell_type": "code",
      "source": [
        "ages"
      ],
      "metadata": {
        "colab": {
          "base_uri": "https://localhost:8080/"
        },
        "id": "yWJ8rDys1jaR",
        "outputId": "530540cd-555c-4ca5-90bc-825a9933e5e5"
      },
      "execution_count": 110,
      "outputs": [
        {
          "output_type": "execute_result",
          "data": {
            "text/plain": [
              "{'indra': 25, 'azkha': 20, 'subandi': 23, 'ayu': 28, 'john': 32}"
            ]
          },
          "metadata": {},
          "execution_count": 110
        }
      ]
    },
    {
      "cell_type": "code",
      "source": [
        "ages[\"sebastian\"]"
      ],
      "metadata": {
        "colab": {
          "base_uri": "https://localhost:8080/",
          "height": 169
        },
        "id": "73pY4MZL1jx8",
        "outputId": "d7d3b2f2-17f7-4090-b79d-60a474aa44f9"
      },
      "execution_count": 111,
      "outputs": [
        {
          "output_type": "error",
          "ename": "KeyError",
          "evalue": "ignored",
          "traceback": [
            "\u001b[0;31m---------------------------------------------------------------------------\u001b[0m",
            "\u001b[0;31mKeyError\u001b[0m                                  Traceback (most recent call last)",
            "\u001b[0;32m<ipython-input-111-c26558a4cd54>\u001b[0m in \u001b[0;36m<module>\u001b[0;34m\u001b[0m\n\u001b[0;32m----> 1\u001b[0;31m \u001b[0mages\u001b[0m\u001b[0;34m[\u001b[0m\u001b[0;34m\"sebastian\"\u001b[0m\u001b[0;34m]\u001b[0m\u001b[0;34m\u001b[0m\u001b[0;34m\u001b[0m\u001b[0m\n\u001b[0m",
            "\u001b[0;31mKeyError\u001b[0m: 'sebastian'"
          ]
        }
      ]
    },
    {
      "cell_type": "code",
      "source": [
        "ages.get(\"john\")"
      ],
      "metadata": {
        "colab": {
          "base_uri": "https://localhost:8080/"
        },
        "id": "jAe1EC0o1tFa",
        "outputId": "4279564f-f228-4fe6-bef0-c446c3793d40"
      },
      "execution_count": 112,
      "outputs": [
        {
          "output_type": "execute_result",
          "data": {
            "text/plain": [
              "32"
            ]
          },
          "metadata": {},
          "execution_count": 112
        }
      ]
    },
    {
      "cell_type": "code",
      "source": [
        "ages.get(\"ayu\")"
      ],
      "metadata": {
        "colab": {
          "base_uri": "https://localhost:8080/"
        },
        "id": "6ILTeoV_11yT",
        "outputId": "08f13787-8a19-4bae-89dd-b748f47a40ee"
      },
      "execution_count": 113,
      "outputs": [
        {
          "output_type": "execute_result",
          "data": {
            "text/plain": [
              "28"
            ]
          },
          "metadata": {},
          "execution_count": 113
        }
      ]
    },
    {
      "cell_type": "code",
      "source": [
        "print(ages.get(\"sebastian\"))"
      ],
      "metadata": {
        "colab": {
          "base_uri": "https://localhost:8080/"
        },
        "id": "ExKkd-Ib13Md",
        "outputId": "cec2f6b2-bc3a-422e-86dc-51bdae607e51"
      },
      "execution_count": 114,
      "outputs": [
        {
          "output_type": "stream",
          "name": "stdout",
          "text": [
            "None\n"
          ]
        }
      ]
    },
    {
      "cell_type": "code",
      "source": [
        "ages.get(\"sebastian\", \"No data\")"
      ],
      "metadata": {
        "colab": {
          "base_uri": "https://localhost:8080/",
          "height": 35
        },
        "id": "VjwvTiIO15UW",
        "outputId": "5a971471-07d4-47b5-d469-aee83f8867a6"
      },
      "execution_count": 115,
      "outputs": [
        {
          "output_type": "execute_result",
          "data": {
            "text/plain": [
              "'No data'"
            ],
            "application/vnd.google.colaboratory.intrinsic+json": {
              "type": "string"
            }
          },
          "metadata": {},
          "execution_count": 115
        }
      ]
    },
    {
      "cell_type": "code",
      "source": [
        "ages.get(\"indra\", \"No data\")"
      ],
      "metadata": {
        "colab": {
          "base_uri": "https://localhost:8080/"
        },
        "id": "VtpD4_Ew2Fq-",
        "outputId": "e9446e6c-e683-4db4-8fac-2093591bec87"
      },
      "execution_count": 116,
      "outputs": [
        {
          "output_type": "execute_result",
          "data": {
            "text/plain": [
              "25"
            ]
          },
          "metadata": {},
          "execution_count": 116
        }
      ]
    },
    {
      "cell_type": "code",
      "source": [
        "dict_names = {\n",
        "    \"indra\": [\"Indra\", \"Kurniawan\"],\n",
        "    \"ayu\": [\"Andira\", \"Putri\"]\n",
        "}\n",
        "dict_names"
      ],
      "metadata": {
        "colab": {
          "base_uri": "https://localhost:8080/"
        },
        "id": "aTmk8LaS2JZ1",
        "outputId": "b682ef9f-740f-45a9-85eb-6da403c8bed7"
      },
      "execution_count": 117,
      "outputs": [
        {
          "output_type": "execute_result",
          "data": {
            "text/plain": [
              "{'indra': ['Indra', 'Kurniawan'], 'ayu': ['Andira', 'Putri']}"
            ]
          },
          "metadata": {},
          "execution_count": 117
        }
      ]
    },
    {
      "cell_type": "code",
      "source": [
        "print(dict_names[\"ayu\"][0], dict_names[\"ayu\"][1])"
      ],
      "metadata": {
        "colab": {
          "base_uri": "https://localhost:8080/"
        },
        "id": "IjeTnQFy2q3o",
        "outputId": "e35e1321-4668-4190-af54-92548ec57c2c"
      },
      "execution_count": 118,
      "outputs": [
        {
          "output_type": "stream",
          "name": "stdout",
          "text": [
            "Andira Putri\n"
          ]
        }
      ]
    },
    {
      "cell_type": "code",
      "source": [
        "dict_names = {\n",
        "    \"indra\": {\"first_name\": \"Indra\", \"last_name\": \"Kurniawan\"},\n",
        "    \"ayu\": {\"first_name\": \"Andira\", \"last_name\": \"Putri\"}\n",
        "}\n",
        "dict_names"
      ],
      "metadata": {
        "colab": {
          "base_uri": "https://localhost:8080/"
        },
        "id": "cNorWalR2sO-",
        "outputId": "b96a542d-a05c-4de0-b13f-5dacd8de159c"
      },
      "execution_count": 119,
      "outputs": [
        {
          "output_type": "execute_result",
          "data": {
            "text/plain": [
              "{'indra': {'first_name': 'Indra', 'last_name': 'Kurniawan'},\n",
              " 'ayu': {'first_name': 'Andira', 'last_name': 'Putri'}}"
            ]
          },
          "metadata": {},
          "execution_count": 119
        }
      ]
    },
    {
      "cell_type": "code",
      "source": [
        "dict_names[\"indra\"]"
      ],
      "metadata": {
        "colab": {
          "base_uri": "https://localhost:8080/"
        },
        "id": "aag9cr1t25-R",
        "outputId": "73cad828-335b-4a6c-f7b6-2d1f340d452f"
      },
      "execution_count": 120,
      "outputs": [
        {
          "output_type": "execute_result",
          "data": {
            "text/plain": [
              "{'first_name': 'Indra', 'last_name': 'Kurniawan'}"
            ]
          },
          "metadata": {},
          "execution_count": 120
        }
      ]
    },
    {
      "cell_type": "code",
      "source": [
        "type(dict_names[\"indra\"])"
      ],
      "metadata": {
        "colab": {
          "base_uri": "https://localhost:8080/"
        },
        "id": "aZloGzm32-RC",
        "outputId": "d77ecb90-e4c3-4d15-8583-dafb669b0d1c"
      },
      "execution_count": 121,
      "outputs": [
        {
          "output_type": "execute_result",
          "data": {
            "text/plain": [
              "dict"
            ]
          },
          "metadata": {},
          "execution_count": 121
        }
      ]
    },
    {
      "cell_type": "code",
      "source": [
        "dict_names[\"indra\"][\"first_name\"]"
      ],
      "metadata": {
        "colab": {
          "base_uri": "https://localhost:8080/",
          "height": 35
        },
        "id": "oxyN4INh3BqZ",
        "outputId": "83066c8b-4665-42f2-84bc-96e7adc39bc4"
      },
      "execution_count": 122,
      "outputs": [
        {
          "output_type": "execute_result",
          "data": {
            "text/plain": [
              "'Indra'"
            ],
            "application/vnd.google.colaboratory.intrinsic+json": {
              "type": "string"
            }
          },
          "metadata": {},
          "execution_count": 122
        }
      ]
    },
    {
      "cell_type": "code",
      "source": [
        "dict_names[\"indra\"][\"last_name\"]"
      ],
      "metadata": {
        "colab": {
          "base_uri": "https://localhost:8080/",
          "height": 35
        },
        "id": "CHEYqQ173Dcg",
        "outputId": "6170314e-6675-4918-db05-9a55023c2b28"
      },
      "execution_count": 123,
      "outputs": [
        {
          "output_type": "execute_result",
          "data": {
            "text/plain": [
              "'Kurniawan'"
            ],
            "application/vnd.google.colaboratory.intrinsic+json": {
              "type": "string"
            }
          },
          "metadata": {},
          "execution_count": 123
        }
      ]
    }
  ]
}