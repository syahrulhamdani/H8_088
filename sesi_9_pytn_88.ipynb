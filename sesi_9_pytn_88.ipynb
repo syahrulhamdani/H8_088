{
 "cells": [
  {
   "cell_type": "markdown",
   "id": "b7c32174-928a-4629-a60e-82d6d0adabc8",
   "metadata": {},
   "source": [
    "# Descriptive Statistics"
   ]
  },
  {
   "cell_type": "code",
   "execution_count": 1,
   "id": "c53a2fdb-fc4d-4bbb-ac23-975473e52cd2",
   "metadata": {
    "execution": {
     "iopub.execute_input": "2023-01-10T15:52:19.387468Z",
     "iopub.status.busy": "2023-01-10T15:52:19.386846Z",
     "iopub.status.idle": "2023-01-10T15:52:22.313176Z",
     "shell.execute_reply": "2023-01-10T15:52:22.311655Z",
     "shell.execute_reply.started": "2023-01-10T15:52:19.387391Z"
    },
    "tags": []
   },
   "outputs": [],
   "source": [
    "import math\n",
    "import statistics\n",
    "\n",
    "import numpy as np\n",
    "import pandas as pd\n",
    "import scipy.stats"
   ]
  },
  {
   "cell_type": "code",
   "execution_count": 2,
   "id": "a2c2e075-574e-48df-8fc0-624f4c18e38a",
   "metadata": {
    "execution": {
     "iopub.execute_input": "2023-01-10T15:52:22.315055Z",
     "iopub.status.busy": "2023-01-10T15:52:22.314585Z",
     "iopub.status.idle": "2023-01-10T15:52:22.324029Z",
     "shell.execute_reply": "2023-01-10T15:52:22.323304Z",
     "shell.execute_reply.started": "2023-01-10T15:52:22.315027Z"
    },
    "tags": []
   },
   "outputs": [
    {
     "name": "stdout",
     "output_type": "stream",
     "text": [
      "x: [8.0, 1, 2.5, 4, 28.0]\n",
      "x with nan: [8.0, 1, 2.5, nan, 4, 28.0]\n",
      "array x: [ 8.   1.   2.5  4.  28. ]\n",
      "array x with nan: [ 8.   1.   2.5  nan  4.  28. ]\n",
      "series x:\n",
      "0     8.0\n",
      "1     1.0\n",
      "2     2.5\n",
      "3     4.0\n",
      "4    28.0\n",
      "dtype: float64\n",
      "series x with nan:\n",
      "0     8.0\n",
      "1     1.0\n",
      "2     2.5\n",
      "3     NaN\n",
      "4     4.0\n",
      "5    28.0\n",
      "dtype: float64\n"
     ]
    }
   ],
   "source": [
    "x = [8., 1, 2.5, 4, 28.]\n",
    "x_with_nan = [8., 1, 2.5, math.nan, 4, 28.]\n",
    "\n",
    "print(\"x:\", x)\n",
    "print(\"x with nan:\", x_with_nan)\n",
    "\n",
    "np_x, np_x_with_nan = np.array(x), np.array(x_with_nan)\n",
    "\n",
    "print(\"array x:\", np_x)\n",
    "print(\"array x with nan:\", np_x_with_nan)\n",
    "\n",
    "pd_x, pd_x_with_nan = pd.Series(x), pd.Series(x_with_nan)\n",
    "\n",
    "print(\"series x:\", pd_x, sep=\"\\n\")\n",
    "print(\"series x with nan:\", pd_x_with_nan, sep=\"\\n\")"
   ]
  },
  {
   "cell_type": "markdown",
   "id": "fd5cd8a1-e316-45a2-8617-a41f88ce8d3e",
   "metadata": {},
   "source": [
    "## Arithmetic Mean"
   ]
  },
  {
   "cell_type": "code",
   "execution_count": 3,
   "id": "0ad344f4-1908-4c0e-9a9f-51d65f8a4883",
   "metadata": {
    "execution": {
     "iopub.execute_input": "2023-01-10T15:52:22.328399Z",
     "iopub.status.busy": "2023-01-10T15:52:22.327967Z",
     "iopub.status.idle": "2023-01-10T15:52:22.333323Z",
     "shell.execute_reply": "2023-01-10T15:52:22.332485Z",
     "shell.execute_reply.started": "2023-01-10T15:52:22.328361Z"
    }
   },
   "outputs": [
    {
     "name": "stdout",
     "output_type": "stream",
     "text": [
      "mean x: 8.7\n"
     ]
    }
   ],
   "source": [
    "# native python -> no library\n",
    "mean_x = sum(x) / len(x)\n",
    "print(\"mean x:\", mean_x)"
   ]
  },
  {
   "cell_type": "code",
   "execution_count": 4,
   "id": "1915f359-b2ee-4be6-9d62-4d211c2011c1",
   "metadata": {
    "execution": {
     "iopub.execute_input": "2023-01-10T15:52:22.334567Z",
     "iopub.status.busy": "2023-01-10T15:52:22.334317Z",
     "iopub.status.idle": "2023-01-10T15:52:22.338917Z",
     "shell.execute_reply": "2023-01-10T15:52:22.338044Z",
     "shell.execute_reply.started": "2023-01-10T15:52:22.334543Z"
    }
   },
   "outputs": [
    {
     "name": "stdout",
     "output_type": "stream",
     "text": [
      "mean x with nan: nan\n"
     ]
    }
   ],
   "source": [
    "# native python\n",
    "mean_x_with_nan = sum(x_with_nan) / len(x_with_nan)\n",
    "print(\"mean x with nan:\", mean_x_with_nan)"
   ]
  },
  {
   "cell_type": "code",
   "execution_count": 5,
   "id": "93d7a193-4d77-45a1-904f-01b59277e04e",
   "metadata": {
    "execution": {
     "iopub.execute_input": "2023-01-10T15:52:22.340052Z",
     "iopub.status.busy": "2023-01-10T15:52:22.339832Z",
     "iopub.status.idle": "2023-01-10T15:52:22.349801Z",
     "shell.execute_reply": "2023-01-10T15:52:22.347994Z",
     "shell.execute_reply.started": "2023-01-10T15:52:22.340032Z"
    }
   },
   "outputs": [
    {
     "name": "stdout",
     "output_type": "stream",
     "text": [
      "mean x with statistics: 8.7\n"
     ]
    }
   ],
   "source": [
    "# use `statistics` library\n",
    "stats_mean_x = statistics.mean(x)\n",
    "print(\"mean x with statistics:\", stats_mean_x)"
   ]
  },
  {
   "cell_type": "code",
   "execution_count": 6,
   "id": "933129ba-1213-4b7d-ada6-ce8ad166778f",
   "metadata": {
    "execution": {
     "iopub.execute_input": "2023-01-10T15:52:22.355115Z",
     "iopub.status.busy": "2023-01-10T15:52:22.354680Z",
     "iopub.status.idle": "2023-01-10T15:52:22.359794Z",
     "shell.execute_reply": "2023-01-10T15:52:22.359103Z",
     "shell.execute_reply.started": "2023-01-10T15:52:22.355085Z"
    }
   },
   "outputs": [
    {
     "name": "stdout",
     "output_type": "stream",
     "text": [
      "mean x with nan with statistics: nan\n"
     ]
    }
   ],
   "source": [
    "# use `statistics` library\n",
    "stats_mean_x_with_nan = statistics.mean(x_with_nan)\n",
    "print(\"mean x with nan with statistics:\", stats_mean_x_with_nan)"
   ]
  },
  {
   "cell_type": "code",
   "execution_count": 7,
   "id": "1c0bc64b-873c-4b29-8bfb-1c9db44c8683",
   "metadata": {
    "execution": {
     "iopub.execute_input": "2023-01-10T15:52:22.361200Z",
     "iopub.status.busy": "2023-01-10T15:52:22.360798Z",
     "iopub.status.idle": "2023-01-10T15:52:22.371206Z",
     "shell.execute_reply": "2023-01-10T15:52:22.369496Z",
     "shell.execute_reply.started": "2023-01-10T15:52:22.361173Z"
    },
    "tags": []
   },
   "outputs": [
    {
     "name": "stdout",
     "output_type": "stream",
     "text": [
      "mean x with numpy: 8.7\n",
      "mean array x with numpy: 8.7\n",
      "mean x with nan with numpy: nan\n",
      "nanmean x with nan with numpy: 8.7\n"
     ]
    }
   ],
   "source": [
    "# use `numpy` library\n",
    "np_mean_x = np.mean(x)\n",
    "print(\"mean x with numpy:\", np_mean_x)\n",
    "\n",
    "np_mean_np_x = np_x.mean()\n",
    "print(\"mean array x with numpy:\", np_mean_np_x)\n",
    "\n",
    "np_mean_x_with_nan = np.mean(x_with_nan)\n",
    "print(\"mean x with nan with numpy:\", np_mean_x_with_nan)\n",
    "\n",
    "np_nanmean_x_with_nan = np.nanmean(x_with_nan)\n",
    "print(\"nanmean x with nan with numpy:\", np_nanmean_x_with_nan)"
   ]
  },
  {
   "cell_type": "code",
   "execution_count": 8,
   "id": "2f311a9d-2a63-4f71-9646-a1fe41950e93",
   "metadata": {
    "execution": {
     "iopub.execute_input": "2023-01-10T15:52:22.373180Z",
     "iopub.status.busy": "2023-01-10T15:52:22.372497Z",
     "iopub.status.idle": "2023-01-10T15:52:22.379955Z",
     "shell.execute_reply": "2023-01-10T15:52:22.378835Z",
     "shell.execute_reply.started": "2023-01-10T15:52:22.373122Z"
    }
   },
   "outputs": [
    {
     "name": "stdout",
     "output_type": "stream",
     "text": [
      "mean x with series: 8.7\n",
      "mean x with nan with series: 8.7\n"
     ]
    }
   ],
   "source": [
    "# use `Series.mean` from pandas\n",
    "pd_mean_x = pd_x.mean()\n",
    "print(\"mean x with series:\", pd_mean_x)\n",
    "\n",
    "pd_mean_x_with_nan = pd_x_with_nan.mean()\n",
    "print(\"mean x with nan with series:\", pd_mean_x_with_nan)"
   ]
  },
  {
   "cell_type": "code",
   "execution_count": 9,
   "id": "d3ff0bc0-4b5e-4e08-9674-417e6fed10d0",
   "metadata": {
    "execution": {
     "iopub.execute_input": "2023-01-10T15:52:22.391162Z",
     "iopub.status.busy": "2023-01-10T15:52:22.390667Z",
     "iopub.status.idle": "2023-01-10T15:52:22.403747Z",
     "shell.execute_reply": "2023-01-10T15:52:22.402892Z",
     "shell.execute_reply.started": "2023-01-10T15:52:22.391131Z"
    },
    "tags": []
   },
   "outputs": [
    {
     "data": {
      "text/plain": [
       "nan"
      ]
     },
     "execution_count": 9,
     "metadata": {},
     "output_type": "execute_result"
    }
   ],
   "source": [
    "pd_x_with_nan.mean(skipna=False)"
   ]
  },
  {
   "cell_type": "markdown",
   "id": "9f2fbea1-8227-49e8-965d-4947dd167ee7",
   "metadata": {},
   "source": [
    "## Weighted Average"
   ]
  },
  {
   "cell_type": "code",
   "execution_count": 10,
   "id": "b9bf0f41-0dac-443f-82be-44d907af737b",
   "metadata": {
    "execution": {
     "iopub.execute_input": "2023-01-10T15:52:22.405551Z",
     "iopub.status.busy": "2023-01-10T15:52:22.405093Z",
     "iopub.status.idle": "2023-01-10T15:52:22.411696Z",
     "shell.execute_reply": "2023-01-10T15:52:22.409996Z",
     "shell.execute_reply.started": "2023-01-10T15:52:22.405518Z"
    }
   },
   "outputs": [
    {
     "name": "stdout",
     "output_type": "stream",
     "text": [
      "[8.0, 1, 2.5, 4, 28.0]\n"
     ]
    }
   ],
   "source": [
    "print(x)"
   ]
  },
  {
   "cell_type": "code",
   "execution_count": 11,
   "id": "798498d1-c6ae-4636-acd8-c3275907dc78",
   "metadata": {
    "execution": {
     "iopub.execute_input": "2023-01-10T15:52:22.414285Z",
     "iopub.status.busy": "2023-01-10T15:52:22.413661Z",
     "iopub.status.idle": "2023-01-10T15:52:22.421295Z",
     "shell.execute_reply": "2023-01-10T15:52:22.420366Z",
     "shell.execute_reply.started": "2023-01-10T15:52:22.414246Z"
    }
   },
   "outputs": [
    {
     "name": "stdout",
     "output_type": "stream",
     "text": [
      "weights: [0.1, 0.2, 0.3, 0.25, 0.15] sum: 1.0\n"
     ]
    }
   ],
   "source": [
    "weights = [.1, .2, .3, .25, .15]\n",
    "print(\"weights:\", weights, \"sum:\", sum(weights))"
   ]
  },
  {
   "cell_type": "code",
   "execution_count": 12,
   "id": "4879e5e2-3c4b-499c-ba53-feb1678127fc",
   "metadata": {
    "execution": {
     "iopub.execute_input": "2023-01-10T15:52:22.423054Z",
     "iopub.status.busy": "2023-01-10T15:52:22.422394Z",
     "iopub.status.idle": "2023-01-10T15:52:22.428327Z",
     "shell.execute_reply": "2023-01-10T15:52:22.427326Z",
     "shell.execute_reply.started": "2023-01-10T15:52:22.423022Z"
    },
    "tags": []
   },
   "outputs": [
    {
     "name": "stdout",
     "output_type": "stream",
     "text": [
      "weighted mean x: 6.95\n"
     ]
    }
   ],
   "source": [
    "# native python\n",
    "weighted_mean_x = sum([\n",
    "    weights[idx] * x[idx] for idx in range(len(weights))\n",
    "]) / sum(weights)\n",
    "print(\"weighted mean x:\", weighted_mean_x)"
   ]
  },
  {
   "cell_type": "code",
   "execution_count": 13,
   "id": "6176af75-0e54-4010-9fc8-7c2716303fd8",
   "metadata": {
    "execution": {
     "iopub.execute_input": "2023-01-10T15:52:22.430212Z",
     "iopub.status.busy": "2023-01-10T15:52:22.429690Z",
     "iopub.status.idle": "2023-01-10T15:52:22.434260Z",
     "shell.execute_reply": "2023-01-10T15:52:22.433208Z",
     "shell.execute_reply.started": "2023-01-10T15:52:22.430184Z"
    },
    "tags": []
   },
   "outputs": [
    {
     "name": "stdout",
     "output_type": "stream",
     "text": [
      "[8.0, 1, 2.5, nan, 4, 28.0]\n"
     ]
    }
   ],
   "source": [
    "print(x_with_nan)"
   ]
  },
  {
   "cell_type": "code",
   "execution_count": 14,
   "id": "69d054ad-c644-44b4-986c-a0b2f78beec9",
   "metadata": {
    "execution": {
     "iopub.execute_input": "2023-01-10T15:52:22.435836Z",
     "iopub.status.busy": "2023-01-10T15:52:22.435371Z",
     "iopub.status.idle": "2023-01-10T15:52:22.439746Z",
     "shell.execute_reply": "2023-01-10T15:52:22.438829Z",
     "shell.execute_reply.started": "2023-01-10T15:52:22.435805Z"
    }
   },
   "outputs": [],
   "source": [
    "weights_with_nan = [.1, .2, .3, .1, .15, .15]"
   ]
  },
  {
   "cell_type": "code",
   "execution_count": 15,
   "id": "ac283f7b-407e-4053-9feb-51000aa0fe56",
   "metadata": {
    "execution": {
     "iopub.execute_input": "2023-01-10T15:52:22.441238Z",
     "iopub.status.busy": "2023-01-10T15:52:22.440775Z",
     "iopub.status.idle": "2023-01-10T15:52:22.448878Z",
     "shell.execute_reply": "2023-01-10T15:52:22.447895Z",
     "shell.execute_reply.started": "2023-01-10T15:52:22.441211Z"
    },
    "tags": []
   },
   "outputs": [
    {
     "name": "stdout",
     "output_type": "stream",
     "text": [
      "weighted mean x with numpy: 6.95\n",
      "weighted mean x with nan with numpy: nan\n"
     ]
    }
   ],
   "source": [
    "# use `numpy`\n",
    "np_weighted_mean_x = np.average(x, weights=weights)\n",
    "print(\"weighted mean x with numpy:\", np_weighted_mean_x)\n",
    "\n",
    "np_weighted_mean_x_with_nan = np.average(x_with_nan, weights=weights_with_nan)\n",
    "print(\"weighted mean x with nan with numpy:\", np_weighted_mean_x_with_nan)"
   ]
  },
  {
   "cell_type": "markdown",
   "id": "acf790c1-6ca5-4f66-8db7-5fff696269cd",
   "metadata": {},
   "source": [
    "## Harmonic Mean"
   ]
  },
  {
   "cell_type": "code",
   "execution_count": 16,
   "id": "7be03cd2-81c6-4635-8417-3355b1e151a0",
   "metadata": {
    "execution": {
     "iopub.execute_input": "2023-01-10T15:52:22.451328Z",
     "iopub.status.busy": "2023-01-10T15:52:22.450422Z",
     "iopub.status.idle": "2023-01-10T15:52:22.456144Z",
     "shell.execute_reply": "2023-01-10T15:52:22.455062Z",
     "shell.execute_reply.started": "2023-01-10T15:52:22.451232Z"
    }
   },
   "outputs": [
    {
     "name": "stdout",
     "output_type": "stream",
     "text": [
      "[8.0, 1, 2.5, 4, 28.0]\n"
     ]
    }
   ],
   "source": [
    "print(x)"
   ]
  },
  {
   "cell_type": "code",
   "execution_count": 17,
   "id": "18a7daf8-2c70-4571-bdb1-734eaf8e2ec2",
   "metadata": {
    "execution": {
     "iopub.execute_input": "2023-01-10T15:52:22.458060Z",
     "iopub.status.busy": "2023-01-10T15:52:22.457294Z",
     "iopub.status.idle": "2023-01-10T15:52:22.467781Z",
     "shell.execute_reply": "2023-01-10T15:52:22.465979Z",
     "shell.execute_reply.started": "2023-01-10T15:52:22.458019Z"
    }
   },
   "outputs": [
    {
     "data": {
      "text/plain": [
       "[0.125, 1.0, 0.4, 0.25, 0.03571428571428571]"
      ]
     },
     "execution_count": 17,
     "metadata": {},
     "output_type": "execute_result"
    }
   ],
   "source": [
    "# reciprocal of data\n",
    "[1/item for item in x]"
   ]
  },
  {
   "cell_type": "code",
   "execution_count": 18,
   "id": "96b14118-5833-4dfa-9eec-58c89c5b6f7a",
   "metadata": {
    "execution": {
     "iopub.execute_input": "2023-01-10T15:52:22.470311Z",
     "iopub.status.busy": "2023-01-10T15:52:22.469654Z",
     "iopub.status.idle": "2023-01-10T15:52:22.477723Z",
     "shell.execute_reply": "2023-01-10T15:52:22.476442Z",
     "shell.execute_reply.started": "2023-01-10T15:52:22.470279Z"
    }
   },
   "outputs": [
    {
     "name": "stdout",
     "output_type": "stream",
     "text": [
      "harmonic mean x: 2.7613412228796843\n"
     ]
    }
   ],
   "source": [
    "# native python\n",
    "harmonic_mean_x = len(x) / sum([1/item for item in x])\n",
    "print(\"harmonic mean x:\", harmonic_mean_x)"
   ]
  },
  {
   "cell_type": "code",
   "execution_count": 19,
   "id": "3e225eec-d039-49e4-85dd-11518ed6ff42",
   "metadata": {
    "execution": {
     "iopub.execute_input": "2023-01-10T15:52:22.479523Z",
     "iopub.status.busy": "2023-01-10T15:52:22.478906Z",
     "iopub.status.idle": "2023-01-10T15:52:22.484402Z",
     "shell.execute_reply": "2023-01-10T15:52:22.483426Z",
     "shell.execute_reply.started": "2023-01-10T15:52:22.479493Z"
    }
   },
   "outputs": [
    {
     "name": "stdout",
     "output_type": "stream",
     "text": [
      "harmonic mean x with statistics: 2.7613412228796843\n"
     ]
    }
   ],
   "source": [
    "# use `statistics` library\n",
    "stats_harmonic_mean_x = statistics.harmonic_mean(x)\n",
    "print(\"harmonic mean x with statistics:\", stats_harmonic_mean_x)"
   ]
  },
  {
   "cell_type": "code",
   "execution_count": 20,
   "id": "e8e99ca5-9b96-494f-ac1b-cc7f5d71c49f",
   "metadata": {
    "execution": {
     "iopub.execute_input": "2023-01-10T15:52:22.485828Z",
     "iopub.status.busy": "2023-01-10T15:52:22.485298Z",
     "iopub.status.idle": "2023-01-10T15:52:22.492264Z",
     "shell.execute_reply": "2023-01-10T15:52:22.491165Z",
     "shell.execute_reply.started": "2023-01-10T15:52:22.485802Z"
    }
   },
   "outputs": [
    {
     "name": "stdout",
     "output_type": "stream",
     "text": [
      "harmonic mean x with scipy: 2.7613412228796843\n"
     ]
    }
   ],
   "source": [
    "# scipy\n",
    "scipy_harmonic_mean_x = scipy.stats.hmean(x)\n",
    "print(\"harmonic mean x with scipy:\", scipy_harmonic_mean_x)"
   ]
  },
  {
   "cell_type": "markdown",
   "id": "5ae2f988-99a9-4a6e-9c07-b206353ae7d1",
   "metadata": {},
   "source": [
    "## Geometric Mean"
   ]
  },
  {
   "cell_type": "code",
   "execution_count": 21,
   "id": "3fead65b-0c21-4a39-8333-35ac5ecd7840",
   "metadata": {
    "execution": {
     "iopub.execute_input": "2023-01-10T15:52:22.494042Z",
     "iopub.status.busy": "2023-01-10T15:52:22.493274Z",
     "iopub.status.idle": "2023-01-10T15:52:22.499294Z",
     "shell.execute_reply": "2023-01-10T15:52:22.497517Z",
     "shell.execute_reply.started": "2023-01-10T15:52:22.494009Z"
    }
   },
   "outputs": [
    {
     "name": "stdout",
     "output_type": "stream",
     "text": [
      "[8.0, 1, 2.5, 4, 28.0]\n"
     ]
    }
   ],
   "source": [
    "print(x)"
   ]
  },
  {
   "cell_type": "code",
   "execution_count": 22,
   "id": "e7a4de3c-21f0-4768-a61c-b03e04870c8a",
   "metadata": {
    "execution": {
     "iopub.execute_input": "2023-01-10T15:52:22.507641Z",
     "iopub.status.busy": "2023-01-10T15:52:22.502592Z",
     "iopub.status.idle": "2023-01-10T15:52:22.519247Z",
     "shell.execute_reply": "2023-01-10T15:52:22.516702Z",
     "shell.execute_reply.started": "2023-01-10T15:52:22.507587Z"
    }
   },
   "outputs": [
    {
     "name": "stdout",
     "output_type": "stream",
     "text": [
      "geometric mean x: 4.677885674856041\n"
     ]
    }
   ],
   "source": [
    "# native python\n",
    "geo_mean_x = 1\n",
    "for data in x:\n",
    "    geo_mean_x = geo_mean_x * data\n",
    "geo_mean_x = geo_mean_x ** (1/len(x))\n",
    "print(\"geometric mean x:\", geo_mean_x)"
   ]
  },
  {
   "cell_type": "code",
   "execution_count": 23,
   "id": "20a68c84-37fe-411d-b6d8-6bab3c5e8e43",
   "metadata": {
    "execution": {
     "iopub.execute_input": "2023-01-10T15:52:22.526256Z",
     "iopub.status.busy": "2023-01-10T15:52:22.525422Z",
     "iopub.status.idle": "2023-01-10T15:52:22.534438Z",
     "shell.execute_reply": "2023-01-10T15:52:22.533500Z",
     "shell.execute_reply.started": "2023-01-10T15:52:22.526191Z"
    }
   },
   "outputs": [
    {
     "name": "stdout",
     "output_type": "stream",
     "text": [
      "geometric mean x with scipy: 4.67788567485604\n"
     ]
    }
   ],
   "source": [
    "# use `scipy` library\n",
    "scipy_geo_mean_x = scipy.stats.gmean(x)\n",
    "print(\"geometric mean x with scipy:\", scipy_geo_mean_x)"
   ]
  },
  {
   "cell_type": "markdown",
   "id": "0de3977b-e6df-4df1-b65c-d9334e986321",
   "metadata": {},
   "source": [
    "## Median"
   ]
  },
  {
   "cell_type": "code",
   "execution_count": 24,
   "id": "7ac467d8-08d5-4607-bcb4-41486e0bba60",
   "metadata": {
    "execution": {
     "iopub.execute_input": "2023-01-10T15:52:22.536546Z",
     "iopub.status.busy": "2023-01-10T15:52:22.535866Z",
     "iopub.status.idle": "2023-01-10T15:52:22.550035Z",
     "shell.execute_reply": "2023-01-10T15:52:22.542698Z",
     "shell.execute_reply.started": "2023-01-10T15:52:22.536518Z"
    }
   },
   "outputs": [
    {
     "name": "stdout",
     "output_type": "stream",
     "text": [
      "[8.0, 1, 2.5, 4, 28.0]\n"
     ]
    }
   ],
   "source": [
    "print(x)"
   ]
  },
  {
   "cell_type": "code",
   "execution_count": 25,
   "id": "d1fcf60a-df62-47cf-a62d-2ea70e059c76",
   "metadata": {
    "execution": {
     "iopub.execute_input": "2023-01-10T15:52:22.557339Z",
     "iopub.status.busy": "2023-01-10T15:52:22.553922Z",
     "iopub.status.idle": "2023-01-10T15:52:22.568295Z",
     "shell.execute_reply": "2023-01-10T15:52:22.567554Z",
     "shell.execute_reply.started": "2023-01-10T15:52:22.557286Z"
    },
    "tags": []
   },
   "outputs": [
    {
     "data": {
      "text/plain": [
       "[1, 2.5, 4, 8.0, 28.0]"
      ]
     },
     "execution_count": 25,
     "metadata": {},
     "output_type": "execute_result"
    }
   ],
   "source": [
    "sorted(x)"
   ]
  },
  {
   "cell_type": "code",
   "execution_count": 26,
   "id": "6e9bacdd-f9db-4136-918a-20a9fe2956b0",
   "metadata": {
    "execution": {
     "iopub.execute_input": "2023-01-10T15:52:22.569394Z",
     "iopub.status.busy": "2023-01-10T15:52:22.569157Z",
     "iopub.status.idle": "2023-01-10T15:52:22.581013Z",
     "shell.execute_reply": "2023-01-10T15:52:22.577664Z",
     "shell.execute_reply.started": "2023-01-10T15:52:22.569370Z"
    },
    "tags": []
   },
   "outputs": [
    {
     "data": {
      "text/plain": [
       "5"
      ]
     },
     "execution_count": 26,
     "metadata": {},
     "output_type": "execute_result"
    }
   ],
   "source": [
    "len(x)"
   ]
  },
  {
   "cell_type": "code",
   "execution_count": 27,
   "id": "9811785f-78d2-45a7-b795-de728765b8f5",
   "metadata": {
    "execution": {
     "iopub.execute_input": "2023-01-10T15:52:22.594488Z",
     "iopub.status.busy": "2023-01-10T15:52:22.594030Z",
     "iopub.status.idle": "2023-01-10T15:52:22.610177Z",
     "shell.execute_reply": "2023-01-10T15:52:22.608815Z",
     "shell.execute_reply.started": "2023-01-10T15:52:22.594458Z"
    },
    "tags": []
   },
   "outputs": [
    {
     "name": "stdout",
     "output_type": "stream",
     "text": [
      "[8.0, 1, 2.5, 4, 28.0] [1, 2.5, 4, 8.0, 28.0]\n",
      "median x: 4\n"
     ]
    }
   ],
   "source": [
    "# native python\n",
    "x = [8.0, 1, 2.5, 4, 28.0]\n",
    "print(x, sorted(x))\n",
    "\n",
    "n = len(x)\n",
    "# odd `n`\n",
    "if n % 2 != 0:\n",
    "    median_x = sorted(x)[round(.5 * n-1)]\n",
    "# even `n`\n",
    "else:\n",
    "    med_left = sorted(x)[round(.5 * n)-1]\n",
    "    med_right = sorted(x)[round(.5 * n)]\n",
    "    median_x = .5 * (med_left + med_right)\n",
    "\n",
    "print(\"median x:\", median_x)"
   ]
  },
  {
   "cell_type": "code",
   "execution_count": 28,
   "id": "f7e1755c-cd49-4f04-b99f-e27a1ab7de04",
   "metadata": {
    "execution": {
     "iopub.execute_input": "2023-01-10T15:52:22.613299Z",
     "iopub.status.busy": "2023-01-10T15:52:22.611796Z",
     "iopub.status.idle": "2023-01-10T15:52:22.620285Z",
     "shell.execute_reply": "2023-01-10T15:52:22.618982Z",
     "shell.execute_reply.started": "2023-01-10T15:52:22.613260Z"
    },
    "tags": []
   },
   "outputs": [
    {
     "name": "stdout",
     "output_type": "stream",
     "text": [
      "x: [8.0, 1, 2.5, 4, 28.0]\n",
      "median x with statistics: 4\n",
      "x: [8.0, 1, 2.5, 4]\n",
      "median left x: 2.5 median right: 4\n",
      "median x with statistics: 3.25\n"
     ]
    }
   ],
   "source": [
    "# use `statistics` library\n",
    "x = [8.0, 1, 2.5, 4, 28.0]\n",
    "print(\"x:\", x)\n",
    "stats_median_x = statistics.median(x)\n",
    "print(\"median x with statistics:\", stats_median_x)\n",
    "\n",
    "x = [8.0, 1, 2.5, 4]\n",
    "print(\"x:\", x)\n",
    "stats_median_x = statistics.median(x)\n",
    "stats_median_left_x = statistics.median_low(x)\n",
    "stats_median_right_x = statistics.median_high(x)\n",
    "print(\"median left x:\", stats_median_left_x, \"median right:\", stats_median_right_x)\n",
    "print(\"median x with statistics:\", stats_median_x)"
   ]
  },
  {
   "cell_type": "code",
   "execution_count": 29,
   "id": "4a93b124-74f3-41fd-906a-a836bdc156af",
   "metadata": {
    "execution": {
     "iopub.execute_input": "2023-01-10T15:52:22.624358Z",
     "iopub.status.busy": "2023-01-10T15:52:22.622943Z",
     "iopub.status.idle": "2023-01-10T15:52:22.634663Z",
     "shell.execute_reply": "2023-01-10T15:52:22.633788Z",
     "shell.execute_reply.started": "2023-01-10T15:52:22.624259Z"
    },
    "tags": []
   },
   "outputs": [
    {
     "name": "stdout",
     "output_type": "stream",
     "text": [
      "median x with numpy: 4.0\n",
      "median x with series: 4.0\n"
     ]
    }
   ],
   "source": [
    "x = [8.0, 1, 2.5, 4, 28.0]\n",
    "np_x = np.array(x)\n",
    "pd_x = pd.Series(x)\n",
    "\n",
    "# with numpy array\n",
    "np_median_x = np.median(x)\n",
    "# with pandas series\n",
    "pd_median_x = pd_x.median()\n",
    "print(\"median x with numpy:\", np_median_x)\n",
    "print(\"median x with series:\", pd_median_x)"
   ]
  },
  {
   "cell_type": "code",
   "execution_count": 30,
   "id": "f2048faf-90d0-4ae7-a3bd-0204b6503f58",
   "metadata": {
    "execution": {
     "iopub.execute_input": "2023-01-10T15:52:22.636126Z",
     "iopub.status.busy": "2023-01-10T15:52:22.635677Z",
     "iopub.status.idle": "2023-01-10T15:52:22.642941Z",
     "shell.execute_reply": "2023-01-10T15:52:22.642278Z",
     "shell.execute_reply.started": "2023-01-10T15:52:22.636094Z"
    },
    "tags": []
   },
   "outputs": [
    {
     "name": "stdout",
     "output_type": "stream",
     "text": [
      "median x with numpy: 3.25\n",
      "median x with series: 3.25\n"
     ]
    }
   ],
   "source": [
    "x = [8.0, 1, 2.5, 4]\n",
    "np_x = np.array(x)\n",
    "pd_x = pd.Series(x)\n",
    "\n",
    "# with numpy array\n",
    "np_median_x = np.median(x)\n",
    "# with pandas series\n",
    "pd_median_x = pd_x.median()\n",
    "print(\"median x with numpy:\", np_median_x)\n",
    "print(\"median x with series:\", pd_median_x)"
   ]
  },
  {
   "cell_type": "markdown",
   "id": "537e32ce-e172-4f9e-946b-de4bf1b42f5e",
   "metadata": {},
   "source": [
    "## Mode"
   ]
  },
  {
   "cell_type": "code",
   "execution_count": 31,
   "id": "6f01ec67-5f93-487e-9611-f15b1d028f82",
   "metadata": {
    "execution": {
     "iopub.execute_input": "2023-01-10T15:52:22.645492Z",
     "iopub.status.busy": "2023-01-10T15:52:22.644639Z",
     "iopub.status.idle": "2023-01-10T15:52:22.650808Z",
     "shell.execute_reply": "2023-01-10T15:52:22.649926Z",
     "shell.execute_reply.started": "2023-01-10T15:52:22.645461Z"
    }
   },
   "outputs": [
    {
     "name": "stdout",
     "output_type": "stream",
     "text": [
      "u: [2, 3, 2, 8, 12]\n",
      "v: [12, 15, 12, 15, 21, 15, 12]\n"
     ]
    }
   ],
   "source": [
    "u = [2, 3, 2, 8, 12]\n",
    "v = [12, 15, 12, 15, 21, 15, 12]\n",
    "\n",
    "print(\"u:\", u)\n",
    "print(\"v:\", v)"
   ]
  },
  {
   "cell_type": "code",
   "execution_count": 32,
   "id": "2487fe17-9b6d-4dcd-abe1-588ba36b4d23",
   "metadata": {
    "execution": {
     "iopub.execute_input": "2023-01-10T15:52:22.653784Z",
     "iopub.status.busy": "2023-01-10T15:52:22.653231Z",
     "iopub.status.idle": "2023-01-10T15:52:22.664621Z",
     "shell.execute_reply": "2023-01-10T15:52:22.662632Z",
     "shell.execute_reply.started": "2023-01-10T15:52:22.653737Z"
    }
   },
   "outputs": [
    {
     "data": {
      "text/plain": [
       "2"
      ]
     },
     "execution_count": 32,
     "metadata": {},
     "output_type": "execute_result"
    }
   ],
   "source": [
    "# how many 2s in u?\n",
    "u.count(2)"
   ]
  },
  {
   "cell_type": "code",
   "execution_count": 33,
   "id": "38f41a2f-60f1-4694-a5dd-00f38ef85c6a",
   "metadata": {
    "execution": {
     "iopub.execute_input": "2023-01-10T15:52:22.667721Z",
     "iopub.status.busy": "2023-01-10T15:52:22.667042Z",
     "iopub.status.idle": "2023-01-10T15:52:22.673802Z",
     "shell.execute_reply": "2023-01-10T15:52:22.673214Z",
     "shell.execute_reply.started": "2023-01-10T15:52:22.667676Z"
    }
   },
   "outputs": [
    {
     "data": {
      "text/plain": [
       "3"
      ]
     },
     "execution_count": 33,
     "metadata": {},
     "output_type": "execute_result"
    }
   ],
   "source": [
    "# how many 15s in v?\n",
    "v.count(15)"
   ]
  },
  {
   "cell_type": "code",
   "execution_count": 34,
   "id": "d7cc9312-76df-44b0-a038-1d31194cecc9",
   "metadata": {
    "execution": {
     "iopub.execute_input": "2023-01-10T15:52:22.675500Z",
     "iopub.status.busy": "2023-01-10T15:52:22.675078Z",
     "iopub.status.idle": "2023-01-10T15:52:22.681474Z",
     "shell.execute_reply": "2023-01-10T15:52:22.680620Z",
     "shell.execute_reply.started": "2023-01-10T15:52:22.675441Z"
    },
    "tags": []
   },
   "outputs": [
    {
     "name": "stdout",
     "output_type": "stream",
     "text": [
      "mode u: 2\n",
      "mode v: 15\n"
     ]
    }
   ],
   "source": [
    "# native python\n",
    "mode_u = max([(u.count(data), data) for data in set(u)])[1]\n",
    "mode_v = max([(v.count(data), data) for data in set(v)])[1]\n",
    "\n",
    "print(\"mode u:\", mode_u)\n",
    "print(\"mode v:\", mode_v)"
   ]
  },
  {
   "cell_type": "code",
   "execution_count": 35,
   "id": "c975183d-01dc-4674-8294-d0c0a928d54f",
   "metadata": {
    "execution": {
     "iopub.execute_input": "2023-01-10T15:52:22.683434Z",
     "iopub.status.busy": "2023-01-10T15:52:22.682832Z",
     "iopub.status.idle": "2023-01-10T15:52:22.692618Z",
     "shell.execute_reply": "2023-01-10T15:52:22.691539Z",
     "shell.execute_reply.started": "2023-01-10T15:52:22.683384Z"
    },
    "tags": []
   },
   "outputs": [
    {
     "name": "stdout",
     "output_type": "stream",
     "text": [
      "mode u with statistics: 2\n",
      "mode v with statistics: 12\n"
     ]
    }
   ],
   "source": [
    "# use `statistics` library\n",
    "stats_mode_u = statistics.mode(u)\n",
    "stats_mode_v = statistics.mode(v)\n",
    "\n",
    "print(\"mode u with statistics:\", stats_mode_u)\n",
    "print(\"mode v with statistics:\", stats_mode_v)"
   ]
  },
  {
   "cell_type": "code",
   "execution_count": 36,
   "id": "69a58110-1de2-4c6e-b64e-3dbf4ceb4e54",
   "metadata": {
    "execution": {
     "iopub.execute_input": "2023-01-10T15:52:22.694793Z",
     "iopub.status.busy": "2023-01-10T15:52:22.694231Z",
     "iopub.status.idle": "2023-01-10T15:52:22.703509Z",
     "shell.execute_reply": "2023-01-10T15:52:22.702898Z",
     "shell.execute_reply.started": "2023-01-10T15:52:22.694748Z"
    }
   },
   "outputs": [
    {
     "name": "stdout",
     "output_type": "stream",
     "text": [
      "0    2\n",
      "dtype: int64\n",
      "0    12\n",
      "1    15\n",
      "dtype: int64\n"
     ]
    }
   ],
   "source": [
    "# pandas series\n",
    "pd_u, pd_v = pd.Series(u), pd.Series(v)\n",
    "\n",
    "print(pd_u.mode())\n",
    "print(pd_v.mode())"
   ]
  },
  {
   "cell_type": "markdown",
   "id": "bea759ca-4c37-4743-b8e4-f33ccd5aae8b",
   "metadata": {},
   "source": [
    "## Variance"
   ]
  },
  {
   "cell_type": "code",
   "execution_count": 37,
   "id": "500d9a04-2fac-4f65-8adc-2d099f36a4ed",
   "metadata": {
    "execution": {
     "iopub.execute_input": "2023-01-10T15:52:22.704974Z",
     "iopub.status.busy": "2023-01-10T15:52:22.704550Z",
     "iopub.status.idle": "2023-01-10T15:52:22.709714Z",
     "shell.execute_reply": "2023-01-10T15:52:22.709027Z",
     "shell.execute_reply.started": "2023-01-10T15:52:22.704942Z"
    },
    "tags": []
   },
   "outputs": [
    {
     "name": "stdout",
     "output_type": "stream",
     "text": [
      "[8.0, 1, 2.5, 4, 28.0]\n"
     ]
    }
   ],
   "source": [
    "x = [8.0, 1, 2.5, 4, 28.0]\n",
    "np_x = np.array(x)\n",
    "print(x)"
   ]
  },
  {
   "cell_type": "code",
   "execution_count": 38,
   "id": "f7af7324-2f07-4b5c-bd67-3dc197851ecd",
   "metadata": {
    "execution": {
     "iopub.execute_input": "2023-01-10T15:52:22.711210Z",
     "iopub.status.busy": "2023-01-10T15:52:22.710819Z",
     "iopub.status.idle": "2023-01-10T15:52:22.719420Z",
     "shell.execute_reply": "2023-01-10T15:52:22.717255Z",
     "shell.execute_reply.started": "2023-01-10T15:52:22.711183Z"
    }
   },
   "outputs": [
    {
     "name": "stdout",
     "output_type": "stream",
     "text": [
      "variance x: 123.19999999999999\n"
     ]
    }
   ],
   "source": [
    "# native python\n",
    "mean_x = sum(x) / len(x)\n",
    "\n",
    "var_x = sum([(data - mean_x)**2 for data in x]) / (len(x)-1)\n",
    "print(\"variance x:\", var_x)"
   ]
  },
  {
   "cell_type": "code",
   "execution_count": 39,
   "id": "5c35938b-6278-41d5-a85d-1e777eaac043",
   "metadata": {
    "execution": {
     "iopub.execute_input": "2023-01-10T15:52:22.722596Z",
     "iopub.status.busy": "2023-01-10T15:52:22.721594Z",
     "iopub.status.idle": "2023-01-10T15:52:22.761533Z",
     "shell.execute_reply": "2023-01-10T15:52:22.759820Z",
     "shell.execute_reply.started": "2023-01-10T15:52:22.722487Z"
    },
    "tags": []
   },
   "outputs": [
    {
     "name": "stdout",
     "output_type": "stream",
     "text": [
      "variance x with statistics: 123.2\n",
      "variance x with numpy: 123.19999999999999\n",
      "variance array x with numpy: 123.19999999999999\n"
     ]
    }
   ],
   "source": [
    "# statistics\n",
    "stats_var_x = statistics.variance(x)\n",
    "print(\"variance x with statistics:\", stats_var_x)\n",
    "\n",
    "# numpy ddof=1 for sample data\n",
    "np_var_x = np.var(x, ddof=1)\n",
    "np_var_arr_x = np_x.var(ddof=1)\n",
    "print(\"variance x with numpy:\", np_var_x)\n",
    "print(\"variance array x with numpy:\", np_var_arr_x)"
   ]
  },
  {
   "cell_type": "markdown",
   "id": "c570f3cc-5442-4efa-b36c-28337982c388",
   "metadata": {},
   "source": [
    "## Standard Deviation"
   ]
  },
  {
   "cell_type": "code",
   "execution_count": 40,
   "id": "f5f0159a-b928-414f-8553-e798da5a8e82",
   "metadata": {
    "execution": {
     "iopub.execute_input": "2023-01-10T15:52:22.771676Z",
     "iopub.status.busy": "2023-01-10T15:52:22.771290Z",
     "iopub.status.idle": "2023-01-10T15:52:22.776831Z",
     "shell.execute_reply": "2023-01-10T15:52:22.775576Z",
     "shell.execute_reply.started": "2023-01-10T15:52:22.771649Z"
    }
   },
   "outputs": [
    {
     "name": "stdout",
     "output_type": "stream",
     "text": [
      "std x: 11.099549540409285\n"
     ]
    }
   ],
   "source": [
    "# native python\n",
    "std_x = var_x ** .5\n",
    "print(\"std x:\", std_x)"
   ]
  },
  {
   "cell_type": "code",
   "execution_count": 41,
   "id": "ee208b0d-f71c-4aa4-bfbd-2e1880ee0329",
   "metadata": {
    "execution": {
     "iopub.execute_input": "2023-01-10T15:52:22.778106Z",
     "iopub.status.busy": "2023-01-10T15:52:22.777710Z",
     "iopub.status.idle": "2023-01-10T15:52:22.789389Z",
     "shell.execute_reply": "2023-01-10T15:52:22.787781Z",
     "shell.execute_reply.started": "2023-01-10T15:52:22.778079Z"
    }
   },
   "outputs": [
    {
     "name": "stdout",
     "output_type": "stream",
     "text": [
      "std x with statistics: 11.099549540409287\n",
      "std x with numpy: 11.099549540409285\n",
      "std array x with numpy: 11.099549540409285\n",
      "std x with series: 11.099549540409285\n"
     ]
    }
   ],
   "source": [
    "# statistics\n",
    "stats_std_x = statistics.stdev(x)\n",
    "print(\"std x with statistics:\", stats_std_x)\n",
    "\n",
    "# numpy\n",
    "np_std_x = np.std(x, ddof=1)\n",
    "np_std_arr_x = np_x.std(ddof=1)\n",
    "print(\"std x with numpy:\", np_std_x)\n",
    "print(\"std array x with numpy:\", np_std_arr_x)\n",
    "\n",
    "# pandas series\n",
    "pd_x = pd.Series(x)\n",
    "pd_std_x = pd_x.std()\n",
    "print(\"std x with series:\", pd_std_x)"
   ]
  },
  {
   "cell_type": "markdown",
   "id": "04b718c9-2944-4bf8-8fb5-7796ef96479e",
   "metadata": {},
   "source": [
    "## Skewness"
   ]
  },
  {
   "cell_type": "code",
   "execution_count": 42,
   "id": "569e5a79-ac1c-4716-91ca-50b78014862a",
   "metadata": {
    "execution": {
     "iopub.execute_input": "2023-01-10T15:52:22.791451Z",
     "iopub.status.busy": "2023-01-10T15:52:22.790727Z",
     "iopub.status.idle": "2023-01-10T15:52:22.801848Z",
     "shell.execute_reply": "2023-01-10T15:52:22.801159Z",
     "shell.execute_reply.started": "2023-01-10T15:52:22.791416Z"
    }
   },
   "outputs": [
    {
     "name": "stdout",
     "output_type": "stream",
     "text": [
      "skewness x with scipy: 1.9470432273905927\n",
      "skewness x with series: 1.9470432273905924\n"
     ]
    }
   ],
   "source": [
    "# scipy\n",
    "scipy_skew_x = scipy.stats.skew(x, bias=False)\n",
    "print(\"skewness x with scipy:\", scipy_skew_x)\n",
    "\n",
    "# pandas series\n",
    "pd_skew_x = pd_x.skew()\n",
    "print(\"skewness x with series:\", pd_skew_x)"
   ]
  },
  {
   "cell_type": "markdown",
   "id": "07dfaf78-9c9d-4329-bc70-7402d2727edc",
   "metadata": {},
   "source": [
    "## Quantiles, Percentiles, Quartiles"
   ]
  },
  {
   "cell_type": "code",
   "execution_count": 43,
   "id": "b7f3ff80-a5bf-41b6-8471-504376fb6ebb",
   "metadata": {
    "execution": {
     "iopub.execute_input": "2023-01-10T15:52:22.803015Z",
     "iopub.status.busy": "2023-01-10T15:52:22.802677Z",
     "iopub.status.idle": "2023-01-10T15:52:22.809033Z",
     "shell.execute_reply": "2023-01-10T15:52:22.807763Z",
     "shell.execute_reply.started": "2023-01-10T15:52:22.802977Z"
    },
    "tags": []
   },
   "outputs": [
    {
     "name": "stdout",
     "output_type": "stream",
     "text": [
      "[8.0, 1, 2.5, 4, 28.0] [ 8.   1.   2.5  4.  28. ] [1, 2.5, 4, 8.0, 28.0]\n"
     ]
    }
   ],
   "source": [
    "print(x, np_x, sorted(x))"
   ]
  },
  {
   "cell_type": "code",
   "execution_count": 44,
   "id": "4bd77188-1e63-45c4-8079-e45914b224e3",
   "metadata": {
    "execution": {
     "iopub.execute_input": "2023-01-10T15:52:22.810662Z",
     "iopub.status.busy": "2023-01-10T15:52:22.810291Z",
     "iopub.status.idle": "2023-01-10T15:52:22.821014Z",
     "shell.execute_reply": "2023-01-10T15:52:22.819014Z",
     "shell.execute_reply.started": "2023-01-10T15:52:22.810635Z"
    },
    "tags": []
   },
   "outputs": [
    {
     "name": "stdout",
     "output_type": "stream",
     "text": [
      "[2.5, 4.0, 8.0]\n",
      "[1.06, 1.12, 1.18, 1.24, 1.3, 1.36, 1.42, 1.48, 1.54, 1.6, 1.66, 1.72, 1.78, 1.84, 1.9, 1.96, 2.02, 2.08, 2.14, 2.2, 2.26, 2.32, 2.38, 2.44, 2.5, 2.56, 2.62, 2.68, 2.74, 2.8, 2.86, 2.92, 2.98, 3.04, 3.1, 3.16, 3.22, 3.28, 3.34, 3.4, 3.46, 3.52, 3.58, 3.64, 3.7, 3.76, 3.82, 3.88, 3.94, 4.0, 4.16, 4.32, 4.48, 4.64, 4.8, 4.96, 5.12, 5.28, 5.44, 5.6, 5.76, 5.92, 6.08, 6.24, 6.4, 6.56, 6.72, 6.88, 7.04, 7.2, 7.36, 7.52, 7.68, 7.84, 8.0, 8.8, 9.6, 10.4, 11.2, 12.0, 12.8, 13.6, 14.4, 15.2, 16.0, 16.8, 17.6, 18.4, 19.2, 20.0, 20.8, 21.6, 22.4, 23.2, 24.0, 24.8, 25.6, 26.4, 27.2]\n",
      "4.0\n",
      "[2.5 4.  8. ]\n"
     ]
    }
   ],
   "source": [
    "# statistics\n",
    "print(statistics.quantiles(x, n=4, method=\"inclusive\"))\n",
    "print(statistics.quantiles(x, n=100, method=\"inclusive\"))\n",
    "\n",
    "# numpy\n",
    "print(np.quantile(x, .5))\n",
    "print(np.quantile(x, [.25, .5, .75]))"
   ]
  },
  {
   "cell_type": "markdown",
   "id": "c3c4d21b-a8a6-40c9-864a-a11a0ba1f0d5",
   "metadata": {},
   "source": [
    "## Range"
   ]
  },
  {
   "cell_type": "code",
   "execution_count": 45,
   "id": "a2cc92a2-5226-4556-98fd-e9623d089844",
   "metadata": {
    "execution": {
     "iopub.execute_input": "2023-01-10T15:52:22.824221Z",
     "iopub.status.busy": "2023-01-10T15:52:22.823170Z",
     "iopub.status.idle": "2023-01-10T15:52:22.832357Z",
     "shell.execute_reply": "2023-01-10T15:52:22.830782Z",
     "shell.execute_reply.started": "2023-01-10T15:52:22.824169Z"
    }
   },
   "outputs": [
    {
     "name": "stdout",
     "output_type": "stream",
     "text": [
      "range x: 27.0\n"
     ]
    }
   ],
   "source": [
    "# native\n",
    "max_data, min_data = max(x), min(x)\n",
    "print(\"range x:\", max_data - min_data)"
   ]
  },
  {
   "cell_type": "code",
   "execution_count": 46,
   "id": "4e233d1b-7854-4146-a794-329677643c0b",
   "metadata": {
    "execution": {
     "iopub.execute_input": "2023-01-10T15:52:22.834613Z",
     "iopub.status.busy": "2023-01-10T15:52:22.833748Z",
     "iopub.status.idle": "2023-01-10T15:52:22.840203Z",
     "shell.execute_reply": "2023-01-10T15:52:22.838848Z",
     "shell.execute_reply.started": "2023-01-10T15:52:22.834578Z"
    }
   },
   "outputs": [
    {
     "data": {
      "text/plain": [
       "27.0"
      ]
     },
     "execution_count": 46,
     "metadata": {},
     "output_type": "execute_result"
    }
   ],
   "source": [
    "# numpy\n",
    "np.ptp(x)"
   ]
  },
  {
   "cell_type": "markdown",
   "id": "44e0fc64-0031-42c9-ac9b-15a72be303f2",
   "metadata": {},
   "source": [
    "## Inter-quartile Range (IQR)"
   ]
  },
  {
   "cell_type": "code",
   "execution_count": 47,
   "id": "b20c10db-35a0-4db5-b23c-f73f79a3a782",
   "metadata": {
    "execution": {
     "iopub.execute_input": "2023-01-10T15:52:22.841711Z",
     "iopub.status.busy": "2023-01-10T15:52:22.841221Z",
     "iopub.status.idle": "2023-01-10T15:52:22.851188Z",
     "shell.execute_reply": "2023-01-10T15:52:22.848302Z",
     "shell.execute_reply.started": "2023-01-10T15:52:22.841684Z"
    },
    "tags": []
   },
   "outputs": [
    {
     "name": "stdout",
     "output_type": "stream",
     "text": [
      "Q1: 2.5\n",
      "Q3: 8.0\n",
      "IQR: 5.5\n"
     ]
    }
   ],
   "source": [
    "# series pandas\n",
    "quartiles = pd_x.quantile([.25, .75])\n",
    "IQR = quartiles[.75] - quartiles[.25]\n",
    "print(\"Q1:\", quartiles[.25])\n",
    "print(\"Q3:\", quartiles[.75])\n",
    "print(\"IQR:\", IQR)"
   ]
  },
  {
   "cell_type": "code",
   "execution_count": 48,
   "id": "feaa0eda-8b6f-4da4-a10a-47e0170cd502",
   "metadata": {
    "execution": {
     "iopub.execute_input": "2023-01-10T15:52:22.855335Z",
     "iopub.status.busy": "2023-01-10T15:52:22.854557Z",
     "iopub.status.idle": "2023-01-10T15:52:22.867371Z",
     "shell.execute_reply": "2023-01-10T15:52:22.866478Z",
     "shell.execute_reply.started": "2023-01-10T15:52:22.855287Z"
    },
    "tags": []
   },
   "outputs": [
    {
     "data": {
      "text/plain": [
       "0     8.0\n",
       "1     1.0\n",
       "2     2.5\n",
       "3     4.0\n",
       "4    28.0\n",
       "dtype: float64"
      ]
     },
     "execution_count": 48,
     "metadata": {},
     "output_type": "execute_result"
    }
   ],
   "source": [
    "pd_x"
   ]
  },
  {
   "cell_type": "code",
   "execution_count": 49,
   "id": "c1c8f446-2764-4e1a-b81a-9791aa05606b",
   "metadata": {
    "execution": {
     "iopub.execute_input": "2023-01-10T15:52:22.869072Z",
     "iopub.status.busy": "2023-01-10T15:52:22.868648Z",
     "iopub.status.idle": "2023-01-10T15:52:22.878856Z",
     "shell.execute_reply": "2023-01-10T15:52:22.875097Z",
     "shell.execute_reply.started": "2023-01-10T15:52:22.869038Z"
    },
    "tags": []
   },
   "outputs": [
    {
     "name": "stdout",
     "output_type": "stream",
     "text": [
      "Q1: 2.5\n",
      "Q3: 8.0\n",
      "IQR: 5.5\n"
     ]
    }
   ],
   "source": [
    "# numpy\n",
    "np_quartiles = np.quantile(x, [.25, .75])\n",
    "IQR = np_quartiles[1] - np_quartiles[0]\n",
    "print(\"Q1:\", np_quartiles[0])\n",
    "print(\"Q3:\", np_quartiles[1])\n",
    "print(\"IQR:\", IQR)"
   ]
  },
  {
   "cell_type": "markdown",
   "id": "a2b5d7b3-8726-4ca8-bb13-10c4615af781",
   "metadata": {},
   "source": [
    "## Covariance"
   ]
  },
  {
   "cell_type": "code",
   "execution_count": 50,
   "id": "acc178c7-1fc7-46ff-9eea-6d3187b29718",
   "metadata": {
    "execution": {
     "iopub.execute_input": "2023-01-10T15:52:22.882601Z",
     "iopub.status.busy": "2023-01-10T15:52:22.882008Z",
     "iopub.status.idle": "2023-01-10T15:52:22.890602Z",
     "shell.execute_reply": "2023-01-10T15:52:22.889729Z",
     "shell.execute_reply.started": "2023-01-10T15:52:22.882523Z"
    }
   },
   "outputs": [
    {
     "name": "stdout",
     "output_type": "stream",
     "text": [
      "21 21\n"
     ]
    }
   ],
   "source": [
    "x = list(range(-10, 11))\n",
    "y = [0, 2, 2, 2, 2, 3, 3, 6, 7, 4, 7, 6, 6, 9, 4, 5, 5, 10, 11, 12, 14]\n",
    "\n",
    "print(len(x), len(y))"
   ]
  },
  {
   "cell_type": "code",
   "execution_count": 51,
   "id": "6d56be32-7d31-424f-af5c-2469fe8f8cc5",
   "metadata": {
    "execution": {
     "iopub.execute_input": "2023-01-10T15:52:22.892240Z",
     "iopub.status.busy": "2023-01-10T15:52:22.891648Z",
     "iopub.status.idle": "2023-01-10T15:52:22.896905Z",
     "shell.execute_reply": "2023-01-10T15:52:22.895756Z",
     "shell.execute_reply.started": "2023-01-10T15:52:22.892211Z"
    }
   },
   "outputs": [],
   "source": [
    "np_x, np_y = np.array(x), np.array(y)\n",
    "pd_x, pd_y = pd.Series(x), pd.Series(y)"
   ]
  },
  {
   "cell_type": "code",
   "execution_count": 52,
   "id": "dd5e7ef7-9c94-4f6e-8ef5-240e0a08a5b3",
   "metadata": {
    "execution": {
     "iopub.execute_input": "2023-01-10T15:52:22.899225Z",
     "iopub.status.busy": "2023-01-10T15:52:22.898809Z",
     "iopub.status.idle": "2023-01-10T15:52:22.914658Z",
     "shell.execute_reply": "2023-01-10T15:52:22.912615Z",
     "shell.execute_reply.started": "2023-01-10T15:52:22.899182Z"
    },
    "tags": []
   },
   "outputs": [
    {
     "name": "stdout",
     "output_type": "stream",
     "text": [
      "covariance x-y: 19.95\n"
     ]
    }
   ],
   "source": [
    "# native python\n",
    "n = len(x)\n",
    "mean_x, mean_y = sum(x) / len(x), sum(y) / len(y)\n",
    "cov_xy = sum([(x[idx]-mean_x) * (y[idx]-mean_y) for idx in range(n)]) / (n-1)\n",
    "\n",
    "print(\"covariance x-y:\", cov_xy)"
   ]
  },
  {
   "cell_type": "code",
   "execution_count": 53,
   "id": "3aae880d-43ac-4b72-a234-65100cb2bfb8",
   "metadata": {
    "execution": {
     "iopub.execute_input": "2023-01-10T15:52:22.916741Z",
     "iopub.status.busy": "2023-01-10T15:52:22.916294Z",
     "iopub.status.idle": "2023-01-10T15:52:22.922475Z",
     "shell.execute_reply": "2023-01-10T15:52:22.921797Z",
     "shell.execute_reply.started": "2023-01-10T15:52:22.916710Z"
    },
    "tags": []
   },
   "outputs": [
    {
     "name": "stdout",
     "output_type": "stream",
     "text": [
      "[[38.5        19.95      ]\n",
      " [19.95       13.91428571]]\n",
      "19.95\n"
     ]
    }
   ],
   "source": [
    "# numpy\n",
    "np_cov_xy = np.cov(x, y, ddof=1)\n",
    "print(np_cov_xy)\n",
    "\n",
    "# pandas\n",
    "pd_cov_xy = pd_x.cov(pd_y)\n",
    "print(pd_cov_xy)"
   ]
  },
  {
   "cell_type": "markdown",
   "id": "24dc1b29-a69f-4216-affb-61967ecfb6cf",
   "metadata": {},
   "source": [
    "## Correlation"
   ]
  },
  {
   "cell_type": "code",
   "execution_count": 54,
   "id": "8827ba8b-1250-4c24-af0b-356fb48918d9",
   "metadata": {
    "execution": {
     "iopub.execute_input": "2023-01-10T15:52:22.925576Z",
     "iopub.status.busy": "2023-01-10T15:52:22.924411Z",
     "iopub.status.idle": "2023-01-10T15:52:22.936492Z",
     "shell.execute_reply": "2023-01-10T15:52:22.934974Z",
     "shell.execute_reply.started": "2023-01-10T15:52:22.925533Z"
    }
   },
   "outputs": [
    {
     "data": {
      "text/plain": [
       "array([[38.5       , 19.95      ],\n",
       "       [19.95      , 13.91428571]])"
      ]
     },
     "execution_count": 54,
     "metadata": {},
     "output_type": "execute_result"
    }
   ],
   "source": [
    "np_cov_xy"
   ]
  },
  {
   "cell_type": "code",
   "execution_count": 55,
   "id": "fef4e8fe-cca2-49e0-b591-1dad61d46b5d",
   "metadata": {
    "execution": {
     "iopub.execute_input": "2023-01-10T15:52:22.938799Z",
     "iopub.status.busy": "2023-01-10T15:52:22.938321Z",
     "iopub.status.idle": "2023-01-10T15:52:22.947047Z",
     "shell.execute_reply": "2023-01-10T15:52:22.945305Z",
     "shell.execute_reply.started": "2023-01-10T15:52:22.938751Z"
    },
    "tags": []
   },
   "outputs": [
    {
     "data": {
      "text/plain": [
       "0.861950005631606"
      ]
     },
     "execution_count": 55,
     "metadata": {},
     "output_type": "execute_result"
    }
   ],
   "source": [
    "# native python\n",
    "cov_x, cov_y = np_cov_xy[0, 0], np_cov_xy[1, 1]\n",
    "std_x, std_y = cov_x**.5, cov_y**.5\n",
    "\n",
    "corr_xy = cov_xy / (std_x*std_y)\n",
    "corr_xy"
   ]
  },
  {
   "cell_type": "code",
   "execution_count": 56,
   "id": "12e7c986-6d6e-4c2f-8600-7b9306844f11",
   "metadata": {
    "execution": {
     "iopub.execute_input": "2023-01-10T15:52:22.951611Z",
     "iopub.status.busy": "2023-01-10T15:52:22.950459Z",
     "iopub.status.idle": "2023-01-10T15:52:22.962543Z",
     "shell.execute_reply": "2023-01-10T15:52:22.961359Z",
     "shell.execute_reply.started": "2023-01-10T15:52:22.951573Z"
    },
    "tags": []
   },
   "outputs": [
    {
     "name": "stdout",
     "output_type": "stream",
     "text": [
      "0.8619500056316061 5.122760847201135e-07\n",
      "[[1.         0.86195001]\n",
      " [0.86195001 1.        ]]\n"
     ]
    }
   ],
   "source": [
    "# scipy\n",
    "r, p = scipy.stats.pearsonr(x, y)\n",
    "print(r, p)\n",
    "\n",
    "# numpy\n",
    "np_corr_xy = np.corrcoef(x,  y)\n",
    "print(np_corr_xy)"
   ]
  }
 ],
 "metadata": {
  "kernelspec": {
   "display_name": "Python 3 (ipykernel)",
   "language": "python",
   "name": "python3"
  },
  "language_info": {
   "codemirror_mode": {
    "name": "ipython",
    "version": 3
   },
   "file_extension": ".py",
   "mimetype": "text/x-python",
   "name": "python",
   "nbconvert_exporter": "python",
   "pygments_lexer": "ipython3",
   "version": "3.9.12"
  }
 },
 "nbformat": 4,
 "nbformat_minor": 5
}
