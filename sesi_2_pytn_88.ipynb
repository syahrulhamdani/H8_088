{
 "cells": [
  {
   "cell_type": "markdown",
   "id": "e1af5dbf-133b-414b-baa3-ce2cc602bde9",
   "metadata": {},
   "source": [
    "# Sesi 2"
   ]
  },
  {
   "cell_type": "code",
   "execution_count": 1,
   "id": "0e51a266-4046-451c-a1c4-c677c7828056",
   "metadata": {
    "execution": {
     "iopub.execute_input": "2022-11-24T12:34:07.090895Z",
     "iopub.status.busy": "2022-11-24T12:34:07.090443Z",
     "iopub.status.idle": "2022-11-24T12:34:07.107841Z",
     "shell.execute_reply": "2022-11-24T12:34:07.104747Z",
     "shell.execute_reply.started": "2022-11-24T12:34:07.090779Z"
    }
   },
   "outputs": [],
   "source": [
    "a = 10\n",
    "b = 5"
   ]
  },
  {
   "cell_type": "code",
   "execution_count": 2,
   "id": "193669ef-4bfe-48fe-8b0a-2eac2ff94ee6",
   "metadata": {
    "execution": {
     "iopub.execute_input": "2022-11-24T12:34:15.559914Z",
     "iopub.status.busy": "2022-11-24T12:34:15.559440Z",
     "iopub.status.idle": "2022-11-24T12:34:15.565605Z",
     "shell.execute_reply": "2022-11-24T12:34:15.563635Z",
     "shell.execute_reply.started": "2022-11-24T12:34:15.559881Z"
    }
   },
   "outputs": [
    {
     "name": "stdout",
     "output_type": "stream",
     "text": [
      "15\n"
     ]
    }
   ],
   "source": [
    "print(a + b)"
   ]
  },
  {
   "cell_type": "markdown",
   "id": "f5c4a5d1-1252-44ba-966a-153a192a4fd1",
   "metadata": {},
   "source": [
    "## Conditional Statement"
   ]
  },
  {
   "cell_type": "code",
   "execution_count": 3,
   "id": "3b6bad94-181f-47aa-b6e4-a4969abc213e",
   "metadata": {
    "execution": {
     "iopub.execute_input": "2022-11-24T12:40:15.338574Z",
     "iopub.status.busy": "2022-11-24T12:40:15.338135Z",
     "iopub.status.idle": "2022-11-24T12:40:15.342825Z",
     "shell.execute_reply": "2022-11-24T12:40:15.341734Z",
     "shell.execute_reply.started": "2022-11-24T12:40:15.338512Z"
    }
   },
   "outputs": [],
   "source": [
    "age = 25"
   ]
  },
  {
   "cell_type": "code",
   "execution_count": 4,
   "id": "fa576bd0-c65b-4683-bc33-57ff0ea7dbc5",
   "metadata": {
    "execution": {
     "iopub.execute_input": "2022-11-24T12:40:47.084379Z",
     "iopub.status.busy": "2022-11-24T12:40:47.083937Z",
     "iopub.status.idle": "2022-11-24T12:40:47.090795Z",
     "shell.execute_reply": "2022-11-24T12:40:47.090054Z",
     "shell.execute_reply.started": "2022-11-24T12:40:47.084347Z"
    }
   },
   "outputs": [
    {
     "name": "stdout",
     "output_type": "stream",
     "text": [
      "umur: 25\n"
     ]
    }
   ],
   "source": [
    "if age > 20:\n",
    "    print(\"umur:\", age)"
   ]
  },
  {
   "cell_type": "code",
   "execution_count": 5,
   "id": "2f4ab358-6b8d-4652-b070-cae13cc87295",
   "metadata": {
    "execution": {
     "iopub.execute_input": "2022-11-24T12:41:02.730535Z",
     "iopub.status.busy": "2022-11-24T12:41:02.730227Z",
     "iopub.status.idle": "2022-11-24T12:41:02.735697Z",
     "shell.execute_reply": "2022-11-24T12:41:02.734562Z",
     "shell.execute_reply.started": "2022-11-24T12:41:02.730508Z"
    }
   },
   "outputs": [],
   "source": [
    "if age > 25:\n",
    "    print(\"umur:\", age)"
   ]
  },
  {
   "cell_type": "code",
   "execution_count": 8,
   "id": "f5e2e5cb-43ac-4990-8494-9f086855cb86",
   "metadata": {
    "execution": {
     "iopub.execute_input": "2022-11-24T12:44:20.216685Z",
     "iopub.status.busy": "2022-11-24T12:44:20.216349Z",
     "iopub.status.idle": "2022-11-24T12:44:20.224414Z",
     "shell.execute_reply": "2022-11-24T12:44:20.222358Z",
     "shell.execute_reply.started": "2022-11-24T12:44:20.216628Z"
    },
    "tags": []
   },
   "outputs": [
    {
     "name": "stdout",
     "output_type": "stream",
     "text": [
      "Di bawah umur 20 tahun\n",
      "Umur: 25\n",
      "30\n",
      "Ini diluar if statement\n"
     ]
    }
   ],
   "source": [
    "if age > 20:\n",
    "    print(\"Di bawah umur 20 tahun\")\n",
    "    print(\"Umur:\", age)\n",
    "\n",
    "    older_age = age + 5\n",
    "    print(older_age)\n",
    "print(\"Ini diluar if statement\")"
   ]
  },
  {
   "cell_type": "code",
   "execution_count": 9,
   "id": "5ce5012b-f5e0-497e-ba54-7b7e10defe64",
   "metadata": {
    "execution": {
     "iopub.execute_input": "2022-11-24T12:44:44.566098Z",
     "iopub.status.busy": "2022-11-24T12:44:44.565554Z",
     "iopub.status.idle": "2022-11-24T12:44:44.579688Z",
     "shell.execute_reply": "2022-11-24T12:44:44.578434Z",
     "shell.execute_reply.started": "2022-11-24T12:44:44.566040Z"
    }
   },
   "outputs": [
    {
     "data": {
      "text/plain": [
       "True"
      ]
     },
     "execution_count": 9,
     "metadata": {},
     "output_type": "execute_result"
    }
   ],
   "source": [
    "age > 20"
   ]
  },
  {
   "cell_type": "code",
   "execution_count": 10,
   "id": "1d8f3908-04e8-4e04-85c9-1648b0e00e3e",
   "metadata": {
    "execution": {
     "iopub.execute_input": "2022-11-24T12:44:49.757902Z",
     "iopub.status.busy": "2022-11-24T12:44:49.757624Z",
     "iopub.status.idle": "2022-11-24T12:44:49.765161Z",
     "shell.execute_reply": "2022-11-24T12:44:49.763444Z",
     "shell.execute_reply.started": "2022-11-24T12:44:49.757875Z"
    }
   },
   "outputs": [
    {
     "data": {
      "text/plain": [
       "False"
      ]
     },
     "execution_count": 10,
     "metadata": {},
     "output_type": "execute_result"
    }
   ],
   "source": [
    "age > 25"
   ]
  },
  {
   "cell_type": "code",
   "execution_count": 11,
   "id": "24919b6f-ef2f-4e93-a74d-8dde4e08a94a",
   "metadata": {
    "execution": {
     "iopub.execute_input": "2022-11-24T12:46:10.440372Z",
     "iopub.status.busy": "2022-11-24T12:46:10.439868Z",
     "iopub.status.idle": "2022-11-24T12:46:10.451167Z",
     "shell.execute_reply": "2022-11-24T12:46:10.447834Z",
     "shell.execute_reply.started": "2022-11-24T12:46:10.440321Z"
    }
   },
   "outputs": [
    {
     "name": "stdout",
     "output_type": "stream",
     "text": [
      "Productive age\n"
     ]
    }
   ],
   "source": [
    "if (age > 20) and (age < 30):\n",
    "    print(\"Productive age\")"
   ]
  },
  {
   "cell_type": "code",
   "execution_count": 12,
   "id": "b6d74113-f98d-40d6-8423-9847e1b06f54",
   "metadata": {
    "execution": {
     "iopub.execute_input": "2022-11-24T12:46:21.857249Z",
     "iopub.status.busy": "2022-11-24T12:46:21.856943Z",
     "iopub.status.idle": "2022-11-24T12:46:21.861432Z",
     "shell.execute_reply": "2022-11-24T12:46:21.860500Z",
     "shell.execute_reply.started": "2022-11-24T12:46:21.857215Z"
    }
   },
   "outputs": [],
   "source": [
    "if (age > 25) and (age < 30):\n",
    "    print(\"Productive age\")"
   ]
  },
  {
   "cell_type": "code",
   "execution_count": 13,
   "id": "dff94498-f6f4-4759-a435-7ef7ed6a1f83",
   "metadata": {
    "execution": {
     "iopub.execute_input": "2022-11-24T12:46:48.968633Z",
     "iopub.status.busy": "2022-11-24T12:46:48.968216Z",
     "iopub.status.idle": "2022-11-24T12:46:48.974356Z",
     "shell.execute_reply": "2022-11-24T12:46:48.973185Z",
     "shell.execute_reply.started": "2022-11-24T12:46:48.968597Z"
    }
   },
   "outputs": [
    {
     "name": "stdout",
     "output_type": "stream",
     "text": [
      "Productive age\n"
     ]
    }
   ],
   "source": [
    "if (age > 25) or (age < 30):\n",
    "    print(\"Productive age\")"
   ]
  },
  {
   "cell_type": "code",
   "execution_count": 14,
   "id": "4a6e0943-b335-44ad-9472-ad192e590eec",
   "metadata": {
    "execution": {
     "iopub.execute_input": "2022-11-24T12:49:16.133889Z",
     "iopub.status.busy": "2022-11-24T12:49:16.133151Z",
     "iopub.status.idle": "2022-11-24T12:49:16.140729Z",
     "shell.execute_reply": "2022-11-24T12:49:16.139403Z",
     "shell.execute_reply.started": "2022-11-24T12:49:16.133837Z"
    }
   },
   "outputs": [
    {
     "name": "stdout",
     "output_type": "stream",
     "text": [
      "['azkha', 'indra', 'ayu', 'subandi']\n"
     ]
    }
   ],
   "source": [
    "names = [\"azkha\", \"indra\", \"ayu\", \"subandi\"]\n",
    "print(names)"
   ]
  },
  {
   "cell_type": "code",
   "execution_count": 15,
   "id": "72706c6e-a270-418f-a2fe-123ef506f3b7",
   "metadata": {
    "execution": {
     "iopub.execute_input": "2022-11-24T12:49:49.745212Z",
     "iopub.status.busy": "2022-11-24T12:49:49.744939Z",
     "iopub.status.idle": "2022-11-24T12:49:49.750829Z",
     "shell.execute_reply": "2022-11-24T12:49:49.749741Z",
     "shell.execute_reply.started": "2022-11-24T12:49:49.745191Z"
    }
   },
   "outputs": [
    {
     "data": {
      "text/plain": [
       "True"
      ]
     },
     "execution_count": 15,
     "metadata": {},
     "output_type": "execute_result"
    }
   ],
   "source": [
    "\"indra\" in names"
   ]
  },
  {
   "cell_type": "code",
   "execution_count": 16,
   "id": "339c519f-6350-4d0b-a03d-ea2a359150b0",
   "metadata": {
    "execution": {
     "iopub.execute_input": "2022-11-24T12:50:18.213590Z",
     "iopub.status.busy": "2022-11-24T12:50:18.213258Z",
     "iopub.status.idle": "2022-11-24T12:50:18.218454Z",
     "shell.execute_reply": "2022-11-24T12:50:18.217252Z",
     "shell.execute_reply.started": "2022-11-24T12:50:18.213561Z"
    }
   },
   "outputs": [
    {
     "name": "stdout",
     "output_type": "stream",
     "text": [
      "indra is included in the name list\n"
     ]
    }
   ],
   "source": [
    "if \"indra\" in names:\n",
    "    print(\"indra is included in the name list\")"
   ]
  },
  {
   "cell_type": "code",
   "execution_count": 17,
   "id": "90620cb8-d2e8-4107-9fef-053f0e856fc6",
   "metadata": {
    "execution": {
     "iopub.execute_input": "2022-11-24T12:51:46.534233Z",
     "iopub.status.busy": "2022-11-24T12:51:46.533939Z",
     "iopub.status.idle": "2022-11-24T12:51:46.541402Z",
     "shell.execute_reply": "2022-11-24T12:51:46.539002Z",
     "shell.execute_reply.started": "2022-11-24T12:51:46.534202Z"
    }
   },
   "outputs": [
    {
     "name": "stdout",
     "output_type": "stream",
     "text": [
      "Indra included\n"
     ]
    }
   ],
   "source": [
    "if \"indra\" in names:\n",
    "    print(\"Indra included\")\n",
    "\n",
    "    if names[0] == \"indra\":\n",
    "        print(\"indra is the first name\")"
   ]
  },
  {
   "cell_type": "code",
   "execution_count": 19,
   "id": "7389871a-19cb-436f-97cd-0c05b9e5dc7e",
   "metadata": {
    "execution": {
     "iopub.execute_input": "2022-11-24T12:53:10.472358Z",
     "iopub.status.busy": "2022-11-24T12:53:10.472093Z",
     "iopub.status.idle": "2022-11-24T12:53:10.480585Z",
     "shell.execute_reply": "2022-11-24T12:53:10.476796Z",
     "shell.execute_reply.started": "2022-11-24T12:53:10.472331Z"
    },
    "tags": []
   },
   "outputs": [
    {
     "name": "stdout",
     "output_type": "stream",
     "text": [
      "ayu included\n"
     ]
    }
   ],
   "source": [
    "name = \"ayu\"\n",
    "\n",
    "if name in names:\n",
    "    print(\"{} included\".format(name))\n",
    "\n",
    "    if names[0] == name:\n",
    "        print(\"{} is the first name\".format(name))"
   ]
  },
  {
   "cell_type": "code",
   "execution_count": 21,
   "id": "bfadbaaa-5612-4cc9-a233-5a98ad475412",
   "metadata": {
    "execution": {
     "iopub.execute_input": "2022-11-24T12:54:07.429981Z",
     "iopub.status.busy": "2022-11-24T12:54:07.427958Z",
     "iopub.status.idle": "2022-11-24T12:54:07.438758Z",
     "shell.execute_reply": "2022-11-24T12:54:07.437381Z",
     "shell.execute_reply.started": "2022-11-24T12:54:07.429940Z"
    },
    "tags": []
   },
   "outputs": [
    {
     "name": "stdout",
     "output_type": "stream",
     "text": [
      "subandi included\n",
      "subandi is the last name\n"
     ]
    }
   ],
   "source": [
    "name = \"subandi\"\n",
    "\n",
    "if name in names:\n",
    "    print(\"{} included\".format(name))\n",
    "\n",
    "    if names[0] == name:\n",
    "        print(\"{} is the first name\".format(name))\n",
    "\n",
    "    if names[-1] == name:\n",
    "        print(\"{} is the last name\".format(name))"
   ]
  },
  {
   "cell_type": "code",
   "execution_count": 27,
   "id": "ece023bc-d32c-40ce-8d89-e03e0157993a",
   "metadata": {
    "execution": {
     "iopub.execute_input": "2022-11-24T13:01:40.304131Z",
     "iopub.status.busy": "2022-11-24T13:01:40.303845Z",
     "iopub.status.idle": "2022-11-24T13:01:40.313164Z",
     "shell.execute_reply": "2022-11-24T13:01:40.310308Z",
     "shell.execute_reply.started": "2022-11-24T13:01:40.304106Z"
    },
    "tags": []
   },
   "outputs": [
    {
     "name": "stdout",
     "output_type": "stream",
     "text": [
      "azkha included\n",
      "Ini masih diluar if statement\n"
     ]
    }
   ],
   "source": [
    "name = \"azkha\"\n",
    "\n",
    "if name in names:\n",
    "    print(\"{} included\".format(name))\n",
    "else:\n",
    "    print(\"{} isn't include!\".format(name))\n",
    "\n",
    "print(\"Ini masih diluar if statement\")"
   ]
  },
  {
   "cell_type": "code",
   "execution_count": 31,
   "id": "9ebae00e-ca99-466b-a2b8-1973dc7e9988",
   "metadata": {
    "execution": {
     "iopub.execute_input": "2022-11-24T13:04:50.880461Z",
     "iopub.status.busy": "2022-11-24T13:04:50.880060Z",
     "iopub.status.idle": "2022-11-24T13:04:50.888184Z",
     "shell.execute_reply": "2022-11-24T13:04:50.885524Z",
     "shell.execute_reply.started": "2022-11-24T13:04:50.880429Z"
    },
    "tags": []
   },
   "outputs": [
    {
     "name": "stdout",
     "output_type": "stream",
     "text": [
      "dani isn't include!\n",
      "Ini masih saja diluar if statement\n"
     ]
    }
   ],
   "source": [
    "name = \"dani\"\n",
    "\n",
    "if name in names:\n",
    "    print(\"{} included\".format(name))\n",
    "\n",
    "    if names[0] == name:\n",
    "        print(\"{} is the first name\".format(name))\n",
    "\n",
    "    if names[-1] == name:\n",
    "        print(\"{} is the last name\".format(name))\n",
    "    else:\n",
    "        print(\"{} is in index {}\".format(name, names.index(name)))\n",
    "\n",
    "else:\n",
    "    print(\"{} isn't include!\".format(name))\n",
    "\n",
    "print(\"Ini masih saja diluar if statement\")"
   ]
  },
  {
   "cell_type": "code",
   "execution_count": 44,
   "id": "7f1ddb39-c32e-419c-99da-de4bc64453c2",
   "metadata": {
    "execution": {
     "iopub.execute_input": "2022-11-24T13:12:01.763530Z",
     "iopub.status.busy": "2022-11-24T13:12:01.763232Z",
     "iopub.status.idle": "2022-11-24T13:12:01.768855Z",
     "shell.execute_reply": "2022-11-24T13:12:01.768101Z",
     "shell.execute_reply.started": "2022-11-24T13:12:01.763497Z"
    },
    "tags": []
   },
   "outputs": [],
   "source": [
    "book_price = 2e4\n",
    "magazine_price = 5e3\n",
    "money = 6e3"
   ]
  },
  {
   "cell_type": "code",
   "execution_count": 37,
   "id": "c866689a-c75a-4cb0-b344-34973c901ae9",
   "metadata": {
    "execution": {
     "iopub.execute_input": "2022-11-24T13:10:03.448113Z",
     "iopub.status.busy": "2022-11-24T13:10:03.447618Z",
     "iopub.status.idle": "2022-11-24T13:10:03.452880Z",
     "shell.execute_reply": "2022-11-24T13:10:03.451631Z",
     "shell.execute_reply.started": "2022-11-24T13:10:03.448080Z"
    },
    "tags": []
   },
   "outputs": [
    {
     "name": "stdout",
     "output_type": "stream",
     "text": [
      "Buy a book!\n"
     ]
    }
   ],
   "source": [
    "# buy the most expensive product \n",
    "if money >= book_price:\n",
    "    print(\"Buy a book!\")\n",
    "elif money >= magazine_price:\n",
    "    print(\"Just buy a magazine instead..\")\n",
    "else:\n",
    "    print(\"Need to collect more money!!\")"
   ]
  },
  {
   "cell_type": "code",
   "execution_count": 43,
   "id": "c6692fce-8aaf-4500-8ee8-8154865544dc",
   "metadata": {
    "execution": {
     "iopub.execute_input": "2022-11-24T13:10:59.164231Z",
     "iopub.status.busy": "2022-11-24T13:10:59.163825Z",
     "iopub.status.idle": "2022-11-24T13:10:59.169783Z",
     "shell.execute_reply": "2022-11-24T13:10:59.168335Z",
     "shell.execute_reply.started": "2022-11-24T13:10:59.164201Z"
    },
    "tags": []
   },
   "outputs": [
    {
     "name": "stdout",
     "output_type": "stream",
     "text": [
      "Need to collect more money!!\n"
     ]
    }
   ],
   "source": [
    "# be careful\n",
    "if money >= magazine_price:\n",
    "    print(\"Just buy a magazine instead..\")\n",
    "elif money >= book_price:\n",
    "    print(\"Buy a book!\")\n",
    "else:\n",
    "    print(\"Need to collect more money!!\")"
   ]
  },
  {
   "cell_type": "code",
   "execution_count": 45,
   "id": "bc26c07d-637c-46be-8241-d505a37f11d6",
   "metadata": {
    "execution": {
     "iopub.execute_input": "2022-11-24T13:12:29.769809Z",
     "iopub.status.busy": "2022-11-24T13:12:29.769418Z",
     "iopub.status.idle": "2022-11-24T13:12:29.775307Z",
     "shell.execute_reply": "2022-11-24T13:12:29.774478Z",
     "shell.execute_reply.started": "2022-11-24T13:12:29.769778Z"
    }
   },
   "outputs": [
    {
     "name": "stdout",
     "output_type": "stream",
     "text": [
      "Just buy a magazine instead..\n",
      "Buy a book!\n"
     ]
    }
   ],
   "source": [
    "# 1st if statement\n",
    "if money >= magazine_price:\n",
    "    print(\"Just buy a magazine instead..\")\n",
    "\n",
    "# 2nd if statement\n",
    "if money >= book_price:\n",
    "    print(\"Buy a book!\")\n",
    "else:\n",
    "    print(\"Need to collect more money!!\")"
   ]
  },
  {
   "cell_type": "code",
   "execution_count": null,
   "id": "d83e54d3-df87-4251-b7d1-3ef4bc818a7e",
   "metadata": {
    "execution": {
     "iopub.execute_input": "2022-11-24T13:20:14.739084Z",
     "iopub.status.busy": "2022-11-24T13:20:14.738740Z",
     "iopub.status.idle": "2022-11-24T13:20:14.742975Z",
     "shell.execute_reply": "2022-11-24T13:20:14.741961Z",
     "shell.execute_reply.started": "2022-11-24T13:20:14.739062Z"
    },
    "tags": []
   },
   "outputs": [],
   "source": [
    "money = 6e4"
   ]
  },
  {
   "cell_type": "code",
   "execution_count": 55,
   "id": "85070e35-158c-43b1-b611-6fcac558bf7e",
   "metadata": {
    "execution": {
     "iopub.execute_input": "2022-11-24T13:20:08.245350Z",
     "iopub.status.busy": "2022-11-24T13:20:08.245073Z",
     "iopub.status.idle": "2022-11-24T13:20:08.252184Z",
     "shell.execute_reply": "2022-11-24T13:20:08.250941Z",
     "shell.execute_reply.started": "2022-11-24T13:20:08.245320Z"
    },
    "tags": []
   },
   "outputs": [
    {
     "name": "stdout",
     "output_type": "stream",
     "text": [
      "60000.0\n"
     ]
    }
   ],
   "source": [
    "print(money)"
   ]
  },
  {
   "cell_type": "code",
   "execution_count": 52,
   "id": "eb3fa143-79c9-4c54-9a12-b1c78e74b588",
   "metadata": {
    "execution": {
     "iopub.execute_input": "2022-11-24T13:18:14.993249Z",
     "iopub.status.busy": "2022-11-24T13:18:14.992955Z",
     "iopub.status.idle": "2022-11-24T13:18:14.999051Z",
     "shell.execute_reply": "2022-11-24T13:18:14.998292Z",
     "shell.execute_reply.started": "2022-11-24T13:18:14.993218Z"
    },
    "tags": []
   },
   "outputs": [
    {
     "name": "stdout",
     "output_type": "stream",
     "text": [
      "Just buy a magazine instead..\n",
      "Our money: 55000.0\n",
      "Buy a book!\n",
      "Our money: 35000.0\n",
      "Our money now: 35000.0\n"
     ]
    }
   ],
   "source": [
    "book_price = 2e4\n",
    "magazine_price = 5e3\n",
    "\n",
    "# 1st if statement\n",
    "if money >= magazine_price:\n",
    "    print(\"Just buy a magazine instead..\")\n",
    "    money = money - magazine_price\n",
    "    print(\"Our money:\", money)\n",
    "\n",
    "# 2nd if statement\n",
    "if money >= book_price:\n",
    "    print(\"Buy a book!\")\n",
    "    money = money - book_price\n",
    "    print(\"Our money:\", money)\n",
    "else:\n",
    "    print(\"Need to collect more money to buy book!!\")\n",
    "\n",
    "print(\"Our money now:\", money)"
   ]
  },
  {
   "cell_type": "code",
   "execution_count": 58,
   "id": "e0ec57a0-064d-4747-8593-cb660a886bcf",
   "metadata": {
    "execution": {
     "iopub.execute_input": "2022-11-24T13:24:31.733514Z",
     "iopub.status.busy": "2022-11-24T13:24:31.733243Z",
     "iopub.status.idle": "2022-11-24T13:24:31.739068Z",
     "shell.execute_reply": "2022-11-24T13:24:31.737915Z",
     "shell.execute_reply.started": "2022-11-24T13:24:31.733487Z"
    },
    "tags": []
   },
   "outputs": [
    {
     "name": "stdout",
     "output_type": "stream",
     "text": [
      "60000.0\n"
     ]
    }
   ],
   "source": [
    "print(money)"
   ]
  },
  {
   "cell_type": "code",
   "execution_count": 60,
   "id": "78c821d6-8bc7-40f7-8418-5098f42b4d41",
   "metadata": {
    "execution": {
     "iopub.execute_input": "2022-11-24T13:25:21.555755Z",
     "iopub.status.busy": "2022-11-24T13:25:21.555055Z",
     "iopub.status.idle": "2022-11-24T13:25:21.564963Z",
     "shell.execute_reply": "2022-11-24T13:25:21.562576Z",
     "shell.execute_reply.started": "2022-11-24T13:25:21.555717Z"
    },
    "tags": []
   },
   "outputs": [
    {
     "name": "stdout",
     "output_type": "stream",
     "text": [
      "we're rich\n"
     ]
    }
   ],
   "source": [
    "if money > 1e4:\n",
    "    status = \"we're rich\"\n",
    "else:\n",
    "    status = \"we're poor\"\n",
    "\n",
    "print(status)"
   ]
  },
  {
   "cell_type": "code",
   "execution_count": 63,
   "id": "399f2b29-9184-4e5a-82d2-96b62fd15f23",
   "metadata": {
    "execution": {
     "iopub.execute_input": "2022-11-24T13:26:28.391684Z",
     "iopub.status.busy": "2022-11-24T13:26:28.391150Z",
     "iopub.status.idle": "2022-11-24T13:26:28.397818Z",
     "shell.execute_reply": "2022-11-24T13:26:28.396720Z",
     "shell.execute_reply.started": "2022-11-24T13:26:28.391602Z"
    },
    "tags": []
   },
   "outputs": [
    {
     "name": "stdout",
     "output_type": "stream",
     "text": [
      "True\n"
     ]
    }
   ],
   "source": [
    "is_rich = True if money > 1e4 else False\n",
    "print(is_rich)"
   ]
  },
  {
   "cell_type": "markdown",
   "id": "55ccbfb9-eb65-4583-96b1-ef6ffa735ffe",
   "metadata": {},
   "source": [
    "## While Loop"
   ]
  },
  {
   "cell_type": "code",
   "execution_count": 65,
   "id": "b5045314-8df4-4c45-9e2d-a47a1a1e1bf9",
   "metadata": {
    "execution": {
     "iopub.execute_input": "2022-11-24T13:45:57.592459Z",
     "iopub.status.busy": "2022-11-24T13:45:57.592176Z",
     "iopub.status.idle": "2022-11-24T13:45:57.615310Z",
     "shell.execute_reply": "2022-11-24T13:45:57.605486Z",
     "shell.execute_reply.started": "2022-11-24T13:45:57.592430Z"
    },
    "tags": []
   },
   "outputs": [],
   "source": [
    "money = 60000"
   ]
  },
  {
   "cell_type": "code",
   "execution_count": 66,
   "id": "a3d1be5a-408d-453c-85d8-a79a33538db2",
   "metadata": {
    "execution": {
     "iopub.execute_input": "2022-11-24T13:47:20.416133Z",
     "iopub.status.busy": "2022-11-24T13:47:20.415849Z",
     "iopub.status.idle": "2022-11-24T13:47:20.422578Z",
     "shell.execute_reply": "2022-11-24T13:47:20.421671Z",
     "shell.execute_reply.started": "2022-11-24T13:47:20.416105Z"
    }
   },
   "outputs": [
    {
     "name": "stdout",
     "output_type": "stream",
     "text": [
      "Our money: 60000\n",
      "Spending money...\n",
      "Our money: 50000\n",
      "Spending money...\n",
      "Our money: 40000\n",
      "Spending money...\n",
      "Our money: 30000\n",
      "Spending money...\n",
      "Our money: 20000\n",
      "Spending money...\n"
     ]
    }
   ],
   "source": [
    "while money > 10000:\n",
    "    print(\"Our money:\", money)\n",
    "    print(\"Spending money...\")\n",
    "    money = money - 10000"
   ]
  },
  {
   "cell_type": "code",
   "execution_count": 67,
   "id": "21e4f538-b612-4932-85d3-85d9d58a8216",
   "metadata": {
    "execution": {
     "iopub.execute_input": "2022-11-24T13:48:22.303948Z",
     "iopub.status.busy": "2022-11-24T13:48:22.303550Z",
     "iopub.status.idle": "2022-11-24T13:48:22.308940Z",
     "shell.execute_reply": "2022-11-24T13:48:22.307936Z",
     "shell.execute_reply.started": "2022-11-24T13:48:22.303916Z"
    }
   },
   "outputs": [
    {
     "name": "stdout",
     "output_type": "stream",
     "text": [
      "10000\n"
     ]
    }
   ],
   "source": [
    "print(money)"
   ]
  },
  {
   "cell_type": "code",
   "execution_count": 68,
   "id": "cf02a79c-d02d-42a1-81eb-ffb45b42dc5a",
   "metadata": {
    "execution": {
     "iopub.execute_input": "2022-11-24T13:48:42.602028Z",
     "iopub.status.busy": "2022-11-24T13:48:42.601615Z",
     "iopub.status.idle": "2022-11-24T13:48:42.608562Z",
     "shell.execute_reply": "2022-11-24T13:48:42.607113Z",
     "shell.execute_reply.started": "2022-11-24T13:48:42.601971Z"
    }
   },
   "outputs": [
    {
     "name": "stdout",
     "output_type": "stream",
     "text": [
      "['azkha', 'indra', 'ayu', 'subandi']\n"
     ]
    }
   ],
   "source": [
    "print(names)"
   ]
  },
  {
   "cell_type": "code",
   "execution_count": 69,
   "id": "9c7b0f52-1917-476f-a14c-f6b4e0b7d4bb",
   "metadata": {
    "execution": {
     "iopub.execute_input": "2022-11-24T13:48:59.993336Z",
     "iopub.status.busy": "2022-11-24T13:48:59.992838Z",
     "iopub.status.idle": "2022-11-24T13:49:00.001061Z",
     "shell.execute_reply": "2022-11-24T13:48:59.998821Z",
     "shell.execute_reply.started": "2022-11-24T13:48:59.993291Z"
    }
   },
   "outputs": [
    {
     "name": "stdout",
     "output_type": "stream",
     "text": [
      "azkha\n",
      "indra\n",
      "ayu\n",
      "subandi\n"
     ]
    }
   ],
   "source": [
    "print(names[0])\n",
    "print(names[1])\n",
    "print(names[2])\n",
    "print(names[3])"
   ]
  },
  {
   "cell_type": "code",
   "execution_count": 71,
   "id": "51275ce9-d948-4039-bc35-7f648967da6f",
   "metadata": {
    "execution": {
     "iopub.execute_input": "2022-11-24T13:51:44.318726Z",
     "iopub.status.busy": "2022-11-24T13:51:44.318448Z",
     "iopub.status.idle": "2022-11-24T13:51:44.327749Z",
     "shell.execute_reply": "2022-11-24T13:51:44.326499Z",
     "shell.execute_reply.started": "2022-11-24T13:51:44.318696Z"
    },
    "tags": []
   },
   "outputs": [
    {
     "name": "stdout",
     "output_type": "stream",
     "text": [
      "names[0]: azkha\n",
      "names[1]: indra\n",
      "names[2]: ayu\n",
      "names[3]: subandi\n"
     ]
    }
   ],
   "source": [
    "num_names = len(names)\n",
    "idx = 0\n",
    "\n",
    "while idx < num_names:\n",
    "    print(\"names[{}]: {}\".format(idx, names[idx]))\n",
    "    idx = idx + 1"
   ]
  },
  {
   "cell_type": "code",
   "execution_count": 73,
   "id": "11690f23-5526-4da9-9211-f191891334cc",
   "metadata": {
    "execution": {
     "iopub.execute_input": "2022-11-24T13:53:11.214930Z",
     "iopub.status.busy": "2022-11-24T13:53:11.214631Z",
     "iopub.status.idle": "2022-11-24T13:53:11.220625Z",
     "shell.execute_reply": "2022-11-24T13:53:11.219094Z",
     "shell.execute_reply.started": "2022-11-24T13:53:11.214903Z"
    },
    "tags": []
   },
   "outputs": [
    {
     "name": "stdout",
     "output_type": "stream",
     "text": [
      "names[0]: azkha\n",
      "names[1]: indra\n",
      "names[2]: ayu\n",
      "names[3]: subandi\n"
     ]
    }
   ],
   "source": [
    "num_names = len(names)\n",
    "idx = 0\n",
    "\n",
    "while idx < num_names:\n",
    "    print(\"names[{}]: {}\".format(idx, names[idx]))\n",
    "    idx = idx + 1"
   ]
  },
  {
   "cell_type": "code",
   "execution_count": 79,
   "id": "fcd7e281-769b-4620-a063-176f010cc244",
   "metadata": {
    "execution": {
     "iopub.execute_input": "2022-11-24T13:56:38.183998Z",
     "iopub.status.busy": "2022-11-24T13:56:38.183620Z",
     "iopub.status.idle": "2022-11-24T13:56:38.191225Z",
     "shell.execute_reply": "2022-11-24T13:56:38.189774Z",
     "shell.execute_reply.started": "2022-11-24T13:56:38.183954Z"
    },
    "tags": []
   },
   "outputs": [
    {
     "name": "stdout",
     "output_type": "stream",
     "text": [
      "names[1]: indra\n",
      "names[3]: subandi\n"
     ]
    }
   ],
   "source": [
    "num_names = len(names)\n",
    "idx = 0\n",
    "\n",
    "while idx < num_names:\n",
    "    if not names[idx].startswith(\"a\"):\n",
    "        print(\"names[{}]: {}\".format(idx, names[idx]))\n",
    "    idx = idx + 1"
   ]
  },
  {
   "cell_type": "code",
   "execution_count": 80,
   "id": "d779c21a-031f-4319-980a-9a63dd6bc535",
   "metadata": {
    "execution": {
     "iopub.execute_input": "2022-11-24T14:00:28.442239Z",
     "iopub.status.busy": "2022-11-24T14:00:28.441919Z",
     "iopub.status.idle": "2022-11-24T14:00:28.449399Z",
     "shell.execute_reply": "2022-11-24T14:00:28.447792Z",
     "shell.execute_reply.started": "2022-11-24T14:00:28.442209Z"
    }
   },
   "outputs": [
    {
     "name": "stdout",
     "output_type": "stream",
     "text": [
      "names[1]: indra\n",
      "names[3]: subandi\n"
     ]
    }
   ],
   "source": [
    "num_names = len(names)\n",
    "idx = 0\n",
    "\n",
    "while idx < num_names:\n",
    "    if names[idx].startswith(\"a\"):\n",
    "        idx = idx + 1\n",
    "        continue\n",
    "\n",
    "    print(\"names[{}]: {}\".format(idx, names[idx]))\n",
    "    idx = idx + 1"
   ]
  },
  {
   "cell_type": "code",
   "execution_count": 81,
   "id": "41bcb0a1-9f20-409c-9184-c07613fce417",
   "metadata": {
    "execution": {
     "iopub.execute_input": "2022-11-24T14:01:53.656452Z",
     "iopub.status.busy": "2022-11-24T14:01:53.656165Z",
     "iopub.status.idle": "2022-11-24T14:01:53.661931Z",
     "shell.execute_reply": "2022-11-24T14:01:53.660208Z",
     "shell.execute_reply.started": "2022-11-24T14:01:53.656426Z"
    }
   },
   "outputs": [],
   "source": [
    "num_names = len(names)\n",
    "idx = 0\n",
    "\n",
    "while idx < num_names:\n",
    "    if names[idx] == \"ayu\":\n",
    "        break\n",
    "    idx = idx + 1"
   ]
  },
  {
   "cell_type": "code",
   "execution_count": 82,
   "id": "63fa6e32-034e-457a-ad73-6498bd31032d",
   "metadata": {
    "execution": {
     "iopub.execute_input": "2022-11-24T14:01:59.491071Z",
     "iopub.status.busy": "2022-11-24T14:01:59.490759Z",
     "iopub.status.idle": "2022-11-24T14:01:59.498599Z",
     "shell.execute_reply": "2022-11-24T14:01:59.497180Z",
     "shell.execute_reply.started": "2022-11-24T14:01:59.491039Z"
    }
   },
   "outputs": [
    {
     "data": {
      "text/plain": [
       "2"
      ]
     },
     "execution_count": 82,
     "metadata": {},
     "output_type": "execute_result"
    }
   ],
   "source": [
    "idx"
   ]
  },
  {
   "cell_type": "code",
   "execution_count": 83,
   "id": "a6c39e19-9c17-45e1-badd-6325e1840ec8",
   "metadata": {
    "execution": {
     "iopub.execute_input": "2022-11-24T14:02:03.127596Z",
     "iopub.status.busy": "2022-11-24T14:02:03.127200Z",
     "iopub.status.idle": "2022-11-24T14:02:03.134162Z",
     "shell.execute_reply": "2022-11-24T14:02:03.133280Z",
     "shell.execute_reply.started": "2022-11-24T14:02:03.127561Z"
    }
   },
   "outputs": [
    {
     "data": {
      "text/plain": [
       "'ayu'"
      ]
     },
     "execution_count": 83,
     "metadata": {},
     "output_type": "execute_result"
    }
   ],
   "source": [
    "names[idx]"
   ]
  },
  {
   "cell_type": "code",
   "execution_count": 85,
   "id": "d8007e3b-1d92-4fd7-a8b5-75282da7129b",
   "metadata": {
    "execution": {
     "iopub.execute_input": "2022-11-24T14:06:04.045570Z",
     "iopub.status.busy": "2022-11-24T14:06:04.045299Z",
     "iopub.status.idle": "2022-11-24T14:06:04.051576Z",
     "shell.execute_reply": "2022-11-24T14:06:04.050684Z",
     "shell.execute_reply.started": "2022-11-24T14:06:04.045545Z"
    },
    "tags": []
   },
   "outputs": [
    {
     "name": "stdout",
     "output_type": "stream",
     "text": [
      "names[0]: azkha\n",
      "char[0]: a\n",
      "char[1]: z\n",
      "char[2]: k\n",
      "char[3]: h\n",
      "char[4]: a\n",
      "names[1]: indra\n",
      "char[0]: i\n",
      "char[1]: n\n",
      "char[2]: d\n",
      "char[3]: r\n",
      "char[4]: a\n",
      "names[2]: ayu\n",
      "char[0]: a\n",
      "char[1]: y\n",
      "char[2]: u\n",
      "names[3]: subandi\n",
      "char[0]: s\n",
      "char[1]: u\n",
      "char[2]: b\n",
      "char[3]: a\n",
      "char[4]: n\n",
      "char[5]: d\n",
      "char[6]: i\n"
     ]
    }
   ],
   "source": [
    "num_names = len(names)\n",
    "idx = 0\n",
    "\n",
    "while idx < num_names:\n",
    "    print(\"names[{}]: {}\".format(idx, names[idx]))\n",
    "\n",
    "    char_idx = 0\n",
    "    name_length = len(names[idx])\n",
    "    while char_idx < name_length:\n",
    "        print(\"char[{}]: {}\".format(char_idx, names[idx][char_idx]))\n",
    "        char_idx = char_idx + 1\n",
    "    idx = idx + 1"
   ]
  },
  {
   "cell_type": "code",
   "execution_count": 87,
   "id": "0a481b30-250d-47cd-893a-0f554f83c28a",
   "metadata": {
    "execution": {
     "iopub.execute_input": "2022-11-24T14:08:21.947718Z",
     "iopub.status.busy": "2022-11-24T14:08:21.945826Z",
     "iopub.status.idle": "2022-11-24T14:08:21.956296Z",
     "shell.execute_reply": "2022-11-24T14:08:21.954574Z",
     "shell.execute_reply.started": "2022-11-24T14:08:21.947663Z"
    },
    "tags": []
   },
   "outputs": [
    {
     "name": "stdout",
     "output_type": "stream",
     "text": [
      "names[0]: azkha\n",
      "char[0]: a\n",
      "char[1]: z\n",
      "char[2]: k\n",
      "char[3]: h\n",
      "char[4]: a\n",
      "Characters have been spelled!\n",
      "names[1]: indra\n",
      "char[0]: i\n",
      "char[1]: n\n",
      "char[2]: d\n",
      "char[3]: r\n",
      "char[4]: a\n",
      "Characters have been spelled!\n",
      "names[2]: ayu\n",
      "char[0]: a\n",
      "char[1]: y\n",
      "char[2]: u\n",
      "Characters have been spelled!\n",
      "names[3]: subandi\n",
      "char[0]: s\n",
      "char[1]: u\n",
      "char[2]: b\n",
      "char[3]: a\n",
      "char[4]: n\n",
      "char[5]: d\n",
      "char[6]: i\n",
      "Characters have been spelled!\n",
      "All names have been printed..\n",
      "Outside while loop\n"
     ]
    }
   ],
   "source": [
    "num_names = len(names)\n",
    "idx = 0\n",
    "\n",
    "while idx < num_names:\n",
    "    print(\"names[{}]: {}\".format(idx, names[idx]))\n",
    "\n",
    "    char_idx = 0\n",
    "    name_length = len(names[idx])\n",
    "    while char_idx < name_length:\n",
    "        print(\"char[{}]: {}\".format(char_idx, names[idx][char_idx]))\n",
    "        char_idx = char_idx + 1\n",
    "    else:\n",
    "        print(\"Characters have been spelled!\")\n",
    "    idx = idx + 1\n",
    "else:\n",
    "    print(\"All names have been printed..\")\n",
    "\n",
    "print(\"Outside while loop\")"
   ]
  },
  {
   "cell_type": "markdown",
   "id": "29bb6503-c0c2-47fb-9836-13fdb1ef7ae8",
   "metadata": {},
   "source": [
    "## For Loop"
   ]
  },
  {
   "cell_type": "code",
   "execution_count": 89,
   "id": "a6fdb689-3618-46b6-bf50-606a6ecb360f",
   "metadata": {
    "execution": {
     "iopub.execute_input": "2022-11-24T14:13:28.887127Z",
     "iopub.status.busy": "2022-11-24T14:13:28.886648Z",
     "iopub.status.idle": "2022-11-24T14:13:28.894775Z",
     "shell.execute_reply": "2022-11-24T14:13:28.891813Z",
     "shell.execute_reply.started": "2022-11-24T14:13:28.887092Z"
    },
    "tags": []
   },
   "outputs": [
    {
     "name": "stdout",
     "output_type": "stream",
     "text": [
      "name: azkha\n",
      "name: indra\n",
      "name: ayu\n",
      "name: subandi\n"
     ]
    }
   ],
   "source": [
    "for name in names:\n",
    "    print(\"name: {}\".format(name))"
   ]
  },
  {
   "cell_type": "code",
   "execution_count": 90,
   "id": "b037153d-934f-4604-91b1-6c950f2d6626",
   "metadata": {
    "execution": {
     "iopub.execute_input": "2022-11-24T14:13:54.521916Z",
     "iopub.status.busy": "2022-11-24T14:13:54.521629Z",
     "iopub.status.idle": "2022-11-24T14:13:54.532468Z",
     "shell.execute_reply": "2022-11-24T14:13:54.526856Z",
     "shell.execute_reply.started": "2022-11-24T14:13:54.521891Z"
    }
   },
   "outputs": [
    {
     "name": "stdout",
     "output_type": "stream",
     "text": [
      "subandi\n"
     ]
    }
   ],
   "source": [
    "print(name)"
   ]
  },
  {
   "cell_type": "code",
   "execution_count": 91,
   "id": "0b2074ea-8c43-4434-aae9-955a709e6298",
   "metadata": {
    "execution": {
     "iopub.execute_input": "2022-11-24T14:14:33.568165Z",
     "iopub.status.busy": "2022-11-24T14:14:33.567868Z",
     "iopub.status.idle": "2022-11-24T14:14:33.573988Z",
     "shell.execute_reply": "2022-11-24T14:14:33.572777Z",
     "shell.execute_reply.started": "2022-11-24T14:14:33.568136Z"
    }
   },
   "outputs": [
    {
     "name": "stdout",
     "output_type": "stream",
     "text": [
      "name: azkha\n",
      "char: a\n",
      "char: z\n",
      "char: k\n",
      "char: h\n",
      "char: a\n",
      "name: indra\n",
      "char: i\n",
      "char: n\n",
      "char: d\n",
      "char: r\n",
      "char: a\n",
      "name: ayu\n",
      "char: a\n",
      "char: y\n",
      "char: u\n",
      "name: subandi\n",
      "char: s\n",
      "char: u\n",
      "char: b\n",
      "char: a\n",
      "char: n\n",
      "char: d\n",
      "char: i\n"
     ]
    }
   ],
   "source": [
    "for name in names:\n",
    "    print(\"name: {}\".format(name))\n",
    "    for char in name:\n",
    "        print(\"char: {}\".format(char))"
   ]
  },
  {
   "cell_type": "code",
   "execution_count": 92,
   "id": "f70a808f-9f16-453b-a520-0610c8945522",
   "metadata": {
    "execution": {
     "iopub.execute_input": "2022-11-24T14:16:24.123386Z",
     "iopub.status.busy": "2022-11-24T14:16:24.123025Z",
     "iopub.status.idle": "2022-11-24T14:16:24.128634Z",
     "shell.execute_reply": "2022-11-24T14:16:24.127352Z",
     "shell.execute_reply.started": "2022-11-24T14:16:24.123326Z"
    }
   },
   "outputs": [
    {
     "name": "stdout",
     "output_type": "stream",
     "text": [
      "{'indra': 25, 'azkha': 20, 'subandi': 23, 'ayu': 28}\n"
     ]
    }
   ],
   "source": [
    "ages = {\n",
    "    \"indra\": 25,\n",
    "    \"azkha\": 20,\n",
    "    \"subandi\": 23,\n",
    "    \"ayu\": 28\n",
    "}\n",
    "print(ages)"
   ]
  },
  {
   "cell_type": "code",
   "execution_count": 93,
   "id": "6e115e82-71c7-4d82-b89a-8d47587648b2",
   "metadata": {
    "execution": {
     "iopub.execute_input": "2022-11-24T14:16:58.327764Z",
     "iopub.status.busy": "2022-11-24T14:16:58.327315Z",
     "iopub.status.idle": "2022-11-24T14:16:58.337118Z",
     "shell.execute_reply": "2022-11-24T14:16:58.334401Z",
     "shell.execute_reply.started": "2022-11-24T14:16:58.327720Z"
    }
   },
   "outputs": [
    {
     "data": {
      "text/plain": [
       "dict_keys(['indra', 'azkha', 'subandi', 'ayu'])"
      ]
     },
     "execution_count": 93,
     "metadata": {},
     "output_type": "execute_result"
    }
   ],
   "source": [
    "ages.keys()"
   ]
  },
  {
   "cell_type": "code",
   "execution_count": 95,
   "id": "624b2fe5-f7d1-48b9-a372-4ee967419e3a",
   "metadata": {
    "execution": {
     "iopub.execute_input": "2022-11-24T14:18:06.653623Z",
     "iopub.status.busy": "2022-11-24T14:18:06.653330Z",
     "iopub.status.idle": "2022-11-24T14:18:06.658698Z",
     "shell.execute_reply": "2022-11-24T14:18:06.657515Z",
     "shell.execute_reply.started": "2022-11-24T14:18:06.653593Z"
    },
    "tags": []
   },
   "outputs": [
    {
     "name": "stdout",
     "output_type": "stream",
     "text": [
      "nama: indra\n",
      "umur: 25\n",
      "nama: azkha\n",
      "umur: 20\n",
      "nama: subandi\n",
      "umur: 23\n",
      "nama: ayu\n",
      "umur: 28\n"
     ]
    }
   ],
   "source": [
    "for key in ages.keys():\n",
    "    print(\"nama:\", key)\n",
    "    print(\"umur:\", ages[key])"
   ]
  },
  {
   "cell_type": "code",
   "execution_count": 96,
   "id": "5e25ab74-3acd-44e6-ab23-96aa9547e602",
   "metadata": {
    "execution": {
     "iopub.execute_input": "2022-11-24T14:18:31.394243Z",
     "iopub.status.busy": "2022-11-24T14:18:31.393288Z",
     "iopub.status.idle": "2022-11-24T14:18:31.399501Z",
     "shell.execute_reply": "2022-11-24T14:18:31.398548Z",
     "shell.execute_reply.started": "2022-11-24T14:18:31.394210Z"
    }
   },
   "outputs": [
    {
     "data": {
      "text/plain": [
       "dict_values([25, 20, 23, 28])"
      ]
     },
     "execution_count": 96,
     "metadata": {},
     "output_type": "execute_result"
    }
   ],
   "source": [
    "ages.values()"
   ]
  },
  {
   "cell_type": "code",
   "execution_count": 104,
   "id": "8bb052ab-3a9d-4512-bec5-ca26968a6962",
   "metadata": {
    "execution": {
     "iopub.execute_input": "2022-11-24T14:23:44.310006Z",
     "iopub.status.busy": "2022-11-24T14:23:44.309514Z",
     "iopub.status.idle": "2022-11-24T14:23:44.326173Z",
     "shell.execute_reply": "2022-11-24T14:23:44.324576Z",
     "shell.execute_reply.started": "2022-11-24T14:23:44.309951Z"
    }
   },
   "outputs": [
    {
     "name": "stdout",
     "output_type": "stream",
     "text": [
      "25\n",
      "20\n",
      "23\n",
      "28\n"
     ]
    }
   ],
   "source": [
    "values = [25, 20, 23, 28]\n",
    "\n",
    "for age in values:\n",
    "    print(age)"
   ]
  },
  {
   "cell_type": "code",
   "execution_count": 97,
   "id": "37e4a0da-1d25-4014-898e-e5a6bcc43a9d",
   "metadata": {
    "execution": {
     "iopub.execute_input": "2022-11-24T14:18:54.643179Z",
     "iopub.status.busy": "2022-11-24T14:18:54.642773Z",
     "iopub.status.idle": "2022-11-24T14:18:54.652432Z",
     "shell.execute_reply": "2022-11-24T14:18:54.651595Z",
     "shell.execute_reply.started": "2022-11-24T14:18:54.643145Z"
    }
   },
   "outputs": [
    {
     "name": "stdout",
     "output_type": "stream",
     "text": [
      "umur: 25\n",
      "umur: 20\n",
      "umur: 23\n",
      "umur: 28\n"
     ]
    }
   ],
   "source": [
    "for age in ages.values():\n",
    "    print(\"umur:\", age)"
   ]
  },
  {
   "cell_type": "code",
   "execution_count": 103,
   "id": "e20fc7c4-9f82-419b-865a-f28a4ba10302",
   "metadata": {
    "execution": {
     "iopub.execute_input": "2022-11-24T14:23:12.317231Z",
     "iopub.status.busy": "2022-11-24T14:23:12.316550Z",
     "iopub.status.idle": "2022-11-24T14:23:12.324202Z",
     "shell.execute_reply": "2022-11-24T14:23:12.322783Z",
     "shell.execute_reply.started": "2022-11-24T14:23:12.317197Z"
    },
    "tags": []
   },
   "outputs": [
    {
     "name": "stdout",
     "output_type": "stream",
     "text": [
      "umur: 25\n",
      "umur: 20\n",
      "umur: 23\n",
      "umur: 28\n"
     ]
    }
   ],
   "source": [
    "for value in ages.values():\n",
    "    print(\"umur:\", value)"
   ]
  },
  {
   "cell_type": "code",
   "execution_count": 98,
   "id": "e4c573aa-cea5-4154-8b73-a596ad09f684",
   "metadata": {
    "execution": {
     "iopub.execute_input": "2022-11-24T14:19:41.442324Z",
     "iopub.status.busy": "2022-11-24T14:19:41.442068Z",
     "iopub.status.idle": "2022-11-24T14:19:41.448714Z",
     "shell.execute_reply": "2022-11-24T14:19:41.447127Z",
     "shell.execute_reply.started": "2022-11-24T14:19:41.442300Z"
    }
   },
   "outputs": [
    {
     "data": {
      "text/plain": [
       "dict_items([('indra', 25), ('azkha', 20), ('subandi', 23), ('ayu', 28)])"
      ]
     },
     "execution_count": 98,
     "metadata": {},
     "output_type": "execute_result"
    }
   ],
   "source": [
    "ages.items()"
   ]
  },
  {
   "cell_type": "code",
   "execution_count": 99,
   "id": "911a7b29-35e0-4369-829e-871716acc860",
   "metadata": {
    "execution": {
     "iopub.execute_input": "2022-11-24T14:20:02.855491Z",
     "iopub.status.busy": "2022-11-24T14:20:02.855221Z",
     "iopub.status.idle": "2022-11-24T14:20:02.863846Z",
     "shell.execute_reply": "2022-11-24T14:20:02.862072Z",
     "shell.execute_reply.started": "2022-11-24T14:20:02.855465Z"
    }
   },
   "outputs": [],
   "source": [
    "for item in ages.items():\n",
    "    break"
   ]
  },
  {
   "cell_type": "code",
   "execution_count": 101,
   "id": "e1bff0ec-0b68-467e-b939-9e0971904dc6",
   "metadata": {
    "execution": {
     "iopub.execute_input": "2022-11-24T14:20:29.511051Z",
     "iopub.status.busy": "2022-11-24T14:20:29.510628Z",
     "iopub.status.idle": "2022-11-24T14:20:29.520551Z",
     "shell.execute_reply": "2022-11-24T14:20:29.519157Z",
     "shell.execute_reply.started": "2022-11-24T14:20:29.511007Z"
    },
    "tags": []
   },
   "outputs": [
    {
     "name": "stdout",
     "output_type": "stream",
     "text": [
      "indra\n",
      "25\n"
     ]
    }
   ],
   "source": [
    "# tuple unpacking\n",
    "key, value = item\n",
    "print(key)\n",
    "print(value)"
   ]
  },
  {
   "cell_type": "code",
   "execution_count": 102,
   "id": "b7932371-bcc8-40a6-8f36-eb6d41891f1c",
   "metadata": {
    "execution": {
     "iopub.execute_input": "2022-11-24T14:21:56.690484Z",
     "iopub.status.busy": "2022-11-24T14:21:56.690192Z",
     "iopub.status.idle": "2022-11-24T14:21:56.695691Z",
     "shell.execute_reply": "2022-11-24T14:21:56.694195Z",
     "shell.execute_reply.started": "2022-11-24T14:21:56.690454Z"
    }
   },
   "outputs": [
    {
     "name": "stdout",
     "output_type": "stream",
     "text": [
      "indra.. umur: 25\n",
      "azkha.. umur: 20\n",
      "subandi.. umur: 23\n",
      "ayu.. umur: 28\n"
     ]
    }
   ],
   "source": [
    "for name, age in ages.items():\n",
    "    print(\"{}.. umur: {}\".format(name, age))"
   ]
  },
  {
   "cell_type": "code",
   "execution_count": 105,
   "id": "72a14414-8c09-495e-8180-62d91530f3db",
   "metadata": {
    "execution": {
     "iopub.execute_input": "2022-11-24T14:25:28.429294Z",
     "iopub.status.busy": "2022-11-24T14:25:28.428681Z",
     "iopub.status.idle": "2022-11-24T14:25:28.436987Z",
     "shell.execute_reply": "2022-11-24T14:25:28.436086Z",
     "shell.execute_reply.started": "2022-11-24T14:25:28.429256Z"
    }
   },
   "outputs": [
    {
     "name": "stdout",
     "output_type": "stream",
     "text": [
      "['python', 'data science', 'machine learning', 'visualization', 'engineering', 'statistics', 'modeling']\n"
     ]
    }
   ],
   "source": [
    "skills = [\n",
    "    \"python\",\n",
    "    \"data science\",\n",
    "    \"machine learning\",\n",
    "    \"visualization\",\n",
    "    \"engineering\",\n",
    "    \"statistics\",\n",
    "    \"modeling\"\n",
    "]\n",
    "print(skills)"
   ]
  },
  {
   "cell_type": "code",
   "execution_count": 106,
   "id": "2f2b690c-703d-466e-b071-78971f93b959",
   "metadata": {
    "execution": {
     "iopub.execute_input": "2022-11-24T14:26:21.935844Z",
     "iopub.status.busy": "2022-11-24T14:26:21.935544Z",
     "iopub.status.idle": "2022-11-24T14:26:21.944801Z",
     "shell.execute_reply": "2022-11-24T14:26:21.943932Z",
     "shell.execute_reply.started": "2022-11-24T14:26:21.935815Z"
    }
   },
   "outputs": [
    {
     "name": "stdout",
     "output_type": "stream",
     "text": [
      "python\n",
      "machine learning\n",
      "engineering\n",
      "modeling\n"
     ]
    }
   ],
   "source": [
    "i = 0\n",
    "while i < len(skills):\n",
    "    print(skills[i])\n",
    "    i = i + 2"
   ]
  },
  {
   "cell_type": "code",
   "execution_count": 107,
   "id": "f4028af2-6039-426b-a0fc-ae09daea7a62",
   "metadata": {
    "execution": {
     "iopub.execute_input": "2022-11-24T14:26:50.260815Z",
     "iopub.status.busy": "2022-11-24T14:26:50.259628Z",
     "iopub.status.idle": "2022-11-24T14:26:50.267429Z",
     "shell.execute_reply": "2022-11-24T14:26:50.266239Z",
     "shell.execute_reply.started": "2022-11-24T14:26:50.260764Z"
    }
   },
   "outputs": [
    {
     "name": "stdout",
     "output_type": "stream",
     "text": [
      "0\n",
      "1\n",
      "2\n",
      "3\n",
      "4\n",
      "5\n",
      "6\n",
      "7\n",
      "8\n",
      "9\n",
      "10\n"
     ]
    }
   ],
   "source": [
    "numbers = [0, 1, 2, 3, 4, 5, 6, 7, 8, 9, 10]\n",
    "for number in numbers:\n",
    "    print(number)"
   ]
  },
  {
   "cell_type": "code",
   "execution_count": 108,
   "id": "bac2ac11-9adb-4c4d-b6fb-2ad9fa29d6cc",
   "metadata": {
    "execution": {
     "iopub.execute_input": "2022-11-24T14:27:27.774956Z",
     "iopub.status.busy": "2022-11-24T14:27:27.774601Z",
     "iopub.status.idle": "2022-11-24T14:27:27.780851Z",
     "shell.execute_reply": "2022-11-24T14:27:27.779732Z",
     "shell.execute_reply.started": "2022-11-24T14:27:27.774922Z"
    }
   },
   "outputs": [
    {
     "name": "stdout",
     "output_type": "stream",
     "text": [
      "2\n",
      "4\n",
      "6\n",
      "8\n",
      "10\n"
     ]
    }
   ],
   "source": [
    "numbers = [1, 2, 3, 4, 5, 6, 7, 8, 9, 10]\n",
    "for number in numbers:\n",
    "    if number % 2 == 0:\n",
    "        print(number)"
   ]
  },
  {
   "cell_type": "code",
   "execution_count": 109,
   "id": "c008a764-c6c0-4f43-8a71-2266f492250f",
   "metadata": {
    "execution": {
     "iopub.execute_input": "2022-11-24T14:28:19.672418Z",
     "iopub.status.busy": "2022-11-24T14:28:19.672156Z",
     "iopub.status.idle": "2022-11-24T14:28:19.681131Z",
     "shell.execute_reply": "2022-11-24T14:28:19.679949Z",
     "shell.execute_reply.started": "2022-11-24T14:28:19.672393Z"
    }
   },
   "outputs": [
    {
     "name": "stdout",
     "output_type": "stream",
     "text": [
      "range(0, 10)\n"
     ]
    }
   ],
   "source": [
    "print(range(10))"
   ]
  },
  {
   "cell_type": "code",
   "execution_count": 110,
   "id": "7ccaafcf-97a0-4701-85d3-6401017b56d4",
   "metadata": {
    "execution": {
     "iopub.execute_input": "2022-11-24T14:28:39.008151Z",
     "iopub.status.busy": "2022-11-24T14:28:39.007404Z",
     "iopub.status.idle": "2022-11-24T14:28:39.016179Z",
     "shell.execute_reply": "2022-11-24T14:28:39.014197Z",
     "shell.execute_reply.started": "2022-11-24T14:28:39.008106Z"
    }
   },
   "outputs": [
    {
     "name": "stdout",
     "output_type": "stream",
     "text": [
      "0\n",
      "1\n",
      "2\n",
      "3\n",
      "4\n",
      "5\n",
      "6\n",
      "7\n",
      "8\n",
      "9\n"
     ]
    }
   ],
   "source": [
    "for i in range(10):\n",
    "    print(i)"
   ]
  },
  {
   "cell_type": "code",
   "execution_count": 113,
   "id": "761a623b-9bc2-4512-8729-ec864c5798db",
   "metadata": {
    "execution": {
     "iopub.execute_input": "2022-11-24T14:29:19.833377Z",
     "iopub.status.busy": "2022-11-24T14:29:19.831523Z",
     "iopub.status.idle": "2022-11-24T14:29:19.846158Z",
     "shell.execute_reply": "2022-11-24T14:29:19.844538Z",
     "shell.execute_reply.started": "2022-11-24T14:29:19.833326Z"
    },
    "tags": []
   },
   "outputs": [
    {
     "name": "stdout",
     "output_type": "stream",
     "text": [
      "0\n",
      "2\n",
      "4\n",
      "6\n",
      "8\n",
      "10\n",
      "12\n",
      "14\n",
      "16\n",
      "18\n",
      "20\n",
      "22\n",
      "24\n",
      "26\n",
      "28\n"
     ]
    }
   ],
   "source": [
    "for number in range(30):\n",
    "    if number % 2 == 0:\n",
    "        print(number)"
   ]
  },
  {
   "cell_type": "code",
   "execution_count": 114,
   "id": "ee5760ad-9943-4176-bab4-f0c40bb402bb",
   "metadata": {
    "execution": {
     "iopub.execute_input": "2022-11-24T14:30:08.548080Z",
     "iopub.status.busy": "2022-11-24T14:30:08.547653Z",
     "iopub.status.idle": "2022-11-24T14:30:08.558707Z",
     "shell.execute_reply": "2022-11-24T14:30:08.556440Z",
     "shell.execute_reply.started": "2022-11-24T14:30:08.548033Z"
    }
   },
   "outputs": [
    {
     "name": "stdout",
     "output_type": "stream",
     "text": [
      "29\n"
     ]
    }
   ],
   "source": [
    "n = 30\n",
    "for i in range(n):\n",
    "    if i != (n-1):\n",
    "        continue\n",
    "    print(i)"
   ]
  },
  {
   "cell_type": "code",
   "execution_count": 116,
   "id": "eaba584b-fa72-4269-921a-073d47363883",
   "metadata": {
    "execution": {
     "iopub.execute_input": "2022-11-24T14:31:19.784595Z",
     "iopub.status.busy": "2022-11-24T14:31:19.784324Z",
     "iopub.status.idle": "2022-11-24T14:31:19.790251Z",
     "shell.execute_reply": "2022-11-24T14:31:19.788954Z",
     "shell.execute_reply.started": "2022-11-24T14:31:19.784564Z"
    },
    "tags": []
   },
   "outputs": [
    {
     "name": "stdout",
     "output_type": "stream",
     "text": [
      "5\n",
      "10\n",
      "15\n",
      "20\n",
      "25\n",
      "30\n",
      "35\n",
      "40\n",
      "45\n"
     ]
    }
   ],
   "source": [
    "for i in range(5, 50):\n",
    "    if i % 5 == 0:\n",
    "        print(i)"
   ]
  },
  {
   "cell_type": "code",
   "execution_count": 117,
   "id": "e0ff8513-0371-4861-aef9-96bc704a804b",
   "metadata": {
    "execution": {
     "iopub.execute_input": "2022-11-24T14:32:15.474219Z",
     "iopub.status.busy": "2022-11-24T14:32:15.473949Z",
     "iopub.status.idle": "2022-11-24T14:32:15.498107Z",
     "shell.execute_reply": "2022-11-24T14:32:15.497059Z",
     "shell.execute_reply.started": "2022-11-24T14:32:15.474194Z"
    }
   },
   "outputs": [
    {
     "data": {
      "text/plain": [
       "True"
      ]
     },
     "execution_count": 117,
     "metadata": {},
     "output_type": "execute_result"
    }
   ],
   "source": [
    "n = 30\n",
    "range(0, n, 1) == range(n)"
   ]
  },
  {
   "cell_type": "code",
   "execution_count": 118,
   "id": "c75920ad-463d-4641-906a-e0df43d41a0e",
   "metadata": {
    "execution": {
     "iopub.execute_input": "2022-11-24T14:32:46.854479Z",
     "iopub.status.busy": "2022-11-24T14:32:46.854112Z",
     "iopub.status.idle": "2022-11-24T14:32:46.861221Z",
     "shell.execute_reply": "2022-11-24T14:32:46.859942Z",
     "shell.execute_reply.started": "2022-11-24T14:32:46.854449Z"
    }
   },
   "outputs": [
    {
     "name": "stdout",
     "output_type": "stream",
     "text": [
      "0\n",
      "2\n",
      "4\n",
      "6\n",
      "8\n"
     ]
    }
   ],
   "source": [
    "for i in range(0, 10, 2):\n",
    "    print(i)"
   ]
  },
  {
   "cell_type": "code",
   "execution_count": 121,
   "id": "f603170c-d417-469a-a452-88f969ddb85a",
   "metadata": {
    "execution": {
     "iopub.execute_input": "2022-11-24T14:35:57.409228Z",
     "iopub.status.busy": "2022-11-24T14:35:57.408689Z",
     "iopub.status.idle": "2022-11-24T14:35:57.415584Z",
     "shell.execute_reply": "2022-11-24T14:35:57.414115Z",
     "shell.execute_reply.started": "2022-11-24T14:35:57.409175Z"
    },
    "tags": []
   },
   "outputs": [
    {
     "name": "stdout",
     "output_type": "stream",
     "text": [
      "10\n",
      "9\n",
      "8\n",
      "7\n",
      "6\n",
      "5\n",
      "4\n",
      "3\n",
      "2\n",
      "1\n",
      "0\n"
     ]
    }
   ],
   "source": [
    "for i in range(10, -1, -1):\n",
    "    print(i)"
   ]
  }
 ],
 "metadata": {
  "kernelspec": {
   "display_name": "Python 3 (ipykernel)",
   "language": "python",
   "name": "python3"
  },
  "language_info": {
   "codemirror_mode": {
    "name": "ipython",
    "version": 3
   },
   "file_extension": ".py",
   "mimetype": "text/x-python",
   "name": "python",
   "nbconvert_exporter": "python",
   "pygments_lexer": "ipython3",
   "version": "3.10.8"
  }
 },
 "nbformat": 4,
 "nbformat_minor": 5
}
