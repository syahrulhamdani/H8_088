{
 "cells": [
  {
   "cell_type": "markdown",
   "id": "9cfa9a03-4af7-4cad-84c0-ca462da94bb7",
   "metadata": {},
   "source": [
    "# Machine Learning - Linear Regression"
   ]
  },
  {
   "cell_type": "code",
   "execution_count": 38,
   "id": "c52034bf-b1db-457b-973f-8c82bcb8475f",
   "metadata": {
    "execution": {
     "iopub.execute_input": "2023-01-18T14:21:26.352499Z",
     "iopub.status.busy": "2023-01-18T14:21:26.352097Z",
     "iopub.status.idle": "2023-01-18T14:21:26.359917Z",
     "shell.execute_reply": "2023-01-18T14:21:26.358404Z",
     "shell.execute_reply.started": "2023-01-18T14:21:26.352466Z"
    },
    "tags": []
   },
   "outputs": [],
   "source": [
    "import matplotlib.pyplot as plt\n",
    "import numpy as np\n",
    "import pandas as pd\n",
    "from sklearn.linear_model import LinearRegression\n",
    "from sklearn.metrics import mean_squared_error\n",
    "from sklearn.preprocessing import PolynomialFeatures\n",
    "from sklearn.datasets import fetch_california_housing"
   ]
  },
  {
   "cell_type": "markdown",
   "id": "467623b0-86e5-49a2-bee8-d4dce29e7de4",
   "metadata": {},
   "source": [
    "## Dummy Data"
   ]
  },
  {
   "cell_type": "code",
   "execution_count": 2,
   "id": "a155bdf3-a80a-4431-82c5-f02d7a9f427a",
   "metadata": {
    "execution": {
     "iopub.execute_input": "2023-01-18T13:16:47.414927Z",
     "iopub.status.busy": "2023-01-18T13:16:47.412831Z",
     "iopub.status.idle": "2023-01-18T13:16:47.430050Z",
     "shell.execute_reply": "2023-01-18T13:16:47.428803Z",
     "shell.execute_reply.started": "2023-01-18T13:16:47.414872Z"
    }
   },
   "outputs": [
    {
     "name": "stdout",
     "output_type": "stream",
     "text": [
      "[[ 5]\n",
      " [15]\n",
      " [25]\n",
      " [35]\n",
      " [45]\n",
      " [55]]\n",
      "[ 5 20 14 32 22 38]\n"
     ]
    }
   ],
   "source": [
    "# define input features\n",
    "X = np.array([5, 15, 25, 35, 45, 55]).reshape((-1, 1))\n",
    "# define target variable\n",
    "y = np.array([5, 20, 14, 32, 22, 38])\n",
    "\n",
    "print(X)\n",
    "print(y)"
   ]
  },
  {
   "cell_type": "markdown",
   "id": "2a81f8b6-c387-4a4d-9bb2-ed133867fbf1",
   "metadata": {},
   "source": [
    "## Define Model"
   ]
  },
  {
   "cell_type": "code",
   "execution_count": 3,
   "id": "42ebd32a-f7b6-4328-918f-56d8e395267f",
   "metadata": {
    "execution": {
     "iopub.execute_input": "2023-01-18T13:18:30.032110Z",
     "iopub.status.busy": "2023-01-18T13:18:30.027364Z",
     "iopub.status.idle": "2023-01-18T13:18:30.037725Z",
     "shell.execute_reply": "2023-01-18T13:18:30.036280Z",
     "shell.execute_reply.started": "2023-01-18T13:18:30.032018Z"
    }
   },
   "outputs": [],
   "source": [
    "# define model\n",
    "model = LinearRegression()"
   ]
  },
  {
   "cell_type": "code",
   "execution_count": 4,
   "id": "8c117031-9c72-45cf-968f-e1a760c4c34d",
   "metadata": {
    "execution": {
     "iopub.execute_input": "2023-01-18T13:18:35.471358Z",
     "iopub.status.busy": "2023-01-18T13:18:35.470912Z",
     "iopub.status.idle": "2023-01-18T13:18:35.492501Z",
     "shell.execute_reply": "2023-01-18T13:18:35.490312Z",
     "shell.execute_reply.started": "2023-01-18T13:18:35.471324Z"
    }
   },
   "outputs": [
    {
     "data": {
      "text/html": [
       "<style>#sk-container-id-1 {color: black;background-color: white;}#sk-container-id-1 pre{padding: 0;}#sk-container-id-1 div.sk-toggleable {background-color: white;}#sk-container-id-1 label.sk-toggleable__label {cursor: pointer;display: block;width: 100%;margin-bottom: 0;padding: 0.3em;box-sizing: border-box;text-align: center;}#sk-container-id-1 label.sk-toggleable__label-arrow:before {content: \"▸\";float: left;margin-right: 0.25em;color: #696969;}#sk-container-id-1 label.sk-toggleable__label-arrow:hover:before {color: black;}#sk-container-id-1 div.sk-estimator:hover label.sk-toggleable__label-arrow:before {color: black;}#sk-container-id-1 div.sk-toggleable__content {max-height: 0;max-width: 0;overflow: hidden;text-align: left;background-color: #f0f8ff;}#sk-container-id-1 div.sk-toggleable__content pre {margin: 0.2em;color: black;border-radius: 0.25em;background-color: #f0f8ff;}#sk-container-id-1 input.sk-toggleable__control:checked~div.sk-toggleable__content {max-height: 200px;max-width: 100%;overflow: auto;}#sk-container-id-1 input.sk-toggleable__control:checked~label.sk-toggleable__label-arrow:before {content: \"▾\";}#sk-container-id-1 div.sk-estimator input.sk-toggleable__control:checked~label.sk-toggleable__label {background-color: #d4ebff;}#sk-container-id-1 div.sk-label input.sk-toggleable__control:checked~label.sk-toggleable__label {background-color: #d4ebff;}#sk-container-id-1 input.sk-hidden--visually {border: 0;clip: rect(1px 1px 1px 1px);clip: rect(1px, 1px, 1px, 1px);height: 1px;margin: -1px;overflow: hidden;padding: 0;position: absolute;width: 1px;}#sk-container-id-1 div.sk-estimator {font-family: monospace;background-color: #f0f8ff;border: 1px dotted black;border-radius: 0.25em;box-sizing: border-box;margin-bottom: 0.5em;}#sk-container-id-1 div.sk-estimator:hover {background-color: #d4ebff;}#sk-container-id-1 div.sk-parallel-item::after {content: \"\";width: 100%;border-bottom: 1px solid gray;flex-grow: 1;}#sk-container-id-1 div.sk-label:hover label.sk-toggleable__label {background-color: #d4ebff;}#sk-container-id-1 div.sk-serial::before {content: \"\";position: absolute;border-left: 1px solid gray;box-sizing: border-box;top: 0;bottom: 0;left: 50%;z-index: 0;}#sk-container-id-1 div.sk-serial {display: flex;flex-direction: column;align-items: center;background-color: white;padding-right: 0.2em;padding-left: 0.2em;position: relative;}#sk-container-id-1 div.sk-item {position: relative;z-index: 1;}#sk-container-id-1 div.sk-parallel {display: flex;align-items: stretch;justify-content: center;background-color: white;position: relative;}#sk-container-id-1 div.sk-item::before, #sk-container-id-1 div.sk-parallel-item::before {content: \"\";position: absolute;border-left: 1px solid gray;box-sizing: border-box;top: 0;bottom: 0;left: 50%;z-index: -1;}#sk-container-id-1 div.sk-parallel-item {display: flex;flex-direction: column;z-index: 1;position: relative;background-color: white;}#sk-container-id-1 div.sk-parallel-item:first-child::after {align-self: flex-end;width: 50%;}#sk-container-id-1 div.sk-parallel-item:last-child::after {align-self: flex-start;width: 50%;}#sk-container-id-1 div.sk-parallel-item:only-child::after {width: 0;}#sk-container-id-1 div.sk-dashed-wrapped {border: 1px dashed gray;margin: 0 0.4em 0.5em 0.4em;box-sizing: border-box;padding-bottom: 0.4em;background-color: white;}#sk-container-id-1 div.sk-label label {font-family: monospace;font-weight: bold;display: inline-block;line-height: 1.2em;}#sk-container-id-1 div.sk-label-container {text-align: center;}#sk-container-id-1 div.sk-container {/* jupyter's `normalize.less` sets `[hidden] { display: none; }` but bootstrap.min.css set `[hidden] { display: none !important; }` so we also need the `!important` here to be able to override the default hidden behavior on the sphinx rendered scikit-learn.org. See: https://github.com/scikit-learn/scikit-learn/issues/21755 */display: inline-block !important;position: relative;}#sk-container-id-1 div.sk-text-repr-fallback {display: none;}</style><div id=\"sk-container-id-1\" class=\"sk-top-container\"><div class=\"sk-text-repr-fallback\"><pre>LinearRegression()</pre><b>In a Jupyter environment, please rerun this cell to show the HTML representation or trust the notebook. <br />On GitHub, the HTML representation is unable to render, please try loading this page with nbviewer.org.</b></div><div class=\"sk-container\" hidden><div class=\"sk-item\"><div class=\"sk-estimator sk-toggleable\"><input class=\"sk-toggleable__control sk-hidden--visually\" id=\"sk-estimator-id-1\" type=\"checkbox\" checked><label for=\"sk-estimator-id-1\" class=\"sk-toggleable__label sk-toggleable__label-arrow\">LinearRegression</label><div class=\"sk-toggleable__content\"><pre>LinearRegression()</pre></div></div></div></div></div>"
      ],
      "text/plain": [
       "LinearRegression()"
      ]
     },
     "execution_count": 4,
     "metadata": {},
     "output_type": "execute_result"
    }
   ],
   "source": [
    "model"
   ]
  },
  {
   "cell_type": "markdown",
   "id": "db006558-4b7a-4aa8-b965-31e90a4b06e4",
   "metadata": {},
   "source": [
    "## Train Model"
   ]
  },
  {
   "cell_type": "code",
   "execution_count": 5,
   "id": "086aa80a-8ca1-4863-a153-fb3bae10fb63",
   "metadata": {
    "execution": {
     "iopub.execute_input": "2023-01-18T13:20:13.730810Z",
     "iopub.status.busy": "2023-01-18T13:20:13.730157Z",
     "iopub.status.idle": "2023-01-18T13:20:13.765023Z",
     "shell.execute_reply": "2023-01-18T13:20:13.760402Z",
     "shell.execute_reply.started": "2023-01-18T13:20:13.730761Z"
    }
   },
   "outputs": [
    {
     "data": {
      "text/html": [
       "<style>#sk-container-id-2 {color: black;background-color: white;}#sk-container-id-2 pre{padding: 0;}#sk-container-id-2 div.sk-toggleable {background-color: white;}#sk-container-id-2 label.sk-toggleable__label {cursor: pointer;display: block;width: 100%;margin-bottom: 0;padding: 0.3em;box-sizing: border-box;text-align: center;}#sk-container-id-2 label.sk-toggleable__label-arrow:before {content: \"▸\";float: left;margin-right: 0.25em;color: #696969;}#sk-container-id-2 label.sk-toggleable__label-arrow:hover:before {color: black;}#sk-container-id-2 div.sk-estimator:hover label.sk-toggleable__label-arrow:before {color: black;}#sk-container-id-2 div.sk-toggleable__content {max-height: 0;max-width: 0;overflow: hidden;text-align: left;background-color: #f0f8ff;}#sk-container-id-2 div.sk-toggleable__content pre {margin: 0.2em;color: black;border-radius: 0.25em;background-color: #f0f8ff;}#sk-container-id-2 input.sk-toggleable__control:checked~div.sk-toggleable__content {max-height: 200px;max-width: 100%;overflow: auto;}#sk-container-id-2 input.sk-toggleable__control:checked~label.sk-toggleable__label-arrow:before {content: \"▾\";}#sk-container-id-2 div.sk-estimator input.sk-toggleable__control:checked~label.sk-toggleable__label {background-color: #d4ebff;}#sk-container-id-2 div.sk-label input.sk-toggleable__control:checked~label.sk-toggleable__label {background-color: #d4ebff;}#sk-container-id-2 input.sk-hidden--visually {border: 0;clip: rect(1px 1px 1px 1px);clip: rect(1px, 1px, 1px, 1px);height: 1px;margin: -1px;overflow: hidden;padding: 0;position: absolute;width: 1px;}#sk-container-id-2 div.sk-estimator {font-family: monospace;background-color: #f0f8ff;border: 1px dotted black;border-radius: 0.25em;box-sizing: border-box;margin-bottom: 0.5em;}#sk-container-id-2 div.sk-estimator:hover {background-color: #d4ebff;}#sk-container-id-2 div.sk-parallel-item::after {content: \"\";width: 100%;border-bottom: 1px solid gray;flex-grow: 1;}#sk-container-id-2 div.sk-label:hover label.sk-toggleable__label {background-color: #d4ebff;}#sk-container-id-2 div.sk-serial::before {content: \"\";position: absolute;border-left: 1px solid gray;box-sizing: border-box;top: 0;bottom: 0;left: 50%;z-index: 0;}#sk-container-id-2 div.sk-serial {display: flex;flex-direction: column;align-items: center;background-color: white;padding-right: 0.2em;padding-left: 0.2em;position: relative;}#sk-container-id-2 div.sk-item {position: relative;z-index: 1;}#sk-container-id-2 div.sk-parallel {display: flex;align-items: stretch;justify-content: center;background-color: white;position: relative;}#sk-container-id-2 div.sk-item::before, #sk-container-id-2 div.sk-parallel-item::before {content: \"\";position: absolute;border-left: 1px solid gray;box-sizing: border-box;top: 0;bottom: 0;left: 50%;z-index: -1;}#sk-container-id-2 div.sk-parallel-item {display: flex;flex-direction: column;z-index: 1;position: relative;background-color: white;}#sk-container-id-2 div.sk-parallel-item:first-child::after {align-self: flex-end;width: 50%;}#sk-container-id-2 div.sk-parallel-item:last-child::after {align-self: flex-start;width: 50%;}#sk-container-id-2 div.sk-parallel-item:only-child::after {width: 0;}#sk-container-id-2 div.sk-dashed-wrapped {border: 1px dashed gray;margin: 0 0.4em 0.5em 0.4em;box-sizing: border-box;padding-bottom: 0.4em;background-color: white;}#sk-container-id-2 div.sk-label label {font-family: monospace;font-weight: bold;display: inline-block;line-height: 1.2em;}#sk-container-id-2 div.sk-label-container {text-align: center;}#sk-container-id-2 div.sk-container {/* jupyter's `normalize.less` sets `[hidden] { display: none; }` but bootstrap.min.css set `[hidden] { display: none !important; }` so we also need the `!important` here to be able to override the default hidden behavior on the sphinx rendered scikit-learn.org. See: https://github.com/scikit-learn/scikit-learn/issues/21755 */display: inline-block !important;position: relative;}#sk-container-id-2 div.sk-text-repr-fallback {display: none;}</style><div id=\"sk-container-id-2\" class=\"sk-top-container\"><div class=\"sk-text-repr-fallback\"><pre>LinearRegression()</pre><b>In a Jupyter environment, please rerun this cell to show the HTML representation or trust the notebook. <br />On GitHub, the HTML representation is unable to render, please try loading this page with nbviewer.org.</b></div><div class=\"sk-container\" hidden><div class=\"sk-item\"><div class=\"sk-estimator sk-toggleable\"><input class=\"sk-toggleable__control sk-hidden--visually\" id=\"sk-estimator-id-2\" type=\"checkbox\" checked><label for=\"sk-estimator-id-2\" class=\"sk-toggleable__label sk-toggleable__label-arrow\">LinearRegression</label><div class=\"sk-toggleable__content\"><pre>LinearRegression()</pre></div></div></div></div></div>"
      ],
      "text/plain": [
       "LinearRegression()"
      ]
     },
     "execution_count": 5,
     "metadata": {},
     "output_type": "execute_result"
    }
   ],
   "source": [
    "# train model\n",
    "model.fit(X, y)"
   ]
  },
  {
   "cell_type": "markdown",
   "id": "d59b07f3-025e-49a4-af42-984045e51455",
   "metadata": {},
   "source": [
    "## Test Model"
   ]
  },
  {
   "cell_type": "code",
   "execution_count": 6,
   "id": "991be163-331e-49af-b577-832451899b44",
   "metadata": {
    "execution": {
     "iopub.execute_input": "2023-01-18T13:21:23.837109Z",
     "iopub.status.busy": "2023-01-18T13:21:23.836718Z",
     "iopub.status.idle": "2023-01-18T13:21:23.845415Z",
     "shell.execute_reply": "2023-01-18T13:21:23.844063Z",
     "shell.execute_reply.started": "2023-01-18T13:21:23.837077Z"
    }
   },
   "outputs": [
    {
     "name": "stdout",
     "output_type": "stream",
     "text": [
      "[[ 5]\n",
      " [35]\n",
      " [40]\n",
      " [55]]\n"
     ]
    }
   ],
   "source": [
    "test_data = np.array([5, 35, 40, 55]).reshape((-1, 1))\n",
    "print(test_data)"
   ]
  },
  {
   "cell_type": "code",
   "execution_count": 8,
   "id": "893fc2c5-d344-425a-8efc-2b7c43abbecd",
   "metadata": {
    "execution": {
     "iopub.execute_input": "2023-01-18T13:22:14.871527Z",
     "iopub.status.busy": "2023-01-18T13:22:14.871039Z",
     "iopub.status.idle": "2023-01-18T13:22:14.879306Z",
     "shell.execute_reply": "2023-01-18T13:22:14.878238Z",
     "shell.execute_reply.started": "2023-01-18T13:22:14.871483Z"
    },
    "tags": []
   },
   "outputs": [
    {
     "name": "stdout",
     "output_type": "stream",
     "text": [
      "[ 5 20 14 32 22 38]\n"
     ]
    }
   ],
   "source": [
    "print(y)"
   ]
  },
  {
   "cell_type": "code",
   "execution_count": 9,
   "id": "182b549a-9aa0-415f-964f-b66d3cac3402",
   "metadata": {
    "execution": {
     "iopub.execute_input": "2023-01-18T13:22:28.015147Z",
     "iopub.status.busy": "2023-01-18T13:22:28.014335Z",
     "iopub.status.idle": "2023-01-18T13:22:28.040338Z",
     "shell.execute_reply": "2023-01-18T13:22:28.038395Z",
     "shell.execute_reply.started": "2023-01-18T13:22:28.015019Z"
    }
   },
   "outputs": [
    {
     "data": {
      "text/plain": [
       "array([ 8.33333333, 13.73333333, 19.13333333, 24.53333333, 29.93333333,\n",
       "       35.33333333])"
      ]
     },
     "execution_count": 9,
     "metadata": {},
     "output_type": "execute_result"
    }
   ],
   "source": [
    "model.predict(X)"
   ]
  },
  {
   "cell_type": "markdown",
   "id": "94e78746-f846-47cb-a3af-cf170a7f893e",
   "metadata": {},
   "source": [
    "## Evaluate Model"
   ]
  },
  {
   "cell_type": "code",
   "execution_count": 11,
   "id": "b1388b82-eb23-4dd1-a5f9-70bfea4f5a53",
   "metadata": {
    "execution": {
     "iopub.execute_input": "2023-01-18T13:24:56.543812Z",
     "iopub.status.busy": "2023-01-18T13:24:56.543348Z",
     "iopub.status.idle": "2023-01-18T13:24:56.556977Z",
     "shell.execute_reply": "2023-01-18T13:24:56.554458Z",
     "shell.execute_reply.started": "2023-01-18T13:24:56.543772Z"
    }
   },
   "outputs": [
    {
     "name": "stdout",
     "output_type": "stream",
     "text": [
      "MSE: 33.75555555555555\n"
     ]
    }
   ],
   "source": [
    "prediction = model.predict(X)\n",
    "mse = mean_squared_error(y, prediction)\n",
    "\n",
    "print(\"MSE:\", mse)"
   ]
  },
  {
   "cell_type": "markdown",
   "id": "ab58ae87-c35d-45cb-8843-515179a03f09",
   "metadata": {},
   "source": [
    "Model representation:\n",
    "\n",
    "$y = a_0 + a_1x_1$"
   ]
  },
  {
   "cell_type": "code",
   "execution_count": 12,
   "id": "b12be986-1291-4e9e-9d07-974b3fcdc42e",
   "metadata": {
    "execution": {
     "iopub.execute_input": "2023-01-18T13:31:18.967887Z",
     "iopub.status.busy": "2023-01-18T13:31:18.967407Z",
     "iopub.status.idle": "2023-01-18T13:31:18.994821Z",
     "shell.execute_reply": "2023-01-18T13:31:18.981302Z",
     "shell.execute_reply.started": "2023-01-18T13:31:18.967853Z"
    }
   },
   "outputs": [
    {
     "name": "stdout",
     "output_type": "stream",
     "text": [
      "intercept: 5.633333333333329\n",
      "slope: [0.54]\n"
     ]
    }
   ],
   "source": [
    "# model representation\n",
    "print(\"intercept:\", model.intercept_)\n",
    "print(\"slope:\", model.coef_)"
   ]
  },
  {
   "cell_type": "markdown",
   "id": "52bf92dd-ab54-46ac-b589-14ae1412abd7",
   "metadata": {},
   "source": [
    "Model representation:\n",
    "\n",
    "$y = a_0 + a_1x_1$\n",
    "\n",
    "atau\n",
    "\n",
    "$y = \\text{intercept} + \\text{slope}\\cdot x$"
   ]
  },
  {
   "cell_type": "code",
   "execution_count": 15,
   "id": "1aff8b15-1ce0-4e79-991f-6aea5986b99a",
   "metadata": {
    "execution": {
     "iopub.execute_input": "2023-01-18T13:34:57.005819Z",
     "iopub.status.busy": "2023-01-18T13:34:57.005110Z",
     "iopub.status.idle": "2023-01-18T13:34:57.018398Z",
     "shell.execute_reply": "2023-01-18T13:34:57.016446Z",
     "shell.execute_reply.started": "2023-01-18T13:34:57.005714Z"
    },
    "tags": []
   },
   "outputs": [
    {
     "name": "stdout",
     "output_type": "stream",
     "text": [
      "[13.73333333]\n"
     ]
    }
   ],
   "source": [
    "# model\n",
    "inputs = X[1]\n",
    "pred = model.intercept_ + np.dot(model.coef_, [inputs])\n",
    "print(pred)"
   ]
  },
  {
   "cell_type": "markdown",
   "id": "3eab8598-91fe-4619-904a-852ca5557ce3",
   "metadata": {},
   "source": [
    "## Visualize Data & Model"
   ]
  },
  {
   "cell_type": "code",
   "execution_count": 18,
   "id": "e64e9d4a-1ffd-4cef-a3c7-f30a714ff97c",
   "metadata": {
    "execution": {
     "iopub.execute_input": "2023-01-18T13:49:10.691503Z",
     "iopub.status.busy": "2023-01-18T13:49:10.690908Z",
     "iopub.status.idle": "2023-01-18T13:49:10.993066Z",
     "shell.execute_reply": "2023-01-18T13:49:10.988733Z",
     "shell.execute_reply.started": "2023-01-18T13:49:10.691468Z"
    },
    "tags": []
   },
   "outputs": [
    {
     "data": {
      "image/png": "[encoded data removed]",
      "text/plain": [
       "<Figure size 640x480 with 1 Axes>"
      ]
     },
     "metadata": {},
     "output_type": "display_data"
    }
   ],
   "source": [
    "plt.scatter(X, y, label=\"data\")\n",
    "plt.plot(X, prediction, label=\"model\", color=\"black\")\n",
    "plt.legend()\n",
    "plt.show()"
   ]
  },
  {
   "cell_type": "markdown",
   "id": "8d1399fe-498a-4067-b3fd-aee9c963f45b",
   "metadata": {},
   "source": [
    "## Multiple Linear Regression"
   ]
  },
  {
   "cell_type": "code",
   "execution_count": 19,
   "id": "44fdd371-f82e-4e9e-9372-622d5cc63e4c",
   "metadata": {
    "execution": {
     "iopub.execute_input": "2023-01-18T13:55:08.419997Z",
     "iopub.status.busy": "2023-01-18T13:55:08.419438Z",
     "iopub.status.idle": "2023-01-18T13:55:08.431740Z",
     "shell.execute_reply": "2023-01-18T13:55:08.427995Z",
     "shell.execute_reply.started": "2023-01-18T13:55:08.419962Z"
    }
   },
   "outputs": [
    {
     "name": "stdout",
     "output_type": "stream",
     "text": [
      "[[ 0  1]\n",
      " [ 5  1]\n",
      " [15  2]\n",
      " [25  5]\n",
      " [35 11]\n",
      " [45 15]\n",
      " [55 34]\n",
      " [60 35]]\n",
      "[ 4  5 20 14 32 22 38 43]\n"
     ]
    }
   ],
   "source": [
    "X = np.array([\n",
    "    [0, 1], [5, 1], [15, 2], [25, 5],\n",
    "    [35, 11], [45, 15], [55, 34], [60, 35]\n",
    "])\n",
    "y = np.array([4, 5, 20, 14, 32, 22, 38, 43])\n",
    "\n",
    "print(X)\n",
    "print(y)"
   ]
  },
  {
   "cell_type": "code",
   "execution_count": 22,
   "id": "cad622a9-4c77-4f50-9015-f3e42b304d28",
   "metadata": {
    "execution": {
     "iopub.execute_input": "2023-01-18T13:59:43.996471Z",
     "iopub.status.busy": "2023-01-18T13:59:43.995612Z",
     "iopub.status.idle": "2023-01-18T13:59:44.018563Z",
     "shell.execute_reply": "2023-01-18T13:59:44.016144Z",
     "shell.execute_reply.started": "2023-01-18T13:59:43.996432Z"
    },
    "tags": []
   },
   "outputs": [
    {
     "name": "stdout",
     "output_type": "stream",
     "text": [
      "Bias: 5.52257927519819\n",
      "Weights: [0.44706965 0.25502548]\n",
      "[ 5.77760476  8.012953   12.73867497 17.9744479  23.97529728 29.4660957\n",
      " 38.78227633 41.27265006]\n",
      "MSE: 25.561871814835797\n"
     ]
    }
   ],
   "source": [
    "# define model\n",
    "model = LinearRegression()\n",
    "\n",
    "# train model\n",
    "model.fit(X, y)\n",
    "\n",
    "print(\"Bias:\", model.intercept_)\n",
    "print(\"Weights:\", model.coef_)\n",
    "\n",
    "# predict\n",
    "y_pred = model.predict(X)\n",
    "print(y_pred)\n",
    "\n",
    "# evaluate\n",
    "mse = mean_squared_error(y, y_pred)\n",
    "print(\"MSE:\", mse)"
   ]
  },
  {
   "cell_type": "code",
   "execution_count": 23,
   "id": "94fe2fd3-ce2d-449f-a5cd-1cbb0d36be24",
   "metadata": {
    "execution": {
     "iopub.execute_input": "2023-01-18T14:00:38.819260Z",
     "iopub.status.busy": "2023-01-18T14:00:38.818850Z",
     "iopub.status.idle": "2023-01-18T14:00:38.826030Z",
     "shell.execute_reply": "2023-01-18T14:00:38.824593Z",
     "shell.execute_reply.started": "2023-01-18T14:00:38.819228Z"
    }
   },
   "outputs": [
    {
     "name": "stdout",
     "output_type": "stream",
     "text": [
      "prediction for [60, 35]: 41.27265005662514\n"
     ]
    }
   ],
   "source": [
    "# model representation\n",
    "bias = model.intercept_\n",
    "weight_1 = model.coef_[0]\n",
    "weight_2 = model.coef_[1]\n",
    "\n",
    "inputs = [60, 35]\n",
    "pred = bias + weight_1*inputs[0] + weight_2*inputs[1]\n",
    "print(f\"prediction for {inputs}: {pred}\")"
   ]
  },
  {
   "cell_type": "markdown",
   "id": "a3963d88-c131-430f-942f-0bc41c18d4a9",
   "metadata": {},
   "source": [
    "## Polynomial Regression"
   ]
  },
  {
   "cell_type": "code",
   "execution_count": 26,
   "id": "1382270a-473c-422e-b017-fe3232e95e09",
   "metadata": {
    "execution": {
     "iopub.execute_input": "2023-01-18T14:08:50.222489Z",
     "iopub.status.busy": "2023-01-18T14:08:50.221709Z",
     "iopub.status.idle": "2023-01-18T14:08:50.448691Z",
     "shell.execute_reply": "2023-01-18T14:08:50.447859Z",
     "shell.execute_reply.started": "2023-01-18T14:08:50.222428Z"
    },
    "tags": []
   },
   "outputs": [
    {
     "name": "stdout",
     "output_type": "stream",
     "text": [
      "X: [[ 5]\n",
      " [15]\n",
      " [25]\n",
      " [35]\n",
      " [45]\n",
      " [55]]\n",
      "y: [15 11  2  8 25 32]\n"
     ]
    },
    {
     "data": {
      "image/png": "[encoded data removed]",
      "text/plain": [
       "<Figure size 640x480 with 1 Axes>"
      ]
     },
     "metadata": {},
     "output_type": "display_data"
    }
   ],
   "source": [
    "X = np.array([5, 15, 25, 35, 45, 55]).reshape((-1, 1))\n",
    "y = np.array([15, 11, 2, 8, 25, 32])\n",
    "\n",
    "print(\"X:\", X)\n",
    "print(\"y:\", y)\n",
    "\n",
    "plt.scatter(X, y, label=\"data\")\n",
    "plt.legend()\n",
    "plt.show()"
   ]
  },
  {
   "cell_type": "code",
   "execution_count": 27,
   "id": "ecb8e153-f115-4c52-9a2c-076eb558965a",
   "metadata": {
    "execution": {
     "iopub.execute_input": "2023-01-18T14:12:17.631385Z",
     "iopub.status.busy": "2023-01-18T14:12:17.630804Z",
     "iopub.status.idle": "2023-01-18T14:12:17.647012Z",
     "shell.execute_reply": "2023-01-18T14:12:17.642346Z",
     "shell.execute_reply.started": "2023-01-18T14:12:17.631333Z"
    }
   },
   "outputs": [
    {
     "data": {
      "text/html": [
       "<style>#sk-container-id-3 {color: black;background-color: white;}#sk-container-id-3 pre{padding: 0;}#sk-container-id-3 div.sk-toggleable {background-color: white;}#sk-container-id-3 label.sk-toggleable__label {cursor: pointer;display: block;width: 100%;margin-bottom: 0;padding: 0.3em;box-sizing: border-box;text-align: center;}#sk-container-id-3 label.sk-toggleable__label-arrow:before {content: \"▸\";float: left;margin-right: 0.25em;color: #696969;}#sk-container-id-3 label.sk-toggleable__label-arrow:hover:before {color: black;}#sk-container-id-3 div.sk-estimator:hover label.sk-toggleable__label-arrow:before {color: black;}#sk-container-id-3 div.sk-toggleable__content {max-height: 0;max-width: 0;overflow: hidden;text-align: left;background-color: #f0f8ff;}#sk-container-id-3 div.sk-toggleable__content pre {margin: 0.2em;color: black;border-radius: 0.25em;background-color: #f0f8ff;}#sk-container-id-3 input.sk-toggleable__control:checked~div.sk-toggleable__content {max-height: 200px;max-width: 100%;overflow: auto;}#sk-container-id-3 input.sk-toggleable__control:checked~label.sk-toggleable__label-arrow:before {content: \"▾\";}#sk-container-id-3 div.sk-estimator input.sk-toggleable__control:checked~label.sk-toggleable__label {background-color: #d4ebff;}#sk-container-id-3 div.sk-label input.sk-toggleable__control:checked~label.sk-toggleable__label {background-color: #d4ebff;}#sk-container-id-3 input.sk-hidden--visually {border: 0;clip: rect(1px 1px 1px 1px);clip: rect(1px, 1px, 1px, 1px);height: 1px;margin: -1px;overflow: hidden;padding: 0;position: absolute;width: 1px;}#sk-container-id-3 div.sk-estimator {font-family: monospace;background-color: #f0f8ff;border: 1px dotted black;border-radius: 0.25em;box-sizing: border-box;margin-bottom: 0.5em;}#sk-container-id-3 div.sk-estimator:hover {background-color: #d4ebff;}#sk-container-id-3 div.sk-parallel-item::after {content: \"\";width: 100%;border-bottom: 1px solid gray;flex-grow: 1;}#sk-container-id-3 div.sk-label:hover label.sk-toggleable__label {background-color: #d4ebff;}#sk-container-id-3 div.sk-serial::before {content: \"\";position: absolute;border-left: 1px solid gray;box-sizing: border-box;top: 0;bottom: 0;left: 50%;z-index: 0;}#sk-container-id-3 div.sk-serial {display: flex;flex-direction: column;align-items: center;background-color: white;padding-right: 0.2em;padding-left: 0.2em;position: relative;}#sk-container-id-3 div.sk-item {position: relative;z-index: 1;}#sk-container-id-3 div.sk-parallel {display: flex;align-items: stretch;justify-content: center;background-color: white;position: relative;}#sk-container-id-3 div.sk-item::before, #sk-container-id-3 div.sk-parallel-item::before {content: \"\";position: absolute;border-left: 1px solid gray;box-sizing: border-box;top: 0;bottom: 0;left: 50%;z-index: -1;}#sk-container-id-3 div.sk-parallel-item {display: flex;flex-direction: column;z-index: 1;position: relative;background-color: white;}#sk-container-id-3 div.sk-parallel-item:first-child::after {align-self: flex-end;width: 50%;}#sk-container-id-3 div.sk-parallel-item:last-child::after {align-self: flex-start;width: 50%;}#sk-container-id-3 div.sk-parallel-item:only-child::after {width: 0;}#sk-container-id-3 div.sk-dashed-wrapped {border: 1px dashed gray;margin: 0 0.4em 0.5em 0.4em;box-sizing: border-box;padding-bottom: 0.4em;background-color: white;}#sk-container-id-3 div.sk-label label {font-family: monospace;font-weight: bold;display: inline-block;line-height: 1.2em;}#sk-container-id-3 div.sk-label-container {text-align: center;}#sk-container-id-3 div.sk-container {/* jupyter's `normalize.less` sets `[hidden] { display: none; }` but bootstrap.min.css set `[hidden] { display: none !important; }` so we also need the `!important` here to be able to override the default hidden behavior on the sphinx rendered scikit-learn.org. See: https://github.com/scikit-learn/scikit-learn/issues/21755 */display: inline-block !important;position: relative;}#sk-container-id-3 div.sk-text-repr-fallback {display: none;}</style><div id=\"sk-container-id-3\" class=\"sk-top-container\"><div class=\"sk-text-repr-fallback\"><pre>PolynomialFeatures(include_bias=False)</pre><b>In a Jupyter environment, please rerun this cell to show the HTML representation or trust the notebook. <br />On GitHub, the HTML representation is unable to render, please try loading this page with nbviewer.org.</b></div><div class=\"sk-container\" hidden><div class=\"sk-item\"><div class=\"sk-estimator sk-toggleable\"><input class=\"sk-toggleable__control sk-hidden--visually\" id=\"sk-estimator-id-3\" type=\"checkbox\" checked><label for=\"sk-estimator-id-3\" class=\"sk-toggleable__label sk-toggleable__label-arrow\">PolynomialFeatures</label><div class=\"sk-toggleable__content\"><pre>PolynomialFeatures(include_bias=False)</pre></div></div></div></div></div>"
      ],
      "text/plain": [
       "PolynomialFeatures(include_bias=False)"
      ]
     },
     "execution_count": 27,
     "metadata": {},
     "output_type": "execute_result"
    }
   ],
   "source": [
    "# define polynomial features\n",
    "transformer = PolynomialFeatures(degree=2, include_bias=False)\n",
    "transformer.fit(X)"
   ]
  },
  {
   "cell_type": "code",
   "execution_count": 30,
   "id": "464a0bef-8b2e-4985-9e0e-67e4d82f37d9",
   "metadata": {
    "execution": {
     "iopub.execute_input": "2023-01-18T14:13:34.008708Z",
     "iopub.status.busy": "2023-01-18T14:13:34.008277Z",
     "iopub.status.idle": "2023-01-18T14:13:34.017518Z",
     "shell.execute_reply": "2023-01-18T14:13:34.015611Z",
     "shell.execute_reply.started": "2023-01-18T14:13:34.008676Z"
    },
    "tags": []
   },
   "outputs": [
    {
     "name": "stdout",
     "output_type": "stream",
     "text": [
      "[[   5.   25.]\n",
      " [  15.  225.]\n",
      " [  25.  625.]\n",
      " [  35. 1225.]\n",
      " [  45. 2025.]\n",
      " [  55. 3025.]]\n"
     ]
    }
   ],
   "source": [
    "polynomial_X = transformer.transform(X)\n",
    "print(polynomial_X)"
   ]
  },
  {
   "cell_type": "code",
   "execution_count": 34,
   "id": "2051d329-0be6-439f-8cdd-60edc43828cd",
   "metadata": {
    "execution": {
     "iopub.execute_input": "2023-01-18T14:16:32.877394Z",
     "iopub.status.busy": "2023-01-18T14:16:32.876978Z",
     "iopub.status.idle": "2023-01-18T14:16:32.889411Z",
     "shell.execute_reply": "2023-01-18T14:16:32.887580Z",
     "shell.execute_reply.started": "2023-01-18T14:16:32.877359Z"
    },
    "tags": []
   },
   "outputs": [
    {
     "name": "stdout",
     "output_type": "stream",
     "text": [
      "Bias: 21.37232142857144\n",
      "Weights: [-1.32357143  0.02839286]\n",
      "Prediction: [15.46428571  7.90714286  6.02857143  9.82857143 19.30714286 34.46428571]\n",
      "Actual: [15 11  2  8 25 32]\n",
      "MSE: 11.305952380952384\n"
     ]
    }
   ],
   "source": [
    "# define model\n",
    "model = LinearRegression()\n",
    "\n",
    "# train model\n",
    "model.fit(polynomial_X, y)\n",
    "\n",
    "print(\"Bias:\", model.intercept_)\n",
    "print(\"Weights:\", model.coef_)\n",
    "\n",
    "# predict\n",
    "y_pred = model.predict(polynomial_X)\n",
    "print(\"Prediction:\", y_pred)\n",
    "print(\"Actual:\", y)\n",
    "\n",
    "# evaluate\n",
    "mse = mean_squared_error(y, y_pred)\n",
    "print(\"MSE:\", mse)"
   ]
  },
  {
   "cell_type": "code",
   "execution_count": 36,
   "id": "af113e9e-6e2a-4238-8b20-e8ef96af1908",
   "metadata": {
    "execution": {
     "iopub.execute_input": "2023-01-18T14:17:53.191693Z",
     "iopub.status.busy": "2023-01-18T14:17:53.191321Z",
     "iopub.status.idle": "2023-01-18T14:17:53.409760Z",
     "shell.execute_reply": "2023-01-18T14:17:53.408395Z",
     "shell.execute_reply.started": "2023-01-18T14:17:53.191665Z"
    },
    "tags": []
   },
   "outputs": [
    {
     "data": {
      "image/png": "[encoded data removed]",
      "text/plain": [
       "<Figure size 640x480 with 1 Axes>"
      ]
     },
     "metadata": {},
     "output_type": "display_data"
    }
   ],
   "source": [
    "plt.scatter(X, y, label=\"data\")\n",
    "plt.plot(X, y_pred, label=\"model\", color=\"black\")\n",
    "plt.legend()\n",
    "plt.show()"
   ]
  },
  {
   "cell_type": "markdown",
   "id": "ed4f3a2c-fd1c-42a7-950b-7f3e2108248e",
   "metadata": {},
   "source": [
    "## House Pricing Prediction"
   ]
  },
  {
   "cell_type": "code",
   "execution_count": 39,
   "id": "17b689a0-327c-450d-9d13-99521dbc0bb2",
   "metadata": {
    "execution": {
     "iopub.execute_input": "2023-01-18T14:22:59.817772Z",
     "iopub.status.busy": "2023-01-18T14:22:59.817006Z",
     "iopub.status.idle": "2023-01-18T14:23:03.771912Z",
     "shell.execute_reply": "2023-01-18T14:23:03.770790Z",
     "shell.execute_reply.started": "2023-01-18T14:22:59.817719Z"
    }
   },
   "outputs": [],
   "source": [
    "X, y = fetch_california_housing(data_home=\"data\", return_X_y=True, as_frame=True)"
   ]
  },
  {
   "cell_type": "code",
   "execution_count": 40,
   "id": "11672343-365e-44ad-86a1-f23c457552e1",
   "metadata": {
    "execution": {
     "iopub.execute_input": "2023-01-18T14:23:23.474625Z",
     "iopub.status.busy": "2023-01-18T14:23:23.474223Z",
     "iopub.status.idle": "2023-01-18T14:23:23.518080Z",
     "shell.execute_reply": "2023-01-18T14:23:23.513038Z",
     "shell.execute_reply.started": "2023-01-18T14:23:23.474595Z"
    }
   },
   "outputs": [
    {
     "data": {
      "text/html": [
       "<div>\n",
       "<style scoped>\n",
       "    .dataframe tbody tr th:only-of-type {\n",
       "        vertical-align: middle;\n",
       "    }\n",
       "\n",
       "    .dataframe tbody tr th {\n",
       "        vertical-align: top;\n",
       "    }\n",
       "\n",
       "    .dataframe thead th {\n",
       "        text-align: right;\n",
       "    }\n",
       "</style>\n",
       "<table border=\"1\" class=\"dataframe\">\n",
       "  <thead>\n",
       "    <tr style=\"text-align: right;\">\n",
       "      <th></th>\n",
       "      <th>MedInc</th>\n",
       "      <th>HouseAge</th>\n",
       "      <th>AveRooms</th>\n",
       "      <th>AveBedrms</th>\n",
       "      <th>Population</th>\n",
       "      <th>AveOccup</th>\n",
       "      <th>Latitude</th>\n",
       "      <th>Longitude</th>\n",
       "    </tr>\n",
       "  </thead>\n",
       "  <tbody>\n",
       "    <tr>\n",
       "      <th>0</th>\n",
       "      <td>8.3252</td>\n",
       "      <td>41.0</td>\n",
       "      <td>6.984127</td>\n",
       "      <td>1.023810</td>\n",
       "      <td>322.0</td>\n",
       "      <td>2.555556</td>\n",
       "      <td>37.88</td>\n",
       "      <td>-122.23</td>\n",
       "    </tr>\n",
       "    <tr>\n",
       "      <th>1</th>\n",
       "      <td>8.3014</td>\n",
       "      <td>21.0</td>\n",
       "      <td>6.238137</td>\n",
       "      <td>0.971880</td>\n",
       "      <td>2401.0</td>\n",
       "      <td>2.109842</td>\n",
       "      <td>37.86</td>\n",
       "      <td>-122.22</td>\n",
       "    </tr>\n",
       "    <tr>\n",
       "      <th>2</th>\n",
       "      <td>7.2574</td>\n",
       "      <td>52.0</td>\n",
       "      <td>8.288136</td>\n",
       "      <td>1.073446</td>\n",
       "      <td>496.0</td>\n",
       "      <td>2.802260</td>\n",
       "      <td>37.85</td>\n",
       "      <td>-122.24</td>\n",
       "    </tr>\n",
       "    <tr>\n",
       "      <th>3</th>\n",
       "      <td>5.6431</td>\n",
       "      <td>52.0</td>\n",
       "      <td>5.817352</td>\n",
       "      <td>1.073059</td>\n",
       "      <td>558.0</td>\n",
       "      <td>2.547945</td>\n",
       "      <td>37.85</td>\n",
       "      <td>-122.25</td>\n",
       "    </tr>\n",
       "    <tr>\n",
       "      <th>4</th>\n",
       "      <td>3.8462</td>\n",
       "      <td>52.0</td>\n",
       "      <td>6.281853</td>\n",
       "      <td>1.081081</td>\n",
       "      <td>565.0</td>\n",
       "      <td>2.181467</td>\n",
       "      <td>37.85</td>\n",
       "      <td>-122.25</td>\n",
       "    </tr>\n",
       "    <tr>\n",
       "      <th>...</th>\n",
       "      <td>...</td>\n",
       "      <td>...</td>\n",
       "      <td>...</td>\n",
       "      <td>...</td>\n",
       "      <td>...</td>\n",
       "      <td>...</td>\n",
       "      <td>...</td>\n",
       "      <td>...</td>\n",
       "    </tr>\n",
       "    <tr>\n",
       "      <th>20635</th>\n",
       "      <td>1.5603</td>\n",
       "      <td>25.0</td>\n",
       "      <td>5.045455</td>\n",
       "      <td>1.133333</td>\n",
       "      <td>845.0</td>\n",
       "      <td>2.560606</td>\n",
       "      <td>39.48</td>\n",
       "      <td>-121.09</td>\n",
       "    </tr>\n",
       "    <tr>\n",
       "      <th>20636</th>\n",
       "      <td>2.5568</td>\n",
       "      <td>18.0</td>\n",
       "      <td>6.114035</td>\n",
       "      <td>1.315789</td>\n",
       "      <td>356.0</td>\n",
       "      <td>3.122807</td>\n",
       "      <td>39.49</td>\n",
       "      <td>-121.21</td>\n",
       "    </tr>\n",
       "    <tr>\n",
       "      <th>20637</th>\n",
       "      <td>1.7000</td>\n",
       "      <td>17.0</td>\n",
       "      <td>5.205543</td>\n",
       "      <td>1.120092</td>\n",
       "      <td>1007.0</td>\n",
       "      <td>2.325635</td>\n",
       "      <td>39.43</td>\n",
       "      <td>-121.22</td>\n",
       "    </tr>\n",
       "    <tr>\n",
       "      <th>20638</th>\n",
       "      <td>1.8672</td>\n",
       "      <td>18.0</td>\n",
       "      <td>5.329513</td>\n",
       "      <td>1.171920</td>\n",
       "      <td>741.0</td>\n",
       "      <td>2.123209</td>\n",
       "      <td>39.43</td>\n",
       "      <td>-121.32</td>\n",
       "    </tr>\n",
       "    <tr>\n",
       "      <th>20639</th>\n",
       "      <td>2.3886</td>\n",
       "      <td>16.0</td>\n",
       "      <td>5.254717</td>\n",
       "      <td>1.162264</td>\n",
       "      <td>1387.0</td>\n",
       "      <td>2.616981</td>\n",
       "      <td>39.37</td>\n",
       "      <td>-121.24</td>\n",
       "    </tr>\n",
       "  </tbody>\n",
       "</table>\n",
       "<p>20640 rows × 8 columns</p>\n",
       "</div>"
      ],
      "text/plain": [
       "       MedInc  HouseAge  AveRooms  AveBedrms  Population  AveOccup  Latitude  \\\n",
       "0      8.3252      41.0  6.984127   1.023810       322.0  2.555556     37.88   \n",
       "1      8.3014      21.0  6.238137   0.971880      2401.0  2.109842     37.86   \n",
       "2      7.2574      52.0  8.288136   1.073446       496.0  2.802260     37.85   \n",
       "3      5.6431      52.0  5.817352   1.073059       558.0  2.547945     37.85   \n",
       "4      3.8462      52.0  6.281853   1.081081       565.0  2.181467     37.85   \n",
       "...       ...       ...       ...        ...         ...       ...       ...   \n",
       "20635  1.5603      25.0  5.045455   1.133333       845.0  2.560606     39.48   \n",
       "20636  2.5568      18.0  6.114035   1.315789       356.0  3.122807     39.49   \n",
       "20637  1.7000      17.0  5.205543   1.120092      1007.0  2.325635     39.43   \n",
       "20638  1.8672      18.0  5.329513   1.171920       741.0  2.123209     39.43   \n",
       "20639  2.3886      16.0  5.254717   1.162264      1387.0  2.616981     39.37   \n",
       "\n",
       "       Longitude  \n",
       "0        -122.23  \n",
       "1        -122.22  \n",
       "2        -122.24  \n",
       "3        -122.25  \n",
       "4        -122.25  \n",
       "...          ...  \n",
       "20635    -121.09  \n",
       "20636    -121.21  \n",
       "20637    -121.22  \n",
       "20638    -121.32  \n",
       "20639    -121.24  \n",
       "\n",
       "[20640 rows x 8 columns]"
      ]
     },
     "execution_count": 40,
     "metadata": {},
     "output_type": "execute_result"
    }
   ],
   "source": [
    "X"
   ]
  },
  {
   "cell_type": "code",
   "execution_count": 41,
   "id": "3a624a94-2f77-4d90-89df-799e4d690956",
   "metadata": {
    "execution": {
     "iopub.execute_input": "2023-01-18T14:23:38.251251Z",
     "iopub.status.busy": "2023-01-18T14:23:38.250798Z",
     "iopub.status.idle": "2023-01-18T14:23:38.279030Z",
     "shell.execute_reply": "2023-01-18T14:23:38.277807Z",
     "shell.execute_reply.started": "2023-01-18T14:23:38.251217Z"
    }
   },
   "outputs": [
    {
     "data": {
      "text/plain": [
       "0        4.526\n",
       "1        3.585\n",
       "2        3.521\n",
       "3        3.413\n",
       "4        3.422\n",
       "         ...  \n",
       "20635    0.781\n",
       "20636    0.771\n",
       "20637    0.923\n",
       "20638    0.847\n",
       "20639    0.894\n",
       "Name: MedHouseVal, Length: 20640, dtype: float64"
      ]
     },
     "execution_count": 41,
     "metadata": {},
     "output_type": "execute_result"
    }
   ],
   "source": [
    "y"
   ]
  },
  {
   "cell_type": "markdown",
   "id": "b18f77a3-f6a0-4239-9730-29ff4d0898b7",
   "metadata": {},
   "source": [
    "### Univariate Linear Regression"
   ]
  },
  {
   "cell_type": "code",
   "execution_count": 43,
   "id": "8c1883cf-5c48-42dc-8341-30f53addc9ab",
   "metadata": {
    "execution": {
     "iopub.execute_input": "2023-01-18T14:25:31.807278Z",
     "iopub.status.busy": "2023-01-18T14:25:31.806873Z",
     "iopub.status.idle": "2023-01-18T14:25:31.822216Z",
     "shell.execute_reply": "2023-01-18T14:25:31.819964Z",
     "shell.execute_reply.started": "2023-01-18T14:25:31.807245Z"
    },
    "tags": []
   },
   "outputs": [
    {
     "name": "stdout",
     "output_type": "stream",
     "text": [
      "       MedInc\n",
      "0      8.3252\n",
      "1      8.3014\n",
      "2      7.2574\n",
      "3      5.6431\n",
      "4      3.8462\n",
      "...       ...\n",
      "20635  1.5603\n",
      "20636  2.5568\n",
      "20637  1.7000\n",
      "20638  1.8672\n",
      "20639  2.3886\n",
      "\n",
      "[20640 rows x 1 columns]\n"
     ]
    }
   ],
   "source": [
    "features = X[[\"MedInc\"]]\n",
    "print(features)"
   ]
  },
  {
   "cell_type": "code",
   "execution_count": 44,
   "id": "1cc1f5e6-a5a3-47f1-9d0a-8f0241582b7d",
   "metadata": {
    "execution": {
     "iopub.execute_input": "2023-01-18T14:26:31.307838Z",
     "iopub.status.busy": "2023-01-18T14:26:31.307393Z",
     "iopub.status.idle": "2023-01-18T14:26:31.325302Z",
     "shell.execute_reply": "2023-01-18T14:26:31.323948Z",
     "shell.execute_reply.started": "2023-01-18T14:26:31.307804Z"
    }
   },
   "outputs": [
    {
     "name": "stdout",
     "output_type": "stream",
     "text": [
      "MSE: 0.7011311502929527\n"
     ]
    }
   ],
   "source": [
    "model = LinearRegression()\n",
    "model.fit(features, y)\n",
    "\n",
    "prediction = model.predict(features)\n",
    "mse = mean_squared_error(y, prediction)\n",
    "print(\"MSE:\", mse)"
   ]
  },
  {
   "cell_type": "code",
   "execution_count": 46,
   "id": "2d5b50b3-fa3d-4f8c-8947-dc82f0be1d95",
   "metadata": {
    "execution": {
     "iopub.execute_input": "2023-01-18T14:27:32.867479Z",
     "iopub.status.busy": "2023-01-18T14:27:32.867085Z",
     "iopub.status.idle": "2023-01-18T14:27:33.390954Z",
     "shell.execute_reply": "2023-01-18T14:27:33.389732Z",
     "shell.execute_reply.started": "2023-01-18T14:27:32.867447Z"
    },
    "tags": []
   },
   "outputs": [
    {
     "data": {
      "image/png": "[encoded data removed]",
      "text/plain": [
       "<Figure size 640x480 with 1 Axes>"
      ]
     },
     "metadata": {},
     "output_type": "display_data"
    }
   ],
   "source": [
    "plt.scatter(features, y, label=\"actual price\")\n",
    "plt.plot(features, prediction, label=\"prediction\", color=\"black\")\n",
    "plt.legend()\n",
    "plt.show()"
   ]
  },
  {
   "cell_type": "markdown",
   "id": "d53c41ad-77da-4625-bbed-154673bc9d1e",
   "metadata": {},
   "source": [
    "### Polynomial Regression"
   ]
  },
  {
   "cell_type": "code",
   "execution_count": 47,
   "id": "7038cfa7-3dbf-432d-94ef-0076d2cf0286",
   "metadata": {
    "execution": {
     "iopub.execute_input": "2023-01-18T14:29:34.755118Z",
     "iopub.status.busy": "2023-01-18T14:29:34.754576Z",
     "iopub.status.idle": "2023-01-18T14:29:34.774041Z",
     "shell.execute_reply": "2023-01-18T14:29:34.771586Z",
     "shell.execute_reply.started": "2023-01-18T14:29:34.755084Z"
    }
   },
   "outputs": [
    {
     "name": "stdout",
     "output_type": "stream",
     "text": [
      "MSE: 0.695037253723973\n"
     ]
    }
   ],
   "source": [
    "features = X[[\"MedInc\"]]\n",
    "transformer = PolynomialFeatures(degree=2, include_bias=False)\n",
    "transformer.fit(features)\n",
    "\n",
    "poly_features = transformer.transform(features)\n",
    "\n",
    "model = LinearRegression()\n",
    "model.fit(poly_features, y)\n",
    "\n",
    "prediction = model.predict(poly_features)\n",
    "mse = mean_squared_error(y, prediction)\n",
    "print(\"MSE:\", mse)"
   ]
  },
  {
   "cell_type": "code",
   "execution_count": 50,
   "id": "7d0226a2-40ad-469d-b653-decaa9681ac0",
   "metadata": {
    "execution": {
     "iopub.execute_input": "2023-01-18T14:30:28.104776Z",
     "iopub.status.busy": "2023-01-18T14:30:28.104203Z",
     "iopub.status.idle": "2023-01-18T14:30:28.820288Z",
     "shell.execute_reply": "2023-01-18T14:30:28.818861Z",
     "shell.execute_reply.started": "2023-01-18T14:30:28.104724Z"
    },
    "tags": []
   },
   "outputs": [
    {
     "data": {
      "image/png": "[encoded data removed]",
      "text/plain": [
       "<Figure size 640x480 with 1 Axes>"
      ]
     },
     "metadata": {},
     "output_type": "display_data"
    }
   ],
   "source": [
    "plt.scatter(features, y, label=\"actual price\")\n",
    "plt.plot(features, prediction, label=\"prediction\", color=\"black\")\n",
    "plt.legend()\n",
    "plt.show()"
   ]
  },
  {
   "cell_type": "markdown",
   "id": "153f3856-4911-4097-b276-b51ed4111be0",
   "metadata": {},
   "source": [
    "### Multivariate Linear Regression"
   ]
  },
  {
   "cell_type": "code",
   "execution_count": 52,
   "id": "19c5182e-9386-4669-8a36-52f671ff1b67",
   "metadata": {
    "execution": {
     "iopub.execute_input": "2023-01-18T14:32:30.514184Z",
     "iopub.status.busy": "2023-01-18T14:32:30.513473Z",
     "iopub.status.idle": "2023-01-18T14:32:30.538986Z",
     "shell.execute_reply": "2023-01-18T14:32:30.537788Z",
     "shell.execute_reply.started": "2023-01-18T14:32:30.514151Z"
    },
    "tags": []
   },
   "outputs": [
    {
     "name": "stdout",
     "output_type": "stream",
     "text": [
      "MSE: 0.5243209861846072\n"
     ]
    }
   ],
   "source": [
    "model = LinearRegression()\n",
    "model.fit(X, y)\n",
    "\n",
    "prediction = model.predict(X)\n",
    "mse = mean_squared_error(y, prediction)\n",
    "print(\"MSE:\", mse)"
   ]
  },
  {
   "cell_type": "markdown",
   "id": "07117004-ebe8-4839-9a03-8c51ff2af28e",
   "metadata": {
    "tags": []
   },
   "source": [
    "### Conclusion\n",
    "\n",
    "Best model: **multivariate linear regression** with all features included"
   ]
  }
 ],
 "metadata": {
  "kernelspec": {
   "display_name": "Python 3 (ipykernel)",
   "language": "python",
   "name": "python3"
  },
  "language_info": {
   "codemirror_mode": {
    "name": "ipython",
    "version": 3
   },
   "file_extension": ".py",
   "mimetype": "text/x-python",
   "name": "python",
   "nbconvert_exporter": "python",
   "pygments_lexer": "ipython3",
   "version": "3.9.12"
  }
 },
 "nbformat": 4,
 "nbformat_minor": 5
}
