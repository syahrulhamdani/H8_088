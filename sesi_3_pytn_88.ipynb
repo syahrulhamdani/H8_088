{
 "cells": [
  {
   "cell_type": "markdown",
   "id": "a0afbd4e-ff78-40dc-9b77-4052c4faf29b",
   "metadata": {},
   "source": [
    "# Function, Module, Packages"
   ]
  },
  {
   "cell_type": "code",
   "execution_count": 6,
   "id": "d5d157a5-6007-4be7-a580-d397711ca40d",
   "metadata": {
    "execution": {
     "iopub.execute_input": "2022-12-01T12:32:56.137760Z",
     "iopub.status.busy": "2022-12-01T12:32:56.136754Z",
     "iopub.status.idle": "2022-12-01T12:32:56.146716Z",
     "shell.execute_reply": "2022-12-01T12:32:56.144824Z",
     "shell.execute_reply.started": "2022-12-01T12:32:56.137704Z"
    },
    "tags": []
   },
   "outputs": [],
   "source": [
    "# decide what to buy\n",
    "def what_to_buy(money, book_price, magazine_price):\n",
    "    \"decide what to buy with that money.\"\n",
    "    if money >= book_price:\n",
    "        print(\"Buy a book!\")\n",
    "    elif money >= magazine_price:\n",
    "        print(\"Just buy a magazine instead..\")\n",
    "    else:\n",
    "        print(\"Need to collect more money!!\")"
   ]
  },
  {
   "cell_type": "code",
   "execution_count": 3,
   "id": "0a12f5cb-07cd-4109-8b8c-1c132e6647f7",
   "metadata": {
    "execution": {
     "iopub.execute_input": "2022-12-01T12:30:50.300882Z",
     "iopub.status.busy": "2022-12-01T12:30:50.300259Z",
     "iopub.status.idle": "2022-12-01T12:30:50.309468Z",
     "shell.execute_reply": "2022-12-01T12:30:50.308442Z",
     "shell.execute_reply.started": "2022-12-01T12:30:50.300833Z"
    }
   },
   "outputs": [
    {
     "name": "stdout",
     "output_type": "stream",
     "text": [
      "Buy a book!\n"
     ]
    }
   ],
   "source": [
    "amount = 1e5\n",
    "\n",
    "what_to_buy(amount)"
   ]
  },
  {
   "cell_type": "code",
   "execution_count": 4,
   "id": "b3e6232e-70f4-429a-aad1-7b41019fc466",
   "metadata": {
    "execution": {
     "iopub.execute_input": "2022-12-01T12:31:19.655149Z",
     "iopub.status.busy": "2022-12-01T12:31:19.654890Z",
     "iopub.status.idle": "2022-12-01T12:31:19.660073Z",
     "shell.execute_reply": "2022-12-01T12:31:19.658628Z",
     "shell.execute_reply.started": "2022-12-01T12:31:19.655124Z"
    }
   },
   "outputs": [
    {
     "name": "stdout",
     "output_type": "stream",
     "text": [
      "Just buy a magazine instead..\n"
     ]
    }
   ],
   "source": [
    "amount = 1e4\n",
    "what_to_buy(amount)"
   ]
  },
  {
   "cell_type": "code",
   "execution_count": 8,
   "id": "05f63c47-e114-4b76-b293-4ec7d6253517",
   "metadata": {
    "execution": {
     "iopub.execute_input": "2022-12-01T12:34:02.808880Z",
     "iopub.status.busy": "2022-12-01T12:34:02.808585Z",
     "iopub.status.idle": "2022-12-01T12:34:02.816665Z",
     "shell.execute_reply": "2022-12-01T12:34:02.813511Z",
     "shell.execute_reply.started": "2022-12-01T12:34:02.808853Z"
    },
    "tags": []
   },
   "outputs": [
    {
     "name": "stdout",
     "output_type": "stream",
     "text": [
      "Just buy a magazine instead..\n"
     ]
    }
   ],
   "source": [
    "amount = 1e4\n",
    "book = 1.5e4\n",
    "magazine = 1e4\n",
    "what_to_buy(amount, book, magazine)"
   ]
  },
  {
   "cell_type": "code",
   "execution_count": 12,
   "id": "01bd53dd-4b37-4c26-be7a-c146633065c4",
   "metadata": {
    "execution": {
     "iopub.execute_input": "2022-12-01T12:40:56.023299Z",
     "iopub.status.busy": "2022-12-01T12:40:56.022981Z",
     "iopub.status.idle": "2022-12-01T12:40:56.029015Z",
     "shell.execute_reply": "2022-12-01T12:40:56.027965Z",
     "shell.execute_reply.started": "2022-12-01T12:40:56.023272Z"
    }
   },
   "outputs": [],
   "source": [
    "a = 5 * 10\n",
    "b = 5 - 10"
   ]
  },
  {
   "cell_type": "code",
   "execution_count": 13,
   "id": "fa8e1a12-f78c-469e-8a72-f9f4dfe1e786",
   "metadata": {
    "execution": {
     "iopub.execute_input": "2022-12-01T12:40:57.347003Z",
     "iopub.status.busy": "2022-12-01T12:40:57.346703Z",
     "iopub.status.idle": "2022-12-01T12:40:57.359729Z",
     "shell.execute_reply": "2022-12-01T12:40:57.359009Z",
     "shell.execute_reply.started": "2022-12-01T12:40:57.346974Z"
    }
   },
   "outputs": [
    {
     "data": {
      "text/plain": [
       "50"
      ]
     },
     "execution_count": 13,
     "metadata": {},
     "output_type": "execute_result"
    }
   ],
   "source": [
    "a"
   ]
  },
  {
   "cell_type": "code",
   "execution_count": 14,
   "id": "f0f00ab7-1c4f-44e4-9cd6-6b0207bf139c",
   "metadata": {
    "execution": {
     "iopub.execute_input": "2022-12-01T12:40:58.888131Z",
     "iopub.status.busy": "2022-12-01T12:40:58.886414Z",
     "iopub.status.idle": "2022-12-01T12:40:58.899085Z",
     "shell.execute_reply": "2022-12-01T12:40:58.897319Z",
     "shell.execute_reply.started": "2022-12-01T12:40:58.888053Z"
    }
   },
   "outputs": [
    {
     "data": {
      "text/plain": [
       "-5"
      ]
     },
     "execution_count": 14,
     "metadata": {},
     "output_type": "execute_result"
    }
   ],
   "source": [
    "b"
   ]
  },
  {
   "cell_type": "code",
   "execution_count": 15,
   "id": "464dc584-3fb3-403f-9ce6-ac6c715a93a7",
   "metadata": {
    "execution": {
     "iopub.execute_input": "2022-12-01T12:41:12.361323Z",
     "iopub.status.busy": "2022-12-01T12:41:12.360969Z",
     "iopub.status.idle": "2022-12-01T12:41:12.382581Z",
     "shell.execute_reply": "2022-12-01T12:41:12.380995Z",
     "shell.execute_reply.started": "2022-12-01T12:41:12.361274Z"
    }
   },
   "outputs": [
    {
     "ename": "NameError",
     "evalue": "name 'area' is not defined",
     "output_type": "error",
     "traceback": [
      "\u001b[0;31m---------------------------------------------------------------------------\u001b[0m",
      "\u001b[0;31mNameError\u001b[0m                                 Traceback (most recent call last)",
      "Cell \u001b[0;32mIn [15], line 1\u001b[0m\n\u001b[0;32m----> 1\u001b[0m \u001b[43marea\u001b[49m\n",
      "\u001b[0;31mNameError\u001b[0m: name 'area' is not defined"
     ]
    }
   ],
   "source": [
    "area"
   ]
  },
  {
   "cell_type": "code",
   "execution_count": 16,
   "id": "81e6cf24-6b2f-47d3-a64b-e46bd149f200",
   "metadata": {
    "execution": {
     "iopub.execute_input": "2022-12-01T12:41:14.839021Z",
     "iopub.status.busy": "2022-12-01T12:41:14.832951Z",
     "iopub.status.idle": "2022-12-01T12:41:14.882324Z",
     "shell.execute_reply": "2022-12-01T12:41:14.876764Z",
     "shell.execute_reply.started": "2022-12-01T12:41:14.838950Z"
    }
   },
   "outputs": [
    {
     "ename": "NameError",
     "evalue": "name 'diff' is not defined",
     "output_type": "error",
     "traceback": [
      "\u001b[0;31m---------------------------------------------------------------------------\u001b[0m",
      "\u001b[0;31mNameError\u001b[0m                                 Traceback (most recent call last)",
      "Cell \u001b[0;32mIn [16], line 1\u001b[0m\n\u001b[0;32m----> 1\u001b[0m \u001b[43mdiff\u001b[49m\n",
      "\u001b[0;31mNameError\u001b[0m: name 'diff' is not defined"
     ]
    }
   ],
   "source": [
    "diff"
   ]
  },
  {
   "cell_type": "code",
   "execution_count": 23,
   "id": "1bcee4ec-929b-4ccb-b8c3-d9f4caf30a8a",
   "metadata": {
    "execution": {
     "iopub.execute_input": "2022-12-01T12:43:23.435734Z",
     "iopub.status.busy": "2022-12-01T12:43:23.435419Z",
     "iopub.status.idle": "2022-12-01T12:43:23.441646Z",
     "shell.execute_reply": "2022-12-01T12:43:23.440610Z",
     "shell.execute_reply.started": "2022-12-01T12:43:23.435704Z"
    },
    "tags": []
   },
   "outputs": [],
   "source": [
    "def calculate_area(p, l):\n",
    "    \"Calculate area with equation: p * l.\"\n",
    "    area = p * l\n",
    "    diff = p - l\n",
    "    print(\"p * l =\", area)\n",
    "    print(\"p - l =\", diff)\n",
    "    print(\"Done!\")"
   ]
  },
  {
   "cell_type": "code",
   "execution_count": 20,
   "id": "71dc1a36-5340-4faa-8a1f-d95a479af7eb",
   "metadata": {
    "execution": {
     "iopub.execute_input": "2022-12-01T12:42:49.082451Z",
     "iopub.status.busy": "2022-12-01T12:42:49.082135Z",
     "iopub.status.idle": "2022-12-01T12:42:49.087576Z",
     "shell.execute_reply": "2022-12-01T12:42:49.086200Z",
     "shell.execute_reply.started": "2022-12-01T12:42:49.082422Z"
    }
   },
   "outputs": [
    {
     "name": "stdout",
     "output_type": "stream",
     "text": [
      "<function calculate_area at 0x7feea97ff910>\n"
     ]
    }
   ],
   "source": [
    "print(calculate_area)"
   ]
  },
  {
   "cell_type": "code",
   "execution_count": 24,
   "id": "591173ad-b790-4ff1-a069-95339133a70d",
   "metadata": {
    "execution": {
     "iopub.execute_input": "2022-12-01T12:43:28.282192Z",
     "iopub.status.busy": "2022-12-01T12:43:28.281775Z",
     "iopub.status.idle": "2022-12-01T12:43:28.287998Z",
     "shell.execute_reply": "2022-12-01T12:43:28.286083Z",
     "shell.execute_reply.started": "2022-12-01T12:43:28.282141Z"
    },
    "tags": []
   },
   "outputs": [
    {
     "name": "stdout",
     "output_type": "stream",
     "text": [
      "p * l = 100\n",
      "p - l = 0\n",
      "Done!\n"
     ]
    }
   ],
   "source": [
    "calculate_area(10, 10)"
   ]
  },
  {
   "cell_type": "code",
   "execution_count": 25,
   "id": "fc8b8df6-0e49-4ca8-938f-1c6698b81f1e",
   "metadata": {
    "execution": {
     "iopub.execute_input": "2022-12-01T12:43:28.938230Z",
     "iopub.status.busy": "2022-12-01T12:43:28.937875Z",
     "iopub.status.idle": "2022-12-01T12:43:28.944314Z",
     "shell.execute_reply": "2022-12-01T12:43:28.942426Z",
     "shell.execute_reply.started": "2022-12-01T12:43:28.938198Z"
    },
    "tags": []
   },
   "outputs": [
    {
     "name": "stdout",
     "output_type": "stream",
     "text": [
      "p * l = 10\n",
      "p - l = -3\n",
      "Done!\n"
     ]
    }
   ],
   "source": [
    "calculate_area(2, 5)"
   ]
  },
  {
   "cell_type": "code",
   "execution_count": 26,
   "id": "32df730d-1f55-4e30-9614-0ffa04845e5d",
   "metadata": {
    "execution": {
     "iopub.execute_input": "2022-12-01T12:43:29.889556Z",
     "iopub.status.busy": "2022-12-01T12:43:29.889238Z",
     "iopub.status.idle": "2022-12-01T12:43:29.894229Z",
     "shell.execute_reply": "2022-12-01T12:43:29.893328Z",
     "shell.execute_reply.started": "2022-12-01T12:43:29.889529Z"
    },
    "tags": []
   },
   "outputs": [
    {
     "name": "stdout",
     "output_type": "stream",
     "text": [
      "p * l = 2\n",
      "p - l = -1\n",
      "Done!\n"
     ]
    }
   ],
   "source": [
    "calculate_area(1, 2)"
   ]
  },
  {
   "cell_type": "markdown",
   "id": "27d36371-e7f9-417a-9baa-67b2f2fe03dd",
   "metadata": {},
   "source": [
    "## Required Arguments"
   ]
  },
  {
   "cell_type": "code",
   "execution_count": 27,
   "id": "a4ffc28e-9152-4f7d-aab0-eaa397191539",
   "metadata": {
    "execution": {
     "iopub.execute_input": "2022-12-01T12:46:26.629247Z",
     "iopub.status.busy": "2022-12-01T12:46:26.628909Z",
     "iopub.status.idle": "2022-12-01T12:46:26.636873Z",
     "shell.execute_reply": "2022-12-01T12:46:26.635439Z",
     "shell.execute_reply.started": "2022-12-01T12:46:26.629219Z"
    }
   },
   "outputs": [
    {
     "name": "stdout",
     "output_type": "stream",
     "text": [
      "['subandi', 'indra', 'ayu', 'azkha']\n"
     ]
    }
   ],
   "source": [
    "names = [\"subandi\", \"indra\", \"ayu\", \"azkha\"]\n",
    "print(names)"
   ]
  },
  {
   "cell_type": "code",
   "execution_count": 28,
   "id": "c4547f0b-8864-496a-bbc8-7b683f0dcb2c",
   "metadata": {
    "execution": {
     "iopub.execute_input": "2022-12-01T12:47:09.362537Z",
     "iopub.status.busy": "2022-12-01T12:47:09.360842Z",
     "iopub.status.idle": "2022-12-01T12:47:09.367177Z",
     "shell.execute_reply": "2022-12-01T12:47:09.366318Z",
     "shell.execute_reply.started": "2022-12-01T12:47:09.362498Z"
    }
   },
   "outputs": [
    {
     "name": "stdout",
     "output_type": "stream",
     "text": [
      "['subandi', 'indra', 'ayu', 'azkha']\n"
     ]
    }
   ],
   "source": [
    "print(names)"
   ]
  },
  {
   "cell_type": "code",
   "execution_count": 29,
   "id": "f2bf1527-0b61-4485-bd60-0e398874b15a",
   "metadata": {
    "execution": {
     "iopub.execute_input": "2022-12-01T12:47:11.874159Z",
     "iopub.status.busy": "2022-12-01T12:47:11.873870Z",
     "iopub.status.idle": "2022-12-01T12:47:11.880234Z",
     "shell.execute_reply": "2022-12-01T12:47:11.879256Z",
     "shell.execute_reply.started": "2022-12-01T12:47:11.874132Z"
    }
   },
   "outputs": [],
   "source": [
    "names.append(\"dani\")"
   ]
  },
  {
   "cell_type": "code",
   "execution_count": 30,
   "id": "bf057932-ce0c-43a8-a6f4-b678846f316d",
   "metadata": {
    "execution": {
     "iopub.execute_input": "2022-12-01T12:47:17.716870Z",
     "iopub.status.busy": "2022-12-01T12:47:17.716599Z",
     "iopub.status.idle": "2022-12-01T12:47:17.721890Z",
     "shell.execute_reply": "2022-12-01T12:47:17.720381Z",
     "shell.execute_reply.started": "2022-12-01T12:47:17.716844Z"
    }
   },
   "outputs": [
    {
     "name": "stdout",
     "output_type": "stream",
     "text": [
      "['subandi', 'indra', 'ayu', 'azkha', 'dani']\n"
     ]
    }
   ],
   "source": [
    "print(names)"
   ]
  },
  {
   "cell_type": "code",
   "execution_count": 32,
   "id": "2241edcc-4dcc-4a7e-a0ed-22ad49c3b91e",
   "metadata": {
    "execution": {
     "iopub.execute_input": "2022-12-01T12:48:41.594533Z",
     "iopub.status.busy": "2022-12-01T12:48:41.594136Z",
     "iopub.status.idle": "2022-12-01T12:48:41.600409Z",
     "shell.execute_reply": "2022-12-01T12:48:41.599267Z",
     "shell.execute_reply.started": "2022-12-01T12:48:41.594501Z"
    },
    "tags": []
   },
   "outputs": [],
   "source": [
    "def add_new_member(new_member, existing):\n",
    "    \"Add new member to the list `existing`.\"\n",
    "    print(\"Adding {new_member} to the list..\")\n",
    "    existing.append(new_member)\n",
    "    print(\"New members list:\", existing)"
   ]
  },
  {
   "cell_type": "code",
   "execution_count": 33,
   "id": "1ecd1f20-b80d-45bd-8bd1-a1e4221d4a8f",
   "metadata": {
    "execution": {
     "iopub.execute_input": "2022-12-01T12:48:49.244906Z",
     "iopub.status.busy": "2022-12-01T12:48:49.244395Z",
     "iopub.status.idle": "2022-12-01T12:48:49.251181Z",
     "shell.execute_reply": "2022-12-01T12:48:49.250296Z",
     "shell.execute_reply.started": "2022-12-01T12:48:49.244859Z"
    }
   },
   "outputs": [
    {
     "data": {
      "text/plain": [
       "<function __main__.add_new_member(new_member, existing)>"
      ]
     },
     "execution_count": 33,
     "metadata": {},
     "output_type": "execute_result"
    }
   ],
   "source": [
    "add_new_member"
   ]
  },
  {
   "cell_type": "code",
   "execution_count": 34,
   "id": "cd3bf49d-1b1c-4bfc-a280-6b133a58ec15",
   "metadata": {
    "execution": {
     "iopub.execute_input": "2022-12-01T12:48:58.203879Z",
     "iopub.status.busy": "2022-12-01T12:48:58.203596Z",
     "iopub.status.idle": "2022-12-01T12:48:58.217322Z",
     "shell.execute_reply": "2022-12-01T12:48:58.208902Z",
     "shell.execute_reply.started": "2022-12-01T12:48:58.203856Z"
    }
   },
   "outputs": [
    {
     "name": "stdout",
     "output_type": "stream",
     "text": [
      "['subandi', 'indra', 'ayu', 'azkha', 'dani']\n"
     ]
    }
   ],
   "source": [
    "print(names)"
   ]
  },
  {
   "cell_type": "code",
   "execution_count": 35,
   "id": "baf82739-3983-419d-b00e-47c6838f0df3",
   "metadata": {
    "execution": {
     "iopub.execute_input": "2022-12-01T12:49:19.106761Z",
     "iopub.status.busy": "2022-12-01T12:49:19.106498Z",
     "iopub.status.idle": "2022-12-01T12:49:19.112946Z",
     "shell.execute_reply": "2022-12-01T12:49:19.111007Z",
     "shell.execute_reply.started": "2022-12-01T12:49:19.106738Z"
    }
   },
   "outputs": [
    {
     "name": "stdout",
     "output_type": "stream",
     "text": [
      "Adding {new_member} to the list..\n",
      "New members list: ['subandi', 'indra', 'ayu', 'azkha', 'dani', 'putri']\n"
     ]
    }
   ],
   "source": [
    "add_new_member(\"putri\", names)"
   ]
  },
  {
   "cell_type": "code",
   "execution_count": 36,
   "id": "f1d1ca01-ed08-444b-82ce-c9ec5d07169e",
   "metadata": {
    "execution": {
     "iopub.execute_input": "2022-12-01T12:49:27.128957Z",
     "iopub.status.busy": "2022-12-01T12:49:27.128669Z",
     "iopub.status.idle": "2022-12-01T12:49:27.134219Z",
     "shell.execute_reply": "2022-12-01T12:49:27.133248Z",
     "shell.execute_reply.started": "2022-12-01T12:49:27.128930Z"
    }
   },
   "outputs": [
    {
     "name": "stdout",
     "output_type": "stream",
     "text": [
      "['subandi', 'indra', 'ayu', 'azkha', 'dani', 'putri']\n"
     ]
    }
   ],
   "source": [
    "print(names)"
   ]
  },
  {
   "cell_type": "code",
   "execution_count": 37,
   "id": "4efe65ab-4b80-43e5-87ba-78f9f456b849",
   "metadata": {
    "execution": {
     "iopub.execute_input": "2022-12-01T12:51:16.054960Z",
     "iopub.status.busy": "2022-12-01T12:51:16.054577Z",
     "iopub.status.idle": "2022-12-01T12:51:16.075019Z",
     "shell.execute_reply": "2022-12-01T12:51:16.072219Z",
     "shell.execute_reply.started": "2022-12-01T12:51:16.054923Z"
    }
   },
   "outputs": [
    {
     "ename": "NameError",
     "evalue": "name 'existing' is not defined",
     "output_type": "error",
     "traceback": [
      "\u001b[0;31m---------------------------------------------------------------------------\u001b[0m",
      "\u001b[0;31mNameError\u001b[0m                                 Traceback (most recent call last)",
      "Cell \u001b[0;32mIn [37], line 1\u001b[0m\n\u001b[0;32m----> 1\u001b[0m \u001b[43mexisting\u001b[49m\n",
      "\u001b[0;31mNameError\u001b[0m: name 'existing' is not defined"
     ]
    }
   ],
   "source": [
    "existing"
   ]
  },
  {
   "cell_type": "code",
   "execution_count": 38,
   "id": "2ea091b3-f518-4e65-bc9d-ba1bf21738fe",
   "metadata": {
    "execution": {
     "iopub.execute_input": "2022-12-01T12:52:40.793152Z",
     "iopub.status.busy": "2022-12-01T12:52:40.792887Z",
     "iopub.status.idle": "2022-12-01T12:52:40.798813Z",
     "shell.execute_reply": "2022-12-01T12:52:40.796861Z",
     "shell.execute_reply.started": "2022-12-01T12:52:40.793128Z"
    }
   },
   "outputs": [],
   "source": [
    "def pass_by_value(value):\n",
    "    new_value = value + 5\n",
    "    print(\"new value inside function:\", new_value)"
   ]
  },
  {
   "cell_type": "code",
   "execution_count": 39,
   "id": "703e02d2-5df2-4649-b8df-387380f175d3",
   "metadata": {
    "execution": {
     "iopub.execute_input": "2022-12-01T12:53:42.970448Z",
     "iopub.status.busy": "2022-12-01T12:53:42.970198Z",
     "iopub.status.idle": "2022-12-01T12:53:42.975158Z",
     "shell.execute_reply": "2022-12-01T12:53:42.974254Z",
     "shell.execute_reply.started": "2022-12-01T12:53:42.970426Z"
    }
   },
   "outputs": [
    {
     "name": "stdout",
     "output_type": "stream",
     "text": [
      "new value inside function: 15\n",
      "new value outside function: 10\n"
     ]
    }
   ],
   "source": [
    "new_value = 10\n",
    "pass_by_value(new_value)\n",
    "print(\"new value outside function:\", new_value)"
   ]
  },
  {
   "cell_type": "code",
   "execution_count": 40,
   "id": "a5cf1821-4950-4a16-9a7f-af3e2fc278f1",
   "metadata": {
    "execution": {
     "iopub.execute_input": "2022-12-01T12:53:57.219515Z",
     "iopub.status.busy": "2022-12-01T12:53:57.218920Z",
     "iopub.status.idle": "2022-12-01T12:53:57.227933Z",
     "shell.execute_reply": "2022-12-01T12:53:57.225630Z",
     "shell.execute_reply.started": "2022-12-01T12:53:57.219483Z"
    }
   },
   "outputs": [
    {
     "data": {
      "text/plain": [
       "10"
      ]
     },
     "execution_count": 40,
     "metadata": {},
     "output_type": "execute_result"
    }
   ],
   "source": [
    "new_value"
   ]
  },
  {
   "cell_type": "markdown",
   "id": "241b3a09-4f1f-4aaa-b791-db93317cc47e",
   "metadata": {},
   "source": [
    "## keywords argument"
   ]
  },
  {
   "cell_type": "code",
   "execution_count": 42,
   "id": "59f36065-3fc7-4eaf-96f2-c23648e20e87",
   "metadata": {
    "execution": {
     "iopub.execute_input": "2022-12-01T13:00:19.077030Z",
     "iopub.status.busy": "2022-12-01T13:00:19.076729Z",
     "iopub.status.idle": "2022-12-01T13:00:19.081811Z",
     "shell.execute_reply": "2022-12-01T13:00:19.080884Z",
     "shell.execute_reply.started": "2022-12-01T13:00:19.077000Z"
    },
    "tags": []
   },
   "outputs": [],
   "source": [
    "def is_required(pos_a, pos_b):\n",
    "    print(\"pos_a:\", pos_a)\n",
    "    print(\"pos_b:\", pos_b)"
   ]
  },
  {
   "cell_type": "code",
   "execution_count": 43,
   "id": "5ffc4b9e-4aee-4c14-a558-0e45842dcd32",
   "metadata": {
    "execution": {
     "iopub.execute_input": "2022-12-01T13:01:28.901913Z",
     "iopub.status.busy": "2022-12-01T13:01:28.901644Z",
     "iopub.status.idle": "2022-12-01T13:01:28.923776Z",
     "shell.execute_reply": "2022-12-01T13:01:28.922700Z",
     "shell.execute_reply.started": "2022-12-01T13:01:28.901886Z"
    }
   },
   "outputs": [
    {
     "name": "stdout",
     "output_type": "stream",
     "text": [
      "pos_a: 100\n",
      "pos_b: 50\n",
      "pos_a: 50\n",
      "pos_b: 100\n"
     ]
    },
    {
     "ename": "TypeError",
     "evalue": "is_required() missing 1 required positional argument: 'pos_b'",
     "output_type": "error",
     "traceback": [
      "\u001b[0;31m---------------------------------------------------------------------------\u001b[0m",
      "\u001b[0;31mTypeError\u001b[0m                                 Traceback (most recent call last)",
      "Cell \u001b[0;32mIn [43], line 6\u001b[0m\n\u001b[1;32m      4\u001b[0m is_required(a, b)\n\u001b[1;32m      5\u001b[0m is_required(b, a)\n\u001b[0;32m----> 6\u001b[0m \u001b[43mis_required\u001b[49m\u001b[43m(\u001b[49m\u001b[43mb\u001b[49m\u001b[43m)\u001b[49m\n",
      "\u001b[0;31mTypeError\u001b[0m: is_required() missing 1 required positional argument: 'pos_b'"
     ]
    }
   ],
   "source": [
    "a = 100\n",
    "b = 50\n",
    "\n",
    "is_required(a, b)\n",
    "is_required(b, a)\n",
    "is_required(b)"
   ]
  },
  {
   "cell_type": "code",
   "execution_count": 44,
   "id": "250fcc4a-d4f3-4715-80ba-6303bbed96f7",
   "metadata": {
    "execution": {
     "iopub.execute_input": "2022-12-01T13:06:42.904730Z",
     "iopub.status.busy": "2022-12-01T13:06:42.904443Z",
     "iopub.status.idle": "2022-12-01T13:06:42.913533Z",
     "shell.execute_reply": "2022-12-01T13:06:42.911377Z",
     "shell.execute_reply.started": "2022-12-01T13:06:42.904704Z"
    }
   },
   "outputs": [
    {
     "name": "stdout",
     "output_type": "stream",
     "text": [
      "pos_a: 100\n",
      "pos_b: 50\n",
      "pos_a: 100\n",
      "pos_b: 50\n",
      "---\n",
      "pos_a: 50\n",
      "pos_b: 100\n",
      "pos_a: 50\n",
      "pos_b: 100\n"
     ]
    }
   ],
   "source": [
    "is_required(pos_a=a, pos_b=b)\n",
    "is_required(pos_b=b, pos_a=a)\n",
    "print(\"---\")\n",
    "is_required(pos_a=b, pos_b=a)\n",
    "is_required(pos_b=a, pos_a=b)"
   ]
  },
  {
   "cell_type": "code",
   "execution_count": 47,
   "id": "2a35fb5a-f4fe-4514-baed-19b6f5923eea",
   "metadata": {
    "execution": {
     "iopub.execute_input": "2022-12-01T13:09:19.360010Z",
     "iopub.status.busy": "2022-12-01T13:09:19.359752Z",
     "iopub.status.idle": "2022-12-01T13:09:19.365755Z",
     "shell.execute_reply": "2022-12-01T13:09:19.362619Z",
     "shell.execute_reply.started": "2022-12-01T13:09:19.359987Z"
    },
    "tags": []
   },
   "outputs": [],
   "source": [
    "pos_a = 1"
   ]
  },
  {
   "cell_type": "code",
   "execution_count": 48,
   "id": "3bf82a3d-1ec0-410d-a6eb-6fb7c0f2d82f",
   "metadata": {
    "execution": {
     "iopub.execute_input": "2022-12-01T13:09:39.065496Z",
     "iopub.status.busy": "2022-12-01T13:09:39.064924Z",
     "iopub.status.idle": "2022-12-01T13:09:39.071773Z",
     "shell.execute_reply": "2022-12-01T13:09:39.070470Z",
     "shell.execute_reply.started": "2022-12-01T13:09:39.065428Z"
    },
    "tags": []
   },
   "outputs": [
    {
     "name": "stdout",
     "output_type": "stream",
     "text": [
      "pos_a: 50\n",
      "pos_b: 1\n"
     ]
    }
   ],
   "source": [
    "is_required(pos_a=b, pos_b=pos_a)"
   ]
  },
  {
   "cell_type": "markdown",
   "id": "eae18f74-88ca-492c-9814-728dacfe12ae",
   "metadata": {},
   "source": [
    "## Default Arguments"
   ]
  },
  {
   "cell_type": "code",
   "execution_count": 49,
   "id": "a9ed1e48-064f-4e54-be4a-96420d517515",
   "metadata": {
    "execution": {
     "iopub.execute_input": "2022-12-01T13:12:40.822267Z",
     "iopub.status.busy": "2022-12-01T13:12:40.821994Z",
     "iopub.status.idle": "2022-12-01T13:12:40.833274Z",
     "shell.execute_reply": "2022-12-01T13:12:40.832104Z",
     "shell.execute_reply.started": "2022-12-01T13:12:40.822240Z"
    }
   },
   "outputs": [],
   "source": [
    "def show_info(name, age=25):\n",
    "    print(\"Name:\", name)\n",
    "    print(\"Age:\", age)"
   ]
  },
  {
   "cell_type": "code",
   "execution_count": 50,
   "id": "a75ba7aa-7601-41f8-94f6-0c3f5124b52e",
   "metadata": {
    "execution": {
     "iopub.execute_input": "2022-12-01T13:13:39.837472Z",
     "iopub.status.busy": "2022-12-01T13:13:39.837192Z",
     "iopub.status.idle": "2022-12-01T13:13:39.843284Z",
     "shell.execute_reply": "2022-12-01T13:13:39.842329Z",
     "shell.execute_reply.started": "2022-12-01T13:13:39.837449Z"
    }
   },
   "outputs": [
    {
     "name": "stdout",
     "output_type": "stream",
     "text": [
      "Name: indra\n",
      "Age: 10\n",
      "Name: indra\n",
      "Age: 25\n"
     ]
    }
   ],
   "source": [
    "show_info(\"indra\", 10)\n",
    "show_info(\"indra\")"
   ]
  },
  {
   "cell_type": "code",
   "execution_count": 52,
   "id": "fcadb33b-f19d-492a-87ee-d74a4acd5b0d",
   "metadata": {
    "execution": {
     "iopub.execute_input": "2022-12-01T13:16:09.808445Z",
     "iopub.status.busy": "2022-12-01T13:16:09.805036Z",
     "iopub.status.idle": "2022-12-01T13:16:09.813809Z",
     "shell.execute_reply": "2022-12-01T13:16:09.812822Z",
     "shell.execute_reply.started": "2022-12-01T13:16:09.808365Z"
    },
    "tags": []
   },
   "outputs": [],
   "source": [
    "# subandi-indra-ayu...\n",
    "def combine_names(names, sep=\"-\"):\n",
    "    print(sep.join(names))"
   ]
  },
  {
   "cell_type": "code",
   "execution_count": 53,
   "id": "d28e4b4d-cc23-4573-b99f-52119fea5479",
   "metadata": {
    "execution": {
     "iopub.execute_input": "2022-12-01T13:16:15.447727Z",
     "iopub.status.busy": "2022-12-01T13:16:15.447384Z",
     "iopub.status.idle": "2022-12-01T13:16:15.452938Z",
     "shell.execute_reply": "2022-12-01T13:16:15.451126Z",
     "shell.execute_reply.started": "2022-12-01T13:16:15.447696Z"
    },
    "tags": []
   },
   "outputs": [
    {
     "name": "stdout",
     "output_type": "stream",
     "text": [
      "subandi-indra-ayu-azkha-dani-putri\n"
     ]
    }
   ],
   "source": [
    "combine_names(names)"
   ]
  },
  {
   "cell_type": "code",
   "execution_count": 55,
   "id": "31b71f2f-e7c1-4861-9c25-53817c05a3fc",
   "metadata": {
    "execution": {
     "iopub.execute_input": "2022-12-01T13:16:46.037500Z",
     "iopub.status.busy": "2022-12-01T13:16:46.034908Z",
     "iopub.status.idle": "2022-12-01T13:16:46.091756Z",
     "shell.execute_reply": "2022-12-01T13:16:46.089953Z",
     "shell.execute_reply.started": "2022-12-01T13:16:46.037413Z"
    },
    "tags": []
   },
   "outputs": [
    {
     "name": "stdout",
     "output_type": "stream",
     "text": [
      "subandi,indra,ayu,azkha,dani,putri\n",
      "subandi, indra, ayu, azkha, dani, putri\n"
     ]
    }
   ],
   "source": [
    "combine_names(names, \",\")\n",
    "combine_names(names, \", \")"
   ]
  },
  {
   "cell_type": "markdown",
   "id": "21a9703b-cbe0-48df-9284-1ff08f246547",
   "metadata": {},
   "source": [
    "## Variable-length Arguments"
   ]
  },
  {
   "cell_type": "code",
   "execution_count": 59,
   "id": "162e9530-0d51-4b86-95b6-3f0844af18d1",
   "metadata": {
    "execution": {
     "iopub.execute_input": "2022-12-01T13:21:49.810897Z",
     "iopub.status.busy": "2022-12-01T13:21:49.810612Z",
     "iopub.status.idle": "2022-12-01T13:21:49.827046Z",
     "shell.execute_reply": "2022-12-01T13:21:49.819436Z",
     "shell.execute_reply.started": "2022-12-01T13:21:49.810871Z"
    },
    "tags": []
   },
   "outputs": [],
   "source": [
    "def combine_all_names(*names, sep=\"-\"):\n",
    "    print(\"Names:\", names, \"type:\", type(names))\n",
    "    print(sep.join(names))"
   ]
  },
  {
   "cell_type": "code",
   "execution_count": 60,
   "id": "4c0c8ea4-f3ad-4062-80d4-a8aec7546478",
   "metadata": {
    "execution": {
     "iopub.execute_input": "2022-12-01T13:21:52.361573Z",
     "iopub.status.busy": "2022-12-01T13:21:52.361295Z",
     "iopub.status.idle": "2022-12-01T13:21:52.367704Z",
     "shell.execute_reply": "2022-12-01T13:21:52.366944Z",
     "shell.execute_reply.started": "2022-12-01T13:21:52.361550Z"
    },
    "tags": []
   },
   "outputs": [
    {
     "name": "stdout",
     "output_type": "stream",
     "text": [
      "Names: ('subandi', 'indra', 'ayu', 'azkha') type: <class 'tuple'>\n",
      "subandi,indra,ayu,azkha\n"
     ]
    }
   ],
   "source": [
    "combine_all_names(\"subandi\", \"indra\", \"ayu\", \"azkha\", sep=\",\")"
   ]
  },
  {
   "cell_type": "code",
   "execution_count": 61,
   "id": "dcb1cf73-cbc3-460c-b22f-b147934dc072",
   "metadata": {
    "execution": {
     "iopub.execute_input": "2022-12-01T13:22:12.240060Z",
     "iopub.status.busy": "2022-12-01T13:22:12.239710Z",
     "iopub.status.idle": "2022-12-01T13:22:12.246375Z",
     "shell.execute_reply": "2022-12-01T13:22:12.245680Z",
     "shell.execute_reply.started": "2022-12-01T13:22:12.240031Z"
    },
    "tags": []
   },
   "outputs": [
    {
     "name": "stdout",
     "output_type": "stream",
     "text": [
      "Names: ('subandi', 'indra', 'ayu', 'azkha', 'dani', 'putri', 'anything') type: <class 'tuple'>\n",
      "subandi,indra,ayu,azkha,dani,putri,anything\n"
     ]
    }
   ],
   "source": [
    "combine_all_names(\"subandi\", \"indra\", \"ayu\", \"azkha\", \"dani\", \"putri\", \"anything\", sep=\",\")"
   ]
  },
  {
   "cell_type": "code",
   "execution_count": 62,
   "id": "929aff81-ba58-459d-bba5-cfcc88483103",
   "metadata": {
    "execution": {
     "iopub.execute_input": "2022-12-01T13:22:37.061237Z",
     "iopub.status.busy": "2022-12-01T13:22:37.060853Z",
     "iopub.status.idle": "2022-12-01T13:22:37.068467Z",
     "shell.execute_reply": "2022-12-01T13:22:37.066545Z",
     "shell.execute_reply.started": "2022-12-01T13:22:37.061185Z"
    },
    "tags": []
   },
   "outputs": [
    {
     "name": "stdout",
     "output_type": "stream",
     "text": [
      "Names: ('subandi', 'indra', 'ayu', 'azkha', 'dani', 'putri', 'anything', ',') type: <class 'tuple'>\n",
      "subandi-indra-ayu-azkha-dani-putri-anything-,\n"
     ]
    }
   ],
   "source": [
    "combine_all_names(\"subandi\", \"indra\", \"ayu\", \"azkha\", \"dani\", \"putri\", \"anything\", \",\")"
   ]
  },
  {
   "cell_type": "code",
   "execution_count": 65,
   "id": "60ddf408-4a6f-46ee-a43d-a997769c417e",
   "metadata": {
    "execution": {
     "iopub.execute_input": "2022-12-01T13:24:18.082832Z",
     "iopub.status.busy": "2022-12-01T13:24:18.081326Z",
     "iopub.status.idle": "2022-12-01T13:24:18.087556Z",
     "shell.execute_reply": "2022-12-01T13:24:18.086525Z",
     "shell.execute_reply.started": "2022-12-01T13:24:18.082782Z"
    },
    "tags": []
   },
   "outputs": [
    {
     "name": "stdout",
     "output_type": "stream",
     "text": [
      "1 2 3 subandi indra ayu\n",
      "name: ['subandi', 'indra', 'ayu', 'azkha', 'dani', 'putri']\n"
     ]
    }
   ],
   "source": [
    "print(1, 2, 3, \"subandi\", \"indra\", \"ayu\")\n",
    "print(\"name:\", names)"
   ]
  },
  {
   "cell_type": "markdown",
   "id": "65dd81b3-9611-4687-9553-8531f9df3fe9",
   "metadata": {},
   "source": [
    "## Anonymous Function"
   ]
  },
  {
   "cell_type": "code",
   "execution_count": 66,
   "id": "3d9c41fc-d997-41c6-9ca6-c73c9f492ede",
   "metadata": {
    "execution": {
     "iopub.execute_input": "2022-12-01T13:27:36.439979Z",
     "iopub.status.busy": "2022-12-01T13:27:36.439710Z",
     "iopub.status.idle": "2022-12-01T13:27:36.444136Z",
     "shell.execute_reply": "2022-12-01T13:27:36.442937Z",
     "shell.execute_reply.started": "2022-12-01T13:27:36.439956Z"
    }
   },
   "outputs": [],
   "source": [
    "p = 10\n",
    "l = 2\n",
    "\n",
    "area = lambda p, l: p*l"
   ]
  },
  {
   "cell_type": "code",
   "execution_count": 68,
   "id": "0ae7676a-257b-40d7-a178-501c22e922d3",
   "metadata": {
    "execution": {
     "iopub.execute_input": "2022-12-01T13:27:45.252205Z",
     "iopub.status.busy": "2022-12-01T13:27:45.251750Z",
     "iopub.status.idle": "2022-12-01T13:27:45.258085Z",
     "shell.execute_reply": "2022-12-01T13:27:45.257175Z",
     "shell.execute_reply.started": "2022-12-01T13:27:45.252175Z"
    },
    "tags": []
   },
   "outputs": [
    {
     "data": {
      "text/plain": [
       "20"
      ]
     },
     "execution_count": 68,
     "metadata": {},
     "output_type": "execute_result"
    }
   ],
   "source": [
    "area(p, l)"
   ]
  },
  {
   "cell_type": "code",
   "execution_count": 69,
   "id": "fec5ea4c-4b48-4a27-861c-97b92a099c91",
   "metadata": {
    "execution": {
     "iopub.execute_input": "2022-12-01T13:27:52.775551Z",
     "iopub.status.busy": "2022-12-01T13:27:52.775040Z",
     "iopub.status.idle": "2022-12-01T13:27:52.785558Z",
     "shell.execute_reply": "2022-12-01T13:27:52.783034Z",
     "shell.execute_reply.started": "2022-12-01T13:27:52.775518Z"
    }
   },
   "outputs": [
    {
     "data": {
      "text/plain": [
       "10"
      ]
     },
     "execution_count": 69,
     "metadata": {},
     "output_type": "execute_result"
    }
   ],
   "source": [
    "area(2, 5)"
   ]
  },
  {
   "cell_type": "code",
   "execution_count": 78,
   "id": "48b1fbb2-700d-4a5c-8906-985954154fd8",
   "metadata": {
    "execution": {
     "iopub.execute_input": "2022-12-01T13:33:28.309332Z",
     "iopub.status.busy": "2022-12-01T13:33:28.308968Z",
     "iopub.status.idle": "2022-12-01T13:33:28.314627Z",
     "shell.execute_reply": "2022-12-01T13:33:28.313557Z",
     "shell.execute_reply.started": "2022-12-01T13:33:28.309284Z"
    },
    "tags": []
   },
   "outputs": [],
   "source": [
    "def calculate_area(p, l):\n",
    "    area = p*l\n",
    "    print(area)\n",
    "    return area"
   ]
  },
  {
   "cell_type": "code",
   "execution_count": 73,
   "id": "080908c8-9175-4b00-af66-973c1c2ab238",
   "metadata": {
    "execution": {
     "iopub.execute_input": "2022-12-01T13:31:58.439355Z",
     "iopub.status.busy": "2022-12-01T13:31:58.438786Z",
     "iopub.status.idle": "2022-12-01T13:31:58.444802Z",
     "shell.execute_reply": "2022-12-01T13:31:58.443558Z",
     "shell.execute_reply.started": "2022-12-01T13:31:58.439302Z"
    },
    "tags": []
   },
   "outputs": [
    {
     "name": "stdout",
     "output_type": "stream",
     "text": [
      "4\n"
     ]
    }
   ],
   "source": [
    "calculate_area(2, 2)"
   ]
  },
  {
   "cell_type": "code",
   "execution_count": 74,
   "id": "4e0eff8d-7ceb-4dbd-b252-4143181c505f",
   "metadata": {
    "execution": {
     "iopub.execute_input": "2022-12-01T13:32:28.686144Z",
     "iopub.status.busy": "2022-12-01T13:32:28.685808Z",
     "iopub.status.idle": "2022-12-01T13:32:28.690598Z",
     "shell.execute_reply": "2022-12-01T13:32:28.689626Z",
     "shell.execute_reply.started": "2022-12-01T13:32:28.686102Z"
    }
   },
   "outputs": [],
   "source": [
    "None"
   ]
  },
  {
   "cell_type": "code",
   "execution_count": 79,
   "id": "32f33e3c-c55d-4998-9728-37c9deeb51c0",
   "metadata": {
    "execution": {
     "iopub.execute_input": "2022-12-01T13:33:32.194333Z",
     "iopub.status.busy": "2022-12-01T13:33:32.193953Z",
     "iopub.status.idle": "2022-12-01T13:33:32.198761Z",
     "shell.execute_reply": "2022-12-01T13:33:32.197879Z",
     "shell.execute_reply.started": "2022-12-01T13:33:32.194282Z"
    },
    "tags": []
   },
   "outputs": [
    {
     "name": "stdout",
     "output_type": "stream",
     "text": [
      "10\n"
     ]
    }
   ],
   "source": [
    "area = calculate_area(2, 5)"
   ]
  },
  {
   "cell_type": "code",
   "execution_count": 80,
   "id": "96bf23b5-6a6c-46bb-a25d-9f7c44719adc",
   "metadata": {
    "execution": {
     "iopub.execute_input": "2022-12-01T13:33:54.506927Z",
     "iopub.status.busy": "2022-12-01T13:33:54.506658Z",
     "iopub.status.idle": "2022-12-01T13:33:54.512803Z",
     "shell.execute_reply": "2022-12-01T13:33:54.510666Z",
     "shell.execute_reply.started": "2022-12-01T13:33:54.506901Z"
    },
    "tags": []
   },
   "outputs": [
    {
     "name": "stdout",
     "output_type": "stream",
     "text": [
      "10\n"
     ]
    }
   ],
   "source": [
    "print(area)"
   ]
  },
  {
   "cell_type": "code",
   "execution_count": 81,
   "id": "1a703f54-214d-4ecc-aea0-f763cb134890",
   "metadata": {
    "execution": {
     "iopub.execute_input": "2022-12-01T13:34:04.486988Z",
     "iopub.status.busy": "2022-12-01T13:34:04.486338Z",
     "iopub.status.idle": "2022-12-01T13:34:04.492546Z",
     "shell.execute_reply": "2022-12-01T13:34:04.490876Z",
     "shell.execute_reply.started": "2022-12-01T13:34:04.486942Z"
    }
   },
   "outputs": [
    {
     "name": "stdout",
     "output_type": "stream",
     "text": [
      "10\n"
     ]
    }
   ],
   "source": [
    "print(area)"
   ]
  },
  {
   "cell_type": "code",
   "execution_count": 82,
   "id": "1abe9104-a6be-403a-a054-296d7507ca68",
   "metadata": {
    "execution": {
     "iopub.execute_input": "2022-12-01T13:35:02.672726Z",
     "iopub.status.busy": "2022-12-01T13:35:02.672310Z",
     "iopub.status.idle": "2022-12-01T13:35:02.679706Z",
     "shell.execute_reply": "2022-12-01T13:35:02.678588Z",
     "shell.execute_reply.started": "2022-12-01T13:35:02.672673Z"
    }
   },
   "outputs": [],
   "source": [
    "def combine_all_names(*names, sep=\"-\"):\n",
    "    print(\"Names:\", names, \"type:\", type(names))\n",
    "    all_names = sep.join(names)\n",
    "    print(all_names)\n",
    "    return all_names"
   ]
  },
  {
   "cell_type": "code",
   "execution_count": 84,
   "id": "bb66ccb6-96ab-4431-9b74-27c28c481852",
   "metadata": {
    "execution": {
     "iopub.execute_input": "2022-12-01T13:35:37.852925Z",
     "iopub.status.busy": "2022-12-01T13:35:37.852177Z",
     "iopub.status.idle": "2022-12-01T13:35:37.862525Z",
     "shell.execute_reply": "2022-12-01T13:35:37.860923Z",
     "shell.execute_reply.started": "2022-12-01T13:35:37.852851Z"
    },
    "tags": []
   },
   "outputs": [
    {
     "name": "stdout",
     "output_type": "stream",
     "text": [
      "Names: ('indra', 'azkha') type: <class 'tuple'>\n",
      "indra-azkha\n"
     ]
    },
    {
     "data": {
      "text/plain": [
       "'indra-azkha'"
      ]
     },
     "execution_count": 84,
     "metadata": {},
     "output_type": "execute_result"
    }
   ],
   "source": [
    "combine_all_names(\"indra\", \"azkha\")"
   ]
  },
  {
   "cell_type": "code",
   "execution_count": 85,
   "id": "84ab25ff-af44-426f-9e59-e75087cc36a9",
   "metadata": {
    "execution": {
     "iopub.execute_input": "2022-12-01T13:36:06.353273Z",
     "iopub.status.busy": "2022-12-01T13:36:06.352956Z",
     "iopub.status.idle": "2022-12-01T13:36:06.358026Z",
     "shell.execute_reply": "2022-12-01T13:36:06.357015Z",
     "shell.execute_reply.started": "2022-12-01T13:36:06.353242Z"
    }
   },
   "outputs": [
    {
     "name": "stdout",
     "output_type": "stream",
     "text": [
      "Names: ('indra', 'azkha') type: <class 'tuple'>\n",
      "indra-azkha\n"
     ]
    }
   ],
   "source": [
    "names_combination = combine_all_names(\"indra\", \"azkha\")"
   ]
  },
  {
   "cell_type": "code",
   "execution_count": 86,
   "id": "7ee9463e-f2fe-4a05-8360-bd240688a249",
   "metadata": {
    "execution": {
     "iopub.execute_input": "2022-12-01T13:36:17.627470Z",
     "iopub.status.busy": "2022-12-01T13:36:17.627157Z",
     "iopub.status.idle": "2022-12-01T13:36:17.634213Z",
     "shell.execute_reply": "2022-12-01T13:36:17.633043Z",
     "shell.execute_reply.started": "2022-12-01T13:36:17.627436Z"
    }
   },
   "outputs": [
    {
     "data": {
      "text/plain": [
       "'indra-azkha'"
      ]
     },
     "execution_count": 86,
     "metadata": {},
     "output_type": "execute_result"
    }
   ],
   "source": [
    "names_combination"
   ]
  },
  {
   "cell_type": "code",
   "execution_count": 92,
   "id": "6c6c81b6-cdef-428a-87d0-bc90a3f4b4b1",
   "metadata": {
    "execution": {
     "iopub.execute_input": "2022-12-01T13:39:19.386601Z",
     "iopub.status.busy": "2022-12-01T13:39:19.385860Z",
     "iopub.status.idle": "2022-12-01T13:39:19.391059Z",
     "shell.execute_reply": "2022-12-01T13:39:19.389945Z",
     "shell.execute_reply.started": "2022-12-01T13:39:19.386568Z"
    },
    "tags": []
   },
   "outputs": [],
   "source": [
    "def print_all_names(*names, sep=\"-\"):\n",
    "    print(\"Names:\", names, \"type:\", type(names))\n",
    "    all_names = sep.join(names)\n",
    "    print(all_names)"
   ]
  },
  {
   "cell_type": "code",
   "execution_count": 93,
   "id": "eb57963e-3e75-45c9-bec9-969beb6ef613",
   "metadata": {
    "execution": {
     "iopub.execute_input": "2022-12-01T13:39:22.339802Z",
     "iopub.status.busy": "2022-12-01T13:39:22.339506Z",
     "iopub.status.idle": "2022-12-01T13:39:22.344373Z",
     "shell.execute_reply": "2022-12-01T13:39:22.343431Z",
     "shell.execute_reply.started": "2022-12-01T13:39:22.339772Z"
    },
    "tags": []
   },
   "outputs": [
    {
     "name": "stdout",
     "output_type": "stream",
     "text": [
      "Names: ('indra', 'azkha') type: <class 'tuple'>\n",
      "indra-azkha\n"
     ]
    }
   ],
   "source": [
    "print_all_names(\"indra\", \"azkha\")"
   ]
  },
  {
   "cell_type": "code",
   "execution_count": 90,
   "id": "64944729-a00a-415a-88ea-a27a0c8b95c8",
   "metadata": {
    "execution": {
     "iopub.execute_input": "2022-12-01T13:38:22.675148Z",
     "iopub.status.busy": "2022-12-01T13:38:22.674723Z",
     "iopub.status.idle": "2022-12-01T13:38:22.683584Z",
     "shell.execute_reply": "2022-12-01T13:38:22.680803Z",
     "shell.execute_reply.started": "2022-12-01T13:38:22.675097Z"
    },
    "tags": []
   },
   "outputs": [
    {
     "name": "stdout",
     "output_type": "stream",
     "text": [
      "indra azkha\n"
     ]
    }
   ],
   "source": [
    "result = print(\"indra\", \"azkha\")"
   ]
  },
  {
   "cell_type": "code",
   "execution_count": 91,
   "id": "62da28f8-adc4-42fa-921c-ff890eddcd8a",
   "metadata": {
    "execution": {
     "iopub.execute_input": "2022-12-01T13:38:27.270415Z",
     "iopub.status.busy": "2022-12-01T13:38:27.270127Z",
     "iopub.status.idle": "2022-12-01T13:38:27.275263Z",
     "shell.execute_reply": "2022-12-01T13:38:27.274462Z",
     "shell.execute_reply.started": "2022-12-01T13:38:27.270388Z"
    },
    "tags": []
   },
   "outputs": [
    {
     "name": "stdout",
     "output_type": "stream",
     "text": [
      "None\n"
     ]
    }
   ],
   "source": [
    "print(result)"
   ]
  },
  {
   "cell_type": "markdown",
   "id": "c6666d7e-df04-4f52-b1ba-fce6dc1995db",
   "metadata": {},
   "source": [
    "## Module"
   ]
  },
  {
   "cell_type": "code",
   "execution_count": 8,
   "id": "ac9f9df7-a038-44d1-bb16-6dc817a8076f",
   "metadata": {
    "execution": {
     "iopub.execute_input": "2022-12-01T14:08:00.076601Z",
     "iopub.status.busy": "2022-12-01T14:08:00.076038Z",
     "iopub.status.idle": "2022-12-01T14:08:00.081996Z",
     "shell.execute_reply": "2022-12-01T14:08:00.080475Z",
     "shell.execute_reply.started": "2022-12-01T14:08:00.076526Z"
    },
    "tags": []
   },
   "outputs": [],
   "source": [
    "names = ['indra', 'azkha', 'subandi', 'ayu']"
   ]
  },
  {
   "cell_type": "code",
   "execution_count": 2,
   "id": "2dc1f33b-bade-437a-acf9-749068aa492a",
   "metadata": {
    "execution": {
     "iopub.execute_input": "2022-12-01T14:07:17.474817Z",
     "iopub.status.busy": "2022-12-01T14:07:17.474431Z",
     "iopub.status.idle": "2022-12-01T14:07:18.033989Z",
     "shell.execute_reply": "2022-12-01T14:07:18.032510Z",
     "shell.execute_reply.started": "2022-12-01T14:07:17.474768Z"
    },
    "tags": []
   },
   "outputs": [
    {
     "ename": "NameError",
     "evalue": "name 'show_names' is not defined",
     "output_type": "error",
     "traceback": [
      "\u001b[0;31m---------------------------------------------------------------------------\u001b[0m",
      "\u001b[0;31mNameError\u001b[0m                                 Traceback (most recent call last)",
      "Cell \u001b[0;32mIn [2], line 1\u001b[0m\n\u001b[0;32m----> 1\u001b[0m \u001b[43mshow_names\u001b[49m(names)\n",
      "\u001b[0;31mNameError\u001b[0m: name 'show_names' is not defined"
     ]
    }
   ],
   "source": [
    "show_names(names)"
   ]
  },
  {
   "cell_type": "code",
   "execution_count": 3,
   "id": "7fcec595-7423-4195-9207-76ed48eb0dba",
   "metadata": {
    "execution": {
     "iopub.execute_input": "2022-12-01T14:07:19.049269Z",
     "iopub.status.busy": "2022-12-01T14:07:19.048898Z",
     "iopub.status.idle": "2022-12-01T14:07:19.069112Z",
     "shell.execute_reply": "2022-12-01T14:07:19.067025Z",
     "shell.execute_reply.started": "2022-12-01T14:07:19.049237Z"
    },
    "tags": []
   },
   "outputs": [
    {
     "ename": "NameError",
     "evalue": "name 'combine_names' is not defined",
     "output_type": "error",
     "traceback": [
      "\u001b[0;31m---------------------------------------------------------------------------\u001b[0m",
      "\u001b[0;31mNameError\u001b[0m                                 Traceback (most recent call last)",
      "Cell \u001b[0;32mIn [3], line 1\u001b[0m\n\u001b[0;32m----> 1\u001b[0m \u001b[43mcombine_names\u001b[49m(names)\n",
      "\u001b[0;31mNameError\u001b[0m: name 'combine_names' is not defined"
     ]
    }
   ],
   "source": [
    "combine_names(names)"
   ]
  },
  {
   "cell_type": "code",
   "execution_count": 12,
   "id": "884a373a-95b5-466f-9ecb-cefce3f808e8",
   "metadata": {
    "execution": {
     "iopub.execute_input": "2022-12-01T14:12:24.725320Z",
     "iopub.status.busy": "2022-12-01T14:12:24.723268Z",
     "iopub.status.idle": "2022-12-01T14:12:24.733096Z",
     "shell.execute_reply": "2022-12-01T14:12:24.732298Z",
     "shell.execute_reply.started": "2022-12-01T14:12:24.725270Z"
    },
    "tags": []
   },
   "outputs": [],
   "source": [
    "import naming\n",
    "import use"
   ]
  },
  {
   "cell_type": "code",
   "execution_count": 5,
   "id": "e5470004-66c4-49bf-80b3-cda4f4b8143e",
   "metadata": {
    "execution": {
     "iopub.execute_input": "2022-12-01T14:07:25.567128Z",
     "iopub.status.busy": "2022-12-01T14:07:25.566825Z",
     "iopub.status.idle": "2022-12-01T14:07:25.579452Z",
     "shell.execute_reply": "2022-12-01T14:07:25.578741Z",
     "shell.execute_reply.started": "2022-12-01T14:07:25.567068Z"
    },
    "tags": []
   },
   "outputs": [
    {
     "data": {
      "text/plain": [
       "<module 'naming' from '/Users/syhamdani/projects/H8_088/naming.py'>"
      ]
     },
     "execution_count": 5,
     "metadata": {},
     "output_type": "execute_result"
    }
   ],
   "source": [
    "naming"
   ]
  },
  {
   "cell_type": "code",
   "execution_count": 9,
   "id": "a934e751-a06c-4b45-a817-534547c0ca35",
   "metadata": {
    "execution": {
     "iopub.execute_input": "2022-12-01T14:08:03.875799Z",
     "iopub.status.busy": "2022-12-01T14:08:03.875529Z",
     "iopub.status.idle": "2022-12-01T14:08:03.882345Z",
     "shell.execute_reply": "2022-12-01T14:08:03.880812Z",
     "shell.execute_reply.started": "2022-12-01T14:08:03.875772Z"
    },
    "tags": []
   },
   "outputs": [
    {
     "name": "stdout",
     "output_type": "stream",
     "text": [
      "indra\n",
      "azkha\n",
      "subandi\n",
      "ayu\n"
     ]
    }
   ],
   "source": [
    "naming.show_names(names)"
   ]
  },
  {
   "cell_type": "code",
   "execution_count": 10,
   "id": "ee030133-abb8-471c-89bd-832e1ecaf159",
   "metadata": {
    "execution": {
     "iopub.execute_input": "2022-12-01T14:08:06.718448Z",
     "iopub.status.busy": "2022-12-01T14:08:06.717117Z",
     "iopub.status.idle": "2022-12-01T14:08:06.723978Z",
     "shell.execute_reply": "2022-12-01T14:08:06.722895Z",
     "shell.execute_reply.started": "2022-12-01T14:08:06.718413Z"
    },
    "tags": []
   },
   "outputs": [
    {
     "data": {
      "text/plain": [
       "'indra, azkha, subandi, ayu'"
      ]
     },
     "execution_count": 10,
     "metadata": {},
     "output_type": "execute_result"
    }
   ],
   "source": [
    "naming.combine_names(names)"
   ]
  },
  {
   "cell_type": "code",
   "execution_count": 11,
   "id": "037889e5-c8d8-4641-a88d-7af30cfe2996",
   "metadata": {
    "execution": {
     "iopub.execute_input": "2022-12-01T14:08:08.555560Z",
     "iopub.status.busy": "2022-12-01T14:08:08.554762Z",
     "iopub.status.idle": "2022-12-01T14:08:08.560523Z",
     "shell.execute_reply": "2022-12-01T14:08:08.559848Z",
     "shell.execute_reply.started": "2022-12-01T14:08:08.555488Z"
    },
    "tags": []
   },
   "outputs": [
    {
     "data": {
      "text/plain": [
       "'Hacktiv8 - Python for Data Science'"
      ]
     },
     "execution_count": 11,
     "metadata": {},
     "output_type": "execute_result"
    }
   ],
   "source": [
    "naming.TEXT"
   ]
  },
  {
   "cell_type": "code",
   "execution_count": 14,
   "id": "f7e00880-d0b3-41a7-abdb-b04d18198b79",
   "metadata": {
    "execution": {
     "iopub.execute_input": "2022-12-01T14:13:19.761184Z",
     "iopub.status.busy": "2022-12-01T14:13:19.760656Z",
     "iopub.status.idle": "2022-12-01T14:13:19.777954Z",
     "shell.execute_reply": "2022-12-01T14:13:19.776586Z",
     "shell.execute_reply.started": "2022-12-01T14:13:19.761143Z"
    },
    "tags": []
   },
   "outputs": [
    {
     "name": "stdout",
     "output_type": "stream",
     "text": [
      "hacktiv8\n",
      "python for data science\n",
      "python for machine learning\n"
     ]
    }
   ],
   "source": [
    "paragraph = use.combine_text(\n",
    "    \"hacktiv8\",\n",
    "    \"python for data science\",\n",
    "    \"python for machine learning\"\n",
    ")\n",
    "print(paragraph)"
   ]
  },
  {
   "cell_type": "code",
   "execution_count": 15,
   "id": "ebacf4ac-5ab4-4e41-a590-7ff2f74d5441",
   "metadata": {
    "execution": {
     "iopub.execute_input": "2022-12-01T14:14:00.452803Z",
     "iopub.status.busy": "2022-12-01T14:14:00.452344Z",
     "iopub.status.idle": "2022-12-01T14:14:00.464819Z",
     "shell.execute_reply": "2022-12-01T14:14:00.463270Z",
     "shell.execute_reply.started": "2022-12-01T14:14:00.452761Z"
    },
    "tags": []
   },
   "outputs": [
    {
     "data": {
      "text/plain": [
       "{0: 8, 1: 23, 2: 27}"
      ]
     },
     "execution_count": 15,
     "metadata": {},
     "output_type": "execute_result"
    }
   ],
   "source": [
    "count_text = use.count_sentences(\n",
    "    \"hacktiv8\",\n",
    "    \"python for data science\",\n",
    "    \"python for machine learning\"\n",
    ")\n",
    "count_text"
   ]
  }
 ],
 "metadata": {
  "kernelspec": {
   "display_name": "Python 3 (ipykernel)",
   "language": "python",
   "name": "python3"
  },
  "language_info": {
   "codemirror_mode": {
    "name": "ipython",
    "version": 3
   },
   "file_extension": ".py",
   "mimetype": "text/x-python",
   "name": "python",
   "nbconvert_exporter": "python",
   "pygments_lexer": "ipython3",
   "version": "3.10.8"
  }
 },
 "nbformat": 4,
 "nbformat_minor": 5
}
