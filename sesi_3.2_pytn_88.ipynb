{
 "cells": [
  {
   "cell_type": "code",
   "execution_count": 47,
   "id": "1b74e4ab-3f7c-4c0c-8f70-8456baa24f87",
   "metadata": {
    "execution": {
     "iopub.execute_input": "2022-12-01T14:57:33.474553Z",
     "iopub.status.busy": "2022-12-01T14:57:33.473947Z",
     "iopub.status.idle": "2022-12-01T14:57:33.495885Z",
     "shell.execute_reply": "2022-12-01T14:57:33.494407Z",
     "shell.execute_reply.started": "2022-12-01T14:57:33.474509Z"
    },
    "tags": []
   },
   "outputs": [
    {
     "ename": "ModuleNotFoundError",
     "evalue": "No module named 'numpy'",
     "output_type": "error",
     "traceback": [
      "\u001b[0;31m---------------------------------------------------------------------------\u001b[0m",
      "\u001b[0;31mModuleNotFoundError\u001b[0m                       Traceback (most recent call last)",
      "Cell \u001b[0;32mIn [47], line 4\u001b[0m\n\u001b[1;32m      1\u001b[0m \u001b[38;5;28;01mimport\u001b[39;00m \u001b[38;5;21;01mmath\u001b[39;00m\n\u001b[1;32m      2\u001b[0m \u001b[38;5;28;01mimport\u001b[39;00m \u001b[38;5;21;01mrandom\u001b[39;00m\n\u001b[0;32m----> 4\u001b[0m \u001b[38;5;28;01mimport\u001b[39;00m \u001b[38;5;21;01mnumpy\u001b[39;00m \u001b[38;5;28;01mas\u001b[39;00m \u001b[38;5;21;01mnp\u001b[39;00m\n\u001b[1;32m      5\u001b[0m \u001b[38;5;28;01mimport\u001b[39;00m \u001b[38;5;21;01mpandas\u001b[39;00m \u001b[38;5;28;01mas\u001b[39;00m \u001b[38;5;21;01mpd\u001b[39;00m\n\u001b[1;32m      7\u001b[0m \u001b[38;5;28;01mimport\u001b[39;00m \u001b[38;5;21;01mhacktivate\u001b[39;00m\u001b[38;5;21;01m.\u001b[39;00m\u001b[38;5;21;01mnaming\u001b[39;00m\n",
      "\u001b[0;31mModuleNotFoundError\u001b[0m: No module named 'numpy'"
     ]
    }
   ],
   "source": [
    "import math\n",
    "import random\n",
    "\n",
    "import numpy as np\n",
    "import pandas as pd\n",
    "\n",
    "import hacktivate.naming\n",
    "import hacktivate.use\n",
    "import naming\n",
    "from hacktivate import naming as hn\n",
    "from hacktivate.use import combine_text"
   ]
  },
  {
   "cell_type": "code",
   "execution_count": 9,
   "id": "7cc2655e-23b9-44cf-b25e-8db1c2336e55",
   "metadata": {
    "execution": {
     "iopub.execute_input": "2022-12-01T14:41:29.224364Z",
     "iopub.status.busy": "2022-12-01T14:41:29.223954Z",
     "iopub.status.idle": "2022-12-01T14:41:29.228563Z",
     "shell.execute_reply": "2022-12-01T14:41:29.227898Z",
     "shell.execute_reply.started": "2022-12-01T14:41:29.224338Z"
    },
    "tags": []
   },
   "outputs": [
    {
     "name": "stdout",
     "output_type": "stream",
     "text": [
      "function from hacktivate\n",
      "a\n",
      "b\n",
      "c\n"
     ]
    }
   ],
   "source": [
    "hacktivate.naming.show_names([\"a\", \"b\", \"c\"])"
   ]
  },
  {
   "cell_type": "code",
   "execution_count": 10,
   "id": "4bd594e2-0947-4ea5-acde-bf3c273ea993",
   "metadata": {
    "execution": {
     "iopub.execute_input": "2022-12-01T14:41:40.173328Z",
     "iopub.status.busy": "2022-12-01T14:41:40.172920Z",
     "iopub.status.idle": "2022-12-01T14:41:40.179851Z",
     "shell.execute_reply": "2022-12-01T14:41:40.177596Z",
     "shell.execute_reply.started": "2022-12-01T14:41:40.173300Z"
    }
   },
   "outputs": [
    {
     "name": "stdout",
     "output_type": "stream",
     "text": [
      "function from hacktivate\n",
      "a\n",
      "b\n",
      "c\n"
     ]
    }
   ],
   "source": [
    "hn.show_names([\"a\", \"b\", \"c\"])"
   ]
  },
  {
   "cell_type": "code",
   "execution_count": 8,
   "id": "ebcb62be-a66c-4288-bcdf-8e71fc248756",
   "metadata": {
    "execution": {
     "iopub.execute_input": "2022-12-01T14:41:18.571634Z",
     "iopub.status.busy": "2022-12-01T14:41:18.571284Z",
     "iopub.status.idle": "2022-12-01T14:41:18.577779Z",
     "shell.execute_reply": "2022-12-01T14:41:18.576161Z",
     "shell.execute_reply.started": "2022-12-01T14:41:18.571610Z"
    },
    "tags": []
   },
   "outputs": [
    {
     "name": "stdout",
     "output_type": "stream",
     "text": [
      "function from naming.py\n",
      "a\n",
      "b\n",
      "c\n"
     ]
    }
   ],
   "source": [
    "naming.show_names([\"a\", \"b\", \"c\"])"
   ]
  },
  {
   "cell_type": "code",
   "execution_count": 12,
   "id": "34857113-fbc0-4f67-bdc0-ebdb5591f66f",
   "metadata": {
    "execution": {
     "iopub.execute_input": "2022-12-01T14:42:36.899376Z",
     "iopub.status.busy": "2022-12-01T14:42:36.898454Z",
     "iopub.status.idle": "2022-12-01T14:42:36.912082Z",
     "shell.execute_reply": "2022-12-01T14:42:36.911246Z",
     "shell.execute_reply.started": "2022-12-01T14:42:36.899330Z"
    },
    "tags": []
   },
   "outputs": [
    {
     "name": "stdout",
     "output_type": "stream",
     "text": [
      "function from hacktivate\n"
     ]
    },
    {
     "data": {
      "text/plain": [
       "'hacktiv8\\npython\\ndata science'"
      ]
     },
     "execution_count": 12,
     "metadata": {},
     "output_type": "execute_result"
    }
   ],
   "source": [
    "combine_text(\"hacktiv8\", \"python\", \"data science\")"
   ]
  },
  {
   "cell_type": "code",
   "execution_count": 18,
   "id": "7ac6ddd5-ebac-4127-a4bf-53ccdaf602c8",
   "metadata": {
    "execution": {
     "iopub.execute_input": "2022-12-01T14:47:08.695013Z",
     "iopub.status.busy": "2022-12-01T14:47:08.694718Z",
     "iopub.status.idle": "2022-12-01T14:47:08.701184Z",
     "shell.execute_reply": "2022-12-01T14:47:08.699861Z",
     "shell.execute_reply.started": "2022-12-01T14:47:08.694988Z"
    },
    "tags": []
   },
   "outputs": [
    {
     "data": {
      "text/plain": [
       "0.0015926529164868282"
      ]
     },
     "execution_count": 18,
     "metadata": {},
     "output_type": "execute_result"
    }
   ],
   "source": [
    "math.sin(3.14)"
   ]
  },
  {
   "cell_type": "code",
   "execution_count": 19,
   "id": "b497b547-5518-4759-b3c7-32316ec5ae3e",
   "metadata": {
    "execution": {
     "iopub.execute_input": "2022-12-01T14:47:15.194504Z",
     "iopub.status.busy": "2022-12-01T14:47:15.194089Z",
     "iopub.status.idle": "2022-12-01T14:47:15.200003Z",
     "shell.execute_reply": "2022-12-01T14:47:15.199089Z",
     "shell.execute_reply.started": "2022-12-01T14:47:15.194472Z"
    }
   },
   "outputs": [
    {
     "data": {
      "text/plain": [
       "2.718281828459045"
      ]
     },
     "execution_count": 19,
     "metadata": {},
     "output_type": "execute_result"
    }
   ],
   "source": [
    "math.exp(1)"
   ]
  },
  {
   "cell_type": "code",
   "execution_count": 26,
   "id": "98ed45de-658f-448c-a56d-b176ca51214d",
   "metadata": {
    "execution": {
     "iopub.execute_input": "2022-12-01T14:49:20.825883Z",
     "iopub.status.busy": "2022-12-01T14:49:20.825401Z",
     "iopub.status.idle": "2022-12-01T14:49:20.829946Z",
     "shell.execute_reply": "2022-12-01T14:49:20.828899Z",
     "shell.execute_reply.started": "2022-12-01T14:49:20.825854Z"
    },
    "tags": []
   },
   "outputs": [],
   "source": [
    "names = ['indra', 'azkha', 'subandi', 'ayu']"
   ]
  },
  {
   "cell_type": "code",
   "execution_count": 27,
   "id": "caa5a830-3ad4-40fa-b65b-9822b0d54e02",
   "metadata": {
    "execution": {
     "iopub.execute_input": "2022-12-01T14:49:22.958673Z",
     "iopub.status.busy": "2022-12-01T14:49:22.958418Z",
     "iopub.status.idle": "2022-12-01T14:49:22.963781Z",
     "shell.execute_reply": "2022-12-01T14:49:22.962148Z",
     "shell.execute_reply.started": "2022-12-01T14:49:22.958648Z"
    }
   },
   "outputs": [
    {
     "name": "stdout",
     "output_type": "stream",
     "text": [
      "['indra', 'azkha', 'subandi', 'ayu']\n"
     ]
    }
   ],
   "source": [
    "print(names)"
   ]
  },
  {
   "cell_type": "code",
   "execution_count": 46,
   "id": "e93618d7-a776-4802-a20f-08df222028a7",
   "metadata": {
    "execution": {
     "iopub.execute_input": "2022-12-01T14:50:10.043378Z",
     "iopub.status.busy": "2022-12-01T14:50:10.043081Z",
     "iopub.status.idle": "2022-12-01T14:50:10.047865Z",
     "shell.execute_reply": "2022-12-01T14:50:10.046987Z",
     "shell.execute_reply.started": "2022-12-01T14:50:10.043329Z"
    },
    "tags": []
   },
   "outputs": [
    {
     "name": "stdout",
     "output_type": "stream",
     "text": [
      "['subandi', 'azkha', 'ayu', 'indra']\n"
     ]
    }
   ],
   "source": [
    "random.shuffle(names)\n",
    "print(names)"
   ]
  },
  {
   "cell_type": "code",
   "execution_count": 31,
   "id": "de77df5e-7048-4a50-bea6-e7a6baaac173",
   "metadata": {
    "execution": {
     "iopub.execute_input": "2022-12-01T14:49:57.248719Z",
     "iopub.status.busy": "2022-12-01T14:49:57.248431Z",
     "iopub.status.idle": "2022-12-01T14:49:57.254553Z",
     "shell.execute_reply": "2022-12-01T14:49:57.253293Z",
     "shell.execute_reply.started": "2022-12-01T14:49:57.248691Z"
    },
    "tags": []
   },
   "outputs": [
    {
     "name": "stdout",
     "output_type": "stream",
     "text": [
      "['ayu', 'indra', 'azkha', 'subandi']\n"
     ]
    }
   ],
   "source": [
    "print(names)"
   ]
  },
  {
   "cell_type": "code",
   "execution_count": null,
   "id": "2a5546b5-9c6c-419e-99c0-e663730ae61e",
   "metadata": {},
   "outputs": [],
   "source": []
  }
 ],
 "metadata": {
  "kernelspec": {
   "display_name": "Python 3 (ipykernel)",
   "language": "python",
   "name": "python3"
  },
  "language_info": {
   "codemirror_mode": {
    "name": "ipython",
    "version": 3
   },
   "file_extension": ".py",
   "mimetype": "text/x-python",
   "name": "python",
   "nbconvert_exporter": "python",
   "pygments_lexer": "ipython3",
   "version": "3.10.8"
  }
 },
 "nbformat": 4,
 "nbformat_minor": 5
}
