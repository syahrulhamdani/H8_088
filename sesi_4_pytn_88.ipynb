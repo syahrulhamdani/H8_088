{
 "cells": [
  {
   "cell_type": "markdown",
   "id": "b689fe9b-227d-4c3c-9c0d-c087cc63374a",
   "metadata": {},
   "source": [
    "# NumPy"
   ]
  },
  {
   "cell_type": "code",
   "execution_count": 1,
   "id": "27c1da82-f7e7-43f8-86cf-55d680a41590",
   "metadata": {
    "tags": []
   },
   "outputs": [],
   "source": [
    "import numpy as np"
   ]
  },
  {
   "cell_type": "code",
   "execution_count": 2,
   "id": "c09e0274-d8f5-443f-beda-05c77b675f3d",
   "metadata": {},
   "outputs": [
    {
     "data": {
      "text/plain": [
       "'1.23.5'"
      ]
     },
     "execution_count": 2,
     "metadata": {},
     "output_type": "execute_result"
    }
   ],
   "source": [
    "np.__version__"
   ]
  },
  {
   "cell_type": "markdown",
   "id": "2945188c-aa85-4411-8064-32b2b4da7f64",
   "metadata": {},
   "source": [
    "## Array"
   ]
  },
  {
   "cell_type": "code",
   "execution_count": 3,
   "id": "5f44159b-221b-40f2-9272-9ce2ecad826f",
   "metadata": {},
   "outputs": [
    {
     "name": "stdout",
     "output_type": "stream",
     "text": [
      "[20, 35, 25, 23, 41, 29] <class 'list'>\n"
     ]
    }
   ],
   "source": [
    "ages = [20, 35, 25, 23, 41, 29]\n",
    "print(ages, type(ages))"
   ]
  },
  {
   "cell_type": "code",
   "execution_count": 4,
   "id": "3a0d42a2-304a-4679-853a-2a69114db7eb",
   "metadata": {},
   "outputs": [
    {
     "name": "stdout",
     "output_type": "stream",
     "text": [
      "[21, 24, 39, 33, 21, 32] <class 'list'>\n"
     ]
    }
   ],
   "source": [
    "other_ages = [21, 24, 39, 33, 21, 32]\n",
    "print(other_ages, type(other_ages))"
   ]
  },
  {
   "cell_type": "code",
   "execution_count": 5,
   "id": "31b78b9c-bb59-498e-bbd6-8121c45047e8",
   "metadata": {},
   "outputs": [
    {
     "data": {
      "text/plain": [
       "[20, 35, 25, 23, 41, 29, 21, 24, 39, 33, 21, 32]"
      ]
     },
     "execution_count": 5,
     "metadata": {},
     "output_type": "execute_result"
    }
   ],
   "source": [
    "ages + other_ages"
   ]
  },
  {
   "cell_type": "markdown",
   "id": "74192b97-ec2f-4f9e-a7b8-9835179b5084",
   "metadata": {},
   "source": [
    "Define array 1D"
   ]
  },
  {
   "cell_type": "code",
   "execution_count": 6,
   "id": "3905015d-d550-415b-974f-3a8a261261c4",
   "metadata": {},
   "outputs": [
    {
     "name": "stdout",
     "output_type": "stream",
     "text": [
      "[20 35 25 23 41 29]\n",
      "<class 'numpy.ndarray'>\n"
     ]
    }
   ],
   "source": [
    "np_ages = np.array(ages)\n",
    "print(np_ages)\n",
    "print(type(np_ages))"
   ]
  },
  {
   "cell_type": "code",
   "execution_count": 7,
   "id": "56533361-77de-41c2-a531-b9589d08f16d",
   "metadata": {},
   "outputs": [
    {
     "name": "stdout",
     "output_type": "stream",
     "text": [
      "[21 24 39 33 21 32]\n"
     ]
    }
   ],
   "source": [
    "np_other_ages = np.array(other_ages)\n",
    "print(np_other_ages)"
   ]
  },
  {
   "cell_type": "code",
   "execution_count": 8,
   "id": "dd53bb17-322c-4edf-9fe7-5fff16307000",
   "metadata": {},
   "outputs": [
    {
     "name": "stdout",
     "output_type": "stream",
     "text": [
      "[20 35 25 23 41 29] + [21 24 39 33 21 32]\n",
      "[41 59 64 56 62 61]\n"
     ]
    }
   ],
   "source": [
    "sum_ages = np_ages + np_other_ages\n",
    "print(np_ages, \"+\", np_other_ages)\n",
    "print(sum_ages)"
   ]
  },
  {
   "cell_type": "code",
   "execution_count": 22,
   "id": "31edf4f3-0d5f-4799-a9a8-9cec74ce8da4",
   "metadata": {},
   "outputs": [
    {
     "ename": "ValueError",
     "evalue": "operands could not be broadcast together with shapes (2,) (3,) ",
     "output_type": "error",
     "traceback": [
      "\u001b[0;31m---------------------------------------------------------------------------\u001b[0m",
      "\u001b[0;31mValueError\u001b[0m                                Traceback (most recent call last)",
      "Cell \u001b[0;32mIn[22], line 1\u001b[0m\n\u001b[0;32m----> 1\u001b[0m \u001b[43mnp\u001b[49m\u001b[38;5;241;43m.\u001b[39;49m\u001b[43marray\u001b[49m\u001b[43m(\u001b[49m\u001b[43m[\u001b[49m\u001b[38;5;241;43m1\u001b[39;49m\u001b[43m,\u001b[49m\u001b[43m \u001b[49m\u001b[38;5;241;43m2\u001b[39;49m\u001b[43m]\u001b[49m\u001b[43m)\u001b[49m\u001b[43m \u001b[49m\u001b[38;5;241;43m+\u001b[39;49m\u001b[43m \u001b[49m\u001b[43mnp\u001b[49m\u001b[38;5;241;43m.\u001b[39;49m\u001b[43marray\u001b[49m\u001b[43m(\u001b[49m\u001b[43m[\u001b[49m\u001b[38;5;241;43m2\u001b[39;49m\u001b[43m,\u001b[49m\u001b[43m \u001b[49m\u001b[38;5;241;43m2\u001b[39;49m\u001b[43m,\u001b[49m\u001b[43m \u001b[49m\u001b[38;5;241;43m3\u001b[39;49m\u001b[43m]\u001b[49m\u001b[43m)\u001b[49m\n",
      "\u001b[0;31mValueError\u001b[0m: operands could not be broadcast together with shapes (2,) (3,) "
     ]
    }
   ],
   "source": [
    "np.array([1, 2]) + np.array([2, 2, 3])"
   ]
  },
  {
   "cell_type": "code",
   "execution_count": 23,
   "id": "6247b510-3699-48ce-a900-ccce430e1bb2",
   "metadata": {},
   "outputs": [
    {
     "data": {
      "text/plain": [
       "array([3, 4])"
      ]
     },
     "execution_count": 23,
     "metadata": {},
     "output_type": "execute_result"
    }
   ],
   "source": [
    "np.array([1, 2]) + 2"
   ]
  },
  {
   "cell_type": "code",
   "execution_count": 24,
   "id": "bb30a56a-2db6-4527-ac6c-6f897f38fc58",
   "metadata": {},
   "outputs": [
    {
     "data": {
      "text/plain": [
       "array([3, 4])"
      ]
     },
     "execution_count": 24,
     "metadata": {},
     "output_type": "execute_result"
    }
   ],
   "source": [
    "np.array([1, 2]) + np.array([2])"
   ]
  },
  {
   "cell_type": "code",
   "execution_count": 9,
   "id": "5c21f0c1-3937-42f6-9858-5feebf166249",
   "metadata": {},
   "outputs": [
    {
     "name": "stdout",
     "output_type": "stream",
     "text": [
      "[21 36 26 24 42 30]\n"
     ]
    }
   ],
   "source": [
    "next_year = 1\n",
    "ages_next_year = np_ages + next_year\n",
    "print(ages_next_year)"
   ]
  },
  {
   "cell_type": "markdown",
   "id": "a343ea50-1525-46ac-ac40-69398c9930c9",
   "metadata": {},
   "source": [
    "Define array 2D"
   ]
  },
  {
   "cell_type": "code",
   "execution_count": 11,
   "id": "3da74e64-b74e-49ca-b7d4-e15294912acc",
   "metadata": {},
   "outputs": [
    {
     "name": "stdout",
     "output_type": "stream",
     "text": [
      "[[0, 1, 2], [3, 4, 5]] <class 'list'>\n"
     ]
    }
   ],
   "source": [
    "randoms = [[0, 1, 2], [3, 4, 5]]\n",
    "print(randoms, type(randoms))"
   ]
  },
  {
   "cell_type": "code",
   "execution_count": 12,
   "id": "bf4a72b5-061c-48bb-9606-530039e7bc14",
   "metadata": {},
   "outputs": [
    {
     "name": "stdout",
     "output_type": "stream",
     "text": [
      "<class 'numpy.ndarray'>\n",
      "[[0 1 2]\n",
      " [3 4 5]]\n"
     ]
    }
   ],
   "source": [
    "np_randoms = np.array(randoms)\n",
    "print(type(np_randoms))\n",
    "print(np_randoms)"
   ]
  },
  {
   "cell_type": "code",
   "execution_count": 13,
   "id": "dc02b65b-e16c-44fe-ae73-bc965810a273",
   "metadata": {},
   "outputs": [
    {
     "name": "stdout",
     "output_type": "stream",
     "text": [
      "[[1 1]\n",
      " [1 1]\n",
      " [1 1]]\n"
     ]
    }
   ],
   "source": [
    "np_ones = np.array([[1, 1], [1, 1], [1, 1]])\n",
    "print(np_ones)"
   ]
  },
  {
   "cell_type": "markdown",
   "id": "e1614f14-d92d-485e-9e9d-ccc5e025fb52",
   "metadata": {},
   "source": [
    "Generate array full of zeros"
   ]
  },
  {
   "cell_type": "code",
   "execution_count": 14,
   "id": "66d32f1b-5e43-4633-90af-9b0e6f1bb21f",
   "metadata": {},
   "outputs": [
    {
     "name": "stdout",
     "output_type": "stream",
     "text": [
      "[[0. 0. 0. 0. 0. 0. 0. 0. 0. 0.]\n",
      " [0. 0. 0. 0. 0. 0. 0. 0. 0. 0.]\n",
      " [0. 0. 0. 0. 0. 0. 0. 0. 0. 0.]\n",
      " [0. 0. 0. 0. 0. 0. 0. 0. 0. 0.]\n",
      " [0. 0. 0. 0. 0. 0. 0. 0. 0. 0.]\n",
      " [0. 0. 0. 0. 0. 0. 0. 0. 0. 0.]\n",
      " [0. 0. 0. 0. 0. 0. 0. 0. 0. 0.]\n",
      " [0. 0. 0. 0. 0. 0. 0. 0. 0. 0.]\n",
      " [0. 0. 0. 0. 0. 0. 0. 0. 0. 0.]\n",
      " [0. 0. 0. 0. 0. 0. 0. 0. 0. 0.]]\n"
     ]
    }
   ],
   "source": [
    "zeros_10_10 = np.zeros((10, 10))\n",
    "print(zeros_10_10)"
   ]
  },
  {
   "cell_type": "markdown",
   "id": "53c1aa14-f51c-49cd-89b6-eba54acb888f",
   "metadata": {},
   "source": [
    "Generate array full of ones"
   ]
  },
  {
   "cell_type": "code",
   "execution_count": 15,
   "id": "982c9e92-a983-4d9b-a799-587b2c9327c8",
   "metadata": {},
   "outputs": [
    {
     "name": "stdout",
     "output_type": "stream",
     "text": [
      "[[1. 1. 1. 1. 1. 1. 1. 1. 1. 1.]\n",
      " [1. 1. 1. 1. 1. 1. 1. 1. 1. 1.]\n",
      " [1. 1. 1. 1. 1. 1. 1. 1. 1. 1.]\n",
      " [1. 1. 1. 1. 1. 1. 1. 1. 1. 1.]\n",
      " [1. 1. 1. 1. 1. 1. 1. 1. 1. 1.]\n",
      " [1. 1. 1. 1. 1. 1. 1. 1. 1. 1.]\n",
      " [1. 1. 1. 1. 1. 1. 1. 1. 1. 1.]\n",
      " [1. 1. 1. 1. 1. 1. 1. 1. 1. 1.]\n",
      " [1. 1. 1. 1. 1. 1. 1. 1. 1. 1.]\n",
      " [1. 1. 1. 1. 1. 1. 1. 1. 1. 1.]]\n"
     ]
    }
   ],
   "source": [
    "ones_10_10 = np.ones((10, 10))\n",
    "print(ones_10_10)"
   ]
  },
  {
   "cell_type": "code",
   "execution_count": 16,
   "id": "fe95ffa4-b807-4ef9-9f37-b6bc8af22e61",
   "metadata": {},
   "outputs": [
    {
     "data": {
      "text/plain": [
       "array([0., 0., 0., 0., 0., 0., 0., 0., 0., 0.])"
      ]
     },
     "execution_count": 16,
     "metadata": {},
     "output_type": "execute_result"
    }
   ],
   "source": [
    "np.zeros(10)"
   ]
  },
  {
   "cell_type": "code",
   "execution_count": 17,
   "id": "b84f5bd7-3c78-4bd2-a29d-9a3242c5c9ba",
   "metadata": {},
   "outputs": [
    {
     "data": {
      "text/plain": [
       "array([1., 1., 1., 1., 1.])"
      ]
     },
     "execution_count": 17,
     "metadata": {},
     "output_type": "execute_result"
    }
   ],
   "source": [
    "np.ones(5)"
   ]
  },
  {
   "cell_type": "code",
   "execution_count": 19,
   "id": "61a45cf7-3745-4c32-948b-88e4bc9f7418",
   "metadata": {},
   "outputs": [
    {
     "data": {
      "text/plain": [
       "array([[0., 0., 0., 0., 0.],\n",
       "       [0., 0., 0., 0., 0.]])"
      ]
     },
     "execution_count": 19,
     "metadata": {},
     "output_type": "execute_result"
    }
   ],
   "source": [
    "np.zeros((2, 5))"
   ]
  },
  {
   "cell_type": "code",
   "execution_count": 25,
   "id": "33a52b41-6b3c-4003-9c55-81d5bb0badba",
   "metadata": {},
   "outputs": [
    {
     "name": "stdout",
     "output_type": "stream",
     "text": [
      "[20 35 25 23 41 29]\n",
      "shape: (6,)\n",
      "num of dimensions: 1\n",
      "num of elements: 6\n"
     ]
    }
   ],
   "source": [
    "print(np_ages)\n",
    "print(\"shape:\", np_ages.shape)\n",
    "print(\"num of dimensions:\", np_ages.ndim)\n",
    "print(\"num of elements:\", np_ages.size)"
   ]
  },
  {
   "cell_type": "code",
   "execution_count": 26,
   "id": "c0ae3a63-8233-4856-adc1-099f87554998",
   "metadata": {},
   "outputs": [
    {
     "name": "stdout",
     "output_type": "stream",
     "text": [
      "[[1 1]\n",
      " [1 1]\n",
      " [1 1]]\n",
      "shape: (3, 2)\n",
      "num of dimensions: 2\n",
      "num of elements: 6\n"
     ]
    }
   ],
   "source": [
    "print(np_ones)\n",
    "print(\"shape:\", np_ones.shape)\n",
    "print(\"num of dimensions:\", np_ones.ndim)\n",
    "print(\"num of elements:\", np_ones.size)"
   ]
  },
  {
   "cell_type": "markdown",
   "id": "1f4ef2c0-e454-4c85-81d6-53976e619e9a",
   "metadata": {},
   "source": [
    "Array 3D"
   ]
  },
  {
   "cell_type": "code",
   "execution_count": 28,
   "id": "17a8797a-64e7-43a0-8177-8a614e8b5747",
   "metadata": {},
   "outputs": [
    {
     "name": "stdout",
     "output_type": "stream",
     "text": [
      "[[[ 1  2  3]\n",
      "  [ 4  5  6]\n",
      "  [ 7  8  9]]\n",
      "\n",
      " [[11 12 13]\n",
      "  [14 15 16]\n",
      "  [17 18 19]]]\n",
      "shape: (2, 3, 3)\n",
      "num of dimensions: 3\n",
      "num of elements: 18\n"
     ]
    }
   ],
   "source": [
    "nd_array = np.array([\n",
    "    [[1, 2, 3], [4, 5, 6], [7, 8, 9]],\n",
    "    [[11, 12, 13], [14, 15, 16], [17, 18, 19]]\n",
    "])\n",
    "print(nd_array)\n",
    "print(\"shape:\", nd_array.shape)\n",
    "print(\"num of dimensions:\", nd_array.ndim)\n",
    "print(\"num of elements:\", nd_array.size)"
   ]
  },
  {
   "cell_type": "code",
   "execution_count": 29,
   "id": "52c07ed4-e68b-4b3a-9692-1500a5aef084",
   "metadata": {},
   "outputs": [
    {
     "name": "stdout",
     "output_type": "stream",
     "text": [
      "[[[[ 1]\n",
      "   [ 2]\n",
      "   [ 3]]\n",
      "\n",
      "  [[ 4]\n",
      "   [ 5]\n",
      "   [ 6]]\n",
      "\n",
      "  [[ 7]\n",
      "   [ 8]\n",
      "   [ 9]]]\n",
      "\n",
      "\n",
      " [[[11]\n",
      "   [12]\n",
      "   [13]]\n",
      "\n",
      "  [[14]\n",
      "   [15]\n",
      "   [16]]\n",
      "\n",
      "  [[17]\n",
      "   [18]\n",
      "   [19]]]]\n",
      "shape: (2, 3, 3, 1)\n",
      "num of dimensions: 4\n",
      "num of elements: 18\n"
     ]
    }
   ],
   "source": [
    "array_4d = np.array([\n",
    "    [[[1], [2], [3]], [[4], [5], [6]], [[7], [8], [9]]],\n",
    "    [[[11], [12], [13]], [[14], [15], [16]], [[17], [18], [19]]]\n",
    "])\n",
    "print(array_4d)\n",
    "print(\"shape:\", array_4d.shape)\n",
    "print(\"num of dimensions:\", array_4d.ndim)\n",
    "print(\"num of elements:\", array_4d.size)"
   ]
  },
  {
   "cell_type": "code",
   "execution_count": 35,
   "id": "3ec6ea98-ee31-4a6c-9ec0-9faaf066f97c",
   "metadata": {},
   "outputs": [
    {
     "data": {
      "text/plain": [
       "((1, 4), 2, 4)"
      ]
     },
     "execution_count": 35,
     "metadata": {},
     "output_type": "execute_result"
    }
   ],
   "source": [
    "np.array([[1, 1, 2, 2]]).shape, np.array([[1, 1, 2, 2]]).ndim, np.array([[1, 1, 2, 2]]).size"
   ]
  },
  {
   "cell_type": "code",
   "execution_count": 36,
   "id": "c16aef87-9772-4cb4-9081-01ec94067128",
   "metadata": {},
   "outputs": [
    {
     "data": {
      "text/plain": [
       "((1, 1, 4), 3, 4)"
      ]
     },
     "execution_count": 36,
     "metadata": {},
     "output_type": "execute_result"
    }
   ],
   "source": [
    "np.array([[[1, 1, 2, 2]]]).shape, np.array([[[1, 1, 2, 2]]]).ndim, np.array([[[1, 1, 2, 2]]]).size"
   ]
  },
  {
   "cell_type": "code",
   "execution_count": 39,
   "id": "a16f315f-c85c-418b-985c-ca0fceb9f784",
   "metadata": {},
   "outputs": [
    {
     "name": "stdout",
     "output_type": "stream",
     "text": [
      "[[[ 1  2  3]\n",
      "  [ 4  5  6]\n",
      "  [ 7  8  9]]\n",
      "\n",
      " [[11 12 13]\n",
      "  [14 15 16]\n",
      "  [17 18 19]]]\n",
      "(2, 3, 3)\n"
     ]
    }
   ],
   "source": [
    "print(nd_array)\n",
    "print(nd_array.shape)"
   ]
  },
  {
   "cell_type": "code",
   "execution_count": 42,
   "id": "3ce28834-a5d9-4cd6-902e-e538c9c2ff0d",
   "metadata": {},
   "outputs": [
    {
     "data": {
      "text/plain": [
       "array([[[ 1,  2],\n",
       "        [ 3,  4],\n",
       "        [ 5,  6]],\n",
       "\n",
       "       [[ 7,  8],\n",
       "        [ 9, 11],\n",
       "        [12, 13]],\n",
       "\n",
       "       [[14, 15],\n",
       "        [16, 17],\n",
       "        [18, 19]]])"
      ]
     },
     "execution_count": 42,
     "metadata": {},
     "output_type": "execute_result"
    }
   ],
   "source": [
    "np.reshape(nd_array, (3, 3, 2))"
   ]
  },
  {
   "cell_type": "code",
   "execution_count": 44,
   "id": "2311d2eb-8fb6-42ce-acbc-4b41269d355f",
   "metadata": {},
   "outputs": [],
   "source": [
    "# will throw error\n",
    "# np.reshape(nd_array, (3, 3, 3))"
   ]
  },
  {
   "cell_type": "code",
   "execution_count": 45,
   "id": "33c6421c-0d14-4539-8480-eb57c8470258",
   "metadata": {},
   "outputs": [
    {
     "name": "stdout",
     "output_type": "stream",
     "text": [
      "[20 35 25 23 41 29]\n",
      "(6,)\n"
     ]
    }
   ],
   "source": [
    "print(np_ages)\n",
    "print(np_ages.shape)"
   ]
  },
  {
   "cell_type": "code",
   "execution_count": 47,
   "id": "b69d375a-642d-4360-a573-8e44fbcad225",
   "metadata": {},
   "outputs": [
    {
     "name": "stdout",
     "output_type": "stream",
     "text": [
      "[[20 35 25 23 41 29]]\n",
      "[[20]\n",
      " [35]\n",
      " [25]\n",
      " [23]\n",
      " [41]\n",
      " [29]]\n",
      "[[20 35 25]\n",
      " [23 41 29]]\n",
      "[[20 35]\n",
      " [25 23]\n",
      " [41 29]]\n",
      "[[[20]\n",
      "  [35]\n",
      "  [25]]\n",
      "\n",
      " [[23]\n",
      "  [41]\n",
      "  [29]]]\n",
      "[[[20]\n",
      "  [35]]\n",
      "\n",
      " [[25]\n",
      "  [23]]\n",
      "\n",
      " [[41]\n",
      "  [29]]]\n",
      "[[[20]\n",
      "  [35]\n",
      "  [25]\n",
      "  [23]\n",
      "  [41]\n",
      "  [29]]]\n",
      "[[[20 35 25 23 41 29]]]\n"
     ]
    }
   ],
   "source": [
    "print(np.reshape(np_ages, (1, 6)))\n",
    "print(np.reshape(np_ages, (6, 1)))\n",
    "print(np.reshape(np_ages, (2, 3)))\n",
    "print(np.reshape(np_ages, (3, 2)))\n",
    "print(np.reshape(np_ages, (2, 3, 1)))\n",
    "print(np.reshape(np_ages, (3, 2, 1)))\n",
    "print(np.reshape(np_ages, (1, 6, 1)))\n",
    "print(np.reshape(np_ages, (1, 1, 6)))"
   ]
  },
  {
   "cell_type": "code",
   "execution_count": 48,
   "id": "58d129c0-c682-47a3-bef7-e15d666a0efe",
   "metadata": {},
   "outputs": [
    {
     "name": "stdout",
     "output_type": "stream",
     "text": [
      "[[[[[20 35 25 23 41 29]]]]]\n"
     ]
    }
   ],
   "source": [
    "print(np.reshape(np_ages, (1, 1, 1, 1, 6)))"
   ]
  },
  {
   "cell_type": "markdown",
   "id": "19409579-a7b9-44bf-9ca1-cf26254e0e40",
   "metadata": {},
   "source": [
    "## Indexing"
   ]
  },
  {
   "cell_type": "markdown",
   "id": "b5d2e71a-a136-47e7-b34f-28ccc10834be",
   "metadata": {},
   "source": [
    "Indexing in list.."
   ]
  },
  {
   "cell_type": "code",
   "execution_count": 49,
   "id": "cacd0a5b-62ae-45fc-8015-7f0dc1e814c6",
   "metadata": {},
   "outputs": [
    {
     "name": "stdout",
     "output_type": "stream",
     "text": [
      "[[20, 35, 25], [23, 41, 29]]\n"
     ]
    }
   ],
   "source": [
    "ages = [[20, 35, 25], [23, 41, 29]]\n",
    "print(ages)"
   ]
  },
  {
   "cell_type": "code",
   "execution_count": 51,
   "id": "cd3a0ffd-725e-45ad-a9d4-ada186c77762",
   "metadata": {},
   "outputs": [
    {
     "data": {
      "text/plain": [
       "29"
      ]
     },
     "execution_count": 51,
     "metadata": {},
     "output_type": "execute_result"
    }
   ],
   "source": [
    "ages[-1][-1]"
   ]
  },
  {
   "cell_type": "code",
   "execution_count": 53,
   "id": "b9c025c5-905d-4c58-8c25-b75b5fd6a377",
   "metadata": {},
   "outputs": [
    {
     "data": {
      "text/plain": [
       "[23, 41]"
      ]
     },
     "execution_count": 53,
     "metadata": {},
     "output_type": "execute_result"
    }
   ],
   "source": [
    "ages[-1][:2]"
   ]
  },
  {
   "cell_type": "code",
   "execution_count": 55,
   "id": "e41168ab-8c1e-4f53-9c60-ce049694c393",
   "metadata": {},
   "outputs": [
    {
     "data": {
      "text/plain": [
       "[35, 25]"
      ]
     },
     "execution_count": 55,
     "metadata": {},
     "output_type": "execute_result"
    }
   ],
   "source": [
    "ages[0][-2:]"
   ]
  },
  {
   "cell_type": "markdown",
   "id": "6af2ec3f-fc74-4ee3-8db6-64bf488da059",
   "metadata": {},
   "source": [
    "Indexing array..."
   ]
  },
  {
   "cell_type": "code",
   "execution_count": 56,
   "id": "da9c9a3d-a74b-49f9-a804-9be13852929a",
   "metadata": {},
   "outputs": [
    {
     "name": "stdout",
     "output_type": "stream",
     "text": [
      "[[20 35 25]\n",
      " [23 41 29]]\n"
     ]
    }
   ],
   "source": [
    "np_ages = np.array(ages)\n",
    "print(np_ages)"
   ]
  },
  {
   "cell_type": "code",
   "execution_count": 57,
   "id": "1f52c974-c2be-479b-808f-bca98e3c0edc",
   "metadata": {},
   "outputs": [
    {
     "data": {
      "text/plain": [
       "29"
      ]
     },
     "execution_count": 57,
     "metadata": {},
     "output_type": "execute_result"
    }
   ],
   "source": [
    "np_ages[-1, -1]"
   ]
  },
  {
   "cell_type": "code",
   "execution_count": 58,
   "id": "2062c77d-9d54-48b0-aad9-730ba58b6fb2",
   "metadata": {},
   "outputs": [
    {
     "data": {
      "text/plain": [
       "array([35, 25])"
      ]
     },
     "execution_count": 58,
     "metadata": {},
     "output_type": "execute_result"
    }
   ],
   "source": [
    "np_ages[0, -2:]"
   ]
  },
  {
   "cell_type": "code",
   "execution_count": 63,
   "id": "b1eadf3c-8b51-4573-bd8e-bd2112f5feb1",
   "metadata": {},
   "outputs": [
    {
     "data": {
      "text/plain": [
       "array([20, 23])"
      ]
     },
     "execution_count": 63,
     "metadata": {},
     "output_type": "execute_result"
    }
   ],
   "source": [
    "np_ages[:, 0]"
   ]
  },
  {
   "cell_type": "code",
   "execution_count": 64,
   "id": "aad08523-ace5-4624-9b23-e0054cf470a0",
   "metadata": {},
   "outputs": [
    {
     "data": {
      "text/plain": [
       "array([35, 41])"
      ]
     },
     "execution_count": 64,
     "metadata": {},
     "output_type": "execute_result"
    }
   ],
   "source": [
    "np_ages[:, 1]"
   ]
  },
  {
   "cell_type": "code",
   "execution_count": 60,
   "id": "503f9fbd-225f-4fe8-b4f2-146bf4b42cf9",
   "metadata": {},
   "outputs": [
    {
     "name": "stdout",
     "output_type": "stream",
     "text": [
      "[[[ 1  2  3]\n",
      "  [ 4  5  6]\n",
      "  [ 7  8  9]]\n",
      "\n",
      " [[11 12 13]\n",
      "  [14 15 16]\n",
      "  [17 18 19]]]\n"
     ]
    }
   ],
   "source": [
    "print(nd_array)"
   ]
  },
  {
   "cell_type": "code",
   "execution_count": 61,
   "id": "b396732e-4d80-43fe-8b97-dd7e9ceebac2",
   "metadata": {},
   "outputs": [
    {
     "data": {
      "text/plain": [
       "15"
      ]
     },
     "execution_count": 61,
     "metadata": {},
     "output_type": "execute_result"
    }
   ],
   "source": [
    "nd_array[-1, 1, 1]"
   ]
  },
  {
   "cell_type": "code",
   "execution_count": 66,
   "id": "b3dc136d-2edf-4cba-84b7-1d2db5773b3c",
   "metadata": {},
   "outputs": [
    {
     "data": {
      "text/plain": [
       "array([ 1, 11])"
      ]
     },
     "execution_count": 66,
     "metadata": {},
     "output_type": "execute_result"
    }
   ],
   "source": [
    "nd_array[:, 0, 0]"
   ]
  },
  {
   "cell_type": "code",
   "execution_count": 68,
   "id": "e0fbaf77-9237-42ae-b11d-73881e561d85",
   "metadata": {},
   "outputs": [
    {
     "data": {
      "text/plain": [
       "array([[ 1,  5],\n",
       "       [11, 15]])"
      ]
     },
     "execution_count": 68,
     "metadata": {},
     "output_type": "execute_result"
    }
   ],
   "source": [
    "nd_array[:, [0, 1], [0, 1]]"
   ]
  },
  {
   "cell_type": "code",
   "execution_count": 69,
   "id": "fdcf3aa0-c9e2-43de-8d7e-2e60ca4df746",
   "metadata": {},
   "outputs": [
    {
     "data": {
      "text/plain": [
       "(2, 3, 3)"
      ]
     },
     "execution_count": 69,
     "metadata": {},
     "output_type": "execute_result"
    }
   ],
   "source": [
    "nd_array.shape"
   ]
  },
  {
   "cell_type": "code",
   "execution_count": 71,
   "id": "4c741f9b-cbee-4725-a1a0-e8e0974e1257",
   "metadata": {},
   "outputs": [
    {
     "data": {
      "text/plain": [
       "(1, 2, 3, 3)"
      ]
     },
     "execution_count": 71,
     "metadata": {},
     "output_type": "execute_result"
    }
   ],
   "source": [
    "nd_array[np.newaxis, :].shape"
   ]
  },
  {
   "cell_type": "code",
   "execution_count": 73,
   "id": "9f9ca7e2-b7f0-4f61-85b5-76bdc5672c76",
   "metadata": {},
   "outputs": [
    {
     "data": {
      "text/plain": [
       "(2, 3, 3, 1)"
      ]
     },
     "execution_count": 73,
     "metadata": {},
     "output_type": "execute_result"
    }
   ],
   "source": [
    "nd_array[:, :, :, np.newaxis].shape"
   ]
  },
  {
   "cell_type": "code",
   "execution_count": 74,
   "id": "1fa02db3-9aaf-4e84-8937-94442e7906f2",
   "metadata": {},
   "outputs": [
    {
     "data": {
      "text/plain": [
       "(2, 1, 3, 3)"
      ]
     },
     "execution_count": 74,
     "metadata": {},
     "output_type": "execute_result"
    }
   ],
   "source": [
    "nd_array[:, np.newaxis, :, :].shape"
   ]
  },
  {
   "cell_type": "code",
   "execution_count": 76,
   "id": "da885e90-8937-4734-9660-a296b67a7e3c",
   "metadata": {},
   "outputs": [
    {
     "data": {
      "text/plain": [
       "(2, 3, 1, 3, 1)"
      ]
     },
     "execution_count": 76,
     "metadata": {},
     "output_type": "execute_result"
    }
   ],
   "source": [
    "nd_array[:, :, np.newaxis, :, np.newaxis].shape"
   ]
  },
  {
   "cell_type": "code",
   "execution_count": 80,
   "id": "13ad81b5-a07e-4d13-84b4-c6a3b65126e0",
   "metadata": {},
   "outputs": [
    {
     "data": {
      "text/plain": [
       "(1, 2, 3, 3)"
      ]
     },
     "execution_count": 80,
     "metadata": {},
     "output_type": "execute_result"
    }
   ],
   "source": [
    "nd_array[None, :].shape"
   ]
  },
  {
   "cell_type": "code",
   "execution_count": 81,
   "id": "76599d0f-16fb-40c3-8bfc-1c07601e974d",
   "metadata": {},
   "outputs": [
    {
     "data": {
      "text/plain": [
       "(2, 3, 1, 3)"
      ]
     },
     "execution_count": 81,
     "metadata": {},
     "output_type": "execute_result"
    }
   ],
   "source": [
    "nd_array[:, :, None, :].shape"
   ]
  },
  {
   "cell_type": "code",
   "execution_count": 82,
   "id": "19e65c71-95ba-4442-ac02-f1123643e6de",
   "metadata": {},
   "outputs": [
    {
     "data": {
      "text/plain": [
       "array([[20, 35, 25],\n",
       "       [23, 41, 29]])"
      ]
     },
     "execution_count": 82,
     "metadata": {},
     "output_type": "execute_result"
    }
   ],
   "source": [
    "np_ages"
   ]
  },
  {
   "cell_type": "code",
   "execution_count": 83,
   "id": "f071297f-5411-4b3e-9fca-2696075cc623",
   "metadata": {},
   "outputs": [
    {
     "data": {
      "text/plain": [
       "array([20, 25, 23])"
      ]
     },
     "execution_count": 83,
     "metadata": {},
     "output_type": "execute_result"
    }
   ],
   "source": [
    "min_age = 25\n",
    "\n",
    "np_ages[np_ages <= 25]"
   ]
  },
  {
   "cell_type": "code",
   "execution_count": 84,
   "id": "77769dda-bdee-43eb-92e3-6afb98b01d94",
   "metadata": {},
   "outputs": [
    {
     "data": {
      "text/plain": [
       "array([[ True, False,  True],\n",
       "       [ True, False, False]])"
      ]
     },
     "execution_count": 84,
     "metadata": {},
     "output_type": "execute_result"
    }
   ],
   "source": [
    "np_ages <= 25"
   ]
  },
  {
   "cell_type": "code",
   "execution_count": 87,
   "id": "80950979-ef55-43fb-97b1-e42ff6a7342c",
   "metadata": {},
   "outputs": [
    {
     "data": {
      "text/plain": [
       "array([20, 25, 23])"
      ]
     },
     "execution_count": 87,
     "metadata": {},
     "output_type": "execute_result"
    }
   ],
   "source": [
    "np_ages[[[True, False, True], [True, False, False]]]"
   ]
  },
  {
   "cell_type": "code",
   "execution_count": 95,
   "id": "19fc60c6-e93d-4a4b-ad9a-cd4efe5dbaf3",
   "metadata": {},
   "outputs": [
    {
     "data": {
      "text/plain": [
       "array([[0, 0],\n",
       "       [0, 2],\n",
       "       [1, 0]])"
      ]
     },
     "execution_count": 95,
     "metadata": {},
     "output_type": "execute_result"
    }
   ],
   "source": [
    "np.argwhere(np_ages <= 25)"
   ]
  },
  {
   "cell_type": "markdown",
   "id": "b4756066-b8b6-445b-a452-4f4dad981967",
   "metadata": {},
   "source": [
    "## Array Concatenation"
   ]
  },
  {
   "cell_type": "code",
   "execution_count": 98,
   "id": "d42598a3-0f71-4a77-a46f-6c80cff4da92",
   "metadata": {},
   "outputs": [
    {
     "data": {
      "text/plain": [
       "(2, 3)"
      ]
     },
     "execution_count": 98,
     "metadata": {},
     "output_type": "execute_result"
    }
   ],
   "source": [
    "np_ages.shape"
   ]
  },
  {
   "cell_type": "code",
   "execution_count": 99,
   "id": "9fbb668d-4ab1-4a9e-81c4-e7e1bfb21501",
   "metadata": {},
   "outputs": [
    {
     "data": {
      "text/plain": [
       "(3, 2)"
      ]
     },
     "execution_count": 99,
     "metadata": {},
     "output_type": "execute_result"
    }
   ],
   "source": [
    "np_ones.shape"
   ]
  },
  {
   "cell_type": "code",
   "execution_count": 100,
   "id": "66dd9efa-15ff-418b-bbb4-0c3a09a4f546",
   "metadata": {},
   "outputs": [
    {
     "data": {
      "text/plain": [
       "array([[20, 23],\n",
       "       [35, 41],\n",
       "       [25, 29]])"
      ]
     },
     "execution_count": 100,
     "metadata": {},
     "output_type": "execute_result"
    }
   ],
   "source": [
    "np_ages.T"
   ]
  },
  {
   "cell_type": "code",
   "execution_count": 101,
   "id": "fab3e241-1761-409a-974b-f7fae0fcaa0e",
   "metadata": {},
   "outputs": [
    {
     "data": {
      "text/plain": [
       "array([[20, 23],\n",
       "       [35, 41],\n",
       "       [25, 29]])"
      ]
     },
     "execution_count": 101,
     "metadata": {},
     "output_type": "execute_result"
    }
   ],
   "source": [
    "np_ages.transpose()"
   ]
  },
  {
   "cell_type": "code",
   "execution_count": 103,
   "id": "8a8f1ca7-ae73-4348-b224-4e57e785c0dd",
   "metadata": {},
   "outputs": [
    {
     "data": {
      "text/plain": [
       "array([[20, 35, 25],\n",
       "       [23, 41, 29],\n",
       "       [ 1,  1,  1],\n",
       "       [ 1,  1,  1]])"
      ]
     },
     "execution_count": 103,
     "metadata": {},
     "output_type": "execute_result"
    }
   ],
   "source": [
    "np.vstack((np_ages, np_ones.T))"
   ]
  },
  {
   "cell_type": "code",
   "execution_count": 105,
   "id": "fc8fd1fd-e7e6-4c2b-81cc-388a663956e8",
   "metadata": {},
   "outputs": [
    {
     "name": "stdout",
     "output_type": "stream",
     "text": [
      "[[31 33 30]\n",
      " [21 33 20]\n",
      " [31 32 30]]\n"
     ]
    }
   ],
   "source": [
    "np_other_ages = np.array([\n",
    "    [31, 33, 30],\n",
    "    [21, 33, 20],\n",
    "    [31, 32, 30],\n",
    "])\n",
    "print(np_other_ages)"
   ]
  },
  {
   "cell_type": "code",
   "execution_count": 106,
   "id": "21ba6f87-a04d-4c1d-9924-879bb165268c",
   "metadata": {},
   "outputs": [
    {
     "data": {
      "text/plain": [
       "array([[20, 35, 25],\n",
       "       [23, 41, 29],\n",
       "       [31, 33, 30],\n",
       "       [21, 33, 20],\n",
       "       [31, 32, 30]])"
      ]
     },
     "execution_count": 106,
     "metadata": {},
     "output_type": "execute_result"
    }
   ],
   "source": [
    "np.vstack((np_ages, np_other_ages))"
   ]
  },
  {
   "cell_type": "code",
   "execution_count": 108,
   "id": "174563b5-0e2f-4a99-bc1c-3dba70334b01",
   "metadata": {},
   "outputs": [
    {
     "data": {
      "text/plain": [
       "array([[ 1,  1, 31, 33, 30],\n",
       "       [ 1,  1, 21, 33, 20],\n",
       "       [ 1,  1, 31, 32, 30]])"
      ]
     },
     "execution_count": 108,
     "metadata": {},
     "output_type": "execute_result"
    }
   ],
   "source": [
    "np.hstack((np_ones, np_other_ages))"
   ]
  },
  {
   "cell_type": "code",
   "execution_count": 110,
   "id": "fca74216-8ba5-4ce9-b65c-3764b23c92f0",
   "metadata": {},
   "outputs": [
    {
     "name": "stdout",
     "output_type": "stream",
     "text": [
      "[[[ 1  2  3]\n",
      "  [ 4  5  6]\n",
      "  [ 7  8  9]]\n",
      "\n",
      " [[11 12 13]\n",
      "  [14 15 16]\n",
      "  [17 18 19]]]\n",
      "(2, 3, 3)\n"
     ]
    }
   ],
   "source": [
    "print(nd_array)\n",
    "print(nd_array.shape)"
   ]
  },
  {
   "cell_type": "code",
   "execution_count": 116,
   "id": "c2e126b5-67f0-4fe4-ac5d-c689045141b7",
   "metadata": {},
   "outputs": [
    {
     "ename": "ValueError",
     "evalue": "all the input array dimensions for the concatenation axis must match exactly, but along dimension 1, the array at index 0 has size 3 and the array at index 1 has size 1",
     "output_type": "error",
     "traceback": [
      "\u001b[0;31m---------------------------------------------------------------------------\u001b[0m",
      "\u001b[0;31mValueError\u001b[0m                                Traceback (most recent call last)",
      "Cell \u001b[0;32mIn[116], line 1\u001b[0m\n\u001b[0;32m----> 1\u001b[0m \u001b[43mnp\u001b[49m\u001b[38;5;241;43m.\u001b[39;49m\u001b[43mvstack\u001b[49m\u001b[43m(\u001b[49m\u001b[43m(\u001b[49m\u001b[43mnd_array\u001b[49m\u001b[43m,\u001b[49m\u001b[43m \u001b[49m\u001b[43mnp_ages\u001b[49m\u001b[43m[\u001b[49m\u001b[43m:\u001b[49m\u001b[43m,\u001b[49m\u001b[43m \u001b[49m\u001b[43mnp\u001b[49m\u001b[38;5;241;43m.\u001b[39;49m\u001b[43mnewaxis\u001b[49m\u001b[43m,\u001b[49m\u001b[43m \u001b[49m\u001b[43m:\u001b[49m\u001b[43m]\u001b[49m\u001b[43m)\u001b[49m\u001b[43m)\u001b[49m\n",
      "File \u001b[0;32m<__array_function__ internals>:180\u001b[0m, in \u001b[0;36mvstack\u001b[0;34m(*args, **kwargs)\u001b[0m\n",
      "File \u001b[0;32m~/.pyenv/versions/3.9.12/envs/h8/lib/python3.9/site-packages/numpy/core/shape_base.py:282\u001b[0m, in \u001b[0;36mvstack\u001b[0;34m(tup)\u001b[0m\n\u001b[1;32m    280\u001b[0m \u001b[38;5;28;01mif\u001b[39;00m \u001b[38;5;129;01mnot\u001b[39;00m \u001b[38;5;28misinstance\u001b[39m(arrs, \u001b[38;5;28mlist\u001b[39m):\n\u001b[1;32m    281\u001b[0m     arrs \u001b[38;5;241m=\u001b[39m [arrs]\n\u001b[0;32m--> 282\u001b[0m \u001b[38;5;28;01mreturn\u001b[39;00m \u001b[43m_nx\u001b[49m\u001b[38;5;241;43m.\u001b[39;49m\u001b[43mconcatenate\u001b[49m\u001b[43m(\u001b[49m\u001b[43marrs\u001b[49m\u001b[43m,\u001b[49m\u001b[43m \u001b[49m\u001b[38;5;241;43m0\u001b[39;49m\u001b[43m)\u001b[49m\n",
      "File \u001b[0;32m<__array_function__ internals>:180\u001b[0m, in \u001b[0;36mconcatenate\u001b[0;34m(*args, **kwargs)\u001b[0m\n",
      "\u001b[0;31mValueError\u001b[0m: all the input array dimensions for the concatenation axis must match exactly, but along dimension 1, the array at index 0 has size 3 and the array at index 1 has size 1"
     ]
    }
   ],
   "source": [
    "np.vstack((nd_array, np_ages[:, np.newaxis, :]))"
   ]
  },
  {
   "cell_type": "markdown",
   "id": "2d027f5e-c41e-44ff-b189-286fe357448e",
   "metadata": {},
   "source": [
    "## Array Operations"
   ]
  },
  {
   "cell_type": "code",
   "execution_count": 117,
   "id": "e18e7682-8078-4e7e-81bf-da3f1eb77647",
   "metadata": {},
   "outputs": [
    {
     "data": {
      "text/plain": [
       "array([[20, 35, 25],\n",
       "       [23, 41, 29]])"
      ]
     },
     "execution_count": 117,
     "metadata": {},
     "output_type": "execute_result"
    }
   ],
   "source": [
    "np_ages"
   ]
  },
  {
   "cell_type": "code",
   "execution_count": 118,
   "id": "5de2f774-de3a-45e9-a449-30878ce1319e",
   "metadata": {},
   "outputs": [
    {
     "data": {
      "text/plain": [
       "173"
      ]
     },
     "execution_count": 118,
     "metadata": {},
     "output_type": "execute_result"
    }
   ],
   "source": [
    "np.sum(np_ages)"
   ]
  },
  {
   "cell_type": "code",
   "execution_count": 119,
   "id": "b4c411f2-35db-4aaa-be63-088eab3c422a",
   "metadata": {},
   "outputs": [
    {
     "data": {
      "text/plain": [
       "173"
      ]
     },
     "execution_count": 119,
     "metadata": {},
     "output_type": "execute_result"
    }
   ],
   "source": [
    "np_ages.sum()"
   ]
  },
  {
   "cell_type": "code",
   "execution_count": 120,
   "id": "b4de4037-41c3-4a95-959a-32527e257f6b",
   "metadata": {},
   "outputs": [
    {
     "data": {
      "text/plain": [
       "array([80, 93])"
      ]
     },
     "execution_count": 120,
     "metadata": {},
     "output_type": "execute_result"
    }
   ],
   "source": [
    "np_ages.sum(axis=1)"
   ]
  },
  {
   "cell_type": "code",
   "execution_count": 121,
   "id": "be577c56-f1ae-448e-ae43-37d538de2b2d",
   "metadata": {},
   "outputs": [
    {
     "data": {
      "text/plain": [
       "array([43, 76, 54])"
      ]
     },
     "execution_count": 121,
     "metadata": {},
     "output_type": "execute_result"
    }
   ],
   "source": [
    "np_ages.sum(axis=0)"
   ]
  },
  {
   "cell_type": "code",
   "execution_count": 122,
   "id": "29d25ea7-ee2a-4cd4-a770-53c0d7823d7f",
   "metadata": {},
   "outputs": [
    {
     "data": {
      "text/plain": [
       "28.833333333333332"
      ]
     },
     "execution_count": 122,
     "metadata": {},
     "output_type": "execute_result"
    }
   ],
   "source": [
    "np_ages.mean()"
   ]
  },
  {
   "cell_type": "code",
   "execution_count": 123,
   "id": "d3e3c394-d9ce-4664-83c4-ae9a9cdc0563",
   "metadata": {},
   "outputs": [
    {
     "data": {
      "text/plain": [
       "array([21.5, 38. , 27. ])"
      ]
     },
     "execution_count": 123,
     "metadata": {},
     "output_type": "execute_result"
    }
   ],
   "source": [
    "np_ages.mean(axis=0)"
   ]
  },
  {
   "cell_type": "code",
   "execution_count": 125,
   "id": "bb5e72c3-6ce1-4663-9321-70e137ee3b30",
   "metadata": {},
   "outputs": [
    {
     "name": "stdout",
     "output_type": "stream",
     "text": [
      "[[1 2 3]\n",
      " [2 3 4]]\n"
     ]
    }
   ],
   "source": [
    "addition = np.array([[1, 2, 3], [2, 3, 4]])\n",
    "print(addition)"
   ]
  },
  {
   "cell_type": "code",
   "execution_count": 126,
   "id": "9adc0f5b-acfa-44dc-85b1-20c735aa0baa",
   "metadata": {},
   "outputs": [
    {
     "data": {
      "text/plain": [
       "array([[21, 37, 28],\n",
       "       [25, 44, 33]])"
      ]
     },
     "execution_count": 126,
     "metadata": {},
     "output_type": "execute_result"
    }
   ],
   "source": [
    "np_ages + addition"
   ]
  },
  {
   "cell_type": "code",
   "execution_count": 127,
   "id": "99989adc-dcfe-4546-a141-5dcdf5a8130d",
   "metadata": {},
   "outputs": [
    {
     "data": {
      "text/plain": [
       "array([[19, 33, 22],\n",
       "       [21, 38, 25]])"
      ]
     },
     "execution_count": 127,
     "metadata": {},
     "output_type": "execute_result"
    }
   ],
   "source": [
    "np_ages - addition"
   ]
  },
  {
   "cell_type": "code",
   "execution_count": 128,
   "id": "68fe411d-d1b5-44b6-ae84-5f0657864b1d",
   "metadata": {},
   "outputs": [
    {
     "data": {
      "text/plain": [
       "array([[20.        , 17.5       ,  8.33333333],\n",
       "       [11.5       , 13.66666667,  7.25      ]])"
      ]
     },
     "execution_count": 128,
     "metadata": {},
     "output_type": "execute_result"
    }
   ],
   "source": [
    "np_ages / addition"
   ]
  },
  {
   "cell_type": "code",
   "execution_count": 129,
   "id": "d786e2e7-2201-44c1-a162-ffa473972731",
   "metadata": {},
   "outputs": [
    {
     "data": {
      "text/plain": [
       "array([[20, 17,  8],\n",
       "       [11, 13,  7]])"
      ]
     },
     "execution_count": 129,
     "metadata": {},
     "output_type": "execute_result"
    }
   ],
   "source": [
    "np_ages // addition"
   ]
  },
  {
   "cell_type": "code",
   "execution_count": 130,
   "id": "48dbdb58-b4e9-423a-8e8f-2838266d0688",
   "metadata": {},
   "outputs": [
    {
     "data": {
      "text/plain": [
       "array([[ 20,  70,  75],\n",
       "       [ 46, 123, 116]])"
      ]
     },
     "execution_count": 130,
     "metadata": {},
     "output_type": "execute_result"
    }
   ],
   "source": [
    "np_ages * addition"
   ]
  },
  {
   "cell_type": "markdown",
   "id": "c62daeff-2643-4fed-b004-4b65da1715bf",
   "metadata": {},
   "source": [
    "### Broadcasting"
   ]
  },
  {
   "cell_type": "code",
   "execution_count": 137,
   "id": "266f9334-b4d4-47ef-84e5-02829a1c92e2",
   "metadata": {},
   "outputs": [
    {
     "data": {
      "text/plain": [
       "(2, 3)"
      ]
     },
     "execution_count": 137,
     "metadata": {},
     "output_type": "execute_result"
    }
   ],
   "source": [
    "np_ages.shape"
   ]
  },
  {
   "cell_type": "code",
   "execution_count": 138,
   "id": "59d6a8f9-a24b-4cfb-8cfa-c8dc51de6a44",
   "metadata": {},
   "outputs": [
    {
     "data": {
      "text/plain": [
       "(2, 1)"
      ]
     },
     "execution_count": 138,
     "metadata": {},
     "output_type": "execute_result"
    }
   ],
   "source": [
    "addition = np.array([[10], [50]])\n",
    "addition.shape"
   ]
  },
  {
   "cell_type": "code",
   "execution_count": 141,
   "id": "136459d8-e84b-47d9-9824-f563fc56f0fa",
   "metadata": {},
   "outputs": [
    {
     "data": {
      "text/plain": [
       "array([[10],\n",
       "       [50]])"
      ]
     },
     "execution_count": 141,
     "metadata": {},
     "output_type": "execute_result"
    }
   ],
   "source": [
    "addition"
   ]
  },
  {
   "cell_type": "code",
   "execution_count": 136,
   "id": "f0994888-ceb5-4654-b1d2-c9b5606d6b44",
   "metadata": {},
   "outputs": [
    {
     "data": {
      "text/plain": [
       "array([[30, 45, 35],\n",
       "       [73, 91, 79]])"
      ]
     },
     "execution_count": 136,
     "metadata": {},
     "output_type": "execute_result"
    }
   ],
   "source": [
    "np_ages + addition"
   ]
  },
  {
   "cell_type": "code",
   "execution_count": 142,
   "id": "767c5b76-ec9d-49d6-bf47-7f08a691eab6",
   "metadata": {},
   "outputs": [
    {
     "data": {
      "text/plain": [
       "array([[30, 45, 35],\n",
       "       [73, 91, 79]])"
      ]
     },
     "execution_count": 142,
     "metadata": {},
     "output_type": "execute_result"
    }
   ],
   "source": [
    "np.hstack([addition, addition, addition]) + np_ages"
   ]
  },
  {
   "cell_type": "code",
   "execution_count": 143,
   "id": "12e7af09-be3b-4017-a5df-1acd15b56ea8",
   "metadata": {},
   "outputs": [
    {
     "data": {
      "text/plain": [
       "array([[1, 2, 3]])"
      ]
     },
     "execution_count": 143,
     "metadata": {},
     "output_type": "execute_result"
    }
   ],
   "source": [
    "addition = np.array([[1, 2, 3]])\n",
    "addition"
   ]
  },
  {
   "cell_type": "code",
   "execution_count": 144,
   "id": "06fbaeb7-555d-4290-b336-5aa0747114a2",
   "metadata": {},
   "outputs": [
    {
     "data": {
      "text/plain": [
       "array([[21, 37, 28],\n",
       "       [24, 43, 32]])"
      ]
     },
     "execution_count": 144,
     "metadata": {},
     "output_type": "execute_result"
    }
   ],
   "source": [
    "addition + np_ages"
   ]
  },
  {
   "cell_type": "code",
   "execution_count": 145,
   "id": "332a2c05-1f4e-4863-9e88-a427f7f3f282",
   "metadata": {},
   "outputs": [
    {
     "data": {
      "text/plain": [
       "(3, 3)"
      ]
     },
     "execution_count": 145,
     "metadata": {},
     "output_type": "execute_result"
    }
   ],
   "source": [
    "np_other_ages.shape"
   ]
  },
  {
   "cell_type": "code",
   "execution_count": 146,
   "id": "f6bae4df-b705-4e2b-b554-d58d694614e4",
   "metadata": {},
   "outputs": [
    {
     "ename": "ValueError",
     "evalue": "operands could not be broadcast together with shapes (2,3) (3,3) ",
     "output_type": "error",
     "traceback": [
      "\u001b[0;31m---------------------------------------------------------------------------\u001b[0m",
      "\u001b[0;31mValueError\u001b[0m                                Traceback (most recent call last)",
      "Cell \u001b[0;32mIn[146], line 1\u001b[0m\n\u001b[0;32m----> 1\u001b[0m \u001b[43mnp_ages\u001b[49m\u001b[43m \u001b[49m\u001b[38;5;241;43m+\u001b[39;49m\u001b[43m \u001b[49m\u001b[43mnp_other_ages\u001b[49m\n",
      "\u001b[0;31mValueError\u001b[0m: operands could not be broadcast together with shapes (2,3) (3,3) "
     ]
    }
   ],
   "source": [
    "np_ages + np_other_ages"
   ]
  },
  {
   "cell_type": "markdown",
   "id": "7bbf1569-1875-4362-a9d9-572a274c3c90",
   "metadata": {},
   "source": [
    "### Basic Statistical Operations"
   ]
  },
  {
   "cell_type": "code",
   "execution_count": 147,
   "id": "023e9014-49e8-41bd-af1e-e60671230b44",
   "metadata": {},
   "outputs": [
    {
     "data": {
      "text/plain": [
       "array([[31, 33, 30],\n",
       "       [21, 33, 20],\n",
       "       [31, 32, 30]])"
      ]
     },
     "execution_count": 147,
     "metadata": {},
     "output_type": "execute_result"
    }
   ],
   "source": [
    "np_other_ages"
   ]
  },
  {
   "cell_type": "code",
   "execution_count": 148,
   "id": "e11cfd70-5499-4ef3-9bd0-46a21073cbf6",
   "metadata": {},
   "outputs": [
    {
     "data": {
      "text/plain": [
       "33"
      ]
     },
     "execution_count": 148,
     "metadata": {},
     "output_type": "execute_result"
    }
   ],
   "source": [
    "np_other_ages.max()"
   ]
  },
  {
   "cell_type": "code",
   "execution_count": 149,
   "id": "913c431f-bec3-447f-984a-2f4adb68599f",
   "metadata": {},
   "outputs": [
    {
     "data": {
      "text/plain": [
       "array([33, 33, 32])"
      ]
     },
     "execution_count": 149,
     "metadata": {},
     "output_type": "execute_result"
    }
   ],
   "source": [
    "np_other_ages.max(axis=1)"
   ]
  },
  {
   "cell_type": "code",
   "execution_count": 150,
   "id": "c8d6e28e-318e-4b16-a3fe-d698b8b1c40c",
   "metadata": {},
   "outputs": [
    {
     "data": {
      "text/plain": [
       "array([31, 33, 30])"
      ]
     },
     "execution_count": 150,
     "metadata": {},
     "output_type": "execute_result"
    }
   ],
   "source": [
    "np_other_ages.max(axis=0)"
   ]
  },
  {
   "cell_type": "code",
   "execution_count": 151,
   "id": "5e2942ef-e01a-42e2-ad70-2c5fa1621e62",
   "metadata": {},
   "outputs": [
    {
     "data": {
      "text/plain": [
       "20"
      ]
     },
     "execution_count": 151,
     "metadata": {},
     "output_type": "execute_result"
    }
   ],
   "source": [
    "np_other_ages.min()"
   ]
  },
  {
   "cell_type": "code",
   "execution_count": 152,
   "id": "793ba361-9f83-4e96-a800-655f5d4eb7d3",
   "metadata": {},
   "outputs": [
    {
     "name": "stdout",
     "output_type": "stream",
     "text": [
      "[30 20 30]\n",
      "[21 32 20]\n"
     ]
    }
   ],
   "source": [
    "print(np_other_ages.min(axis=1))\n",
    "print(np_other_ages.min(axis=0))"
   ]
  },
  {
   "cell_type": "code",
   "execution_count": 154,
   "id": "acc7f0f3-99e5-48f2-b066-37104fc68a39",
   "metadata": {},
   "outputs": [
    {
     "name": "stdout",
     "output_type": "stream",
     "text": [
      "[[[ 1  2  3]\n",
      "  [ 4  5  6]\n",
      "  [ 7  8  9]]\n",
      "\n",
      " [[11 12 13]\n",
      "  [14 15 16]\n",
      "  [17 18 19]]]\n",
      "(2, 3, 3)\n"
     ]
    }
   ],
   "source": [
    "print(nd_array)\n",
    "print(nd_array.shape)"
   ]
  },
  {
   "cell_type": "code",
   "execution_count": 155,
   "id": "1b1da3a9-6c40-4a33-8a7a-0abe6cd3615f",
   "metadata": {},
   "outputs": [
    {
     "name": "stdout",
     "output_type": "stream",
     "text": [
      "180\n",
      "[[12 14 16]\n",
      " [18 20 22]\n",
      " [24 26 28]]\n",
      "[[12 15 18]\n",
      " [42 45 48]]\n",
      "[[ 6 15 24]\n",
      " [36 45 54]]\n"
     ]
    }
   ],
   "source": [
    "print(nd_array.sum())\n",
    "print(nd_array.sum(axis=0))\n",
    "print(nd_array.sum(axis=1))\n",
    "print(nd_array.sum(axis=2))"
   ]
  },
  {
   "cell_type": "code",
   "execution_count": 161,
   "id": "34f2216b-f697-415d-ac6b-e1d135afdc15",
   "metadata": {},
   "outputs": [
    {
     "name": "stdout",
     "output_type": "stream",
     "text": [
      "19\n",
      "[[11 12 13]\n",
      " [14 15 16]\n",
      " [17 18 19]]\n",
      "[[ 7  8  9]\n",
      " [17 18 19]]\n",
      "[[ 3  6  9]\n",
      " [13 16 19]]\n"
     ]
    }
   ],
   "source": [
    "print(nd_array.max())\n",
    "print(nd_array.max(axis=0))\n",
    "print(nd_array.max(axis=1))\n",
    "print(nd_array.max(axis=2))"
   ]
  },
  {
   "cell_type": "code",
   "execution_count": 162,
   "id": "658a06cb-8709-447a-b34a-246105d664be",
   "metadata": {},
   "outputs": [
    {
     "name": "stdout",
     "output_type": "stream",
     "text": [
      "5.627314338711377\n",
      "[[5. 5. 5.]\n",
      " [5. 5. 5.]\n",
      " [5. 5. 5.]]\n",
      "[[2.44948974 2.44948974 2.44948974]\n",
      " [2.44948974 2.44948974 2.44948974]]\n",
      "[[0.81649658 0.81649658 0.81649658]\n",
      " [0.81649658 0.81649658 0.81649658]]\n"
     ]
    }
   ],
   "source": [
    "print(nd_array.std())\n",
    "print(nd_array.std(axis=0))\n",
    "print(nd_array.std(axis=1))\n",
    "print(nd_array.std(axis=2))"
   ]
  },
  {
   "cell_type": "code",
   "execution_count": 163,
   "id": "3dc10a78-970f-4535-8c85-1ccfbdd01769",
   "metadata": {},
   "outputs": [
    {
     "data": {
      "text/plain": [
       "31.666666666666668"
      ]
     },
     "execution_count": 163,
     "metadata": {},
     "output_type": "execute_result"
    }
   ],
   "source": [
    "nd_array.var()"
   ]
  },
  {
   "cell_type": "markdown",
   "id": "099c52d1-22df-44f5-ae60-364dbb9f1f76",
   "metadata": {},
   "source": [
    "### Dot Product"
   ]
  },
  {
   "cell_type": "code",
   "execution_count": 164,
   "id": "754e2f4e-0829-4705-9985-ca5f7379a66a",
   "metadata": {},
   "outputs": [
    {
     "data": {
      "text/plain": [
       "array([[20, 35, 25],\n",
       "       [23, 41, 29]])"
      ]
     },
     "execution_count": 164,
     "metadata": {},
     "output_type": "execute_result"
    }
   ],
   "source": [
    "np_ages"
   ]
  },
  {
   "cell_type": "code",
   "execution_count": 165,
   "id": "322275e5-455d-45e6-a78e-2999313698ed",
   "metadata": {},
   "outputs": [
    {
     "data": {
      "text/plain": [
       "array([[31, 33, 30],\n",
       "       [21, 33, 20],\n",
       "       [31, 32, 30]])"
      ]
     },
     "execution_count": 165,
     "metadata": {},
     "output_type": "execute_result"
    }
   ],
   "source": [
    "np_other_ages"
   ]
  },
  {
   "cell_type": "code",
   "execution_count": 166,
   "id": "6ba816be-097b-4093-8afe-38cde23ef0ea",
   "metadata": {},
   "outputs": [
    {
     "data": {
      "text/plain": [
       "array([[2130, 2615, 2050],\n",
       "       [2473, 3040, 2380]])"
      ]
     },
     "execution_count": 166,
     "metadata": {},
     "output_type": "execute_result"
    }
   ],
   "source": [
    "np.dot(np_ages, np_other_ages)"
   ]
  },
  {
   "cell_type": "code",
   "execution_count": 167,
   "id": "0e547207-0e9b-43e5-924c-394593cef106",
   "metadata": {},
   "outputs": [
    {
     "data": {
      "text/plain": [
       "array([[2130, 2615, 2050],\n",
       "       [2473, 3040, 2380]])"
      ]
     },
     "execution_count": 167,
     "metadata": {},
     "output_type": "execute_result"
    }
   ],
   "source": [
    "np_ages.dot(np_other_ages)"
   ]
  },
  {
   "cell_type": "code",
   "execution_count": 168,
   "id": "977b4c12-aa59-487e-a12f-328dd3a5c349",
   "metadata": {},
   "outputs": [
    {
     "data": {
      "text/plain": [
       "array([[2130, 2615, 2050],\n",
       "       [2473, 3040, 2380]])"
      ]
     },
     "execution_count": 168,
     "metadata": {},
     "output_type": "execute_result"
    }
   ],
   "source": [
    "np.matmul(np_ages, np_other_ages)"
   ]
  },
  {
   "cell_type": "code",
   "execution_count": 170,
   "id": "b82485b6-6053-459b-9664-98d6911d41be",
   "metadata": {},
   "outputs": [
    {
     "data": {
      "text/plain": [
       "array([[200, 350, 250],\n",
       "       [230, 410, 290]])"
      ]
     },
     "execution_count": 170,
     "metadata": {},
     "output_type": "execute_result"
    }
   ],
   "source": [
    "np_ages.dot(10)"
   ]
  },
  {
   "cell_type": "code",
   "execution_count": 172,
   "id": "03dde510-7e3c-4526-b158-16ecafe6123b",
   "metadata": {},
   "outputs": [
    {
     "data": {
      "text/plain": [
       "array([[200, 350, 250],\n",
       "       [230, 410, 290]])"
      ]
     },
     "execution_count": 172,
     "metadata": {},
     "output_type": "execute_result"
    }
   ],
   "source": [
    "np_ages * 10"
   ]
  },
  {
   "cell_type": "code",
   "execution_count": 171,
   "id": "9c1a50e2-134c-451b-9510-cbf700dacded",
   "metadata": {},
   "outputs": [
    {
     "ename": "ValueError",
     "evalue": "matmul: Input operand 1 does not have enough dimensions (has 0, gufunc core with signature (n?,k),(k,m?)->(n?,m?) requires 1)",
     "output_type": "error",
     "traceback": [
      "\u001b[0;31m---------------------------------------------------------------------------\u001b[0m",
      "\u001b[0;31mValueError\u001b[0m                                Traceback (most recent call last)",
      "Cell \u001b[0;32mIn[171], line 1\u001b[0m\n\u001b[0;32m----> 1\u001b[0m \u001b[43mnp\u001b[49m\u001b[38;5;241;43m.\u001b[39;49m\u001b[43mmatmul\u001b[49m\u001b[43m(\u001b[49m\u001b[43mnp_ages\u001b[49m\u001b[43m,\u001b[49m\u001b[43m \u001b[49m\u001b[38;5;241;43m10\u001b[39;49m\u001b[43m)\u001b[49m\n",
      "\u001b[0;31mValueError\u001b[0m: matmul: Input operand 1 does not have enough dimensions (has 0, gufunc core with signature (n?,k),(k,m?)->(n?,m?) requires 1)"
     ]
    }
   ],
   "source": [
    "np.matmul(np_ages, 10)"
   ]
  },
  {
   "cell_type": "code",
   "execution_count": 183,
   "id": "40ff80ed-aec7-41b7-88ab-8a130570e5ed",
   "metadata": {},
   "outputs": [
    {
     "name": "stdout",
     "output_type": "stream",
     "text": [
      "[[[ 1  1  1]\n",
      "  [ 5  5  5]\n",
      "  [10 10 10]]\n",
      "\n",
      " [[ 2  2  2]\n",
      "  [ 5  5  5]\n",
      "  [20 20 20]]]\n",
      "[[  1   1   1]\n",
      " [ 10  10  10]\n",
      " [100 100 100]]\n"
     ]
    }
   ],
   "source": [
    "a = np.array(\n",
    "    [\n",
    "        [[1, 1, 1], [5, 5, 5], [10, 10, 10]],\n",
    "        [[2, 2, 2], [5, 5, 5], [20, 20, 20]]\n",
    "    ]\n",
    ")\n",
    "b = np.array([[1, 1, 1], [10, 10, 10], [100, 100, 100]])\n",
    "\n",
    "print(a)\n",
    "print(b)"
   ]
  },
  {
   "cell_type": "code",
   "execution_count": 184,
   "id": "a01f35f6-28fe-459a-8cf3-974accd0f5a2",
   "metadata": {},
   "outputs": [
    {
     "data": {
      "text/plain": [
       "array([[[ 111,  111,  111],\n",
       "        [ 555,  555,  555],\n",
       "        [1110, 1110, 1110]],\n",
       "\n",
       "       [[ 222,  222,  222],\n",
       "        [ 555,  555,  555],\n",
       "        [2220, 2220, 2220]]])"
      ]
     },
     "execution_count": 184,
     "metadata": {},
     "output_type": "execute_result"
    }
   ],
   "source": [
    "np.dot(a, b)"
   ]
  },
  {
   "cell_type": "code",
   "execution_count": 185,
   "id": "7cabcf96-704d-45ae-a30f-cb5cb5ec4ce2",
   "metadata": {},
   "outputs": [
    {
     "data": {
      "text/plain": [
       "array([[[ 111,  111,  111],\n",
       "        [ 555,  555,  555],\n",
       "        [1110, 1110, 1110]],\n",
       "\n",
       "       [[ 222,  222,  222],\n",
       "        [ 555,  555,  555],\n",
       "        [2220, 2220, 2220]]])"
      ]
     },
     "execution_count": 185,
     "metadata": {},
     "output_type": "execute_result"
    }
   ],
   "source": [
    "np.matmul(a, b)"
   ]
  },
  {
   "cell_type": "markdown",
   "id": "06b4babd-b16d-4687-9408-8c71550815f3",
   "metadata": {},
   "source": [
    "## Flatten Array"
   ]
  },
  {
   "cell_type": "code",
   "execution_count": 186,
   "id": "2f225eac-be95-4127-bd04-685e0b312b87",
   "metadata": {},
   "outputs": [
    {
     "data": {
      "text/plain": [
       "array([[[ 1,  2,  3],\n",
       "        [ 4,  5,  6],\n",
       "        [ 7,  8,  9]],\n",
       "\n",
       "       [[11, 12, 13],\n",
       "        [14, 15, 16],\n",
       "        [17, 18, 19]]])"
      ]
     },
     "execution_count": 186,
     "metadata": {},
     "output_type": "execute_result"
    }
   ],
   "source": [
    "nd_array"
   ]
  },
  {
   "cell_type": "code",
   "execution_count": 187,
   "id": "b52ac8bd-95a4-4841-93e0-dcb69ab6e33f",
   "metadata": {},
   "outputs": [
    {
     "data": {
      "text/plain": [
       "array([ 1,  2,  3,  4,  5,  6,  7,  8,  9, 11, 12, 13, 14, 15, 16, 17, 18,\n",
       "       19])"
      ]
     },
     "execution_count": 187,
     "metadata": {},
     "output_type": "execute_result"
    }
   ],
   "source": [
    "flatten_array = nd_array.flatten()\n",
    "flatten_array"
   ]
  },
  {
   "cell_type": "code",
   "execution_count": 188,
   "id": "915b0c3b-383b-42ad-9d41-3b0d9a77cb91",
   "metadata": {},
   "outputs": [
    {
     "data": {
      "text/plain": [
       "array([[[ 1,  2,  3],\n",
       "        [ 4,  5,  6],\n",
       "        [ 7,  8,  9]],\n",
       "\n",
       "       [[11, 12, 13],\n",
       "        [14, 15, 16],\n",
       "        [17, 18, 19]]])"
      ]
     },
     "execution_count": 188,
     "metadata": {},
     "output_type": "execute_result"
    }
   ],
   "source": [
    "nd_array"
   ]
  },
  {
   "cell_type": "code",
   "execution_count": 191,
   "id": "377fcf05-8b63-4f1f-9dc6-35a525041fb5",
   "metadata": {},
   "outputs": [
    {
     "data": {
      "text/plain": [
       "array([ 1,  2,  3,  4,  5,  6,  7,  8,  9, 11, 12, 13, 14, 15, 16, 17, 18,\n",
       "       19])"
      ]
     },
     "execution_count": 191,
     "metadata": {},
     "output_type": "execute_result"
    }
   ],
   "source": [
    "ravel_array = nd_array.ravel()\n",
    "ravel_array"
   ]
  },
  {
   "cell_type": "code",
   "execution_count": 193,
   "id": "1ed10d98-105d-4b36-bd85-165c3c35e707",
   "metadata": {},
   "outputs": [
    {
     "data": {
      "text/plain": [
       "array([10,  2,  3,  4,  5,  6,  7,  8,  9, 11, 12, 13, 14, 15, 16, 17, 18,\n",
       "       19])"
      ]
     },
     "execution_count": 193,
     "metadata": {},
     "output_type": "execute_result"
    }
   ],
   "source": [
    "ravel_array[0] = 10\n",
    "ravel_array"
   ]
  },
  {
   "cell_type": "code",
   "execution_count": 194,
   "id": "9341c541-b15a-49fe-b1a6-7010df4f9ddd",
   "metadata": {},
   "outputs": [
    {
     "data": {
      "text/plain": [
       "array([[[10,  2,  3],\n",
       "        [ 4,  5,  6],\n",
       "        [ 7,  8,  9]],\n",
       "\n",
       "       [[11, 12, 13],\n",
       "        [14, 15, 16],\n",
       "        [17, 18, 19]]])"
      ]
     },
     "execution_count": 194,
     "metadata": {},
     "output_type": "execute_result"
    }
   ],
   "source": [
    "nd_array"
   ]
  },
  {
   "cell_type": "code",
   "execution_count": 195,
   "id": "7e9a0c5a-c8ce-4337-ba4c-66e2b5d4dd88",
   "metadata": {},
   "outputs": [
    {
     "data": {
      "text/plain": [
       "array([ 1,  2,  3,  4,  5,  6,  7,  8,  9, 11, 12, 13, 14, 15, 16, 17, 18,\n",
       "       19])"
      ]
     },
     "execution_count": 195,
     "metadata": {},
     "output_type": "execute_result"
    }
   ],
   "source": [
    "flatten_array"
   ]
  },
  {
   "cell_type": "code",
   "execution_count": 196,
   "id": "87fd9d1d-df22-45f4-a6ad-7cc44dedf6e9",
   "metadata": {},
   "outputs": [
    {
     "data": {
      "text/plain": [
       "<numpy.flatiter at 0x7fa9c69afa00>"
      ]
     },
     "execution_count": 196,
     "metadata": {},
     "output_type": "execute_result"
    }
   ],
   "source": [
    "nd_array.flat"
   ]
  },
  {
   "cell_type": "markdown",
   "id": "dd479d90-4e18-47eb-83da-c98437d2d730",
   "metadata": {},
   "source": [
    "## MSE with NumPy"
   ]
  },
  {
   "cell_type": "code",
   "execution_count": 198,
   "id": "d0c6f779-be2e-4d32-8c4d-9fb69ce9dc80",
   "metadata": {},
   "outputs": [
    {
     "name": "stdout",
     "output_type": "stream",
     "text": [
      "[0.1 1.2 3.5]\n",
      "[-0.1  2.   3.1]\n"
     ]
    }
   ],
   "source": [
    "y = np.array([.1, 1.2, 3.5])\n",
    "y_hat = np.array([-.1, 2, 3.1])\n",
    "\n",
    "print(y)\n",
    "print(y_hat)"
   ]
  },
  {
   "cell_type": "code",
   "execution_count": 201,
   "id": "65ec5ccb-7d82-458b-8f9b-ced71294e992",
   "metadata": {},
   "outputs": [
    {
     "name": "stdout",
     "output_type": "stream",
     "text": [
      "0.28\n",
      "0.28\n",
      "0.28\n"
     ]
    }
   ],
   "source": [
    "mse = 1/y.size * np.sum((y - y_hat)**2)\n",
    "mse_square = 1/y.size * np.sum(np.square(y - y_hat))\n",
    "# mse_mean = np.mean(np.square(y - y_hat))\n",
    "mse_mean = np.mean((y - y_hat)**2)\n",
    "\n",
    "print(mse)\n",
    "print(mse_square)\n",
    "print(mse_mean)"
   ]
  },
  {
   "cell_type": "code",
   "execution_count": null,
   "id": "17a2fbd6-0f16-448a-bc9e-d976e18a17d9",
   "metadata": {},
   "outputs": [],
   "source": []
  }
 ],
 "metadata": {
  "kernelspec": {
   "display_name": "Python 3 (ipykernel)",
   "language": "python",
   "name": "python3"
  },
  "language_info": {
   "codemirror_mode": {
    "name": "ipython",
    "version": 3
   },
   "file_extension": ".py",
   "mimetype": "text/x-python",
   "name": "python",
   "nbconvert_exporter": "python",
   "pygments_lexer": "ipython3",
   "version": "3.9.12"
  }
 },
 "nbformat": 4,
 "nbformat_minor": 5
}
